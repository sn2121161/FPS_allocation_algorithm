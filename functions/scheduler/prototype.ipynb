{
 "cells": [
  {
   "cell_type": "code",
   "execution_count": 2,
   "metadata": {},
   "outputs": [],
   "source": [
    "import numpy as np\n",
    "import pandas as pd\n",
    "import datetime as dt\n",
    "import psycopg2\n",
    "import os\n",
    "import sqlalchemy\n",
    "import sys\n",
    "# from sqlalchemy import create_engine\n",
    "import pipeline_plan_functions.utils.pipe_db_handler as dbh\n",
    "from python_utils.utils.logger import logger\n",
    "logger.setLevel('DEBUG')\n",
    "import pipeline_plan_functions.utils.data_handler as dh\n",
    "import json\n",
    "# from pulp import *\n",
    "# import itertools\n",
    "# import scheduling_functions.optimisation as opt\n",
    "# import scheduling_functions.schedule_scenario as ssf\n",
    "from scheduling_functions import controller\n",
    "from scheduling_functions import cleanup\n",
    "# from scheduling_functions import optimisation as opt\n",
    "# import cvxpy as cp\n",
    "# from cvxopt.modeling import variable, op, max, sum"
   ]
  },
  {
   "cell_type": "code",
   "execution_count": 3,
   "metadata": {},
   "outputs": [],
   "source": [
    "cnx = dbh.create_alch_engine()\n",
    "sql_query = \"select * from t_allocation where run_id=203\"\n",
    "alloc = pd.read_sql_query(sql_query, con=cnx)"
   ]
  },
  {
   "cell_type": "code",
   "execution_count": 6,
   "metadata": {},
   "outputs": [
    {
     "data": {
      "text/plain": [
       "array([671, 672, 673, 674, 675, 676, 677, 678, 679, 680, 681, 682, 683,\n",
       "       684, 685, 686, 687, 688, 689, 690, 691, 692, 693, 694, 695, 696,\n",
       "       697, 698, 699, 700, 701, 702, 703, 704, 705, 706, 707, 708, 709,\n",
       "       710, 711, 712, 713, 714, 715, 718, 721, 722, 723, 724, 728, 731,\n",
       "       732, 733, 738, 739, 743], dtype=int64)"
      ]
     },
     "execution_count": 6,
     "metadata": {},
     "output_type": "execute_result"
    }
   ],
   "source": [
    "alloc['allocation_id'].values"
   ]
  },
  {
   "cell_type": "code",
   "execution_count": 1,
   "metadata": {},
   "outputs": [],
   "source": [
    "string_list = \"\"\"452\n",
    "453\n",
    "454\n",
    "455\n",
    "456\n",
    "457\n",
    "458\n",
    "459\n",
    "460\n",
    "461\n",
    "462\n",
    "463\n",
    "464\n",
    "465\n",
    "466\n",
    "467\n",
    "468\n",
    "469\n",
    "470\n",
    "471\n",
    "472\n",
    "473\n",
    "474\n",
    "475\n",
    "476\n",
    "477\n",
    "478\n",
    "479\n",
    "480\n",
    "481\n",
    "482\n",
    "483\n",
    "484\n",
    "485\n",
    "486\n",
    "487\n",
    "488\n",
    "489\n",
    "490\n",
    "491\n",
    "492\n",
    "493\"\"\""
   ]
  },
  {
   "cell_type": "code",
   "execution_count": 8,
   "metadata": {},
   "outputs": [
    {
     "data": {
      "text/plain": [
       "array([452, 453, 454, 455, 456, 457, 458, 459, 460, 461, 462, 463, 464,\n",
       "       465, 466, 467, 468, 469, 470, 471, 472, 473, 474, 475, 476, 477,\n",
       "       478, 479, 480, 481, 482, 483, 484, 485, 486, 487, 488, 489, 490,\n",
       "       491, 492, 493])"
      ]
     },
     "execution_count": 8,
     "metadata": {},
     "output_type": "execute_result"
    }
   ],
   "source": [
    "import numpy as np\n",
    "np.array(string_list.split('\\n')).astype(int)"
   ]
  },
  {
   "cell_type": "code",
   "execution_count": 39,
   "metadata": {},
   "outputs": [],
   "source": [
    "# connection, cur = dbh.database_connection('test')\n",
    "sql_query = (\n",
    "    f\"\"\"SELECT allocation_id FROM t_allocation\n",
    "    WHERE site_id IN (278, 279, 280, 281, 282)\n",
    "    ORDER BY allocation_id\"\"\")\n",
    "cur.execute(sql_query)\n",
    "connection.commit()\n",
    "values = cur.fetchall()\n",
    "allocations = str([v[0] for v in values])"
   ]
  },
  {
   "cell_type": "code",
   "execution_count": 2,
   "metadata": {},
   "outputs": [],
   "source": [
    "connection, cur = dbh.database_connection('test')\n",
    "sql_query = (\n",
    "    f\"\"\"SELECT allocation_id, vehicle2 FROM t_allocation\n",
    "    WHERE allocation_id>=126 AND allocation_id<=176\n",
    "    ORDER BY allocation_id\"\"\")\n",
    "cur.execute(sql_query)\n",
    "connection.commit()\n",
    "values = cur.fetchall()\n",
    "allocations = [pair[0] for pair in values if pair[1] != 5]\n",
    "for x in [129, 130, 167]:\n",
    "    allocations.remove(x)"
   ]
  },
  {
   "cell_type": "code",
   "execution_count": 36,
   "metadata": {},
   "outputs": [
    {
     "name": "stderr",
     "output_type": "stream",
     "text": [
      "2022-05-06 13:15:14|DEBUG|db_handler.py(62)|upload_table|Uploaded to t_route_formatted\n"
     ]
    }
   ],
   "source": [
    "cnx = dbh.create_alch_engine()\n",
    "last_id = 168569\n",
    "# table = 't_route_master'\n",
    "table = 't_route_formatted'\n",
    "query = f\"SELECT * FROM {table} WHERE site_id_start = 282 AND source=201 ORDER BY route_id\"\n",
    "routes = pd.read_sql_query(query, cnx)\n",
    "routes['route_id'] = last_id + 1 + routes.index\n",
    "dbh.upload_table(routes, table)\n",
    "cnx.dispose()"
   ]
  },
  {
   "cell_type": "code",
   "execution_count": null,
   "metadata": {},
   "outputs": [],
   "source": []
  },
  {
   "cell_type": "code",
   "execution_count": 31,
   "metadata": {},
   "outputs": [
    {
     "data": {
      "text/html": [
       "<div>\n",
       "<style scoped>\n",
       "    .dataframe tbody tr th:only-of-type {\n",
       "        vertical-align: middle;\n",
       "    }\n",
       "\n",
       "    .dataframe tbody tr th {\n",
       "        vertical-align: top;\n",
       "    }\n",
       "\n",
       "    .dataframe thead th {\n",
       "        text-align: right;\n",
       "    }\n",
       "</style>\n",
       "<table border=\"1\" class=\"dataframe\">\n",
       "  <thead>\n",
       "    <tr style=\"text-align: right;\">\n",
       "      <th></th>\n",
       "      <th>client_id</th>\n",
       "      <th>site_id_start</th>\n",
       "      <th>departure_time</th>\n",
       "      <th>arrival_time</th>\n",
       "      <th>vehicle_id</th>\n",
       "      <th>distance_miles</th>\n",
       "      <th>route_id</th>\n",
       "      <th>payload</th>\n",
       "      <th>number_crates</th>\n",
       "      <th>number_order</th>\n",
       "      <th>driving_time</th>\n",
       "      <th>site_id_end</th>\n",
       "      <th>source</th>\n",
       "    </tr>\n",
       "  </thead>\n",
       "  <tbody>\n",
       "    <tr>\n",
       "      <th>0</th>\n",
       "      <td>2</td>\n",
       "      <td>279</td>\n",
       "      <td>2021-09-10 06:31:00</td>\n",
       "      <td>2021-09-10 11:43:00</td>\n",
       "      <td>None</td>\n",
       "      <td>20.0</td>\n",
       "      <td>168467</td>\n",
       "      <td>381</td>\n",
       "      <td>-1</td>\n",
       "      <td>20</td>\n",
       "      <td>3.39</td>\n",
       "      <td>279</td>\n",
       "      <td>201</td>\n",
       "    </tr>\n",
       "    <tr>\n",
       "      <th>1</th>\n",
       "      <td>2</td>\n",
       "      <td>279</td>\n",
       "      <td>2021-09-10 06:24:00</td>\n",
       "      <td>2021-09-10 11:26:00</td>\n",
       "      <td>None</td>\n",
       "      <td>20.0</td>\n",
       "      <td>168468</td>\n",
       "      <td>301</td>\n",
       "      <td>-1</td>\n",
       "      <td>17</td>\n",
       "      <td>2.97</td>\n",
       "      <td>279</td>\n",
       "      <td>201</td>\n",
       "    </tr>\n",
       "    <tr>\n",
       "      <th>2</th>\n",
       "      <td>2</td>\n",
       "      <td>279</td>\n",
       "      <td>2021-09-10 06:49:00</td>\n",
       "      <td>2021-09-10 12:34:00</td>\n",
       "      <td>None</td>\n",
       "      <td>9.0</td>\n",
       "      <td>168469</td>\n",
       "      <td>318</td>\n",
       "      <td>-1</td>\n",
       "      <td>25</td>\n",
       "      <td>3.63</td>\n",
       "      <td>279</td>\n",
       "      <td>201</td>\n",
       "    </tr>\n",
       "    <tr>\n",
       "      <th>3</th>\n",
       "      <td>2</td>\n",
       "      <td>279</td>\n",
       "      <td>2021-09-10 07:00:00</td>\n",
       "      <td>2021-09-10 07:33:00</td>\n",
       "      <td>None</td>\n",
       "      <td>4.0</td>\n",
       "      <td>168470</td>\n",
       "      <td>49</td>\n",
       "      <td>-1</td>\n",
       "      <td>1</td>\n",
       "      <td>0.22</td>\n",
       "      <td>279</td>\n",
       "      <td>201</td>\n",
       "    </tr>\n",
       "    <tr>\n",
       "      <th>4</th>\n",
       "      <td>2</td>\n",
       "      <td>279</td>\n",
       "      <td>2021-09-10 07:00:00</td>\n",
       "      <td>2021-09-10 12:30:00</td>\n",
       "      <td>None</td>\n",
       "      <td>45.0</td>\n",
       "      <td>168471</td>\n",
       "      <td>229</td>\n",
       "      <td>-1</td>\n",
       "      <td>20</td>\n",
       "      <td>3.96</td>\n",
       "      <td>279</td>\n",
       "      <td>201</td>\n",
       "    </tr>\n",
       "  </tbody>\n",
       "</table>\n",
       "</div>"
      ],
      "text/plain": [
       "   client_id  site_id_start      departure_time        arrival_time  \\\n",
       "0          2            279 2021-09-10 06:31:00 2021-09-10 11:43:00   \n",
       "1          2            279 2021-09-10 06:24:00 2021-09-10 11:26:00   \n",
       "2          2            279 2021-09-10 06:49:00 2021-09-10 12:34:00   \n",
       "3          2            279 2021-09-10 07:00:00 2021-09-10 07:33:00   \n",
       "4          2            279 2021-09-10 07:00:00 2021-09-10 12:30:00   \n",
       "\n",
       "  vehicle_id  distance_miles  route_id payload  number_crates  number_order  \\\n",
       "0       None            20.0    168467     381             -1            20   \n",
       "1       None            20.0    168468     301             -1            17   \n",
       "2       None             9.0    168469     318             -1            25   \n",
       "3       None             4.0    168470      49             -1             1   \n",
       "4       None            45.0    168471     229             -1            20   \n",
       "\n",
       "   driving_time  site_id_end  source  \n",
       "0          3.39          279     201  \n",
       "1          2.97          279     201  \n",
       "2          3.63          279     201  \n",
       "3          0.22          279     201  \n",
       "4          3.96          279     201  "
      ]
     },
     "execution_count": 31,
     "metadata": {},
     "output_type": "execute_result"
    }
   ],
   "source": [
    "routes.head()"
   ]
  },
  {
   "cell_type": "code",
   "execution_count": 2,
   "metadata": {},
   "outputs": [],
   "source": [
    "# connection, cur = dbh.database_connection('test')\n",
    "# cnx = dbh.create_alch_engine()"
   ]
  },
  {
   "cell_type": "code",
   "execution_count": 4,
   "metadata": {},
   "outputs": [
    {
     "name": "stderr",
     "output_type": "stream",
     "text": [
      "2022-04-07 15:54:15|DEBUG|data_handler.py(37)|get_inputs|read inputs for run 22\n",
      "2022-04-07 15:54:19|INFO|optimisation.py(125)|linear_optimiser_V9|Optimisation succesfully run in normal mode\n",
      "2022-04-07 15:54:19|DEBUG|cleanup.py(37)|export_charge_schedule|Updated schedule for scenario 5in t_charge_demand\n"
     ]
    },
    {
     "name": "stdout",
     "output_type": "stream",
     "text": [
      "Long-step dual simplex will be used\n",
      "5.481329675863631e-16\n"
     ]
    },
    {
     "name": "stderr",
     "output_type": "stream",
     "text": [
      "2022-04-07 15:54:20|WARNING|optimisation.py(121)|linear_optimiser_V9|=================BREACH========================\n",
      "2022-04-07 15:54:21|INFO|optimisation.py(330)|linear_optimiser_breach|Optimisation status (breach mode): optimal\n",
      "2022-04-07 15:54:21|DEBUG|cleanup.py(37)|export_charge_schedule|Updated schedule for scenario 5in t_charge_demand\n"
     ]
    },
    {
     "name": "stdout",
     "output_type": "stream",
     "text": [
      "Long-step dual simplex will be used\n",
      "22.21714285714286\n"
     ]
    },
    {
     "name": "stderr",
     "output_type": "stream",
     "text": [
      "2022-04-07 15:54:22|WARNING|optimisation.py(121)|linear_optimiser_V9|=================BREACH========================\n",
      "2022-04-07 15:54:23|INFO|optimisation.py(330)|linear_optimiser_breach|Optimisation status (breach mode): optimal\n",
      "2022-04-07 15:54:23|DEBUG|cleanup.py(37)|export_charge_schedule|Updated schedule for scenario 5in t_charge_demand\n"
     ]
    },
    {
     "name": "stdout",
     "output_type": "stream",
     "text": [
      "Long-step dual simplex will be used\n",
      "43.508571428571436\n"
     ]
    },
    {
     "name": "stderr",
     "output_type": "stream",
     "text": [
      "2022-04-07 15:54:24|WARNING|optimisation.py(121)|linear_optimiser_V9|=================BREACH========================\n",
      "2022-04-07 15:54:25|INFO|optimisation.py(330)|linear_optimiser_breach|Optimisation status (breach mode): optimal\n",
      "2022-04-07 15:54:25|DEBUG|cleanup.py(37)|export_charge_schedule|Updated schedule for scenario 5in t_charge_demand\n"
     ]
    },
    {
     "name": "stdout",
     "output_type": "stream",
     "text": [
      "Long-step dual simplex will be used\n",
      "64.80000000000001\n"
     ]
    },
    {
     "name": "stderr",
     "output_type": "stream",
     "text": [
      "2022-04-07 15:54:25|WARNING|optimisation.py(121)|linear_optimiser_V9|=================BREACH========================\n",
      "2022-04-07 15:54:27|INFO|optimisation.py(330)|linear_optimiser_breach|Optimisation status (breach mode): optimal\n",
      "2022-04-07 15:54:27|DEBUG|cleanup.py(37)|export_charge_schedule|Updated schedule for scenario 5in t_charge_demand\n"
     ]
    },
    {
     "name": "stdout",
     "output_type": "stream",
     "text": [
      "Long-step dual simplex will be used\n",
      "86.0914285714286\n"
     ]
    },
    {
     "name": "stderr",
     "output_type": "stream",
     "text": [
      "2022-04-07 15:54:27|WARNING|optimisation.py(121)|linear_optimiser_V9|=================BREACH========================\n",
      "2022-04-07 15:54:29|INFO|optimisation.py(330)|linear_optimiser_breach|Optimisation status (breach mode): optimal\n",
      "2022-04-07 15:54:29|DEBUG|cleanup.py(37)|export_charge_schedule|Updated schedule for scenario 5in t_charge_demand\n"
     ]
    },
    {
     "name": "stdout",
     "output_type": "stream",
     "text": [
      "Long-step dual simplex will be used\n",
      "107.90466916277144\n"
     ]
    },
    {
     "name": "stderr",
     "output_type": "stream",
     "text": [
      "2022-04-07 15:54:29|WARNING|optimisation.py(121)|linear_optimiser_V9|=================BREACH========================\n",
      "2022-04-07 15:54:32|INFO|optimisation.py(330)|linear_optimiser_breach|Optimisation status (breach mode): optimal\n",
      "2022-04-07 15:54:32|DEBUG|cleanup.py(37)|export_charge_schedule|Updated schedule for scenario 5in t_charge_demand\n"
     ]
    },
    {
     "name": "stdout",
     "output_type": "stream",
     "text": [
      "Long-step dual simplex will be used\n",
      "130.1218120199143\n"
     ]
    },
    {
     "name": "stderr",
     "output_type": "stream",
     "text": [
      "2022-04-07 15:54:33|INFO|optimisation.py(125)|linear_optimiser_V9|Optimisation succesfully run in normal mode\n",
      "2022-04-07 15:54:33|DEBUG|cleanup.py(37)|export_charge_schedule|Updated schedule for scenario 5in t_charge_demand\n"
     ]
    },
    {
     "name": "stdout",
     "output_type": "stream",
     "text": [
      "Long-step dual simplex will be used\n",
      "130.1218120199143\n"
     ]
    },
    {
     "name": "stderr",
     "output_type": "stream",
     "text": [
      "2022-04-07 15:54:34|WARNING|optimisation.py(121)|linear_optimiser_V9|=================BREACH========================\n",
      "2022-04-07 15:54:35|INFO|optimisation.py(330)|linear_optimiser_breach|Optimisation status (breach mode): optimal\n",
      "2022-04-07 15:54:35|DEBUG|cleanup.py(37)|export_charge_schedule|Updated schedule for scenario 5in t_charge_demand\n"
     ]
    },
    {
     "name": "stdout",
     "output_type": "stream",
     "text": [
      "Long-step dual simplex will be used\n",
      "151.41324059134288\n"
     ]
    },
    {
     "name": "stderr",
     "output_type": "stream",
     "text": [
      "2022-04-07 15:54:36|WARNING|optimisation.py(121)|linear_optimiser_V9|=================BREACH========================\n",
      "2022-04-07 15:54:37|INFO|optimisation.py(330)|linear_optimiser_breach|Optimisation status (breach mode): optimal\n",
      "2022-04-07 15:54:37|DEBUG|cleanup.py(37)|export_charge_schedule|Updated schedule for scenario 5in t_charge_demand\n"
     ]
    },
    {
     "name": "stdout",
     "output_type": "stream",
     "text": [
      "Long-step dual simplex will be used\n",
      "171.5509759463143\n"
     ]
    },
    {
     "name": "stderr",
     "output_type": "stream",
     "text": [
      "2022-04-07 15:54:39|INFO|optimisation.py(125)|linear_optimiser_V9|Optimisation succesfully run in normal mode\n",
      "2022-04-07 15:54:39|DEBUG|cleanup.py(37)|export_charge_schedule|Updated schedule for scenario 5in t_charge_demand\n"
     ]
    },
    {
     "name": "stdout",
     "output_type": "stream",
     "text": [
      "Long-step dual simplex will be used\n",
      "171.5509759463143\n"
     ]
    },
    {
     "name": "stderr",
     "output_type": "stream",
     "text": [
      "2022-04-07 15:54:41|INFO|optimisation.py(125)|linear_optimiser_V9|Optimisation succesfully run in normal mode\n",
      "2022-04-07 15:54:41|DEBUG|cleanup.py(37)|export_charge_schedule|Updated schedule for scenario 5in t_charge_demand\n"
     ]
    },
    {
     "name": "stdout",
     "output_type": "stream",
     "text": [
      "Long-step dual simplex will be used\n",
      "171.5509759463143\n"
     ]
    },
    {
     "name": "stderr",
     "output_type": "stream",
     "text": [
      "2022-04-07 15:54:41|WARNING|optimisation.py(121)|linear_optimiser_V9|=================BREACH========================\n",
      "2022-04-07 15:54:43|INFO|optimisation.py(330)|linear_optimiser_breach|Optimisation status (breach mode): optimal\n",
      "2022-04-07 15:54:43|DEBUG|cleanup.py(37)|export_charge_schedule|Updated schedule for scenario 5in t_charge_demand\n"
     ]
    },
    {
     "name": "stdout",
     "output_type": "stream",
     "text": [
      "Long-step dual simplex will be used\n",
      "193.16038378234288\n"
     ]
    },
    {
     "name": "stderr",
     "output_type": "stream",
     "text": [
      "2022-04-07 15:54:43|WARNING|optimisation.py(121)|linear_optimiser_V9|=================BREACH========================\n",
      "2022-04-07 15:54:45|INFO|optimisation.py(330)|linear_optimiser_breach|Optimisation status (breach mode): optimal\n",
      "2022-04-07 15:54:45|DEBUG|cleanup.py(37)|export_charge_schedule|Updated schedule for scenario 5in t_charge_demand\n"
     ]
    },
    {
     "name": "stdout",
     "output_type": "stream",
     "text": [
      "Long-step dual simplex will be used\n",
      "215.5506278597143\n"
     ]
    },
    {
     "name": "stderr",
     "output_type": "stream",
     "text": [
      "2022-04-07 15:54:47|INFO|optimisation.py(125)|linear_optimiser_V9|Optimisation succesfully run in normal mode\n",
      "2022-04-07 15:54:47|DEBUG|cleanup.py(37)|export_charge_schedule|Updated schedule for scenario 5in t_charge_demand\n"
     ]
    },
    {
     "name": "stdout",
     "output_type": "stream",
     "text": [
      "Long-step dual simplex will be used\n",
      "215.5506278597143\n"
     ]
    },
    {
     "name": "stderr",
     "output_type": "stream",
     "text": [
      "2022-04-07 15:54:48|INFO|optimisation.py(125)|linear_optimiser_V9|Optimisation succesfully run in normal mode\n",
      "2022-04-07 15:54:48|DEBUG|cleanup.py(37)|export_charge_schedule|Updated schedule for scenario 5in t_charge_demand\n"
     ]
    },
    {
     "name": "stdout",
     "output_type": "stream",
     "text": [
      "Long-step dual simplex will be used\n",
      "215.5506278597143\n"
     ]
    },
    {
     "name": "stderr",
     "output_type": "stream",
     "text": [
      "2022-04-07 15:54:50|INFO|optimisation.py(125)|linear_optimiser_V9|Optimisation succesfully run in normal mode\n",
      "2022-04-07 15:54:50|DEBUG|cleanup.py(37)|export_charge_schedule|Updated schedule for scenario 5in t_charge_demand\n"
     ]
    },
    {
     "name": "stdout",
     "output_type": "stream",
     "text": [
      "Long-step dual simplex will be used\n",
      "215.5506278597143\n"
     ]
    },
    {
     "name": "stderr",
     "output_type": "stream",
     "text": [
      "2022-04-07 15:54:51|INFO|optimisation.py(125)|linear_optimiser_V9|Optimisation succesfully run in normal mode\n",
      "2022-04-07 15:54:51|DEBUG|cleanup.py(37)|export_charge_schedule|Updated schedule for scenario 5in t_charge_demand\n"
     ]
    },
    {
     "name": "stdout",
     "output_type": "stream",
     "text": [
      "Long-step dual simplex will be used\n",
      "215.5506278597143\n"
     ]
    },
    {
     "name": "stderr",
     "output_type": "stream",
     "text": [
      "2022-04-07 15:54:52|INFO|optimisation.py(125)|linear_optimiser_V9|Optimisation succesfully run in normal mode\n",
      "2022-04-07 15:54:52|DEBUG|cleanup.py(37)|export_charge_schedule|Updated schedule for scenario 5in t_charge_demand\n"
     ]
    },
    {
     "name": "stdout",
     "output_type": "stream",
     "text": [
      "Long-step dual simplex will be used\n",
      "215.5506278597143\n"
     ]
    },
    {
     "name": "stderr",
     "output_type": "stream",
     "text": [
      "2022-04-07 15:54:54|INFO|optimisation.py(125)|linear_optimiser_V9|Optimisation succesfully run in normal mode\n",
      "2022-04-07 15:54:54|DEBUG|cleanup.py(37)|export_charge_schedule|Updated schedule for scenario 5in t_charge_demand\n"
     ]
    },
    {
     "name": "stdout",
     "output_type": "stream",
     "text": [
      "Long-step dual simplex will be used\n",
      "215.5506278597143\n"
     ]
    },
    {
     "name": "stderr",
     "output_type": "stream",
     "text": [
      "2022-04-07 15:54:56|INFO|optimisation.py(125)|linear_optimiser_V9|Optimisation succesfully run in normal mode\n",
      "2022-04-07 15:54:56|DEBUG|cleanup.py(37)|export_charge_schedule|Updated schedule for scenario 5in t_charge_demand\n",
      "2022-04-07 15:54:56|DEBUG|cleanup.py(68)|update_scenarios|Updated t_charging_scnearios with QA\n"
     ]
    },
    {
     "name": "stdout",
     "output_type": "stream",
     "text": [
      "Long-step dual simplex will be used\n",
      "215.5506278597143\n"
     ]
    }
   ],
   "source": [
    "TIME_FRACT = 0.5\n",
    "CHARGER_EFF = 0.9  # FIXME put this in the database\n",
    "BATTERY_FACTOR = 0\n",
    "ASC_XUSE = 0.9\n",
    "scenario = 5\n",
    "\n",
    "connection, cur = dbh.database_connection('test')\n",
    "# Get run input parameters\n",
    "cnx = dbh.create_alch_engine()\n",
    "params = ssf.get_scheduling_inputs(scenario, connection, cur, cnx)\n",
    "params = ssf.get_site_data(params, connection, cur)\n",
    "params['asc_kw'] = 120  #############\n",
    "# Get routes\n",
    "routes = ssf.get_allocated_routes(params['allocation_id'], cnx)\n",
    "routes = ssf.get_route_data(routes, params, cnx)\n",
    "# # Get list of dates\n",
    "dates = ssf.list_dates(routes['date'])\n",
    "# # Get time periods (T time periods)\n",
    "times = ssf.create_time_periods(dates, params)\n",
    "ndays = (times[-1] - times[0] + dt.timedelta(hours=TIME_FRACT)).days\n",
    "# Get site load\n",
    "capacity = ssf.get_site_capacity(params['site_id'], times,\n",
    "                                params['smart_charging'],\n",
    "                                params['asc_kw'], cnx)\n",
    "# Get electricity price\n",
    "electricity = ssf.get_tariff(params['distribution_id'], times,\n",
    "                            params['smart_charging'], cnx)\n",
    "# Get vehicle list (N vehicles)\n",
    "vehicles = sorted(routes['allocated_vehicle_id'].unique())\n",
    "# Get vehicle availability, energy use matrix (T*N) and session matrix\n",
    "available, evuse, session_matrix = ssf.vehicle_matrices(\n",
    "    vehicles, routes, times)\n",
    "# Get vehicle spec vectors\n",
    "battery_cap, charger_rate_ac, charger_rate_dc = ssf.vehicle_spec_vectors(\n",
    "    routes, vehicles, connection, cur)\n",
    "charger_efficiency = np.diag(np.full(int(24/TIME_FRACT), CHARGER_EFF))\n",
    "# # Make relative charge and required energy vectors\n",
    "req_energy_level = -battery_cap  # FIXME\n",
    "rel_charge = np.zeros(len(vehicles))\n",
    "vehicle_vectors = [rel_charge, req_energy_level, battery_cap, vehicles,\n",
    "                    charger_rate_ac, charger_rate_dc]\n",
    "site_vectors = [electricity, capacity, times]\n",
    "# iterate over each day and filter inputs\n",
    "breach_days = []\n",
    "magic_days = []\n",
    "breaches = 0\n",
    "output_kwh = 0\n",
    "excess_costs = 0\n",
    "for day in range(ndays)[:]:\n",
    "    start = int(day*24/TIME_FRACT)\n",
    "    end = int((day+1)*24/TIME_FRACT)\n",
    "    matrices = ssf.day_matrices(available, evuse, session_matrix,\n",
    "                            charger_efficiency, start, end)\n",
    "    day_vectors = ssf.day_site_vectors(site_vectors, start, end)\n",
    "    # run linear optimiser for each day\n",
    "    final_soc, opt_level, evout = opt.linear_optimiser_V9(\n",
    "        matrices, day_vectors, vehicle_vectors, params)\n",
    "    if opt_level == 'breach':\n",
    "        breach_days.append(day)\n",
    "    elif opt_level == 'magic':\n",
    "        magic_days.append(day)\n",
    "    # Export each day\n",
    "    cleanup.export_charge_schedule(evout, params, vehicles,\n",
    "                                    times[start:end], cnx)\n",
    "    breaches += cleanup.calculate_breaches(evout, day_vectors[1])\n",
    "    output_kwh += evout.sum()\n",
    "    excess_costs += ssf.excess_capacity_cost(\n",
    "        evout, day_vectors[1], params['distribution_id'], connection, cur)\n",
    "    # update relative energy vector\n",
    "    vehicle_vectors[0] = final_soc\n",
    "    print(excess_costs)\n",
    "n_breach_days = len(breach_days)\n",
    "n_magic_days = len(magic_days)\n",
    "cleanup.update_scenarios(breaches, n_breach_days, n_magic_days,\n",
    "                            output_kwh, excess_costs, scenario, connection, cur)"
   ]
  },
  {
   "cell_type": "code",
   "execution_count": 37,
   "metadata": {},
   "outputs": [],
   "source": [
    "# cnx.dispose()\n",
    "cur.close()\n",
    "connection.close()\n",
    "# cnx.close()"
   ]
  },
  {
   "cell_type": "code",
   "execution_count": null,
   "metadata": {},
   "outputs": [],
   "source": [
    "connection.commit()"
   ]
  },
  {
   "cell_type": "markdown",
   "metadata": {},
   "source": [
    "## Dummy data"
   ]
  },
  {
   "cell_type": "code",
   "execution_count": null,
   "metadata": {},
   "outputs": [],
   "source": [
    "# cnx = dbh.create_alch_engine()\n",
    "# query = \"SELECT * FROM t_run_charging WHERE run_id=21\"\n",
    "# run_charging = pd.read_sql(query, con=cnx)\n",
    "run_charging['run_id'] = 22\n",
    "run_charging.to_sql('t_run_charging', con=cnx, if_exists='append', index=None)"
   ]
  },
  {
   "cell_type": "code",
   "execution_count": null,
   "metadata": {},
   "outputs": [],
   "source": [
    "# DELETE data from scheduler\n",
    "sql_query = \"DELETE FROM t_charge_demand WHERE scenario_id=6\"\n",
    "cur.execute(sql_query)\n",
    "connection.commit()"
   ]
  },
  {
   "cell_type": "code",
   "execution_count": null,
   "metadata": {},
   "outputs": [],
   "source": [
    "# Charging profiles\n",
    "\n",
    "startdt = dt.datetime(2021, 10, 17, 7)\n",
    "enddt = dt.datetime(2021, 11, 7, 7)\n",
    "tps = pd.date_range(start=startdt, end=enddt, freq='0.5H')\n",
    "vehicles = np.arange(1, 27)\n",
    "df = pd.DataFrame(index=pd.MultiIndex.from_product([tps, vehicles],\n",
    "                                                   names=['datetime', 'allocated_vehicle_id']),\n",
    "                  columns=['scenario_id', 'power_demand_kw'])\n",
    "N = len(df)\n",
    "df['scenario_id'] = 6\n",
    "df['power_demand_kw'] = 22*np.random.random(size=N) * np.random.choice([0,1], N)\n",
    "df.to_sql('t_charge_demand', con=cnx, if_exists='append')"
   ]
  },
  {
   "cell_type": "code",
   "execution_count": null,
   "metadata": {},
   "outputs": [],
   "source": [
    "## Meter data\n",
    "meter = pd.DataFrame()\n",
    "meter['datetime'] = meter_times\n",
    "meter['site_id'] = 24\n",
    "meter['clean_load'] = np.random.random(len(meter))*350\n",
    "meter['client_id'] = 2\n",
    "meter.to_sql('t_site_load', con=cnx, if_exists='append', index=False)"
   ]
  }
 ],
 "metadata": {
  "interpreter": {
   "hash": "0c70d8ca8a9326c117f3cbb1600d40e4646a06cd0d6560aa3efc7e3f56e409b2"
  },
  "kernelspec": {
   "display_name": "Python 3.9.7 ('pipetel')",
   "language": "python",
   "name": "python3"
  },
  "language_info": {
   "codemirror_mode": {
    "name": "ipython",
    "version": 3
   },
   "file_extension": ".py",
   "mimetype": "text/x-python",
   "name": "python",
   "nbconvert_exporter": "python",
   "pygments_lexer": "ipython3",
   "version": "3.9.7"
  },
  "orig_nbformat": 4
 },
 "nbformat": 4,
 "nbformat_minor": 2
}
