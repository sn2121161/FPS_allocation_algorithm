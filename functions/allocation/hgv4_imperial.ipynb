{
 "cells": [
  {
   "cell_type": "markdown",
   "metadata": {},
   "source": [
    "# SSL Sherburn outputs\n",
    "This Notebook was used to create outputs for the Sainsbury's Sherburn report"
   ]
  },
  {
   "cell_type": "code",
   "execution_count": 1,
   "metadata": {},
   "outputs": [],
   "source": [
    "import numpy as np\n",
    "import pandas as pd\n",
    "import datetime as dt\n",
    "import psycopg2\n",
    "import pipeline_plan_functions.utils.pipe_db_handler as dbh\n",
    "from python_utils.utils.logger import logger\n",
    "import alloc_functions.controller as acf\n",
    "import alloc_functions.feasibility_functions as ff\n",
    "import pipeline_plan_functions.utils.data_handler as dh\n",
    "import matplotlib.pyplot as plt\n",
    "import matplotlib\n",
    "from pulp import *\n",
    "import pickle\n",
    "\n",
    "mapbox_token = ('pk.eyJ1Ijoic29mZmZ0IiwiYSI6ImNrbmZ0Z3RidzJ5NngycXA5cDNpY2c1ajIifQ.Gi2oP1Z3G5wP6pn7OF5l1A')"
   ]
  },
  {
   "cell_type": "code",
   "execution_count": 10,
   "metadata": {},
   "outputs": [],
   "source": [
    "folder = 'template'\n",
    "\n",
    "sql_query = f\"SELECT * FROM t_vehicles WHERE client_id=2\"\n",
    "cnx = dbh.create_alch_engine()\n",
    "vehicle_df = pd.read_sql_query(sql_query, con=cnx, index_col='vehicle_id')\n",
    "vehicle_spec_dict = vehicle_df['spec_id'].to_dict()\n",
    "good_specs = {100: 'trailers',\n",
    "              101: '4x2 rigid',\n",
    "              102: '6x2 rigid',\n",
    "              103: '4x2 tractor',\n",
    "              104: '6x2 tractor'}\n",
    "cnx.dispose()\n",
    "specs = (101, 102, 103, 104, 111, 112, 113, 114)\n",
    "vehicle_specifications = ff.find_vehicle_spec(specs)\n",
    "vehicle_specifications['kwh_mile'] = 0\n",
    "vehicle_specifications['diesel_l_mile'] = 0\n",
    "elec_vehicles = vehicle_specifications['fuel_type'] == 'electric'\n",
    "diesel_vehicles = vehicle_specifications['fuel_type'] == 'diesel'\n",
    "vehicle_specifications.loc[elec_vehicles, 'kwh_mile'] = vehicle_specifications.loc[elec_vehicles, 'energy_use']\n",
    "vehicle_specifications.loc[diesel_vehicles, 'diesel_l_mile'] = vehicle_specifications.loc[diesel_vehicles, 'energy_use']\n",
    "diesel_ev_dict = {\n",
    "    101: 111,\n",
    "    102: 112,\n",
    "    103: 113,\n",
    "    104: 114\n",
    "}\n",
    "site_id = 6\n",
    "# These are the diesel allocations for each type of vehicle\n",
    "allocations_diesel = (424, 425, 426, 427)\n",
    "# These are the EV allocations for each type of vehicle\n",
    "allocations_ev = (606, 826, 608, 609)\n",
    "# These are the charging scenarios for the previous allocations\n",
    "scenarios = {814: '4x2 rigid',\n",
    "             1256: '6x2 rigid',\n",
    "             789: '4x2 tractor',\n",
    "             790: '6x2 tractor'}\n",
    "site_dict = ff.get_site_name_dict(2)\n",
    "hgv_drive = vehicle_specifications['energy_use'].to_dict()"
   ]
  },
  {
   "cell_type": "code",
   "execution_count": 3,
   "metadata": {},
   "outputs": [],
   "source": [
    "def read_telematics_arrivals(run, site):\n",
    "    COLS = ['departure_time', 'departure_location', 'arrival_time',\n",
    "        'arrival_location', 'distance_miles', 'driving_time',\n",
    "        'vehicle_id', 'journey_node_id', 'route_id', 'run', 'client_id',\n",
    "        'departure_site_id', 'arrival_site_id', 'site_id']\n",
    "    try:\n",
    "        cnx = dbh.create_alch_engine()\n",
    "        cols_telematics = \", \".join(COLS)\n",
    "        sql_query = f\"\"\"SELECT {cols_telematics} FROM t_telematics\n",
    "            WHERE run = {run} AND arrival_site_id = {site}\"\"\"\n",
    "        telematics = pd.read_sql_query(sql_query, cnx)\n",
    "        telematics['distance_miles'] = telematics['distance_miles'].clip(lower=0)\n",
    "    except (Exception, psycopg2.Error) as error:\n",
    "        logger.error(\"Error while fetching telematics\")\n",
    "        raise error\n",
    "\n",
    "    finally:\n",
    "        cnx.dispose()\n",
    "    return telematics\n",
    "\n",
    "FPS_COLOURS = ['#004A9C', '#45D281', '#FEC001', '#A365E0', '#5B9BD5',\n",
    "               '#FF0000', '#0563C1', '#954F72']\n",
    "def histo_variable(df, colname, site_name, upperclip=None,\n",
    "                   lowerclip=None, bins=10, folder=\"-\",\n",
    "                   suff='', vline_dict=None, title_text=None,\n",
    "                   plot_mean=True, cumdist=False, xlabel=None, ylabel=None):\n",
    "    fig, ax = plt.subplots(\n",
    "        1, figsize=(6, 3), gridspec_kw={'hspace': 0.5})\n",
    "    if title_text is None:\n",
    "        title_text = site_name\n",
    "    ax.set_title(\n",
    "        f'{title_text}',\n",
    "        color=FPS_COLOURS[0], fontweight='bold')\n",
    "    r = ax.hist(\n",
    "        df[colname].clip(upper=upperclip, lower=lowerclip),\n",
    "        color=[FPS_COLOURS[0]],\n",
    "        bins=bins, cumulative=cumdist, density=cumdist)\n",
    "    if ylabel == None:\n",
    "        ylabel = '# of routes'\n",
    "    if xlabel == None:\n",
    "        xlabel = f'{colname}'\n",
    "    ax.set_ylabel(ylabel, color=FPS_COLOURS[0])\n",
    "    ax.set_xlabel(xlabel, color=FPS_COLOURS[0])\n",
    "    if vline_dict:\n",
    "        for i, key in enumerate(vline_dict.keys()):\n",
    "            ax.axvline(x=vline_dict[key], label=key,\n",
    "                       color=FPS_COLOURS[(i+1) % len(FPS_COLOURS)])\n",
    "        ax.legend(frameon=False, bbox_to_anchor=(1, 0), loc='lower left')\n",
    "    if plot_mean:\n",
    "        ax.axvline(x=df[colname].mean(),\n",
    "                   color='black', ls='--',\n",
    "                   label=f\"Mean: {np.round(df[colname].mean(), 1)}\")\n",
    "        ax.legend(frameon=False, bbox_to_anchor=(1, 0), loc='lower left')\n",
    "    fig.savefig(\n",
    "        f\"sample/{folder}/{site_name}_histo_{colname}{suff}.png\",\n",
    "        bbox_inches=\"tight\", dpi=300)\n",
    "    return\n"
   ]
  },
  {
   "cell_type": "code",
   "execution_count": 4,
   "metadata": {},
   "outputs": [],
   "source": [
    "# Get full diesel routes\n",
    "diesel_list = []\n",
    "connection, cur = dbh.database_connection('test')\n",
    "for idx in allocations_diesel:\n",
    "    alloc = ff.find_allocation(idx)\n",
    "    diesel_list.append(ff.get_routes(alloc, connection, cur))\n",
    "routes_diesel = pd.concat(diesel_list)\n",
    "routes_diesel.sort_values(by=['allocated_vehicle_id', 'departure_time'], inplace=True)\n",
    "# Calculates how long each vehicle stays on site after each route (in hours)\n",
    "routes_diesel['next_wait_onsite'] = (routes_diesel['departure_time'].shift(-1)\n",
    "                                     - routes_diesel['arrival_time']).dt.total_seconds()/3600\n",
    "routes_diesel['week'] = routes_diesel['departure_time'].dt.isocalendar()['week']\n",
    "mask_change_veh = routes_diesel['allocated_vehicle_id'] != routes_diesel['allocated_vehicle_id'].shift(-1)\n",
    "routes_diesel.loc[mask_change_veh, 'next_wait_onsite'] = 0\n",
    "# Assign the corresponding vehicle ev specification based on the diesel specification\n",
    "routes_diesel['ev_spec'] = routes_diesel['allocated_spec_id'].map(diesel_ev_dict)\n",
    "# Calculate the energy required per route if it was done with an EV\n",
    "routes_diesel['energy_required_kwh'] = routes_diesel['distance_miles'] * routes_diesel['ev_spec'].map(hgv_drive)"
   ]
  },
  {
   "cell_type": "markdown",
   "metadata": {},
   "source": [
    "### Profiles and simultaneous analysis\n",
    "This creates a matrix formed by 5 minute intervals, and calculates how many vehicles are on site for each allocation (each type of vehicle). First it defines the time periods in 5 minute intervals covering the ~3 month period. Then for each route it calculates which of the time periods are 1 (vehicle on site) and which ones are 0 (vehicle off site).\n",
    "\n",
    "During each route the vehicle departs the site (departure_time), then arrives back at the site (arrival_time) and then stays in the depot for some time (next_wait_onsite) and finally leaves again (end_depot_time). The period between arrival_time and next_wait_onsite is what we will consider 1. However this time needs to be rounded to the nearest 5 minute interval."
   ]
  },
  {
   "cell_type": "code",
   "execution_count": 11,
   "metadata": {},
   "outputs": [],
   "source": [
    "SHORE_MINUTES = 5  # interval time in minutes\n",
    "cols = ['allocated_spec_id', 'end_shorepower_tp',\n",
    "        'arrival_tp', 'date', 'allocated_vehicle_id']\n",
    "# Create a baseline HH vector covering the whole period\n",
    "start_dt = dt.datetime(2022, 2, 13)\n",
    "end_dt = dt.datetime(2022, 5, 1)\n",
    "N = int((end_dt - start_dt)/dt.timedelta(minutes=SHORE_MINUTES))\n",
    "# These are the time intervals\n",
    "times = start_dt + np.arange(N) * dt.timedelta(minutes=SHORE_MINUTES)\n",
    "\n",
    "routes_diesel['end_depot_time'] = (routes_diesel['arrival_time']\n",
    "                                   + pd.to_timedelta(routes_diesel['next_wait_onsite'], unit='h'))\n",
    "# This converts the arrival time into the index of the arrival time period.\n",
    "routes_diesel['arrival_tp'] = np.round((routes_diesel['arrival_time']-start_dt)\n",
    "                                       /dt.timedelta(minutes=SHORE_MINUTES)).astype(int)\n",
    "# This gets the index of the time period when the vehicle leaves the site again\n",
    "routes_diesel['end_shorepower_tp'] = np.round((routes_diesel['end_depot_time']-start_dt)\n",
    "                                                 /dt.timedelta(minutes=SHORE_MINUTES)).astype(int)\n",
    "onsite_matrix = np.zeros((len(allocations_diesel), N))\n",
    "# iterate over allocations\n",
    "for i, idx in enumerate(allocations_diesel[:]):\n",
    "    # extract the routes for the allocation\n",
    "    mask_routes_alloc = (routes_diesel['allocation_id'] == idx)\n",
    "    routes_alloc = routes_diesel[mask_routes_alloc][cols]\n",
    "    if len(routes_alloc) > 0:\n",
    "        # for each route in the allocation calculate a shorepower availability vector\n",
    "        for j, route in enumerate(routes_alloc.index[:]):\n",
    "            tp_arrival = routes_alloc.loc[route, 'arrival_tp']\n",
    "            tp_end = routes_alloc.loc[route, 'end_shorepower_tp']\n",
    "            # add to the main allocation vector\n",
    "            onsite_matrix[i, tp_arrival:tp_end] += 1\n",
    "pickle.dump(onsite_matrix, open(f'sample/{folder}/onsite_availability_matrix.pkl', 'wb'))\n"
   ]
  },
  {
   "cell_type": "markdown",
   "metadata": {},
   "source": [
    "### Outputs"
   ]
  },
  {
   "cell_type": "markdown",
   "metadata": {},
   "source": [
    "#### Count number of telematics entries"
   ]
  },
  {
   "cell_type": "code",
   "execution_count": 41,
   "metadata": {},
   "outputs": [
    {
     "data": {
      "text/html": [
       "<div>\n",
       "<style scoped>\n",
       "    .dataframe tbody tr th:only-of-type {\n",
       "        vertical-align: middle;\n",
       "    }\n",
       "\n",
       "    .dataframe tbody tr th {\n",
       "        vertical-align: top;\n",
       "    }\n",
       "\n",
       "    .dataframe thead th {\n",
       "        text-align: right;\n",
       "    }\n",
       "</style>\n",
       "<table border=\"1\" class=\"dataframe\">\n",
       "  <thead>\n",
       "    <tr style=\"text-align: right;\">\n",
       "      <th></th>\n",
       "      <th>n_routes</th>\n",
       "      <th>n_vehicles</th>\n",
       "      <th>n_duties</th>\n",
       "      <th>telematics_arrivals</th>\n",
       "      <th>vehicle</th>\n",
       "    </tr>\n",
       "  </thead>\n",
       "  <tbody>\n",
       "    <tr>\n",
       "      <th>101</th>\n",
       "      <td>4629</td>\n",
       "      <td>55</td>\n",
       "      <td>3966</td>\n",
       "      <td>9578</td>\n",
       "      <td>4x2 rigid</td>\n",
       "    </tr>\n",
       "    <tr>\n",
       "      <th>102</th>\n",
       "      <td>545</td>\n",
       "      <td>6</td>\n",
       "      <td>449</td>\n",
       "      <td>1035</td>\n",
       "      <td>6x2 rigid</td>\n",
       "    </tr>\n",
       "    <tr>\n",
       "      <th>103</th>\n",
       "      <td>2429</td>\n",
       "      <td>16</td>\n",
       "      <td>1057</td>\n",
       "      <td>5056</td>\n",
       "      <td>4x2 tractor</td>\n",
       "    </tr>\n",
       "    <tr>\n",
       "      <th>104</th>\n",
       "      <td>9005</td>\n",
       "      <td>53</td>\n",
       "      <td>3794</td>\n",
       "      <td>17613</td>\n",
       "      <td>6x2 tractor</td>\n",
       "    </tr>\n",
       "  </tbody>\n",
       "</table>\n",
       "</div>"
      ],
      "text/plain": [
       "     n_routes  n_vehicles  n_duties  telematics_arrivals      vehicle\n",
       "101      4629          55      3966                 9578    4x2 rigid\n",
       "102       545           6       449                 1035    6x2 rigid\n",
       "103      2429          16      1057                 5056  4x2 tractor\n",
       "104      9005          53      3794                17613  6x2 tractor"
      ]
     },
     "execution_count": 41,
     "metadata": {},
     "output_type": "execute_result"
    }
   ],
   "source": [
    "# Get telematics\n",
    "telematics = read_telematics_arrivals(44, site_id)\n",
    "telematics['spec_id'] = telematics['vehicle_id'].map(vehicle_spec_dict)\n",
    "\n",
    "count_groups = routes_diesel.groupby('allocated_spec_id').agg({\n",
    "    'allocation_id': 'count',\n",
    "    'allocated_vehicle_id': 'nunique',\n",
    "    'duty_id': 'nunique'\n",
    "})\n",
    "tel_count = telematics.groupby('spec_id')['journey_node_id'].count()\n",
    "count_groups = count_groups.merge(tel_count, left_index=True, right_index=True)\n",
    "count_groups.columns = ['n_routes', 'n_vehicles', 'n_duties', 'telematics_arrivals']\n",
    "count_groups['vehicle'] = count_groups.index.map(good_specs)\n",
    "count_groups"
   ]
  },
  {
   "cell_type": "markdown",
   "metadata": {},
   "source": [
    "#### Histograms for routes and vehicle duties"
   ]
  },
  {
   "cell_type": "code",
   "execution_count": 14,
   "metadata": {},
   "outputs": [
    {
     "data": {
      "text/html": [
       "<div>\n",
       "<style scoped>\n",
       "    .dataframe tbody tr th:only-of-type {\n",
       "        vertical-align: middle;\n",
       "    }\n",
       "\n",
       "    .dataframe tbody tr th {\n",
       "        vertical-align: top;\n",
       "    }\n",
       "\n",
       "    .dataframe thead th {\n",
       "        text-align: right;\n",
       "    }\n",
       "</style>\n",
       "<table border=\"1\" class=\"dataframe\">\n",
       "  <thead>\n",
       "    <tr style=\"text-align: right;\">\n",
       "      <th></th>\n",
       "      <th>vehicle_id</th>\n",
       "      <th>departure_time</th>\n",
       "      <th>arrival_time</th>\n",
       "      <th>total_dwell</th>\n",
       "      <th>final_dwell</th>\n",
       "      <th>energy_required_kwh</th>\n",
       "      <th>distance_miles</th>\n",
       "      <th>duration_hours</th>\n",
       "    </tr>\n",
       "    <tr>\n",
       "      <th>duty_id</th>\n",
       "      <th></th>\n",
       "      <th></th>\n",
       "      <th></th>\n",
       "      <th></th>\n",
       "      <th></th>\n",
       "      <th></th>\n",
       "      <th></th>\n",
       "      <th></th>\n",
       "    </tr>\n",
       "  </thead>\n",
       "  <tbody>\n",
       "    <tr>\n",
       "      <th>1</th>\n",
       "      <td>2333</td>\n",
       "      <td>2022-02-13 06:15:35</td>\n",
       "      <td>2022-02-13 08:53:12</td>\n",
       "      <td>15.515556</td>\n",
       "      <td>15.515556</td>\n",
       "      <td>0.489705</td>\n",
       "      <td>0.211311</td>\n",
       "      <td>2.626944</td>\n",
       "    </tr>\n",
       "    <tr>\n",
       "      <th>2</th>\n",
       "      <td>2333</td>\n",
       "      <td>2022-02-14 00:24:08</td>\n",
       "      <td>2022-02-14 05:13:12</td>\n",
       "      <td>15.189444</td>\n",
       "      <td>15.189444</td>\n",
       "      <td>0.820976</td>\n",
       "      <td>0.354257</td>\n",
       "      <td>4.817778</td>\n",
       "    </tr>\n",
       "    <tr>\n",
       "      <th>3</th>\n",
       "      <td>2333</td>\n",
       "      <td>2022-02-14 20:24:34</td>\n",
       "      <td>2022-02-15 06:21:06</td>\n",
       "      <td>14.700556</td>\n",
       "      <td>13.983333</td>\n",
       "      <td>412.101015</td>\n",
       "      <td>177.824736</td>\n",
       "      <td>9.942222</td>\n",
       "    </tr>\n",
       "    <tr>\n",
       "      <th>4</th>\n",
       "      <td>2333</td>\n",
       "      <td>2022-02-15 20:20:06</td>\n",
       "      <td>2022-02-16 05:22:03</td>\n",
       "      <td>92.386389</td>\n",
       "      <td>91.809167</td>\n",
       "      <td>187.917026</td>\n",
       "      <td>81.087632</td>\n",
       "      <td>9.032500</td>\n",
       "    </tr>\n",
       "    <tr>\n",
       "      <th>5</th>\n",
       "      <td>2333</td>\n",
       "      <td>2022-02-20 01:10:36</td>\n",
       "      <td>2022-02-20 03:37:21</td>\n",
       "      <td>21.085556</td>\n",
       "      <td>21.085556</td>\n",
       "      <td>54.083577</td>\n",
       "      <td>23.337477</td>\n",
       "      <td>2.445833</td>\n",
       "    </tr>\n",
       "    <tr>\n",
       "      <th>...</th>\n",
       "      <td>...</td>\n",
       "      <td>...</td>\n",
       "      <td>...</td>\n",
       "      <td>...</td>\n",
       "      <td>...</td>\n",
       "      <td>...</td>\n",
       "      <td>...</td>\n",
       "      <td>...</td>\n",
       "    </tr>\n",
       "    <tr>\n",
       "      <th>9309</th>\n",
       "      <td>9297</td>\n",
       "      <td>2022-04-12 08:33:55</td>\n",
       "      <td>2022-04-12 10:17:21</td>\n",
       "      <td>49.042778</td>\n",
       "      <td>49.042778</td>\n",
       "      <td>23.526436</td>\n",
       "      <td>13.791175</td>\n",
       "      <td>1.723889</td>\n",
       "    </tr>\n",
       "    <tr>\n",
       "      <th>9310</th>\n",
       "      <td>9297</td>\n",
       "      <td>2022-04-14 11:19:55</td>\n",
       "      <td>2022-04-14 14:36:15</td>\n",
       "      <td>41.512500</td>\n",
       "      <td>41.512500</td>\n",
       "      <td>102.948037</td>\n",
       "      <td>60.348042</td>\n",
       "      <td>3.272222</td>\n",
       "    </tr>\n",
       "    <tr>\n",
       "      <th>9311</th>\n",
       "      <td>9297</td>\n",
       "      <td>2022-04-16 08:07:00</td>\n",
       "      <td>2022-04-16 15:55:34</td>\n",
       "      <td>308.378611</td>\n",
       "      <td>304.493056</td>\n",
       "      <td>47.137690</td>\n",
       "      <td>27.632070</td>\n",
       "      <td>7.809444</td>\n",
       "    </tr>\n",
       "    <tr>\n",
       "      <th>9312</th>\n",
       "      <td>9297</td>\n",
       "      <td>2022-04-29 08:25:09</td>\n",
       "      <td>2022-04-29 09:57:58</td>\n",
       "      <td>22.178889</td>\n",
       "      <td>22.178889</td>\n",
       "      <td>18.659994</td>\n",
       "      <td>10.938471</td>\n",
       "      <td>1.546944</td>\n",
       "    </tr>\n",
       "    <tr>\n",
       "      <th>9313</th>\n",
       "      <td>9297</td>\n",
       "      <td>2022-04-30 08:08:42</td>\n",
       "      <td>2022-04-30 14:42:21</td>\n",
       "      <td>3.299722</td>\n",
       "      <td>0.000000</td>\n",
       "      <td>73.982637</td>\n",
       "      <td>43.368552</td>\n",
       "      <td>6.560833</td>\n",
       "    </tr>\n",
       "  </tbody>\n",
       "</table>\n",
       "<p>9266 rows × 8 columns</p>\n",
       "</div>"
      ],
      "text/plain": [
       "         vehicle_id      departure_time        arrival_time  total_dwell  \\\n",
       "duty_id                                                                    \n",
       "1              2333 2022-02-13 06:15:35 2022-02-13 08:53:12    15.515556   \n",
       "2              2333 2022-02-14 00:24:08 2022-02-14 05:13:12    15.189444   \n",
       "3              2333 2022-02-14 20:24:34 2022-02-15 06:21:06    14.700556   \n",
       "4              2333 2022-02-15 20:20:06 2022-02-16 05:22:03    92.386389   \n",
       "5              2333 2022-02-20 01:10:36 2022-02-20 03:37:21    21.085556   \n",
       "...             ...                 ...                 ...          ...   \n",
       "9309           9297 2022-04-12 08:33:55 2022-04-12 10:17:21    49.042778   \n",
       "9310           9297 2022-04-14 11:19:55 2022-04-14 14:36:15    41.512500   \n",
       "9311           9297 2022-04-16 08:07:00 2022-04-16 15:55:34   308.378611   \n",
       "9312           9297 2022-04-29 08:25:09 2022-04-29 09:57:58    22.178889   \n",
       "9313           9297 2022-04-30 08:08:42 2022-04-30 14:42:21     3.299722   \n",
       "\n",
       "         final_dwell  energy_required_kwh  distance_miles  duration_hours  \n",
       "duty_id                                                                    \n",
       "1          15.515556             0.489705        0.211311        2.626944  \n",
       "2          15.189444             0.820976        0.354257        4.817778  \n",
       "3          13.983333           412.101015      177.824736        9.942222  \n",
       "4          91.809167           187.917026       81.087632        9.032500  \n",
       "5          21.085556            54.083577       23.337477        2.445833  \n",
       "...              ...                  ...             ...             ...  \n",
       "9309       49.042778            23.526436       13.791175        1.723889  \n",
       "9310       41.512500           102.948037       60.348042        3.272222  \n",
       "9311      304.493056            47.137690       27.632070        7.809444  \n",
       "9312       22.178889            18.659994       10.938471        1.546944  \n",
       "9313        0.000000            73.982637       43.368552        6.560833  \n",
       "\n",
       "[9266 rows x 8 columns]"
      ]
     },
     "execution_count": 14,
     "metadata": {},
     "output_type": "execute_result"
    }
   ],
   "source": [
    "# Groups the routes into daily vehicle duties (super-routes)\n",
    "\n",
    "duties = routes_diesel.groupby('duty_id').agg({\n",
    "    'allocated_vehicle_id': 'min',\n",
    "    'departure_time': 'min',\n",
    "    'arrival_time': 'max',\n",
    "    'next_wait_onsite': ['sum', 'last'],\n",
    "    'energy_required_kwh': 'sum',\n",
    "    'distance_miles': 'sum'\n",
    "})\n",
    "duties.columns = ['vehicle_id', 'departure_time', 'arrival_time', 'total_dwell', 'final_dwell', 'energy_required_kwh', 'distance_miles']\n",
    "duties['duration_hours'] = (duties['arrival_time'] - duties['departure_time']).dt.total_seconds()/3600\n",
    "duties"
   ]
  },
  {
   "cell_type": "code",
   "execution_count": 15,
   "metadata": {},
   "outputs": [
    {
     "data": {
      "image/png": "[encoded data removed]",
      "text/plain": [
       "<Figure size 432x216 with 1 Axes>"
      ]
     },
     "metadata": {
      "needs_background": "light"
     },
     "output_type": "display_data"
    },
    {
     "data": {
      "image/png": "[encoded data removed]",
      "text/plain": [
       "<Figure size 432x216 with 1 Axes>"
      ]
     },
     "metadata": {
      "needs_background": "light"
     },
     "output_type": "display_data"
    },
    {
     "data": {
      "image/png": "[encoded data removed]",
      "text/plain": [
       "<Figure size 432x216 with 1 Axes>"
      ]
     },
     "metadata": {
      "needs_background": "light"
     },
     "output_type": "display_data"
    },
    {
     "data": {
      "image/png": "[encoded data removed]",
      "text/plain": [
       "<Figure size 432x216 with 1 Axes>"
      ]
     },
     "metadata": {
      "needs_background": "light"
     },
     "output_type": "display_data"
    },
    {
     "data": {
      "image/png": "[encoded data removed]",
      "text/plain": [
       "<Figure size 432x216 with 1 Axes>"
      ]
     },
     "metadata": {
      "needs_background": "light"
     },
     "output_type": "display_data"
    }
   ],
   "source": [
    "### Outputs based on individual routes\n",
    "\n",
    "# Route distance\n",
    "histo_variable(routes_diesel, 'distance_miles', site_dict[site_id], upperclip=None,\n",
    "                   lowerclip=None, bins=10, folder=folder,\n",
    "                   suff='_routes', title_text=\"Route distance\",\n",
    "                   xlabel='Distance (miles)')\n",
    "# Route energy\n",
    "histo_variable(routes_diesel, 'energy_required_kwh', site_dict[site_id], upperclip=None,\n",
    "                   lowerclip=None, bins=10, folder=folder,\n",
    "                   suff='_routes', title_text='Energy per route',\n",
    "                   xlabel='Energy (kWh)')\n",
    "# Route times\n",
    "histo_variable(routes_diesel, 'duration_hours', site_dict[site_id], upperclip=None,\n",
    "                   lowerclip=None, bins=10, folder=folder,\n",
    "                   suff='_routes', title_text='Route duration',\n",
    "                   xlabel=\"Duration (hours)\")\n",
    "# Routes per day\n",
    "histo_variable(routes_diesel.groupby('date')[['shift']].count(),\n",
    "                  'shift', site_dict[site_id], upperclip=None,\n",
    "                   lowerclip=None, bins=10, folder=folder,\n",
    "                   xlabel=\"# Routes per Day\", ylabel='# Days',\n",
    "                   suff='_routes', title_text='Routes per day')\n",
    "# Dwell time\n",
    "histo_variable(routes_diesel,\n",
    "                  'next_wait_onsite', site_dict[site_id], upperclip=24,\n",
    "                   lowerclip=None, bins=24, folder=folder,\n",
    "                   suff='_routes', vline_dict=None, title_text='Dwell time after each route (hours)')"
   ]
  },
  {
   "cell_type": "code",
   "execution_count": 16,
   "metadata": {},
   "outputs": [
    {
     "data": {
      "image/png": "[encoded data removed]",
      "text/plain": [
       "<Figure size 432x216 with 1 Axes>"
      ]
     },
     "metadata": {
      "needs_background": "light"
     },
     "output_type": "display_data"
    },
    {
     "data": {
      "image/png": "[encoded data removed]",
      "text/plain": [
       "<Figure size 432x216 with 1 Axes>"
      ]
     },
     "metadata": {
      "needs_background": "light"
     },
     "output_type": "display_data"
    },
    {
     "data": {
      "image/png": "[encoded data removed]",
      "text/plain": [
       "<Figure size 432x216 with 1 Axes>"
      ]
     },
     "metadata": {
      "needs_background": "light"
     },
     "output_type": "display_data"
    },
    {
     "data": {
      "image/png": "[encoded data removed]",
      "text/plain": [
       "<Figure size 432x216 with 1 Axes>"
      ]
     },
     "metadata": {
      "needs_background": "light"
     },
     "output_type": "display_data"
    }
   ],
   "source": [
    "# Histograms based on daily vehicle duties (super-routes)\n",
    "#  distance\n",
    "histo_variable(duties, 'distance_miles', site_dict[site_id], upperclip=None,\n",
    "                   lowerclip=None, bins=10, folder=folder,\n",
    "                   suff='_duties', vline_dict=None, title_text='Daily Duty distance',\n",
    "                   xlabel='Distance (miles)', ylabel='# Duties',\n",
    "                   plot_mean=True, cumdist=False)\n",
    "#  energy\n",
    "histo_variable(duties, 'energy_required_kwh', site_dict[site_id], upperclip=None,\n",
    "                   lowerclip=None, bins=10, folder=folder,\n",
    "                   suff='_duties', vline_dict=None, title_text='Energy per Duty',\n",
    "                   xlabel='Energy (kWh)', ylabel='# Duties',\n",
    "                   plot_mean=True, cumdist=False)\n",
    "#  times\n",
    "histo_variable(duties, 'duration_hours', site_dict[site_id], upperclip=None,\n",
    "                   lowerclip=None, bins=10, folder=folder,\n",
    "                   suff='_duties', vline_dict=None, title_text=\"Duration of daily duties\",\n",
    "                   xlabel='Duration (hours)', ylabel='# Duties',\n",
    "                   plot_mean=True, cumdist=False)\n",
    "# Dwell time\n",
    "histo_variable(duties,\n",
    "                  'final_dwell', site_dict[site_id], upperclip=24,\n",
    "                   lowerclip=None, bins=24, folder=folder,\n",
    "                   suff='_duties', vline_dict=None, title_text='Dwell time after each daily duty',\n",
    "                   xlabel='Dwell time (hours)', ylabel='# Duties')"
   ]
  },
  {
   "cell_type": "markdown",
   "metadata": {},
   "source": [
    "#### Histograms based on vehicles on-site and charge demand"
   ]
  },
  {
   "cell_type": "code",
   "execution_count": null,
   "metadata": {},
   "outputs": [],
   "source": [
    "# Get the charging scenarios for each of the allocations\n",
    "try:\n",
    "    cnx = dbh.create_alch_engine()\n",
    "    sql_query = f\"\"\"SELECT * FROM t_charge_demand\n",
    "        WHERE scenario_id IN {tuple(scenarios.keys())}\"\"\"\n",
    "    demand = pd.read_sql_query(sql_query, cnx)\n",
    "    demand['charging'] = demand['power_demand_kw'] > 0.1\n",
    "except (Exception, psycopg2.Error) as error:\n",
    "    logger.error(\"Error getting charge profiles\")\n",
    "    raise(error)\n",
    "finally:\n",
    "    cnx.dispose()\n",
    "# Calculates the total site demand for each of the scenarios and the maximum value in kVA\n",
    "\n",
    "max_demand = demand.groupby(['scenario_id', 'datetime']).sum().groupby('scenario_id').max()\n",
    "max_demand_asc = (max_demand[['power_demand_kw']]/0.98).astype(int)\n",
    "max_demand_asc['vehicle_type'] = max_demand_asc.index.map(scenarios)\n",
    "max_demand_asc.columns = ('max_demand_kva', 'vehicle_type')\n",
    "max_demand_asc"
   ]
  },
  {
   "cell_type": "code",
   "execution_count": 17,
   "metadata": {},
   "outputs": [
    {
     "data": {
      "image/png": "[encoded data removed]",
      "text/plain": [
       "<Figure size 432x216 with 1 Axes>"
      ]
     },
     "metadata": {
      "needs_background": "light"
     },
     "output_type": "display_data"
    },
    {
     "data": {
      "image/png": "[encoded data removed]",
      "text/plain": [
       "<Figure size 432x216 with 1 Axes>"
      ]
     },
     "metadata": {
      "needs_background": "light"
     },
     "output_type": "display_data"
    },
    {
     "data": {
      "image/png": "[encoded data removed]",
      "text/plain": [
       "<Figure size 432x216 with 1 Axes>"
      ]
     },
     "metadata": {
      "needs_background": "light"
     },
     "output_type": "display_data"
    }
   ],
   "source": [
    "# Charging/on site histograms\n",
    "df = pd.DataFrame(onsite_matrix.sum(axis=0), columns=['onsite'])\n",
    "histo_variable(df,\n",
    "                  'onsite', site_dict[site_id], upperclip=None,\n",
    "                   lowerclip=None, bins=24, folder=\"hgv4\",\n",
    "                   suff='', vline_dict=None, title_text='Number of Vehicles on site',\n",
    "                   xlabel='# Simultaneous vehicles', ylabel='# Time Periods')\n",
    "df = demand.groupby('datetime')[['power_demand_kw', 'charging']].sum()\n",
    "histo_variable(df,\n",
    "                  'power_demand_kw', site_dict[site_id], upperclip=None,\n",
    "                   lowerclip=None, bins=24, folder=\"hgv4\",\n",
    "                   suff='', vline_dict=None, title_text='Max demand from HGV charging',\n",
    "                   xlabel='Power demand (kW)', ylabel=\"HH periods\")\n",
    "histo_variable(df,\n",
    "                  'charging', site_dict[site_id], upperclip=None,\n",
    "                   lowerclip=None, bins=24, folder=\"hgv4\",\n",
    "                   suff='', vline_dict=None, title_text='Simultaneous vehicles charging',\n",
    "                   xlabel='# Simultaneous vehicles charging', ylabel='HH periods')"
   ]
  },
  {
   "cell_type": "markdown",
   "metadata": {},
   "source": [
    "### Repeat single allocation\n",
    "\n",
    "----- IGNORE THIS BIT -----"
   ]
  },
  {
   "cell_type": "code",
   "execution_count": null,
   "metadata": {},
   "outputs": [],
   "source": [
    "# Get the allocated routes to compare diesel vs ev\n",
    "\n",
    "sql_query = f\"SELECT * FROM t_route_allocated where allocation_id IN {allocations_diesel}\"\n",
    "cnx = dbh.create_alch_engine()\n",
    "routes_diesel = pd.read_sql_query(sql_query, con=cnx)\n",
    "sql_query = f\"SELECT * FROM t_route_allocated where allocation_id IN {allocations_ev}\"\n",
    "cnx = dbh.create_alch_engine()\n",
    "routes_ev = pd.read_sql_query(sql_query, con=cnx)\n",
    "cnx.dispose()\n",
    "\n",
    "# Get telematics\n",
    "telematics = read_telematics_arrivals(44, site_id)\n",
    "telematics['spec_id'] = telematics['vehicle_id'].map(vehicle_spec_dict)"
   ]
  },
  {
   "cell_type": "code",
   "execution_count": 20,
   "metadata": {},
   "outputs": [
    {
     "name": "stderr",
     "output_type": "stream",
     "text": [
      "2022-09-07 11:31:45|DEBUG|pipe_db_handler.py(62)|upload_table|Uploaded to t_route_allocated\n"
     ]
    },
    {
     "name": "stdout",
     "output_type": "stream",
     "text": [
      "Finished alloc 826 with spec 112\n"
     ]
    }
   ],
   "source": [
    "first_alloc_id = 425\n",
    "first_ev_alloc = 826\n",
    "\n",
    "ev_allocation_dict = {\n",
    "    112: [first_alloc_id, first_ev_alloc, 102],\n",
    "}\n",
    "ev_spec = 112\n",
    "connection, cur = dbh.database_connection('test')\n",
    "allocation, new_allocation = ev_allocation_dict[ev_spec][0], ev_allocation_dict[ev_spec][1]\n",
    "diesel_spec = ev_allocation_dict[ev_spec][2]\n",
    "try:\n",
    "    alloc = ff.find_allocation(allocation)\n",
    "    assert diesel_spec == alloc['vehicle1'], f\"Wrong allocation ID, spec {alloc['vehicle1']} != {diesel_spec}\"\n",
    "    routes_spec, grouped_spec = ff.allocation_grouping(\n",
    "        alloc,\n",
    "        vehicle_specifications.loc[ev_spec, 'energy_use'],\n",
    "        vehicle_specifications.loc[ev_spec, 'charge_power_ac'],\n",
    "        vehicle_specifications.loc[ev_spec, 'charge_power_dc'],\n",
    "        connection, cur)\n",
    "    ff.calculate_feasibility(\n",
    "        grouped_spec,\n",
    "        vehicle_specifications.loc[ev_spec, 'quoted_range_mile'])\n",
    "    ev_vehicle_map = ff.ev_feasibility_dict(grouped_spec, ev_spec)\n",
    "    grouped_spec['allocated_spec_id'] = grouped_spec['allocated_vehicle_id'].map(ev_vehicle_map)\n",
    "    routes_spec['allocated_spec_id'] = routes_spec['allocated_vehicle_id'].map(ev_vehicle_map)\n",
    "    ff.upload_ev_routes(routes_spec,\n",
    "                    vehicle_specifications['kwh_mile'].to_dict(),\n",
    "                    vehicle_specifications['diesel_l_mile'].to_dict(),\n",
    "                    new_allocation)\n",
    "    veh1_ids = [key for key in ev_vehicle_map.keys()\n",
    "        if ev_vehicle_map[key] == ev_spec]\n",
    "    number_dc_max = grouped_spec.groupby('date').sum()['feasible_withdc'].max()\n",
    "    number_dc = min(number_dc_max, len(veh1_ids))\n",
    "    feasibility_count = grouped_spec[['feasible_nois', 'feasible_withac', 'feasible_withdc', 'unfeasible_withdc']].sum()\n",
    "    new_alloc = ff.upload_new_allocation(alloc, new_allocation, routes_spec, ev_vehicle_map,\n",
    "                                    vehicle_specifications.loc[ev_spec, 'charge_power_ac'],\n",
    "                                    vehicle_specifications.loc[ev_spec, 'charge_power_dc'],\n",
    "                                    number_dc, feasibility_count, connection, cur)\n",
    "    print(f\"Finished alloc {new_allocation} with spec {ev_spec}\")\n",
    "except Exception as e:\n",
    "    print(f\"Not possible to do allocation {allocation} - {new_allocation}\")\n",
    "    print(e)\n",
    "finally:\n",
    "    cur.close()\n",
    "    connection.close()"
   ]
  },
  {
   "cell_type": "code",
   "execution_count": null,
   "metadata": {},
   "outputs": [],
   "source": []
  }
 ],
 "metadata": {
  "interpreter": {
   "hash": "0c70d8ca8a9326c117f3cbb1600d40e4646a06cd0d6560aa3efc7e3f56e409b2"
  },
  "kernelspec": {
   "display_name": "Python 3.9.7 ('pipetel')",
   "language": "python",
   "name": "python3"
  },
  "language_info": {
   "codemirror_mode": {
    "name": "ipython",
    "version": 3
   },
   "file_extension": ".py",
   "mimetype": "text/x-python",
   "name": "python",
   "nbconvert_exporter": "python",
   "pygments_lexer": "ipython3",
   "version": "3.9.7"
  },
  "orig_nbformat": 4
 },
 "nbformat": 4,
 "nbformat_minor": 2
}
