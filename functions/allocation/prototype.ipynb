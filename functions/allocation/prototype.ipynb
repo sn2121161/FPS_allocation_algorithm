{
 "cells": [
  {
   "cell_type": "code",
   "execution_count": 1,
   "metadata": {},
   "outputs": [],
   "source": [
    "import numpy as np\n",
    "import pandas as pd\n",
    "import datetime as dt\n",
    "import psycopg2\n",
    "import os\n",
    "import sqlalchemy\n",
    "from sqlalchemy import create_engine\n",
    "import pipeline_plan_functions.utils.db_handler as dbh\n",
    "from python_utils.utils.logger import logger\n",
    "import alloc_functions.allocation_scenario as asf\n",
    "import alloc_functions.controller as acf\n",
    "import alloc_functions.daily as adf\n",
    "import alloc_functions.cleanup as cleaner\n",
    "import alloc_functions.mixed as mixed\n",
    "import pipeline_plan_functions.utils.data_handler as dh\n",
    "import matplotlib.pyplot as plt\n",
    "import json\n",
    "from pulp import *\n",
    "import itertools\n",
    "import pytz\n",
    "import matplotlib.pyplot as plt\n",
    "fps_colours = ['#004A9C', '#45D281', '#FEC001','#A365E0', '#5B9BD5',\n",
    "\n",
    "               '#FF0000', '#0563C1', '#954F72']"
   ]
  },
  {
   "cell_type": "code",
   "execution_count": 2,
   "metadata": {},
   "outputs": [
    {
     "data": {
      "text/plain": [
       "array([67, 68, 69, 70, 71, 72, 73, 74, 75, 76, 77, 78, 79, 80])"
      ]
     },
     "execution_count": 2,
     "metadata": {},
     "output_type": "execute_result"
    }
   ],
   "source": [
    "run = 22\n",
    "allocations = np.arange(67, 81)\n",
    "cnx = dbh.create_alch_engine()\n",
    "connection, cur = dbh.database_connection('test')\n",
    "allocations"
   ]
  },
  {
   "cell_type": "code",
   "execution_count": 5,
   "metadata": {},
   "outputs": [],
   "source": [
    "for idx in allocations[:1]:\n",
    "    alloc = adf.get_allocation(idx, cnx)\n",
    "    # Get date range\n",
    "    date_range = find_unallocated_dates(idx, connection, cur)\n",
    "    # print(idx, '# dates', len(date_range))\n",
    "    # for date in date_range:\n",
    "    #     try:\n",
    "    #         adf.daily(date, alloc, cnx, connection, cur)\n",
    "    #     except Exception as e:\n",
    "    #         logger.error(e)"
   ]
  },
  {
   "cell_type": "code",
   "execution_count": 3,
   "metadata": {},
   "outputs": [
    {
     "ename": "NameError",
     "evalue": "name 'cnx' is not defined",
     "output_type": "error",
     "traceback": [
      "\u001b[1;31m---------------------------------------------------------------------------\u001b[0m",
      "\u001b[1;31mNameError\u001b[0m                                 Traceback (most recent call last)",
      "\u001b[1;32m~\\AppData\\Local\\Temp\\ipykernel_21816\\4197900761.py\u001b[0m in \u001b[0;36m<module>\u001b[1;34m\u001b[0m\n\u001b[1;32m----> 1\u001b[1;33m \u001b[0mcnx\u001b[0m\u001b[1;33m.\u001b[0m\u001b[0mdispose\u001b[0m\u001b[1;33m(\u001b[0m\u001b[1;33m)\u001b[0m\u001b[1;33m\u001b[0m\u001b[1;33m\u001b[0m\u001b[0m\n\u001b[0m\u001b[0;32m      2\u001b[0m \u001b[0mcur\u001b[0m\u001b[1;33m.\u001b[0m\u001b[0mclose\u001b[0m\u001b[1;33m(\u001b[0m\u001b[1;33m)\u001b[0m\u001b[1;33m\u001b[0m\u001b[1;33m\u001b[0m\u001b[0m\n\u001b[0;32m      3\u001b[0m \u001b[0mconnection\u001b[0m\u001b[1;33m.\u001b[0m\u001b[0mclose\u001b[0m\u001b[1;33m(\u001b[0m\u001b[1;33m)\u001b[0m\u001b[1;33m\u001b[0m\u001b[1;33m\u001b[0m\u001b[0m\n",
      "\u001b[1;31mNameError\u001b[0m: name 'cnx' is not defined"
     ]
    }
   ],
   "source": [
    "cnx.dispose()\n",
    "cur.close()\n",
    "connection.close()"
   ]
  },
  {
   "cell_type": "code",
   "execution_count": 3,
   "metadata": {},
   "outputs": [
    {
     "name": "stderr",
     "output_type": "stream",
     "text": [
      "2022-04-20 20:56:33|DEBUG|data_handler.py(21)|get_current_run|Current run 22\n",
      "2022-04-20 20:56:34|DEBUG|allocation_scenario.py(31)|find_current_allocation|Current allocation ID: 67\n"
     ]
    }
   ],
   "source": [
    "connection, cur = dbh.database_connection('test')\n",
    "cnx = dbh.create_alch_engine()\n",
    "run = dh.get_current_run(connection, cur)\n",
    "# Read the allocation table, find the last one\n",
    "alloc, not_last = asf.find_current_allocation(run, cnx)\n",
    "# Get the journeys\n",
    "routes = asf.get_return_routes(alloc['route_table'], alloc['site_id'],\n",
    "                        alloc['start_date'], alloc['end_date'], cnx)"
   ]
  },
  {
   "cell_type": "code",
   "execution_count": 11,
   "metadata": {},
   "outputs": [
    {
     "data": {
      "text/html": [
       "<div>\n",
       "<style scoped>\n",
       "    .dataframe tbody tr th:only-of-type {\n",
       "        vertical-align: middle;\n",
       "    }\n",
       "\n",
       "    .dataframe tbody tr th {\n",
       "        vertical-align: top;\n",
       "    }\n",
       "\n",
       "    .dataframe thead th {\n",
       "        text-align: right;\n",
       "    }\n",
       "</style>\n",
       "<table border=\"1\" class=\"dataframe\">\n",
       "  <thead>\n",
       "    <tr style=\"text-align: right;\">\n",
       "      <th></th>\n",
       "      <th>client_id</th>\n",
       "      <th>site_id_start</th>\n",
       "      <th>departure_time</th>\n",
       "      <th>arrival_time</th>\n",
       "      <th>vehicle_id</th>\n",
       "      <th>distance_miles</th>\n",
       "      <th>route_id</th>\n",
       "      <th>payload</th>\n",
       "      <th>number_crates</th>\n",
       "      <th>number_order</th>\n",
       "      <th>driving_time</th>\n",
       "      <th>site_id_end</th>\n",
       "      <th>source</th>\n",
       "      <th>date</th>\n",
       "    </tr>\n",
       "  </thead>\n",
       "  <tbody>\n",
       "    <tr>\n",
       "      <th>0</th>\n",
       "      <td>5</td>\n",
       "      <td>189</td>\n",
       "      <td>2020-12-03 08:08:50</td>\n",
       "      <td>2020-12-03 11:04:34</td>\n",
       "      <td>8441</td>\n",
       "      <td>22.374145</td>\n",
       "      <td>11351</td>\n",
       "      <td>NaN</td>\n",
       "      <td>None</td>\n",
       "      <td>14</td>\n",
       "      <td>None</td>\n",
       "      <td>189</td>\n",
       "      <td>1</td>\n",
       "      <td>2020-12-03</td>\n",
       "    </tr>\n",
       "    <tr>\n",
       "      <th>1</th>\n",
       "      <td>5</td>\n",
       "      <td>189</td>\n",
       "      <td>2020-12-03 11:50:44</td>\n",
       "      <td>2020-12-03 14:27:02</td>\n",
       "      <td>8441</td>\n",
       "      <td>23.244251</td>\n",
       "      <td>11352</td>\n",
       "      <td>NaN</td>\n",
       "      <td>None</td>\n",
       "      <td>14</td>\n",
       "      <td>None</td>\n",
       "      <td>189</td>\n",
       "      <td>1</td>\n",
       "      <td>2020-12-03</td>\n",
       "    </tr>\n",
       "    <tr>\n",
       "      <th>2</th>\n",
       "      <td>5</td>\n",
       "      <td>189</td>\n",
       "      <td>2020-12-03 15:43:30</td>\n",
       "      <td>2020-12-03 21:23:39</td>\n",
       "      <td>8441</td>\n",
       "      <td>56.494717</td>\n",
       "      <td>11353</td>\n",
       "      <td>NaN</td>\n",
       "      <td>None</td>\n",
       "      <td>26</td>\n",
       "      <td>None</td>\n",
       "      <td>189</td>\n",
       "      <td>1</td>\n",
       "      <td>2020-12-03</td>\n",
       "    </tr>\n",
       "    <tr>\n",
       "      <th>3</th>\n",
       "      <td>5</td>\n",
       "      <td>189</td>\n",
       "      <td>2020-12-04 08:42:51</td>\n",
       "      <td>2020-12-04 13:53:10</td>\n",
       "      <td>8441</td>\n",
       "      <td>39.962710</td>\n",
       "      <td>11354</td>\n",
       "      <td>NaN</td>\n",
       "      <td>None</td>\n",
       "      <td>21</td>\n",
       "      <td>None</td>\n",
       "      <td>189</td>\n",
       "      <td>1</td>\n",
       "      <td>2020-12-04</td>\n",
       "    </tr>\n",
       "    <tr>\n",
       "      <th>4</th>\n",
       "      <td>5</td>\n",
       "      <td>189</td>\n",
       "      <td>2020-12-04 15:23:13</td>\n",
       "      <td>2020-12-04 21:15:57</td>\n",
       "      <td>8441</td>\n",
       "      <td>44.686140</td>\n",
       "      <td>11355</td>\n",
       "      <td>NaN</td>\n",
       "      <td>None</td>\n",
       "      <td>25</td>\n",
       "      <td>None</td>\n",
       "      <td>189</td>\n",
       "      <td>1</td>\n",
       "      <td>2020-12-04</td>\n",
       "    </tr>\n",
       "  </tbody>\n",
       "</table>\n",
       "</div>"
      ],
      "text/plain": [
       "   client_id  site_id_start      departure_time        arrival_time  \\\n",
       "0          5            189 2020-12-03 08:08:50 2020-12-03 11:04:34   \n",
       "1          5            189 2020-12-03 11:50:44 2020-12-03 14:27:02   \n",
       "2          5            189 2020-12-03 15:43:30 2020-12-03 21:23:39   \n",
       "3          5            189 2020-12-04 08:42:51 2020-12-04 13:53:10   \n",
       "4          5            189 2020-12-04 15:23:13 2020-12-04 21:15:57   \n",
       "\n",
       "   vehicle_id  distance_miles  route_id  payload number_crates  number_order  \\\n",
       "0        8441       22.374145     11351      NaN          None            14   \n",
       "1        8441       23.244251     11352      NaN          None            14   \n",
       "2        8441       56.494717     11353      NaN          None            26   \n",
       "3        8441       39.962710     11354      NaN          None            21   \n",
       "4        8441       44.686140     11355      NaN          None            25   \n",
       "\n",
       "  driving_time  site_id_end  source       date  \n",
       "0         None          189       1 2020-12-03  \n",
       "1         None          189       1 2020-12-03  \n",
       "2         None          189       1 2020-12-03  \n",
       "3         None          189       1 2020-12-04  \n",
       "4         None          189       1 2020-12-04  "
      ]
     },
     "execution_count": 11,
     "metadata": {},
     "output_type": "execute_result"
    }
   ],
   "source": [
    "routes.head()"
   ]
  },
  {
   "cell_type": "code",
   "execution_count": 23,
   "metadata": {},
   "outputs": [
    {
     "data": {
      "text/html": [
       "<div>\n",
       "<style scoped>\n",
       "    .dataframe tbody tr th:only-of-type {\n",
       "        vertical-align: middle;\n",
       "    }\n",
       "\n",
       "    .dataframe tbody tr th {\n",
       "        vertical-align: top;\n",
       "    }\n",
       "\n",
       "    .dataframe thead th {\n",
       "        text-align: right;\n",
       "    }\n",
       "</style>\n",
       "<table border=\"1\" class=\"dataframe\">\n",
       "  <thead>\n",
       "    <tr style=\"text-align: right;\">\n",
       "      <th></th>\n",
       "      <th>vehicle_id</th>\n",
       "    </tr>\n",
       "    <tr>\n",
       "      <th>date</th>\n",
       "      <th></th>\n",
       "    </tr>\n",
       "  </thead>\n",
       "  <tbody>\n",
       "    <tr>\n",
       "      <th>2020-12-24</th>\n",
       "      <td>1</td>\n",
       "    </tr>\n",
       "    <tr>\n",
       "      <th>2021-01-25</th>\n",
       "      <td>8</td>\n",
       "    </tr>\n",
       "    <tr>\n",
       "      <th>2021-04-01</th>\n",
       "      <td>9</td>\n",
       "    </tr>\n",
       "    <tr>\n",
       "      <th>2021-04-02</th>\n",
       "      <td>9</td>\n",
       "    </tr>\n",
       "    <tr>\n",
       "      <th>2021-04-03</th>\n",
       "      <td>9</td>\n",
       "    </tr>\n",
       "    <tr>\n",
       "      <th>...</th>\n",
       "      <td>...</td>\n",
       "    </tr>\n",
       "    <tr>\n",
       "      <th>2021-10-15</th>\n",
       "      <td>13</td>\n",
       "    </tr>\n",
       "    <tr>\n",
       "      <th>2021-10-25</th>\n",
       "      <td>13</td>\n",
       "    </tr>\n",
       "    <tr>\n",
       "      <th>2021-09-30</th>\n",
       "      <td>13</td>\n",
       "    </tr>\n",
       "    <tr>\n",
       "      <th>2021-09-27</th>\n",
       "      <td>13</td>\n",
       "    </tr>\n",
       "    <tr>\n",
       "      <th>2021-10-20</th>\n",
       "      <td>13</td>\n",
       "    </tr>\n",
       "  </tbody>\n",
       "</table>\n",
       "<p>361 rows × 1 columns</p>\n",
       "</div>"
      ],
      "text/plain": [
       "            vehicle_id\n",
       "date                  \n",
       "2020-12-24           1\n",
       "2021-01-25           8\n",
       "2021-04-01           9\n",
       "2021-04-02           9\n",
       "2021-04-03           9\n",
       "...                ...\n",
       "2021-10-15          13\n",
       "2021-10-25          13\n",
       "2021-09-30          13\n",
       "2021-09-27          13\n",
       "2021-10-20          13\n",
       "\n",
       "[361 rows x 1 columns]"
      ]
     },
     "execution_count": 23,
     "metadata": {},
     "output_type": "execute_result"
    }
   ],
   "source": [
    "routes.groupby('date').agg({\n",
    "    'vehicle_id': 'nunique'\n",
    "}).sort_values(by='vehicle_id')"
   ]
  },
  {
   "cell_type": "code",
   "execution_count": 146,
   "metadata": {},
   "outputs": [],
   "source": [
    "TIME_INT_IS = dt.timedelta(minutes=30)\n",
    "N = int(dt.timedelta(days=1)/TIME_INT_IS)\n",
    "POTENTIAL_TPS_IS = [i*TIME_INT_IS for i in range(N)]\n",
    "TP_FRACT_IS = TIME_INT_IS/dt.timedelta(hours=1)\n",
    "def find_allocation(idx, cnx):\n",
    "    try:\n",
    "        sql_query = f\"\"\"SELECT * FROM t_allocation WHERE allocation_id={idx} LIMIT 1\"\"\"\n",
    "        current_allocation = pd.read_sql_query(sql_query, cnx).iloc[0].to_dict()\n",
    "    except (Exception, psycopg2.Error) as error:\n",
    "        logger.error(f\"Error while fetching current allocation\")\n",
    "        raise(error)\n",
    "    return current_allocation\n",
    "range_wltp = {\n",
    "    'ducatolr': 138,\n",
    "    'e9': 185,\n",
    "    'vivarolr': 205\n",
    "}\n",
    "payload = {\n",
    "    'ducatolr': 765,\n",
    "    'e9': 860,\n",
    "    'vivarolr': 1002\n",
    "}\n",
    "colors = {\n",
    "    'ducatolr': fps_colours[4],\n",
    "    'e9': fps_colours[3],\n",
    "    'vivarolr': fps_colours[5]\n",
    "}\n",
    "name = {\n",
    "    'ducatolr': \"eDucato\",\n",
    "    'e9': \"e9\",\n",
    "    'vivarolr': \"eVivaro\"\n",
    "}"
   ]
  },
  {
   "cell_type": "code",
   "execution_count": 147,
   "metadata": {},
   "outputs": [],
   "source": [
    "connection, cur = dbh.database_connection('test')\n",
    "cnx = dbh.create_alch_engine()"
   ]
  },
  {
   "cell_type": "code",
   "execution_count": 152,
   "metadata": {},
   "outputs": [
    {
     "data": {
      "text/html": [
       "<div>\n",
       "<style scoped>\n",
       "    .dataframe tbody tr th:only-of-type {\n",
       "        vertical-align: middle;\n",
       "    }\n",
       "\n",
       "    .dataframe tbody tr th {\n",
       "        vertical-align: top;\n",
       "    }\n",
       "\n",
       "    .dataframe thead th {\n",
       "        text-align: right;\n",
       "    }\n",
       "</style>\n",
       "<table border=\"1\" class=\"dataframe\">\n",
       "  <thead>\n",
       "    <tr style=\"text-align: right;\">\n",
       "      <th></th>\n",
       "      <th>allocated_vehicle_id</th>\n",
       "      <th>energy_required_kwh</th>\n",
       "      <th>route_cost</th>\n",
       "      <th>departure_time</th>\n",
       "      <th>arrival_time</th>\n",
       "      <th>distance_miles</th>\n",
       "    </tr>\n",
       "    <tr>\n",
       "      <th>route_id</th>\n",
       "      <th></th>\n",
       "      <th></th>\n",
       "      <th></th>\n",
       "      <th></th>\n",
       "      <th></th>\n",
       "      <th></th>\n",
       "    </tr>\n",
       "  </thead>\n",
       "  <tbody>\n",
       "    <tr>\n",
       "      <th>1471</th>\n",
       "      <td>23</td>\n",
       "      <td>39.878049</td>\n",
       "      <td>1.0</td>\n",
       "      <td>2021-10-25 06:15:00</td>\n",
       "      <td>2021-10-25 12:35:00</td>\n",
       "      <td>109.0</td>\n",
       "    </tr>\n",
       "    <tr>\n",
       "      <th>1454</th>\n",
       "      <td>23</td>\n",
       "      <td>14.268293</td>\n",
       "      <td>1.0</td>\n",
       "      <td>2021-10-25 14:30:00</td>\n",
       "      <td>2021-10-25 16:17:00</td>\n",
       "      <td>39.0</td>\n",
       "    </tr>\n",
       "    <tr>\n",
       "      <th>1485</th>\n",
       "      <td>23</td>\n",
       "      <td>28.170732</td>\n",
       "      <td>0.5</td>\n",
       "      <td>2021-10-25 18:00:00</td>\n",
       "      <td>2021-10-25 22:04:00</td>\n",
       "      <td>77.0</td>\n",
       "    </tr>\n",
       "  </tbody>\n",
       "</table>\n",
       "</div>"
      ],
      "text/plain": [
       "          allocated_vehicle_id  energy_required_kwh  route_cost  \\\n",
       "route_id                                                          \n",
       "1471                        23            39.878049         1.0   \n",
       "1454                        23            14.268293         1.0   \n",
       "1485                        23            28.170732         0.5   \n",
       "\n",
       "              departure_time        arrival_time  distance_miles  \n",
       "route_id                                                          \n",
       "1471     2021-10-25 06:15:00 2021-10-25 12:35:00           109.0  \n",
       "1454     2021-10-25 14:30:00 2021-10-25 16:17:00            39.0  \n",
       "1485     2021-10-25 18:00:00 2021-10-25 22:04:00            77.0  "
      ]
     },
     "execution_count": 152,
     "metadata": {},
     "output_type": "execute_result"
    }
   ],
   "source": [
    "alloc = find_allocation(35, cnx)\n",
    "alloc['turnaround'], alloc['min_to_connect'] = adf.get_turnaround_time(alloc['site_id'], cnx)\n",
    "routes = cleaner.get_allocated_routes(alloc['allocation_id'], cnx).sort_index()\n",
    "routes = cleaner.get_daily_route_data(routes, alloc, cnx)\n",
    "\n",
    "alloc2 = find_allocation(40, cnx)\n",
    "routes2 = cleaner.get_allocated_routes(alloc2['allocation_id'], cnx).sort_index()\n",
    "routes2 = cleaner.get_daily_route_data(routes2, alloc2, cnx)\n",
    "mask_diff = routes['allocated_spec_id'] != routes2['allocated_spec_id']\n",
    "vr1 = routes[routes2['allocated_vehicle_id']==23]\n",
    "vr2 = routes2[routes2['allocated_vehicle_id']==23]\n",
    "idxs = routes2[(routes2['allocated_vehicle_id']==23)\n",
    "        & (routes2['date']==dt.datetime(2021, 10, 25))].sort_values(by='shift').index\n",
    "routes2.loc[idxs][['allocated_vehicle_id', 'energy_required_kwh', 'route_cost',\n",
    "                   'departure_time', 'arrival_time', 'distance_miles']]"
   ]
  },
  {
   "cell_type": "code",
   "execution_count": 109,
   "metadata": {},
   "outputs": [],
   "source": [
    "shiftidx = adf.separate_shift_idsx(routes)\n",
    "first_routes = routes.loc[shiftidx[1]]\n",
    "secondJourneys = routes.loc[shiftidx[2]]"
   ]
  },
  {
   "cell_type": "code",
   "execution_count": 164,
   "metadata": {},
   "outputs": [],
   "source": [
    "alloc = find_allocation(109, cnx)\n",
    "routes = cleaner.get_allocated_routes(alloc['allocation_id'], cnx)\n",
    "routes = cleaner.get_daily_route_data(routes, alloc, cnx).sort_index()\n",
    "routes['category'] = 'x'\n",
    "grouped = mixed.group_routes(routes)\n",
    "turn = 75\n",
    "charging_rate = 50*0.9\n",
    "for idx in grouped.index:\n",
    "    masklist = []\n",
    "    dutyR = routes[(routes['date'] == idx[0])\n",
    "                        & (routes['allocated_vehicle_id'] == idx[1])].index\n",
    "    # Calculate IS shifts\n",
    "    for r in dutyR:\n",
    "        masklist.append(mixed.tp_journeys(routes.loc[r], turn))\n",
    "    masklist.append(np.array(POTENTIAL_TPS_IS)\n",
    "                        > (grouped.loc[idx, 'departure_time']-grouped.loc[idx, 'route_date']))\n",
    "    masklist.append(np.array(POTENTIAL_TPS_IS)\n",
    "                        < (grouped.loc[idx, 'arrival_time']-grouped.loc[idx, 'route_date']))\n",
    "    n = len(masklist)\n",
    "    tps = np.sum(np.vstack(masklist).sum(axis=0) == n)\n",
    "    grouped.loc[idx, 'TPs'] = tps\n",
    "average_kwh_mile = 0.47\n",
    "grouped['extra_mileage'] = grouped['TPs']*TP_FRACT*charging_rate/average_kwh_mile\n",
    "grouped['reduced_mileage'] = (grouped['equivalent_mileage']-grouped['extra_mileage']).clip(\n",
    "    lower=grouped['IndMileage'])"
   ]
  },
  {
   "cell_type": "code",
   "execution_count": 165,
   "metadata": {},
   "outputs": [
    {
     "data": {
      "text/plain": [
       "unfeasible_noIS_0    16\n",
       "unfeasible_is_0      26\n",
       "unfeasible_noIS_1    11\n",
       "unfeasible_is_1      25\n",
       "unfeasible_noIS_2     4\n",
       "unfeasible_is_2      23\n",
       "dtype: int64"
      ]
     },
     "execution_count": 165,
     "metadata": {},
     "output_type": "execute_result"
    }
   ],
   "source": [
    "vehicles = ['vivarolr', 'e9', 'ducatolr']\n",
    "for i in range(3):\n",
    "    grouped[f'unfeasible_noIS_{i}'] = grouped['equivalent_mileage'] >= range_wltp[vehicles[i]]\n",
    "    grouped[f'unfeasible_is_{i}'] = grouped['reduced_mileage'] >= range_wltp[vehicles[i]]\n",
    "26-grouped.groupby('date').agg({\n",
    "    'unfeasible_noIS_0': 'sum',\n",
    "    'unfeasible_is_0': 'sum',\n",
    "    'unfeasible_noIS_1': 'sum',\n",
    "    'unfeasible_is_1': 'sum',\n",
    "    'unfeasible_noIS_2': 'sum',\n",
    "    'unfeasible_is_2': 'sum'\n",
    "}).max()\n",
    "# grouped"
   ]
  },
  {
   "cell_type": "code",
   "execution_count": 169,
   "metadata": {},
   "outputs": [
    {
     "data": {
      "text/plain": [
       "array([[377, 304, 159],\n",
       "       [169, 239, 365],\n",
       "       [  0,   3,  22]])"
      ]
     },
     "execution_count": 169,
     "metadata": {},
     "output_type": "execute_result"
    }
   ],
   "source": [
    "count_array = np.full((3,3), 0)\n",
    "vehicles = ['vivarolr', 'e9', 'ducatolr']\n",
    "for i in range(3):\n",
    "    # Number feasible without IS\n",
    "    count_array[0][i] = (grouped['equivalent_mileage'] < range_wltp[vehicles[i]]).sum()\n",
    "    # Number feasible only with IS\n",
    "    count_array[1][i] = ((grouped['equivalent_mileage'] >= range_wltp[vehicles[i]])\n",
    "                         & (grouped['reduced_mileage'] < range_wltp[vehicles[i]])).sum()\n",
    "    # NUmber unfeasible\n",
    "    count_array[2][i] = ((grouped['reduced_mileage'] >= range_wltp[vehicles[i]])).sum()\n",
    "count_array"
   ]
  },
  {
   "cell_type": "code",
   "execution_count": 129,
   "metadata": {},
   "outputs": [
    {
     "data": {
      "image/png": "[encoded data removed]",
      "text/plain": [
       "<Figure size 288x288 with 1 Axes>"
      ]
     },
     "metadata": {
      "needs_background": "light"
     },
     "output_type": "display_data"
    }
   ],
   "source": [
    "fig, ax = plt.subplots(1, figsize=(4, 4))\n",
    "xlabels = [name[v] for v in vehicles]\n",
    "ax.bar(x = xlabels,\n",
    "    height=count_array[0],\n",
    "    color=[fps_colours[0]], label='Feasible without daytime charging')\n",
    "ax.bar(x = xlabels,\n",
    "    height=count_array[1], bottom=count_array[0],\n",
    "    color=[fps_colours[1]], label='Feasible with daytime charging')\n",
    "ax.bar(x = xlabels,\n",
    "    height=count_array[2], bottom=count_array[1]+count_array[0],\n",
    "    color=[fps_colours[2]], label='Unfeasible')\n",
    "ax.legend(frameon=False, bbox_to_anchor=(1, 0.8))\n",
    "ax.set_xlabel('EV choice', color=fps_colours[0])\n",
    "ax.set_ylabel('# of Vehicle-duties', color=fps_colours[0])\n",
    "ax.set_title(\n",
    "    f\"Number of Feasible Vehicle-Duties - {turn} minutes to connect\",\n",
    "    color=fps_colours[0], fontweight='bold')\n",
    "fig.savefig(\n",
    "    f\"C:/Users/SofiaTaylor/OneDrive - Flexible Power Systems Ltd/Consulting/SSL/Argos meeting/feasibility_{turn}minutes.png\",\n",
    "    bbox_inches=\"tight\", dpi=300)"
   ]
  },
  {
   "cell_type": "code",
   "execution_count": 130,
   "metadata": {},
   "outputs": [
    {
     "data": {
      "image/png": "[encoded data removed]",
      "text/plain": [
       "<Figure size 432x720 with 2 Axes>"
      ]
     },
     "metadata": {
      "needs_background": "light"
     },
     "output_type": "display_data"
    }
   ],
   "source": [
    "\n",
    "# range_observed = 155\n",
    "\n",
    "fig, ax = plt.subplots(\n",
    "    2, figsize=(6, 10), gridspec_kw={'hspace': 0.5})\n",
    "ax[0].hist(\n",
    "    grouped['distance_miles'],\n",
    "    bins=30,\n",
    "    color=[fps_colours[0]])\n",
    "\n",
    "ax[1].hist(\n",
    "    grouped['payload'],\n",
    "    bins=30,\n",
    "    color=[fps_colours[0]])\n",
    "\n",
    "ax[0].set_xlabel('Daily Distance (miles)', color=fps_colours[0])\n",
    "ax[0].set_ylabel('# of Vehicle-duties', color=fps_colours[0])\n",
    "for v in name.keys():\n",
    "    ax[0].axvline(x=range_wltp[v], label=name[v], ls='--', color=colors[v])\n",
    "# ax.axvline(x=range_observed, label='Observed', ls='--', color=fps_colours[2])\n",
    "# ax[0].legend(frameon=False, bbox_to_anchor=(1, 0.8))\n",
    "\n",
    "ax[1].set_xlabel('Max payload (kgs)', color=fps_colours[0])\n",
    "ax[1].set_ylabel('# of Vehicle-duties', color=fps_colours[0])\n",
    "for v in name.keys():\n",
    "    ax[1].axvline(x=payload[v], label=name[v], ls='--', color=colors[v])\n",
    "\n",
    "ax[0].set_title(\n",
    "    \"Vehicle Duties in Bristol Argos\\n17-10-2021  06-11-2021\",\n",
    "    color=fps_colours[0], fontweight='bold')\n",
    "fig.savefig(\n",
    "    f\"C:/Users/SofiaTaylor/OneDrive - Flexible Power Systems Ltd/Consulting/SSL/Argos meeting/combined_duties_alloc{alloc['allocation_id']}.png\",\n",
    "    bbox_inches=\"tight\", dpi=300)"
   ]
  },
  {
   "cell_type": "code",
   "execution_count": 131,
   "metadata": {},
   "outputs": [
    {
     "data": {
      "image/png": "[encoded data removed]",
      "text/plain": [
       "<Figure size 432x720 with 2 Axes>"
      ]
     },
     "metadata": {
      "needs_background": "light"
     },
     "output_type": "display_data"
    }
   ],
   "source": [
    "fig, ax = plt.subplots(\n",
    "    2, figsize=(6, 10), gridspec_kw={'hspace': 0.5})\n",
    "ax[0].hist(\n",
    "    routes['distance_miles'],\n",
    "    bins=30,\n",
    "    color=[fps_colours[0]])\n",
    "\n",
    "ax[1].hist(\n",
    "    routes['payload'],\n",
    "    bins=30,\n",
    "    color=[fps_colours[0]])\n",
    "\n",
    "ax[0].set_xlabel('Journey Distance (miles)', color=fps_colours[0])\n",
    "ax[0].set_ylabel('# of Journeys', color=fps_colours[0])\n",
    "for v in name.keys():\n",
    "    ax[0].axvline(x=range_wltp[v], label=name[v], ls='--', color=colors[v])\n",
    "# ax.axvline(x=range_observed, label='Observed', ls='--', color=fps_colours[2])\n",
    "ax[0].legend(frameon=False, bbox_to_anchor=(1, 0.8))\n",
    "\n",
    "ax[1].set_xlabel('Payload (kgs)', color=fps_colours[0])\n",
    "ax[1].set_ylabel('# of Journeys', color=fps_colours[0])\n",
    "for v in name.keys():\n",
    "    ax[1].axvline(x=payload[v], label=name[v], ls='--', color=colors[v])\n",
    "\n",
    "ax[0].set_title(\n",
    "    \"Journeys in Bristol Argos\\n17-10-2021  06-11-2021\",\n",
    "    color=fps_colours[0], fontweight='bold')\n",
    "fig.savefig(\n",
    "    f\"C:/Users/SofiaTaylor/OneDrive - Flexible Power Systems Ltd/Consulting/SSL/Argos meeting/journeys_alloc{alloc['allocation_id']}.png\",\n",
    "    bbox_inches=\"tight\", dpi=300)"
   ]
  },
  {
   "cell_type": "markdown",
   "metadata": {},
   "source": [
    "## Controller"
   ]
  },
  {
   "cell_type": "code",
   "execution_count": 2,
   "metadata": {},
   "outputs": [
    {
     "name": "stderr",
     "output_type": "stream",
     "text": [
      "2022-03-18 09:43:49,133|DEBUG|run_handler.py(19)|get_current_run|Current run 2\n",
      "2022-03-18 09:43:49,169|DEBUG|run_handler.py(35)|get_inputs|read inputs for run 2\n",
      "2022-03-18 09:43:49,176|DEBUG|controller.py(49)|get_fps_allocation_id|reading last allocation ID\n"
     ]
    }
   ],
   "source": [
    "connection, cur = dbh.database_connection('test')\n",
    "cnx = dbh.create_alch_engine()\n",
    "# FIND THE MOST UP TO DATE RUN ID\n",
    "run = rh.get_current_run(connection, cur)\n",
    "# Get run input parameters\n",
    "inputs = rh.get_inputs('t_run_allocation', run, connection, cur)\n",
    "df = acf.create_allocation_table(inputs, connection, cur)\n",
    "for idx in df.index:\n",
    "    vehicle_pool = acf.select_vehicles(\n",
    "        df.loc[idx, 'site_id'], df.loc[idx, 'vehicle_pool'], connection, cur)\n",
    "    # Order vehicles\n",
    "    df.at[idx, 'vehicle_pool'] = acf.order_items(\n",
    "        vehicle_pool, 't_vehicle_specification', 'spec_id', 'vehicle_purchase_price',\n",
    "        connection, cur)"
   ]
  },
  {
   "cell_type": "markdown",
   "metadata": {},
   "source": [
    "## Allocation scenario"
   ]
  },
  {
   "cell_type": "code",
   "execution_count": 4,
   "metadata": {},
   "outputs": [
    {
     "name": "stderr",
     "output_type": "stream",
     "text": [
      "2022-03-17 19:21:16,228|DEBUG|allocation_scenario.py(116)|select_vehicle|Potential Vehicle: 11\n",
      "2022-03-17 19:21:16,240|DEBUG|allocation_scenario.py(122)|select_vehicle|Best: 11 with 0 routes removed\n",
      "2022-03-17 19:21:16,271|DEBUG|allocation_scenario.py(140)|num_simultaneous|Number of Vehiclesis 23.0\n"
     ]
    }
   ],
   "source": [
    "cnx = dbh.create_alch_engine()\n",
    "connection, cur = dbh.database_connection('test')\n",
    "alloc, not_last = asf.find_current_allocation(2, cnx)\n",
    "routes = asf.get_return_routes(alloc['site_id'], alloc['start_date'], alloc['end_date'], cnx)\n",
    "numJ = len(routes)  # TODO save this\n",
    "site_data = asf.get_site_data(alloc['site_id'], cnx)\n",
    "# Assign shifts\n",
    "routes['shift'] = asf.set_shifts(site_data['shift_starts'], routes)\n",
    "routes['fixed_arrival'] = routes['arrival_time'] + dt.timedelta(minutes=site_data['turnaround_time'])\n",
    "routes['allocation_id'] = alloc['allocation_id']\n",
    "xmpg = site_data['xmpg']*(1+alloc['xmpg_change']/100)\n",
    "vehicle_specs = asf.get_vehicle_specs(alloc['vehicle_pool'], cnx)\n",
    "# Select vehicles (if only one in pool, just that)\n",
    "selectedV = asf.select_vehicle(\n",
    "    routes, vehicle_specs, xmpg)\n",
    "feas = asf.feasible_journey(vehicle_specs.loc[selectedV], routes, xmpg)\n",
    "routes = routes[feas]\n",
    "numV = asf.num_simultaneous(routes)  # TODO save this\n"
   ]
  },
  {
   "cell_type": "code",
   "execution_count": 2,
   "metadata": {},
   "outputs": [
    {
     "name": "stderr",
     "output_type": "stream",
     "text": [
      "2022-03-17 19:25:36,739|INFO|allocation_scenario.py(147)|main|Telematics cleaning function called at 2022-03-17 19:25:36.739070\n",
      "2022-03-17 19:25:37,506|DEBUG|run_handler.py(19)|get_current_run|Current run 2\n",
      "2022-03-17 19:25:38,138|DEBUG|allocation_scenario.py(31)|find_current_allocation|Current allocation ID: 1\n",
      "2022-03-17 19:25:38,140|INFO|allocation_scenario.py(160)|main|Closed db connection\n",
      "2022-03-17 19:25:38,927|DEBUG|allocation_scenario.py(116)|select_vehicle|Potential Vehicle: 11\n",
      "2022-03-17 19:25:38,935|DEBUG|allocation_scenario.py(122)|select_vehicle|Best: 11 with 2 routes removed\n",
      "2022-03-17 19:25:38,971|DEBUG|allocation_scenario.py(140)|num_simultaneous|Number of Vehiclesis 23.0\n",
      "2022-03-17 19:25:39,720|DEBUG|db_handler.py(62)|upload_table|Uploaded to t_route_allocated\n"
     ]
    },
    {
     "data": {
      "text/plain": [
       "True"
      ]
     },
     "execution_count": 2,
     "metadata": {},
     "output_type": "execute_result"
    }
   ],
   "source": [
    "asf.main()"
   ]
  },
  {
   "cell_type": "markdown",
   "metadata": {},
   "source": [
    "## Dummy data"
   ]
  },
  {
   "cell_type": "code",
   "execution_count": 16,
   "metadata": {},
   "outputs": [],
   "source": [
    "sample_veh_specs = pd.read_csv(r'C:\\Users\\SofiaTaylor\\OneDrive - Flexible Power Systems Ltd\\Planning\\Samples\\sample_vehicle_spec.csv', )\n",
    "\n",
    "cnx = dbh.create_alch_engine()\n",
    "sample_veh_specs.to_sql('t_vehicle_specification', con=cnx, if_exists='append', index=False)\n",
    "cnx.dispose()"
   ]
  },
  {
   "cell_type": "code",
   "execution_count": 22,
   "metadata": {},
   "outputs": [],
   "source": [
    "sql_query = f\"\"\"SELECT * FROM t_route_master WHERE departure_time >= '{alloc['start_date']}'\n",
    "    AND departure_time < '{alloc['end_date']}'\n",
    "    AND site_id_start={alloc['site_id']}\"\"\"\n",
    "routes = pd.read_sql_query(sql_query, cnx)\n",
    "routes['route_id'] += 10000\n",
    "routes['departure_time'] += dt.timedelta(hours=25)\n",
    "routes['arrival_time'] += dt.timedelta(hours=25)\n",
    "routes.to_sql('t_route_master', con=cnx, if_exists='append', index=False)"
   ]
  },
  {
   "cell_type": "code",
   "execution_count": 24,
   "metadata": {},
   "outputs": [
    {
     "data": {
      "text/plain": [
       "62"
      ]
     },
     "execution_count": 24,
     "metadata": {},
     "output_type": "execute_result"
    }
   ],
   "source": []
  },
  {
   "cell_type": "code",
   "execution_count": null,
   "metadata": {},
   "outputs": [],
   "source": []
  }
 ],
 "metadata": {
  "interpreter": {
   "hash": "0c70d8ca8a9326c117f3cbb1600d40e4646a06cd0d6560aa3efc7e3f56e409b2"
  },
  "kernelspec": {
   "display_name": "Python 3.9.7 ('pipetel')",
   "language": "python",
   "name": "python3"
  },
  "language_info": {
   "codemirror_mode": {
    "name": "ipython",
    "version": 3
   },
   "file_extension": ".py",
   "mimetype": "text/x-python",
   "name": "python",
   "nbconvert_exporter": "python",
   "pygments_lexer": "ipython3",
   "version": "3.9.7"
  },
  "orig_nbformat": 4
 },
 "nbformat": 4,
 "nbformat_minor": 2
}
