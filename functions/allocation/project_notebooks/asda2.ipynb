{
 "cells": [
  {
   "cell_type": "code",
   "execution_count": 1,
   "metadata": {},
   "outputs": [],
   "source": [
    "import numpy as np\n",
    "import pandas as pd\n",
    "import datetime as dt\n",
    "import psycopg2\n",
    "import os\n",
    "import sqlalchemy\n",
    "from sqlalchemy import create_engine\n",
    "import pipeline_plan_functions.utils.pipe_db_handler as dbh\n",
    "from python_utils.utils.logger import logger\n",
    "import alloc_functions.allocation_scenario as asf\n",
    "import alloc_functions.controller as acf\n",
    "import alloc_functions.daily as adf\n",
    "import alloc_functions.cleanup as cleaner\n",
    "import alloc_functions.mixed as mixed\n",
    "import pipeline_plan_functions.utils.data_handler as dh\n",
    "import matplotlib.pyplot as plt\n",
    "import matplotlib.dates as mdates\n",
    "import json\n",
    "import matplotlib\n",
    "from pulp import *\n",
    "fps_colours = ['#004A9C', '#45D281', '#FEC001','#A365E0', '#5B9BD5',\n",
    "\n",
    "               '#FF0000', '#0563C1', '#954F72']\n",
    "import plotly.graph_objects as go\n",
    "mapbox_token = ('pk.eyJ1Ijoic29mZmZ0IiwiYSI6ImNrbmZ0Z3RidzJ5NngycXA5cDNpY2c1ajIifQ.Gi2oP1Z3G5wP6pn7OF5l1A')\n",
    "import pickle"
   ]
  },
  {
   "cell_type": "markdown",
   "metadata": {},
   "source": [
    "### Tools"
   ]
  },
  {
   "cell_type": "code",
   "execution_count": 2,
   "metadata": {},
   "outputs": [],
   "source": [
    "TIME_INT_IS = dt.timedelta(minutes=30)\n",
    "N = int(dt.timedelta(days=1)/TIME_INT_IS)\n",
    "POTENTIAL_TPS_IS = [i*TIME_INT_IS for i in range(N)]\n",
    "TURN = 30\n",
    "TP_FRACT_IS = TIME_INT_IS/dt.timedelta(hours=1)\n",
    "TURN = 0\n",
    "ASC_XUSE = 0.9\n",
    "XPOWER = 0.97\n",
    "SITE_IDS = (179, 180, 181, 182, 183, 184, 185, 186, 187, 188, 189, 190, 191,\n",
    "            192)\n",
    "def allocation_summary(allocation, drive, range_wltp, connection, cur):\n",
    "    try:\n",
    "        cnx = dbh.create_alch_engine()\n",
    "        alloc = find_allocation(allocation, cnx)\n",
    "        xmpg = alloc['xmpg']\n",
    "        routes = cleaner.get_allocated_routes(allocation, connection, cur)\n",
    "        routes = cleaner.get_daily_route_data(routes, alloc, connection, cur).sort_index()\n",
    "        routes['category'] = 'x'\n",
    "        grouped = mixed.group_routes(routes)\n",
    "        charging_rate = 50*0.9\n",
    "        for idx in grouped.index:\n",
    "            masklist = []\n",
    "            dutyR = routes[(routes['date'] == idx[0])\n",
    "                                & (routes['allocated_vehicle_id'] == idx[1])].index\n",
    "            # Calculate IS shifts\n",
    "            for r in dutyR:\n",
    "                masklist.append(mixed.tp_journeys(routes.loc[r], TURN))\n",
    "            masklist.append(np.array(POTENTIAL_TPS_IS)\n",
    "                                > (grouped.loc[idx, 'departure_time']-grouped.loc[idx, 'route_date']))\n",
    "            masklist.append(np.array(POTENTIAL_TPS_IS)\n",
    "                                < (grouped.loc[idx, 'arrival_time']-grouped.loc[idx, 'route_date']))\n",
    "            n = len(masklist)\n",
    "            tps = np.sum(np.vstack(masklist).sum(axis=0) == n)\n",
    "            grouped.loc[idx, 'TPs'] = tps\n",
    "        veh = alloc['vehicle2']\n",
    "        kwh_mile = drive[veh] / xmpg  # real-world\n",
    "        grouped['extra_mileage'] = grouped['TPs']*TP_FRACT_IS*charging_rate/kwh_mile\n",
    "        grouped['reduced_mileage'] = (grouped['distance_miles']-grouped['extra_mileage']).clip(\n",
    "            lower=grouped['IndMileage']*xmpg)\n",
    "\n",
    "        feasible = (grouped['distance_miles'] < range_wltp[veh] * xmpg).sum()\n",
    "        unfeasible_nois = ((grouped['distance_miles'] >= range_wltp[veh] * xmpg)\n",
    "                         & (grouped['reduced_mileage'] < range_wltp[veh] * xmpg)).sum()\n",
    "        unfeasible_withis = (grouped['reduced_mileage'] >= range_wltp[veh] * xmpg).sum()\n",
    "        n_duties = len(grouped)\n",
    "        n_routes = len(routes)\n",
    "        n_veh = routes['allocated_vehicle_id'].max()\n",
    "    except Exception as e:\n",
    "        raise e\n",
    "    finally:\n",
    "        cnx.dispose()\n",
    "    return [feasible, unfeasible_nois, unfeasible_withis, n_duties, n_routes, n_veh]\n",
    "def get_site_client_id(sites, connection, cur):\n",
    "    \"\"\"Gets all client site IDs\n",
    "    \"\"\"\n",
    "    try:\n",
    "        sql_query = f\"SELECT site_id, client_site_id FROM t_sites WHERE site_id IN {sites}\"\n",
    "        cur.execute(sql_query)\n",
    "        connection.commit()\n",
    "        sites_fetch = cur.fetchall()\n",
    "        site_dict = {site[0]: site[1] for site in sites_fetch}\n",
    "    except (Exception, psycopg2.Error) as error:\n",
    "        logger.error(\"Error while fetching Site IDs\")\n",
    "        raise error\n",
    "    return site_dict\n",
    "\n",
    "def get_site_name_dict(sites, connection, cur):\n",
    "    \"\"\"Gets all client site IDs\n",
    "    \"\"\"\n",
    "    try:\n",
    "        sql_query = f\"SELECT site_id, site_name FROM t_sites WHERE site_id IN {sites}\"\n",
    "        cur.execute(sql_query)\n",
    "        connection.commit()\n",
    "        sites_fetch = cur.fetchall()\n",
    "        site_dict = {site[0]: site[1] for site in sites_fetch}\n",
    "    except (Exception, psycopg2.Error) as error:\n",
    "        logger.error(\"Error while fetching Site IDs\")\n",
    "        raise error\n",
    "    return site_dict\n",
    "\n",
    "\n",
    "def find_allocation(idx, cnx):\n",
    "    try:\n",
    "        sql_query = f\"\"\"SELECT * FROM t_allocation WHERE allocation_id={idx} LIMIT 1\"\"\"\n",
    "        current_allocation = pd.read_sql_query(sql_query, cnx).iloc[0].to_dict()\n",
    "    except (Exception, psycopg2.Error) as error:\n",
    "        logger.error(f\"Error while fetching current allocation\")\n",
    "        raise(error)\n",
    "    return current_allocation\n",
    "\n",
    "def find_max_demand(scenario):\n",
    "    try:\n",
    "        cnx = dbh.create_alch_engine()\n",
    "        sql_query = f\"\"\"SELECT datetime, power_demand_kw FROM t_charge_demand WHERE scenario_id={scenario}\"\"\"\n",
    "        demand = pd.read_sql_query(sql_query, con=cnx).groupby('datetime').sum()\n",
    "        max_demand = demand['power_demand_kw'].max()\n",
    "        demand['time'] = demand.index.time\n",
    "        mode_time = demand[demand['power_demand_kw'] > max_demand*0.95]['time'].mode().loc[0]\n",
    "    except (Exception, psycopg2.Error) as error:\n",
    "        logger.error(\"Error fetching max demand\")\n",
    "        raise error\n",
    "    finally:\n",
    "        cnx.dispose()\n",
    "    return max_demand, mode_time\n",
    "\n",
    "def histo_variable(data, upperclip=None, lowerclip=None, bins=10,\n",
    "                   suff='', vline_dict=None, xlim=None, ylim=None):\n",
    "    fig, ax = plt.subplots(\n",
    "        1, figsize=(8, 3), gridspec_kw={'hspace': 0.5})\n",
    "    ax.set_title(\n",
    "        f'{data.name} distribution',\n",
    "        color=fps_colours[0], fontweight='bold')\n",
    "    r = ax.hist(\n",
    "        data.clip(upper=upperclip, lower=lowerclip),\n",
    "        color=[fps_colours[0]],\n",
    "        bins=bins)\n",
    "\n",
    "    ax.set_ylabel('# of routes', color=fps_colours[0])\n",
    "    ax.set_xlabel(f'{data.name}', color=fps_colours[0])\n",
    "    text_pos = r[1][-1]\n",
    "    if xlim:\n",
    "        text_pos = xlim\n",
    "    ax.text(x=text_pos*1.1, y=r[0].max()/2, s=(\n",
    "        f\"{len(data)} entries\\n\"\n",
    "        f\"Mean: {np.round(data.mean(), 1)}\\n\"\n",
    "        f\"Max: {np.round(data.max(), 1)}\\n\"\n",
    "        f\"Sum: {np.round(data.sum(), 1)}\\n\"\n",
    "        f\"{np.round((data > upperclip).mean()*100, 1)}% over threshold {upperclip}\\n\"\n",
    "        f\"{np.round((data < lowerclip).mean()*100, 1)}% under threshold {lowerclip}\"\n",
    "        ))\n",
    "    ax.set_ylim(top=ylim)\n",
    "    ax.set_xlim(right=xlim)\n",
    "    if vline_dict:\n",
    "        for i, key in enumerate(vline_dict.keys()):\n",
    "            ax.axvline(x=vline_dict[key], label=key,\n",
    "                       color=fps_colours[(i+1)%len(fps_colours)])\n",
    "    ax.axvline(x=data.mean(), label='Mean',\n",
    "               color=fps_colours[2])\n",
    "    ax.legend(frameon=False)\n",
    "    fig.savefig(\n",
    "        f\"sample/asda2/histo_{data.name}{suff}.png\",\n",
    "        bbox_inches=\"tight\", dpi=300)\n",
    "    return\n",
    "\n",
    "def percentile(n):\n",
    "    def percentile_(x):\n",
    "        return np.percentile(x, n)\n",
    "    percentile_.__name__ = 'percentile_%s' % n\n",
    "    return percentile_\n",
    "\n",
    "range_wltp = {\n",
    "    10: 146,\n",
    "    11: 185,\n",
    "    33: 166,\n",
    "    28: 100000,\n",
    "}\n",
    "drive_wltp = {\n",
    "    10: 0.493150685,\n",
    "    11: 0.478648649,\n",
    "    33: 0.40963855,\n",
    "    28: 0.153\n",
    "}\n",
    "colors = {\n",
    "    10: fps_colours[4],\n",
    "    11: fps_colours[3],\n",
    "    33: fps_colours[5],\n",
    "    28: fps_colours[6],\n",
    "}\n",
    "name = {\n",
    "    10: \"Maxus MR\",\n",
    "    11: \"Maxus LR\",\n",
    "    33: \"eTransit\",\n",
    "    28: \"Diesel\"\n",
    "}\n",
    "vehicles = [10, 33, 11, 28]\n"
   ]
  },
  {
   "cell_type": "markdown",
   "metadata": {},
   "source": [
    "### Stats"
   ]
  },
  {
   "cell_type": "code",
   "execution_count": 3,
   "metadata": {},
   "outputs": [],
   "source": [
    "cnx = dbh.create_alch_engine()\n",
    "sql_query = f\"\"\"SELECT * FROM t_route_master WHERE site_id_start IN {SITE_IDS} AND source=1\"\"\"\n",
    "routes = pd.read_sql_query(sql_query, con=cnx)\n",
    "routes['date'] = pd.to_datetime(routes['departure_time'].dt.date)\n",
    "routes = routes[routes['site_id_start'] == routes['site_id_end']]"
   ]
  },
  {
   "cell_type": "code",
   "execution_count": 10,
   "metadata": {},
   "outputs": [],
   "source": [
    "routes['weekday'] = routes['date'].dt.weekday\n",
    "distance_weekday = routes.groupby('weekday')['distance_miles'].sum().sort_values()"
   ]
  },
  {
   "cell_type": "code",
   "execution_count": 12,
   "metadata": {},
   "outputs": [
    {
     "data": {
      "image/png": "[encoded data removed]",
      "text/plain": [
       "<Figure size 576x216 with 1 Axes>"
      ]
     },
     "metadata": {
      "needs_background": "light"
     },
     "output_type": "display_data"
    }
   ],
   "source": [
    "fig, ax = plt.subplots(\n",
    "    1, figsize=(8, 3), gridspec_kw={'hspace': 0.5})\n",
    "ax.set_title(\n",
    "    f'Distance covered by day',\n",
    "    color=fps_colours[0], fontweight='bold')\n",
    "ax.bar(\n",
    "    x=distance_weekday.index,\n",
    "    height=distance_weekday,\n",
    "    color=[fps_colours[0]])\n",
    "\n",
    "ax.set_ylabel('Miles', color=fps_colours[0])\n",
    "ax.set_xlabel('Weekday', color=fps_colours[0])\n",
    "ax.xaxis.set_major_locator(matplotlib.ticker.FixedLocator(np.arange(7)))\n",
    "ax.set_xticklabels(['Mon', 'Tue', 'Wed', 'Thu', 'Fri', 'Sat', 'Sun'], rotation=45, ha='right')\n",
    "\n",
    "fig.savefig(\n",
    "    f\"sample/asda2/weekday_distance.png\",\n",
    "    bbox_inches=\"tight\", dpi=300)"
   ]
  },
  {
   "cell_type": "code",
   "execution_count": 98,
   "metadata": {},
   "outputs": [],
   "source": [
    "# Get individual route stats\n",
    "agg_functions = ['count', 'mean', 'min', percentile(25), percentile(50), percentile(75), percentile(99), 'max', 'sum']\n",
    "grouped_routes = routes.groupby('site_id_start')['distance_miles'].agg(agg_functions).sort_index()\n",
    "grouped_routes['category'] = 'Individual routes'\n",
    "grouped_routes_all = routes.groupby('client_id')['distance_miles'].agg(agg_functions).sort_index()\n",
    "grouped_routes_all['category'] = 'Individual routes'\n",
    "# Get the stats according to their allocation\n",
    "vehicle_duties_theirs = routes.groupby(['site_id_start', 'date', 'vehicle_id']).agg({'distance_miles': 'sum', 'client_id': 'mean'})\n",
    "grouped_duties_theirs = vehicle_duties_theirs['distance_miles'].groupby('site_id_start').agg(agg_functions).sort_index()\n",
    "grouped_duties_theirs['category'] = 'Their allocation'\n",
    "vehicle_duties_theirs_all = vehicle_duties_theirs.groupby('client_id')['distance_miles'].agg(agg_functions).sort_index()\n",
    "vehicle_duties_theirs_all['category'] = 'Their allocation'"
   ]
  },
  {
   "cell_type": "code",
   "execution_count": 99,
   "metadata": {},
   "outputs": [],
   "source": [
    "# Get the routes with basic diesel allocations\n",
    "allocations_diesel = (369, 370, 259, 260, 261, 262, 263, 371, 265, 372, 267, 268, 373, 374)\n",
    "# sql_query = f\"\"\"SELECT * FROM t_route_allocated WHERE allocation_id IN {allocations_diesel}\"\"\"\n",
    "# allocated_routes = pd.read_sql_query(sql_query, con=cnx)\n",
    "routes_allocated = routes[['site_id_start', 'route_id', 'distance_miles', 'client_id']].merge(\n",
    "    allocated_routes[['route_id', 'date', 'allocated_vehicle_id']],\n",
    "    left_on='route_id', right_on='route_id')\n",
    "# Group routes into daily duties and then get stats\n",
    "vehicle_duties_alloc = routes_allocated.groupby(['site_id_start', 'date', 'allocated_vehicle_id']).agg({'distance_miles': 'sum', 'client_id': 'mean'})\n",
    "grouped_duties_alloc = vehicle_duties_alloc['distance_miles'].groupby('site_id_start').agg(agg_functions).sort_index()\n",
    "grouped_duties_alloc['category'] = 'Our diesel allocation'\n",
    "vehicle_duties_alloc_all = vehicle_duties_alloc.groupby('client_id')['distance_miles'].agg(agg_functions).sort_index()\n",
    "vehicle_duties_alloc_all['category'] = 'Our diesel allocation'"
   ]
  },
  {
   "cell_type": "code",
   "execution_count": 100,
   "metadata": {},
   "outputs": [],
   "source": [
    "connection, cur = dbh.database_connection('test')\n",
    "site_name_dict = get_site_name_dict(SITE_IDS, connection, cur)\n",
    "site_name_dict.update({5: 'All Stores'})\n",
    "allsite_stats = pd.concat([grouped_routes, grouped_duties_theirs, grouped_duties_alloc,\n",
    "                           grouped_routes_all, vehicle_duties_theirs_all, vehicle_duties_alloc_all], axis=0)\n",
    "allsite_stats['Site name'] = allsite_stats.index.map(site_name_dict)\n",
    "allsite_stats.to_csv('sample/asda2/asda_allsite_distancestats.csv')\n",
    "cur.close()\n",
    "connection.close()\n",
    "cnx.dispose()"
   ]
  },
  {
   "cell_type": "markdown",
   "metadata": {},
   "source": [
    "### Long Route maps"
   ]
  },
  {
   "cell_type": "code",
   "execution_count": 90,
   "metadata": {},
   "outputs": [
    {
     "data": {
      "text/html": [
       "<div>\n",
       "<style scoped>\n",
       "    .dataframe tbody tr th:only-of-type {\n",
       "        vertical-align: middle;\n",
       "    }\n",
       "\n",
       "    .dataframe tbody tr th {\n",
       "        vertical-align: top;\n",
       "    }\n",
       "\n",
       "    .dataframe thead th {\n",
       "        text-align: right;\n",
       "    }\n",
       "</style>\n",
       "<table border=\"1\" class=\"dataframe\">\n",
       "  <thead>\n",
       "    <tr style=\"text-align: right;\">\n",
       "      <th></th>\n",
       "      <th>client_id</th>\n",
       "      <th>site_id</th>\n",
       "      <th>departure_time</th>\n",
       "      <th>arrival_time</th>\n",
       "      <th>departure_location</th>\n",
       "      <th>departure_longitude</th>\n",
       "      <th>departure_latitude</th>\n",
       "      <th>arrival_location</th>\n",
       "      <th>arrival_longitude</th>\n",
       "      <th>arrival_latitude</th>\n",
       "      <th>vehicle_id</th>\n",
       "      <th>distance_miles</th>\n",
       "      <th>route_id</th>\n",
       "      <th>journey_node_id</th>\n",
       "      <th>journey_type</th>\n",
       "      <th>driving_time</th>\n",
       "      <th>run</th>\n",
       "      <th>departure_site_id</th>\n",
       "      <th>arrival_site_id</th>\n",
       "    </tr>\n",
       "  </thead>\n",
       "  <tbody>\n",
       "    <tr>\n",
       "      <th>1</th>\n",
       "      <td>5</td>\n",
       "      <td>None</td>\n",
       "      <td>2021-03-21 08:02:13</td>\n",
       "      <td>2021-03-21 08:07:46</td>\n",
       "      <td>None</td>\n",
       "      <td>-2.452401</td>\n",
       "      <td>52.675806</td>\n",
       "      <td>None</td>\n",
       "      <td>-2.481187</td>\n",
       "      <td>52.672840</td>\n",
       "      <td>7085</td>\n",
       "      <td>1.740211</td>\n",
       "      <td>1316645</td>\n",
       "      <td>14604903</td>\n",
       "      <td>None</td>\n",
       "      <td>None</td>\n",
       "      <td>45</td>\n",
       "      <td>190</td>\n",
       "      <td>-1</td>\n",
       "    </tr>\n",
       "    <tr>\n",
       "      <th>2</th>\n",
       "      <td>5</td>\n",
       "      <td>None</td>\n",
       "      <td>2021-03-21 08:12:30</td>\n",
       "      <td>2021-03-21 08:14:31</td>\n",
       "      <td>None</td>\n",
       "      <td>-2.481181</td>\n",
       "      <td>52.672848</td>\n",
       "      <td>None</td>\n",
       "      <td>-2.482963</td>\n",
       "      <td>52.675973</td>\n",
       "      <td>7085</td>\n",
       "      <td>0.559354</td>\n",
       "      <td>1316645</td>\n",
       "      <td>14604904</td>\n",
       "      <td>None</td>\n",
       "      <td>None</td>\n",
       "      <td>45</td>\n",
       "      <td>-1</td>\n",
       "      <td>-1</td>\n",
       "    </tr>\n",
       "    <tr>\n",
       "      <th>3</th>\n",
       "      <td>5</td>\n",
       "      <td>None</td>\n",
       "      <td>2021-03-21 08:14:52</td>\n",
       "      <td>2021-03-21 08:30:46</td>\n",
       "      <td>None</td>\n",
       "      <td>-2.482981</td>\n",
       "      <td>52.675953</td>\n",
       "      <td>None</td>\n",
       "      <td>-2.757636</td>\n",
       "      <td>52.682576</td>\n",
       "      <td>7085</td>\n",
       "      <td>13.113735</td>\n",
       "      <td>1316645</td>\n",
       "      <td>14604905</td>\n",
       "      <td>None</td>\n",
       "      <td>None</td>\n",
       "      <td>45</td>\n",
       "      <td>-1</td>\n",
       "      <td>-1</td>\n",
       "    </tr>\n",
       "    <tr>\n",
       "      <th>4</th>\n",
       "      <td>5</td>\n",
       "      <td>None</td>\n",
       "      <td>2021-03-21 08:30:48</td>\n",
       "      <td>2021-03-21 08:37:59</td>\n",
       "      <td>None</td>\n",
       "      <td>-2.757636</td>\n",
       "      <td>52.682576</td>\n",
       "      <td>None</td>\n",
       "      <td>-2.796137</td>\n",
       "      <td>52.702685</td>\n",
       "      <td>7085</td>\n",
       "      <td>4.039776</td>\n",
       "      <td>1316645</td>\n",
       "      <td>14604906</td>\n",
       "      <td>None</td>\n",
       "      <td>None</td>\n",
       "      <td>45</td>\n",
       "      <td>-1</td>\n",
       "      <td>-1</td>\n",
       "    </tr>\n",
       "    <tr>\n",
       "      <th>5</th>\n",
       "      <td>5</td>\n",
       "      <td>None</td>\n",
       "      <td>2021-03-21 08:38:03</td>\n",
       "      <td>2021-03-21 08:38:13</td>\n",
       "      <td>None</td>\n",
       "      <td>-2.796143</td>\n",
       "      <td>52.702687</td>\n",
       "      <td>None</td>\n",
       "      <td>-2.796053</td>\n",
       "      <td>52.702737</td>\n",
       "      <td>7085</td>\n",
       "      <td>0.000000</td>\n",
       "      <td>1316645</td>\n",
       "      <td>14604907</td>\n",
       "      <td>None</td>\n",
       "      <td>None</td>\n",
       "      <td>45</td>\n",
       "      <td>-1</td>\n",
       "      <td>-1</td>\n",
       "    </tr>\n",
       "  </tbody>\n",
       "</table>\n",
       "</div>"
      ],
      "text/plain": [
       "   client_id site_id      departure_time        arrival_time  \\\n",
       "1          5    None 2021-03-21 08:02:13 2021-03-21 08:07:46   \n",
       "2          5    None 2021-03-21 08:12:30 2021-03-21 08:14:31   \n",
       "3          5    None 2021-03-21 08:14:52 2021-03-21 08:30:46   \n",
       "4          5    None 2021-03-21 08:30:48 2021-03-21 08:37:59   \n",
       "5          5    None 2021-03-21 08:38:03 2021-03-21 08:38:13   \n",
       "\n",
       "  departure_location  departure_longitude  departure_latitude  \\\n",
       "1               None            -2.452401           52.675806   \n",
       "2               None            -2.481181           52.672848   \n",
       "3               None            -2.482981           52.675953   \n",
       "4               None            -2.757636           52.682576   \n",
       "5               None            -2.796143           52.702687   \n",
       "\n",
       "  arrival_location  arrival_longitude  arrival_latitude  vehicle_id  \\\n",
       "1             None          -2.481187         52.672840        7085   \n",
       "2             None          -2.482963         52.675973        7085   \n",
       "3             None          -2.757636         52.682576        7085   \n",
       "4             None          -2.796137         52.702685        7085   \n",
       "5             None          -2.796053         52.702737        7085   \n",
       "\n",
       "   distance_miles  route_id  journey_node_id journey_type driving_time  run  \\\n",
       "1        1.740211   1316645         14604903         None         None   45   \n",
       "2        0.559354   1316645         14604904         None         None   45   \n",
       "3       13.113735   1316645         14604905         None         None   45   \n",
       "4        4.039776   1316645         14604906         None         None   45   \n",
       "5        0.000000   1316645         14604907         None         None   45   \n",
       "\n",
       "   departure_site_id  arrival_site_id  \n",
       "1                190               -1  \n",
       "2                 -1               -1  \n",
       "3                 -1               -1  \n",
       "4                 -1               -1  \n",
       "5                 -1               -1  "
      ]
     },
     "execution_count": 90,
     "metadata": {},
     "output_type": "execute_result"
    }
   ],
   "source": [
    "route_id = 1316645\n",
    "depot_loc = [52.6754, -2.4524]\n",
    "site_name = 'Telford'\n",
    "# route_id = 1229679\n",
    "# depot_loc = [52.7083, -2.4329]\n",
    "# site_name = 'Donnington Wood'\n",
    "\n",
    "# route_id = 1316131\n",
    "# depot_loc = [52.6754, -2.4524]\n",
    "# site_name = 'Telford'\n",
    "# route_id = 1315444\n",
    "# depot_loc = [52.6754, -2.4524]\n",
    "# site_name = 'Telford'\n",
    "\n",
    "# route_id = 1302661\n",
    "# depot_loc = [52.7055, -2.742]\n",
    "# site_name = 'Shrewsbury'\n",
    "\n",
    "sql_query = f\"SELECT * FROM t_telematics WHERE route_id = {route_id}\"\n",
    "telematics = pd.read_sql_query(sql_query, con=cnx)\n",
    "telematics.sort_values(by='departure_time', inplace=True)\n",
    "pickle.dump(telematics, open(f'sample/asda2/telematics_route_{route_id}.pkl', 'wb'))\n",
    "telematics.head()"
   ]
  },
  {
   "cell_type": "code",
   "execution_count": 93,
   "metadata": {},
   "outputs": [
    {
     "data": {
      "application/vnd.plotly.v1+json": {
       "config": {
        "plotlyServerURL": "https://plot.ly"
       },
       "data": [
        {
         "lat": [
          52.6758062,
          52.6728476,
          52.6759527,
          52.6825756,
          52.702687,
          52.7027371,
          52.7027691,
          52.6871343,
          52.6871343,
          52.6401024,
          52.6377116,
          52.6380748,
          52.6826114,
          52.5380174,
          52.5410108,
          52.5378154,
          52.5377741,
          52.5332559,
          52.4793076,
          52.4430098,
          52.4411719,
          52.4306217,
          52.4332782,
          52.4339004,
          52.4338394,
          52.4340759,
          52.4339699,
          52.4779191,
          52.5000785,
          52.4942231,
          52.4916368,
          52.6383944,
          52.6638046,
          52.6618356,
          52.6882233,
          52.6826174,
          52.6873063,
          52.6874646,
          52.7056348,
          52.6823376,
          52.6823376
         ],
         "line": {
          "color": "black",
          "width": 3
         },
         "lon": [
          -2.4524006,
          -2.4811809,
          -2.4829814,
          -2.7576363,
          -2.7961428,
          -2.7960528,
          -2.7970548,
          -2.8176332,
          -2.8176866,
          -2.9305564,
          -2.9199834,
          -2.9238697,
          -2.7579176,
          -2.800982,
          -2.8057631,
          -2.8020355,
          -2.8018601,
          -2.8073926,
          -2.7996896,
          -2.8371303,
          -2.8359288,
          -3.1014801,
          -3.1077223,
          -3.1095198,
          -3.1090248,
          -3.1078551,
          -3.1078953,
          -3.2406754,
          -3.260148,
          -2.9959359,
          -3.0024996,
          -2.9255516,
          -2.8629291,
          -2.860326,
          -2.7988341,
          -2.7597648,
          -2.7252221,
          -2.7244574,
          -2.7000898,
          -2.4487141,
          -2.4487141
         ],
         "marker": {
          "color": "#004A9C",
          "opacity": 1,
          "size": 8,
          "symbol": "circle"
         },
         "mode": "lines+markers",
         "name": "1316645",
         "text": [
          "08:02",
          "08:12",
          "08:14",
          "08:30",
          "08:38",
          "08:38",
          "08:46",
          "08:54",
          "09:00",
          "09:18",
          "09:28",
          "09:37",
          "09:53",
          "10:08",
          "10:18",
          "10:20",
          "10:20",
          "10:27",
          "10:44",
          "10:58",
          "11:15",
          "11:40",
          "11:41",
          "11:42",
          "11:43",
          "11:43",
          "11:47",
          "12:05",
          "12:17",
          "12:42",
          "12:50",
          "13:10",
          "13:17",
          "13:23",
          "13:36",
          "13:38",
          "13:42",
          "13:48",
          "13:54",
          "14:07",
          "2021-"
         ],
         "type": "scattermapbox"
        },
        {
         "lat": [
          52.6754
         ],
         "lon": [
          -2.4524
         ],
         "marker": {
          "color": "#A365E0",
          "opacity": 1,
          "size": 20,
          "symbol": "circle"
         },
         "mode": "markers",
         "name": "Telford",
         "type": "scattermapbox"
        }
       ],
       "layout": {
        "autosize": true,
        "height": 400,
        "hovermode": "x",
        "mapbox": {
         "accesstoken": "pk.eyJ1Ijoic29mZmZ0IiwiYSI6ImNrbmZ0Z3RidzJ5NngycXA5cDNpY2c1ajIifQ.Gi2oP1Z3G5wP6pn7OF5l1A",
         "center": {
          "lat": 52.56812825,
          "lon": -2.85443105
         },
         "style": "streets",
         "zoom": 8
        },
        "margin": {
         "b": 0,
         "l": 10,
         "r": 0,
         "t": 50
        },
        "template": {
         "data": {
          "bar": [
           {
            "error_x": {
             "color": "#2a3f5f"
            },
            "error_y": {
             "color": "#2a3f5f"
            },
            "marker": {
             "line": {
              "color": "#E5ECF6",
              "width": 0.5
             },
             "pattern": {
              "fillmode": "overlay",
              "size": 10,
              "solidity": 0.2
             }
            },
            "type": "bar"
           }
          ],
          "barpolar": [
           {
            "marker": {
             "line": {
              "color": "#E5ECF6",
              "width": 0.5
             },
             "pattern": {
              "fillmode": "overlay",
              "size": 10,
              "solidity": 0.2
             }
            },
            "type": "barpolar"
           }
          ],
          "carpet": [
           {
            "aaxis": {
             "endlinecolor": "#2a3f5f",
             "gridcolor": "white",
             "linecolor": "white",
             "minorgridcolor": "white",
             "startlinecolor": "#2a3f5f"
            },
            "baxis": {
             "endlinecolor": "#2a3f5f",
             "gridcolor": "white",
             "linecolor": "white",
             "minorgridcolor": "white",
             "startlinecolor": "#2a3f5f"
            },
            "type": "carpet"
           }
          ],
          "choropleth": [
           {
            "colorbar": {
             "outlinewidth": 0,
             "ticks": ""
            },
            "type": "choropleth"
           }
          ],
          "contour": [
           {
            "colorbar": {
             "outlinewidth": 0,
             "ticks": ""
            },
            "colorscale": [
             [
              0,
              "#0d0887"
             ],
             [
              0.1111111111111111,
              "#46039f"
             ],
             [
              0.2222222222222222,
              "#7201a8"
             ],
             [
              0.3333333333333333,
              "#9c179e"
             ],
             [
              0.4444444444444444,
              "#bd3786"
             ],
             [
              0.5555555555555556,
              "#d8576b"
             ],
             [
              0.6666666666666666,
              "#ed7953"
             ],
             [
              0.7777777777777778,
              "#fb9f3a"
             ],
             [
              0.8888888888888888,
              "#fdca26"
             ],
             [
              1,
              "#f0f921"
             ]
            ],
            "type": "contour"
           }
          ],
          "contourcarpet": [
           {
            "colorbar": {
             "outlinewidth": 0,
             "ticks": ""
            },
            "type": "contourcarpet"
           }
          ],
          "heatmap": [
           {
            "colorbar": {
             "outlinewidth": 0,
             "ticks": ""
            },
            "colorscale": [
             [
              0,
              "#0d0887"
             ],
             [
              0.1111111111111111,
              "#46039f"
             ],
             [
              0.2222222222222222,
              "#7201a8"
             ],
             [
              0.3333333333333333,
              "#9c179e"
             ],
             [
              0.4444444444444444,
              "#bd3786"
             ],
             [
              0.5555555555555556,
              "#d8576b"
             ],
             [
              0.6666666666666666,
              "#ed7953"
             ],
             [
              0.7777777777777778,
              "#fb9f3a"
             ],
             [
              0.8888888888888888,
              "#fdca26"
             ],
             [
              1,
              "#f0f921"
             ]
            ],
            "type": "heatmap"
           }
          ],
          "heatmapgl": [
           {
            "colorbar": {
             "outlinewidth": 0,
             "ticks": ""
            },
            "colorscale": [
             [
              0,
              "#0d0887"
             ],
             [
              0.1111111111111111,
              "#46039f"
             ],
             [
              0.2222222222222222,
              "#7201a8"
             ],
             [
              0.3333333333333333,
              "#9c179e"
             ],
             [
              0.4444444444444444,
              "#bd3786"
             ],
             [
              0.5555555555555556,
              "#d8576b"
             ],
             [
              0.6666666666666666,
              "#ed7953"
             ],
             [
              0.7777777777777778,
              "#fb9f3a"
             ],
             [
              0.8888888888888888,
              "#fdca26"
             ],
             [
              1,
              "#f0f921"
             ]
            ],
            "type": "heatmapgl"
           }
          ],
          "histogram": [
           {
            "marker": {
             "pattern": {
              "fillmode": "overlay",
              "size": 10,
              "solidity": 0.2
             }
            },
            "type": "histogram"
           }
          ],
          "histogram2d": [
           {
            "colorbar": {
             "outlinewidth": 0,
             "ticks": ""
            },
            "colorscale": [
             [
              0,
              "#0d0887"
             ],
             [
              0.1111111111111111,
              "#46039f"
             ],
             [
              0.2222222222222222,
              "#7201a8"
             ],
             [
              0.3333333333333333,
              "#9c179e"
             ],
             [
              0.4444444444444444,
              "#bd3786"
             ],
             [
              0.5555555555555556,
              "#d8576b"
             ],
             [
              0.6666666666666666,
              "#ed7953"
             ],
             [
              0.7777777777777778,
              "#fb9f3a"
             ],
             [
              0.8888888888888888,
              "#fdca26"
             ],
             [
              1,
              "#f0f921"
             ]
            ],
            "type": "histogram2d"
           }
          ],
          "histogram2dcontour": [
           {
            "colorbar": {
             "outlinewidth": 0,
             "ticks": ""
            },
            "colorscale": [
             [
              0,
              "#0d0887"
             ],
             [
              0.1111111111111111,
              "#46039f"
             ],
             [
              0.2222222222222222,
              "#7201a8"
             ],
             [
              0.3333333333333333,
              "#9c179e"
             ],
             [
              0.4444444444444444,
              "#bd3786"
             ],
             [
              0.5555555555555556,
              "#d8576b"
             ],
             [
              0.6666666666666666,
              "#ed7953"
             ],
             [
              0.7777777777777778,
              "#fb9f3a"
             ],
             [
              0.8888888888888888,
              "#fdca26"
             ],
             [
              1,
              "#f0f921"
             ]
            ],
            "type": "histogram2dcontour"
           }
          ],
          "mesh3d": [
           {
            "colorbar": {
             "outlinewidth": 0,
             "ticks": ""
            },
            "type": "mesh3d"
           }
          ],
          "parcoords": [
           {
            "line": {
             "colorbar": {
              "outlinewidth": 0,
              "ticks": ""
             }
            },
            "type": "parcoords"
           }
          ],
          "pie": [
           {
            "automargin": true,
            "type": "pie"
           }
          ],
          "scatter": [
           {
            "marker": {
             "colorbar": {
              "outlinewidth": 0,
              "ticks": ""
             }
            },
            "type": "scatter"
           }
          ],
          "scatter3d": [
           {
            "line": {
             "colorbar": {
              "outlinewidth": 0,
              "ticks": ""
             }
            },
            "marker": {
             "colorbar": {
              "outlinewidth": 0,
              "ticks": ""
             }
            },
            "type": "scatter3d"
           }
          ],
          "scattercarpet": [
           {
            "marker": {
             "colorbar": {
              "outlinewidth": 0,
              "ticks": ""
             }
            },
            "type": "scattercarpet"
           }
          ],
          "scattergeo": [
           {
            "marker": {
             "colorbar": {
              "outlinewidth": 0,
              "ticks": ""
             }
            },
            "type": "scattergeo"
           }
          ],
          "scattergl": [
           {
            "marker": {
             "colorbar": {
              "outlinewidth": 0,
              "ticks": ""
             }
            },
            "type": "scattergl"
           }
          ],
          "scattermapbox": [
           {
            "marker": {
             "colorbar": {
              "outlinewidth": 0,
              "ticks": ""
             }
            },
            "type": "scattermapbox"
           }
          ],
          "scatterpolar": [
           {
            "marker": {
             "colorbar": {
              "outlinewidth": 0,
              "ticks": ""
             }
            },
            "type": "scatterpolar"
           }
          ],
          "scatterpolargl": [
           {
            "marker": {
             "colorbar": {
              "outlinewidth": 0,
              "ticks": ""
             }
            },
            "type": "scatterpolargl"
           }
          ],
          "scatterternary": [
           {
            "marker": {
             "colorbar": {
              "outlinewidth": 0,
              "ticks": ""
             }
            },
            "type": "scatterternary"
           }
          ],
          "surface": [
           {
            "colorbar": {
             "outlinewidth": 0,
             "ticks": ""
            },
            "colorscale": [
             [
              0,
              "#0d0887"
             ],
             [
              0.1111111111111111,
              "#46039f"
             ],
             [
              0.2222222222222222,
              "#7201a8"
             ],
             [
              0.3333333333333333,
              "#9c179e"
             ],
             [
              0.4444444444444444,
              "#bd3786"
             ],
             [
              0.5555555555555556,
              "#d8576b"
             ],
             [
              0.6666666666666666,
              "#ed7953"
             ],
             [
              0.7777777777777778,
              "#fb9f3a"
             ],
             [
              0.8888888888888888,
              "#fdca26"
             ],
             [
              1,
              "#f0f921"
             ]
            ],
            "type": "surface"
           }
          ],
          "table": [
           {
            "cells": {
             "fill": {
              "color": "#EBF0F8"
             },
             "line": {
              "color": "white"
             }
            },
            "header": {
             "fill": {
              "color": "#C8D4E3"
             },
             "line": {
              "color": "white"
             }
            },
            "type": "table"
           }
          ]
         },
         "layout": {
          "annotationdefaults": {
           "arrowcolor": "#2a3f5f",
           "arrowhead": 0,
           "arrowwidth": 1
          },
          "autotypenumbers": "strict",
          "coloraxis": {
           "colorbar": {
            "outlinewidth": 0,
            "ticks": ""
           }
          },
          "colorscale": {
           "diverging": [
            [
             0,
             "#8e0152"
            ],
            [
             0.1,
             "#c51b7d"
            ],
            [
             0.2,
             "#de77ae"
            ],
            [
             0.3,
             "#f1b6da"
            ],
            [
             0.4,
             "#fde0ef"
            ],
            [
             0.5,
             "#f7f7f7"
            ],
            [
             0.6,
             "#e6f5d0"
            ],
            [
             0.7,
             "#b8e186"
            ],
            [
             0.8,
             "#7fbc41"
            ],
            [
             0.9,
             "#4d9221"
            ],
            [
             1,
             "#276419"
            ]
           ],
           "sequential": [
            [
             0,
             "#0d0887"
            ],
            [
             0.1111111111111111,
             "#46039f"
            ],
            [
             0.2222222222222222,
             "#7201a8"
            ],
            [
             0.3333333333333333,
             "#9c179e"
            ],
            [
             0.4444444444444444,
             "#bd3786"
            ],
            [
             0.5555555555555556,
             "#d8576b"
            ],
            [
             0.6666666666666666,
             "#ed7953"
            ],
            [
             0.7777777777777778,
             "#fb9f3a"
            ],
            [
             0.8888888888888888,
             "#fdca26"
            ],
            [
             1,
             "#f0f921"
            ]
           ],
           "sequentialminus": [
            [
             0,
             "#0d0887"
            ],
            [
             0.1111111111111111,
             "#46039f"
            ],
            [
             0.2222222222222222,
             "#7201a8"
            ],
            [
             0.3333333333333333,
             "#9c179e"
            ],
            [
             0.4444444444444444,
             "#bd3786"
            ],
            [
             0.5555555555555556,
             "#d8576b"
            ],
            [
             0.6666666666666666,
             "#ed7953"
            ],
            [
             0.7777777777777778,
             "#fb9f3a"
            ],
            [
             0.8888888888888888,
             "#fdca26"
            ],
            [
             1,
             "#f0f921"
            ]
           ]
          },
          "colorway": [
           "#636efa",
           "#EF553B",
           "#00cc96",
           "#ab63fa",
           "#FFA15A",
           "#19d3f3",
           "#FF6692",
           "#B6E880",
           "#FF97FF",
           "#FECB52"
          ],
          "font": {
           "color": "#2a3f5f"
          },
          "geo": {
           "bgcolor": "white",
           "lakecolor": "white",
           "landcolor": "#E5ECF6",
           "showlakes": true,
           "showland": true,
           "subunitcolor": "white"
          },
          "hoverlabel": {
           "align": "left"
          },
          "hovermode": "closest",
          "mapbox": {
           "style": "light"
          },
          "paper_bgcolor": "white",
          "plot_bgcolor": "#E5ECF6",
          "polar": {
           "angularaxis": {
            "gridcolor": "white",
            "linecolor": "white",
            "ticks": ""
           },
           "bgcolor": "#E5ECF6",
           "radialaxis": {
            "gridcolor": "white",
            "linecolor": "white",
            "ticks": ""
           }
          },
          "scene": {
           "xaxis": {
            "backgroundcolor": "#E5ECF6",
            "gridcolor": "white",
            "gridwidth": 2,
            "linecolor": "white",
            "showbackground": true,
            "ticks": "",
            "zerolinecolor": "white"
           },
           "yaxis": {
            "backgroundcolor": "#E5ECF6",
            "gridcolor": "white",
            "gridwidth": 2,
            "linecolor": "white",
            "showbackground": true,
            "ticks": "",
            "zerolinecolor": "white"
           },
           "zaxis": {
            "backgroundcolor": "#E5ECF6",
            "gridcolor": "white",
            "gridwidth": 2,
            "linecolor": "white",
            "showbackground": true,
            "ticks": "",
            "zerolinecolor": "white"
           }
          },
          "shapedefaults": {
           "line": {
            "color": "#2a3f5f"
           }
          },
          "ternary": {
           "aaxis": {
            "gridcolor": "white",
            "linecolor": "white",
            "ticks": ""
           },
           "baxis": {
            "gridcolor": "white",
            "linecolor": "white",
            "ticks": ""
           },
           "bgcolor": "#E5ECF6",
           "caxis": {
            "gridcolor": "white",
            "linecolor": "white",
            "ticks": ""
           }
          },
          "title": {
           "x": 0.05
          },
          "xaxis": {
           "automargin": true,
           "gridcolor": "white",
           "linecolor": "white",
           "ticks": "",
           "title": {
            "standoff": 15
           },
           "zerolinecolor": "white",
           "zerolinewidth": 2
          },
          "yaxis": {
           "automargin": true,
           "gridcolor": "white",
           "linecolor": "white",
           "ticks": "",
           "title": {
            "standoff": 15
           },
           "zerolinecolor": "white",
           "zerolinewidth": 2
          }
         }
        },
        "title": {
         "text": "1316645 - Telford"
        },
        "width": 500
       }
      }
     },
     "metadata": {},
     "output_type": "display_data"
    }
   ],
   "source": [
    "telematics['time'] = telematics['departure_time'].astype(str).str[11:16]\n",
    "lats = telematics['departure_latitude'].to_list() + [telematics['departure_latitude'].iloc[-1]]\n",
    "lons = telematics['departure_longitude'].to_list() + [telematics['departure_longitude'].iloc[-1]]\n",
    "times = telematics['time'].to_list() + [str(telematics['arrival_time'].iloc[-1])[:5]]\n",
    "fig = go.Figure()\n",
    "\n",
    "fig.add_trace(go.Scattermapbox(\n",
    "    mode = \"lines+markers\", name=route_id,\n",
    "    line=dict(color='black', width=3),\n",
    "    lon = lons,\n",
    "    lat = lats,\n",
    "    marker=dict(symbol ='circle', size=8, opacity=1, color=fps_colours[0]),\n",
    "    text=times\n",
    "    ),)\n",
    "fig.add_trace(go.Scattermapbox(\n",
    "    mode = \"markers\", name=site_name,\n",
    "    lon = [depot_loc[1]],\n",
    "    lat = [depot_loc[0]],\n",
    "    marker=dict(symbol ='circle', size=20, opacity=1, color=fps_colours[3])))\n",
    "\n",
    "\n",
    "fig.update_mapboxes(\n",
    "    accesstoken=mapbox_token)\n",
    "fig.update_layout(\n",
    "    autosize=True, width=500, height=400,\n",
    "    margin={\"r\":0,\"t\":50,\"l\":10,\"b\":0}, hovermode=\"x\",\n",
    "    title=f\"{route_id} - {site_name}\")\n",
    "fig.update_mapboxes(\n",
    "    center=dict(lat=(min(lats)+max(lats))/2,\n",
    "                lon=(min(lons)+max(lons))/2),\n",
    "    zoom=8, style=\"streets\")\n",
    "fig.write_html(f\"sample/asda2/map_{route_id}.html\")\n",
    "fig.write_image(f\"sample/asda2/map_{route_id}.png\", scale=3)\n",
    "\n",
    "fig.show()"
   ]
  },
  {
   "cell_type": "markdown",
   "metadata": {},
   "source": [
    "### TCO Maxus"
   ]
  },
  {
   "cell_type": "code",
   "execution_count": 3,
   "metadata": {},
   "outputs": [],
   "source": [
    "scenarios = pickle.load(open('sample/asda2/scenarios_feasibility.pkl', 'rb'))\n",
    "scenarios.set_index('scenario_id', inplace=True)\n",
    "# maxus_scenarios = scenarios[scenarios['vehicle_type'] == 'Maxus MR'][['allocation_id', 'site_id']].copy().reset_index()\n",
    "# site_scenario_mr_dict = maxus_scenarios.set_index('site_id')['scenario_id'].to_dict()\n",
    "# site_alloc_mr_dict = maxus_scenarios.set_index('site_id')['allocation_id'].to_dict()"
   ]
  },
  {
   "cell_type": "code",
   "execution_count": 32,
   "metadata": {},
   "outputs": [
    {
     "name": "stdout",
     "output_type": "stream",
     "text": [
      "355\n",
      "356\n",
      "357\n",
      "411\n",
      "359\n",
      "360\n",
      "361\n",
      "362\n",
      "363\n",
      "364\n",
      "365\n",
      "413\n",
      "367\n",
      "368\n"
     ]
    }
   ],
   "source": [
    "connection, cur = dbh.database_connection('test')\n",
    "cnx = dbh.create_alch_engine()\n",
    "\n",
    "list_df = []\n",
    "for allocation in maxus_scenarios['allocation_id']:\n",
    "    print(allocation)\n",
    "    alloc = find_allocation(allocation, cnx)\n",
    "    routes = cleaner.get_allocated_routes(allocation, connection, cur)\n",
    "    routes = cleaner.get_daily_route_data(routes, alloc, connection, cur).sort_index()\n",
    "\n",
    "    site_grouped = routes.groupby('allocated_vehicle_id').agg({\n",
    "        'allocation_id': 'mean',\n",
    "        'distance_miles': 'sum',\n",
    "    })\n",
    "    list_df.append(site_grouped.reset_index())\n",
    "tco_table = pd.concat(list_df)\n",
    "tco_table = tco_table.merge(maxus_scenarios, how='left', left_on='allocation_id', right_on='allocation_id')\n",
    "tco_table.to_csv('sample/asda2/tco_table_maxusmr.csv')\n",
    "cur.close()\n",
    "cnx.dispose()\n",
    "connection.close()"
   ]
  },
  {
   "cell_type": "code",
   "execution_count": 40,
   "metadata": {},
   "outputs": [
    {
     "name": "stderr",
     "output_type": "stream",
     "text": [
      "2022-05-27 12:16:20|DEBUG|pipe_db_handler.py(62)|upload_table|Uploaded to t_vehicle_tco_components\n"
     ]
    }
   ],
   "source": [
    "tco_mr = pd.read_csv('sample/asda2/tco_mr.csv')\n",
    "dbh.upload_table(tco_mr, 't_vehicle_tco_components')"
   ]
  },
  {
   "cell_type": "code",
   "execution_count": 50,
   "metadata": {},
   "outputs": [
    {
     "name": "stderr",
     "output_type": "stream",
     "text": [
      "2022-05-27 12:21:34|DEBUG|pipe_db_handler.py(62)|upload_table|Uploaded to t_charger_tco_components\n"
     ]
    },
    {
     "data": {
      "text/html": [
       "<div>\n",
       "<style scoped>\n",
       "    .dataframe tbody tr th:only-of-type {\n",
       "        vertical-align: middle;\n",
       "    }\n",
       "\n",
       "    .dataframe tbody tr th {\n",
       "        vertical-align: top;\n",
       "    }\n",
       "\n",
       "    .dataframe thead th {\n",
       "        text-align: right;\n",
       "    }\n",
       "</style>\n",
       "<table border=\"1\" class=\"dataframe\">\n",
       "  <thead>\n",
       "    <tr style=\"text-align: right;\">\n",
       "      <th></th>\n",
       "      <th>scenario_id</th>\n",
       "      <th>allocation_id</th>\n",
       "      <th>run_id</th>\n",
       "      <th>client_id</th>\n",
       "      <th>site_id</th>\n",
       "      <th>n_units</th>\n",
       "      <th>purchase_price</th>\n",
       "      <th>purchase_price_w_grant</th>\n",
       "      <th>annual_maintenance_cost</th>\n",
       "      <th>power</th>\n",
       "      <th>annual_monitoring_cost</th>\n",
       "      <th>annual_optimisation_cost</th>\n",
       "      <th>upfront_lease_cost</th>\n",
       "      <th>dashboard</th>\n",
       "    </tr>\n",
       "  </thead>\n",
       "  <tbody>\n",
       "    <tr>\n",
       "      <th>0</th>\n",
       "      <td>426</td>\n",
       "      <td>360</td>\n",
       "      <td>181</td>\n",
       "      <td>5</td>\n",
       "      <td>184</td>\n",
       "      <td>0</td>\n",
       "      <td>0</td>\n",
       "      <td>0</td>\n",
       "      <td>0</td>\n",
       "      <td>0.0</td>\n",
       "      <td>0</td>\n",
       "      <td>0</td>\n",
       "      <td>0.0</td>\n",
       "      <td>1</td>\n",
       "    </tr>\n",
       "    <tr>\n",
       "      <th>1</th>\n",
       "      <td>426</td>\n",
       "      <td>360</td>\n",
       "      <td>181</td>\n",
       "      <td>5</td>\n",
       "      <td>184</td>\n",
       "      <td>18</td>\n",
       "      <td>56628</td>\n",
       "      <td>56628</td>\n",
       "      <td>3330</td>\n",
       "      <td>11.0</td>\n",
       "      <td>4320</td>\n",
       "      <td>4320</td>\n",
       "      <td>5663.0</td>\n",
       "      <td>1</td>\n",
       "    </tr>\n",
       "    <tr>\n",
       "      <th>2</th>\n",
       "      <td>425</td>\n",
       "      <td>359</td>\n",
       "      <td>181</td>\n",
       "      <td>5</td>\n",
       "      <td>183</td>\n",
       "      <td>0</td>\n",
       "      <td>0</td>\n",
       "      <td>0</td>\n",
       "      <td>0</td>\n",
       "      <td>0.0</td>\n",
       "      <td>0</td>\n",
       "      <td>0</td>\n",
       "      <td>0.0</td>\n",
       "      <td>1</td>\n",
       "    </tr>\n",
       "    <tr>\n",
       "      <th>3</th>\n",
       "      <td>425</td>\n",
       "      <td>359</td>\n",
       "      <td>181</td>\n",
       "      <td>5</td>\n",
       "      <td>183</td>\n",
       "      <td>13</td>\n",
       "      <td>40898</td>\n",
       "      <td>40898</td>\n",
       "      <td>2405</td>\n",
       "      <td>11.0</td>\n",
       "      <td>3120</td>\n",
       "      <td>3120</td>\n",
       "      <td>4090.0</td>\n",
       "      <td>1</td>\n",
       "    </tr>\n",
       "    <tr>\n",
       "      <th>4</th>\n",
       "      <td>434</td>\n",
       "      <td>411</td>\n",
       "      <td>181</td>\n",
       "      <td>5</td>\n",
       "      <td>182</td>\n",
       "      <td>0</td>\n",
       "      <td>0</td>\n",
       "      <td>0</td>\n",
       "      <td>0</td>\n",
       "      <td>0.0</td>\n",
       "      <td>0</td>\n",
       "      <td>0</td>\n",
       "      <td>0.0</td>\n",
       "      <td>1</td>\n",
       "    </tr>\n",
       "    <tr>\n",
       "      <th>5</th>\n",
       "      <td>434</td>\n",
       "      <td>411</td>\n",
       "      <td>181</td>\n",
       "      <td>5</td>\n",
       "      <td>182</td>\n",
       "      <td>15</td>\n",
       "      <td>47190</td>\n",
       "      <td>47190</td>\n",
       "      <td>2775</td>\n",
       "      <td>11.0</td>\n",
       "      <td>3600</td>\n",
       "      <td>3600</td>\n",
       "      <td>4719.0</td>\n",
       "      <td>1</td>\n",
       "    </tr>\n",
       "    <tr>\n",
       "      <th>6</th>\n",
       "      <td>429</td>\n",
       "      <td>363</td>\n",
       "      <td>181</td>\n",
       "      <td>5</td>\n",
       "      <td>187</td>\n",
       "      <td>0</td>\n",
       "      <td>0</td>\n",
       "      <td>0</td>\n",
       "      <td>0</td>\n",
       "      <td>0.0</td>\n",
       "      <td>0</td>\n",
       "      <td>0</td>\n",
       "      <td>0.0</td>\n",
       "      <td>1</td>\n",
       "    </tr>\n",
       "    <tr>\n",
       "      <th>7</th>\n",
       "      <td>429</td>\n",
       "      <td>363</td>\n",
       "      <td>181</td>\n",
       "      <td>5</td>\n",
       "      <td>187</td>\n",
       "      <td>5</td>\n",
       "      <td>13335</td>\n",
       "      <td>13335</td>\n",
       "      <td>925</td>\n",
       "      <td>11.0</td>\n",
       "      <td>1200</td>\n",
       "      <td>1200</td>\n",
       "      <td>1334.0</td>\n",
       "      <td>1</td>\n",
       "    </tr>\n",
       "    <tr>\n",
       "      <th>8</th>\n",
       "      <td>427</td>\n",
       "      <td>361</td>\n",
       "      <td>181</td>\n",
       "      <td>5</td>\n",
       "      <td>185</td>\n",
       "      <td>0</td>\n",
       "      <td>0</td>\n",
       "      <td>0</td>\n",
       "      <td>0</td>\n",
       "      <td>0.0</td>\n",
       "      <td>0</td>\n",
       "      <td>0</td>\n",
       "      <td>0.0</td>\n",
       "      <td>1</td>\n",
       "    </tr>\n",
       "    <tr>\n",
       "      <th>9</th>\n",
       "      <td>427</td>\n",
       "      <td>361</td>\n",
       "      <td>181</td>\n",
       "      <td>5</td>\n",
       "      <td>185</td>\n",
       "      <td>18</td>\n",
       "      <td>56628</td>\n",
       "      <td>56628</td>\n",
       "      <td>3330</td>\n",
       "      <td>11.0</td>\n",
       "      <td>4320</td>\n",
       "      <td>4320</td>\n",
       "      <td>5663.0</td>\n",
       "      <td>1</td>\n",
       "    </tr>\n",
       "    <tr>\n",
       "      <th>10</th>\n",
       "      <td>424</td>\n",
       "      <td>357</td>\n",
       "      <td>181</td>\n",
       "      <td>5</td>\n",
       "      <td>181</td>\n",
       "      <td>0</td>\n",
       "      <td>0</td>\n",
       "      <td>0</td>\n",
       "      <td>0</td>\n",
       "      <td>0.0</td>\n",
       "      <td>0</td>\n",
       "      <td>0</td>\n",
       "      <td>0.0</td>\n",
       "      <td>1</td>\n",
       "    </tr>\n",
       "    <tr>\n",
       "      <th>11</th>\n",
       "      <td>424</td>\n",
       "      <td>357</td>\n",
       "      <td>181</td>\n",
       "      <td>5</td>\n",
       "      <td>181</td>\n",
       "      <td>13</td>\n",
       "      <td>40898</td>\n",
       "      <td>40898</td>\n",
       "      <td>2405</td>\n",
       "      <td>11.0</td>\n",
       "      <td>3120</td>\n",
       "      <td>3120</td>\n",
       "      <td>4090.0</td>\n",
       "      <td>1</td>\n",
       "    </tr>\n",
       "    <tr>\n",
       "      <th>12</th>\n",
       "      <td>430</td>\n",
       "      <td>364</td>\n",
       "      <td>181</td>\n",
       "      <td>5</td>\n",
       "      <td>188</td>\n",
       "      <td>8</td>\n",
       "      <td>21336</td>\n",
       "      <td>21336</td>\n",
       "      <td>1480</td>\n",
       "      <td>11.0</td>\n",
       "      <td>1920</td>\n",
       "      <td>1920</td>\n",
       "      <td>2134.0</td>\n",
       "      <td>1</td>\n",
       "    </tr>\n",
       "    <tr>\n",
       "      <th>13</th>\n",
       "      <td>433</td>\n",
       "      <td>368</td>\n",
       "      <td>181</td>\n",
       "      <td>5</td>\n",
       "      <td>192</td>\n",
       "      <td>0</td>\n",
       "      <td>0</td>\n",
       "      <td>0</td>\n",
       "      <td>0</td>\n",
       "      <td>0.0</td>\n",
       "      <td>0</td>\n",
       "      <td>0</td>\n",
       "      <td>0.0</td>\n",
       "      <td>1</td>\n",
       "    </tr>\n",
       "    <tr>\n",
       "      <th>14</th>\n",
       "      <td>433</td>\n",
       "      <td>368</td>\n",
       "      <td>181</td>\n",
       "      <td>5</td>\n",
       "      <td>192</td>\n",
       "      <td>17</td>\n",
       "      <td>53482</td>\n",
       "      <td>53482</td>\n",
       "      <td>3145</td>\n",
       "      <td>11.0</td>\n",
       "      <td>4080</td>\n",
       "      <td>4080</td>\n",
       "      <td>5348.0</td>\n",
       "      <td>1</td>\n",
       "    </tr>\n",
       "    <tr>\n",
       "      <th>15</th>\n",
       "      <td>428</td>\n",
       "      <td>362</td>\n",
       "      <td>181</td>\n",
       "      <td>5</td>\n",
       "      <td>186</td>\n",
       "      <td>0</td>\n",
       "      <td>0</td>\n",
       "      <td>0</td>\n",
       "      <td>0</td>\n",
       "      <td>0.0</td>\n",
       "      <td>0</td>\n",
       "      <td>0</td>\n",
       "      <td>0.0</td>\n",
       "      <td>1</td>\n",
       "    </tr>\n",
       "    <tr>\n",
       "      <th>16</th>\n",
       "      <td>428</td>\n",
       "      <td>362</td>\n",
       "      <td>181</td>\n",
       "      <td>5</td>\n",
       "      <td>186</td>\n",
       "      <td>8</td>\n",
       "      <td>21336</td>\n",
       "      <td>21336</td>\n",
       "      <td>1480</td>\n",
       "      <td>11.0</td>\n",
       "      <td>1920</td>\n",
       "      <td>1920</td>\n",
       "      <td>2134.0</td>\n",
       "      <td>1</td>\n",
       "    </tr>\n",
       "    <tr>\n",
       "      <th>17</th>\n",
       "      <td>422</td>\n",
       "      <td>355</td>\n",
       "      <td>181</td>\n",
       "      <td>5</td>\n",
       "      <td>179</td>\n",
       "      <td>0</td>\n",
       "      <td>0</td>\n",
       "      <td>0</td>\n",
       "      <td>0</td>\n",
       "      <td>0.0</td>\n",
       "      <td>0</td>\n",
       "      <td>0</td>\n",
       "      <td>0.0</td>\n",
       "      <td>1</td>\n",
       "    </tr>\n",
       "    <tr>\n",
       "      <th>18</th>\n",
       "      <td>422</td>\n",
       "      <td>355</td>\n",
       "      <td>181</td>\n",
       "      <td>5</td>\n",
       "      <td>179</td>\n",
       "      <td>8</td>\n",
       "      <td>21336</td>\n",
       "      <td>21336</td>\n",
       "      <td>1480</td>\n",
       "      <td>11.0</td>\n",
       "      <td>1920</td>\n",
       "      <td>1920</td>\n",
       "      <td>2134.0</td>\n",
       "      <td>1</td>\n",
       "    </tr>\n",
       "    <tr>\n",
       "      <th>19</th>\n",
       "      <td>435</td>\n",
       "      <td>413</td>\n",
       "      <td>181</td>\n",
       "      <td>5</td>\n",
       "      <td>190</td>\n",
       "      <td>0</td>\n",
       "      <td>0</td>\n",
       "      <td>0</td>\n",
       "      <td>0</td>\n",
       "      <td>0.0</td>\n",
       "      <td>0</td>\n",
       "      <td>0</td>\n",
       "      <td>0.0</td>\n",
       "      <td>1</td>\n",
       "    </tr>\n",
       "    <tr>\n",
       "      <th>20</th>\n",
       "      <td>435</td>\n",
       "      <td>413</td>\n",
       "      <td>181</td>\n",
       "      <td>5</td>\n",
       "      <td>190</td>\n",
       "      <td>13</td>\n",
       "      <td>40898</td>\n",
       "      <td>40898</td>\n",
       "      <td>2405</td>\n",
       "      <td>11.0</td>\n",
       "      <td>3120</td>\n",
       "      <td>3120</td>\n",
       "      <td>4090.0</td>\n",
       "      <td>1</td>\n",
       "    </tr>\n",
       "    <tr>\n",
       "      <th>21</th>\n",
       "      <td>431</td>\n",
       "      <td>365</td>\n",
       "      <td>181</td>\n",
       "      <td>5</td>\n",
       "      <td>189</td>\n",
       "      <td>0</td>\n",
       "      <td>0</td>\n",
       "      <td>0</td>\n",
       "      <td>0</td>\n",
       "      <td>0.0</td>\n",
       "      <td>0</td>\n",
       "      <td>0</td>\n",
       "      <td>0.0</td>\n",
       "      <td>1</td>\n",
       "    </tr>\n",
       "    <tr>\n",
       "      <th>22</th>\n",
       "      <td>431</td>\n",
       "      <td>365</td>\n",
       "      <td>181</td>\n",
       "      <td>5</td>\n",
       "      <td>189</td>\n",
       "      <td>14</td>\n",
       "      <td>44044</td>\n",
       "      <td>44044</td>\n",
       "      <td>2590</td>\n",
       "      <td>11.0</td>\n",
       "      <td>3360</td>\n",
       "      <td>3360</td>\n",
       "      <td>4404.0</td>\n",
       "      <td>1</td>\n",
       "    </tr>\n",
       "    <tr>\n",
       "      <th>23</th>\n",
       "      <td>430</td>\n",
       "      <td>364</td>\n",
       "      <td>181</td>\n",
       "      <td>5</td>\n",
       "      <td>188</td>\n",
       "      <td>0</td>\n",
       "      <td>0</td>\n",
       "      <td>0</td>\n",
       "      <td>0</td>\n",
       "      <td>0.0</td>\n",
       "      <td>0</td>\n",
       "      <td>0</td>\n",
       "      <td>0.0</td>\n",
       "      <td>1</td>\n",
       "    </tr>\n",
       "    <tr>\n",
       "      <th>24</th>\n",
       "      <td>432</td>\n",
       "      <td>367</td>\n",
       "      <td>181</td>\n",
       "      <td>5</td>\n",
       "      <td>191</td>\n",
       "      <td>0</td>\n",
       "      <td>0</td>\n",
       "      <td>0</td>\n",
       "      <td>0</td>\n",
       "      <td>0.0</td>\n",
       "      <td>0</td>\n",
       "      <td>0</td>\n",
       "      <td>0.0</td>\n",
       "      <td>1</td>\n",
       "    </tr>\n",
       "    <tr>\n",
       "      <th>25</th>\n",
       "      <td>432</td>\n",
       "      <td>367</td>\n",
       "      <td>181</td>\n",
       "      <td>5</td>\n",
       "      <td>191</td>\n",
       "      <td>9</td>\n",
       "      <td>24003</td>\n",
       "      <td>24003</td>\n",
       "      <td>1665</td>\n",
       "      <td>11.0</td>\n",
       "      <td>2160</td>\n",
       "      <td>2160</td>\n",
       "      <td>2400.0</td>\n",
       "      <td>1</td>\n",
       "    </tr>\n",
       "    <tr>\n",
       "      <th>26</th>\n",
       "      <td>423</td>\n",
       "      <td>356</td>\n",
       "      <td>181</td>\n",
       "      <td>5</td>\n",
       "      <td>180</td>\n",
       "      <td>0</td>\n",
       "      <td>0</td>\n",
       "      <td>0</td>\n",
       "      <td>0</td>\n",
       "      <td>0.0</td>\n",
       "      <td>0</td>\n",
       "      <td>0</td>\n",
       "      <td>0.0</td>\n",
       "      <td>1</td>\n",
       "    </tr>\n",
       "    <tr>\n",
       "      <th>27</th>\n",
       "      <td>423</td>\n",
       "      <td>356</td>\n",
       "      <td>181</td>\n",
       "      <td>5</td>\n",
       "      <td>180</td>\n",
       "      <td>12</td>\n",
       "      <td>37752</td>\n",
       "      <td>37752</td>\n",
       "      <td>2220</td>\n",
       "      <td>11.0</td>\n",
       "      <td>2880</td>\n",
       "      <td>2880</td>\n",
       "      <td>3775.0</td>\n",
       "      <td>1</td>\n",
       "    </tr>\n",
       "  </tbody>\n",
       "</table>\n",
       "</div>"
      ],
      "text/plain": [
       "    scenario_id  allocation_id  run_id  client_id  site_id  n_units  \\\n",
       "0           426            360     181          5      184        0   \n",
       "1           426            360     181          5      184       18   \n",
       "2           425            359     181          5      183        0   \n",
       "3           425            359     181          5      183       13   \n",
       "4           434            411     181          5      182        0   \n",
       "5           434            411     181          5      182       15   \n",
       "6           429            363     181          5      187        0   \n",
       "7           429            363     181          5      187        5   \n",
       "8           427            361     181          5      185        0   \n",
       "9           427            361     181          5      185       18   \n",
       "10          424            357     181          5      181        0   \n",
       "11          424            357     181          5      181       13   \n",
       "12          430            364     181          5      188        8   \n",
       "13          433            368     181          5      192        0   \n",
       "14          433            368     181          5      192       17   \n",
       "15          428            362     181          5      186        0   \n",
       "16          428            362     181          5      186        8   \n",
       "17          422            355     181          5      179        0   \n",
       "18          422            355     181          5      179        8   \n",
       "19          435            413     181          5      190        0   \n",
       "20          435            413     181          5      190       13   \n",
       "21          431            365     181          5      189        0   \n",
       "22          431            365     181          5      189       14   \n",
       "23          430            364     181          5      188        0   \n",
       "24          432            367     181          5      191        0   \n",
       "25          432            367     181          5      191        9   \n",
       "26          423            356     181          5      180        0   \n",
       "27          423            356     181          5      180       12   \n",
       "\n",
       "    purchase_price  purchase_price_w_grant  annual_maintenance_cost  power  \\\n",
       "0                0                       0                        0    0.0   \n",
       "1            56628                   56628                     3330   11.0   \n",
       "2                0                       0                        0    0.0   \n",
       "3            40898                   40898                     2405   11.0   \n",
       "4                0                       0                        0    0.0   \n",
       "5            47190                   47190                     2775   11.0   \n",
       "6                0                       0                        0    0.0   \n",
       "7            13335                   13335                      925   11.0   \n",
       "8                0                       0                        0    0.0   \n",
       "9            56628                   56628                     3330   11.0   \n",
       "10               0                       0                        0    0.0   \n",
       "11           40898                   40898                     2405   11.0   \n",
       "12           21336                   21336                     1480   11.0   \n",
       "13               0                       0                        0    0.0   \n",
       "14           53482                   53482                     3145   11.0   \n",
       "15               0                       0                        0    0.0   \n",
       "16           21336                   21336                     1480   11.0   \n",
       "17               0                       0                        0    0.0   \n",
       "18           21336                   21336                     1480   11.0   \n",
       "19               0                       0                        0    0.0   \n",
       "20           40898                   40898                     2405   11.0   \n",
       "21               0                       0                        0    0.0   \n",
       "22           44044                   44044                     2590   11.0   \n",
       "23               0                       0                        0    0.0   \n",
       "24               0                       0                        0    0.0   \n",
       "25           24003                   24003                     1665   11.0   \n",
       "26               0                       0                        0    0.0   \n",
       "27           37752                   37752                     2220   11.0   \n",
       "\n",
       "    annual_monitoring_cost  annual_optimisation_cost  upfront_lease_cost  \\\n",
       "0                        0                         0                 0.0   \n",
       "1                     4320                      4320              5663.0   \n",
       "2                        0                         0                 0.0   \n",
       "3                     3120                      3120              4090.0   \n",
       "4                        0                         0                 0.0   \n",
       "5                     3600                      3600              4719.0   \n",
       "6                        0                         0                 0.0   \n",
       "7                     1200                      1200              1334.0   \n",
       "8                        0                         0                 0.0   \n",
       "9                     4320                      4320              5663.0   \n",
       "10                       0                         0                 0.0   \n",
       "11                    3120                      3120              4090.0   \n",
       "12                    1920                      1920              2134.0   \n",
       "13                       0                         0                 0.0   \n",
       "14                    4080                      4080              5348.0   \n",
       "15                       0                         0                 0.0   \n",
       "16                    1920                      1920              2134.0   \n",
       "17                       0                         0                 0.0   \n",
       "18                    1920                      1920              2134.0   \n",
       "19                       0                         0                 0.0   \n",
       "20                    3120                      3120              4090.0   \n",
       "21                       0                         0                 0.0   \n",
       "22                    3360                      3360              4404.0   \n",
       "23                       0                         0                 0.0   \n",
       "24                       0                         0                 0.0   \n",
       "25                    2160                      2160              2400.0   \n",
       "26                       0                         0                 0.0   \n",
       "27                    2880                      2880              3775.0   \n",
       "\n",
       "    dashboard  \n",
       "0           1  \n",
       "1           1  \n",
       "2           1  \n",
       "3           1  \n",
       "4           1  \n",
       "5           1  \n",
       "6           1  \n",
       "7           1  \n",
       "8           1  \n",
       "9           1  \n",
       "10          1  \n",
       "11          1  \n",
       "12          1  \n",
       "13          1  \n",
       "14          1  \n",
       "15          1  \n",
       "16          1  \n",
       "17          1  \n",
       "18          1  \n",
       "19          1  \n",
       "20          1  \n",
       "21          1  \n",
       "22          1  \n",
       "23          1  \n",
       "24          1  \n",
       "25          1  \n",
       "26          1  \n",
       "27          1  "
      ]
     },
     "execution_count": 50,
     "metadata": {},
     "output_type": "execute_result"
    }
   ],
   "source": [
    "# tco_charger_lr = pd.read_sql(\"SELECT * FROM t_charger_tco_components WHERE scenario_id IN (340, 341, 342, 343, 344, 345, 346, 347, 376, 377, 378, 379, 380, 381)\", con=cnx)\n",
    "tco_charger_mr = tco_charger_lr.copy()\n",
    "tco_charger_mr['scenario_id'] = tco_charger_mr['site_id'].map(site_scenario_mr_dict)\n",
    "tco_charger_mr['allocation_id'] = tco_charger_mr['site_id'].map(site_alloc_mr_dict)\n",
    "tco_charger_mr['run_id'] = 181\n",
    "dbh.upload_table(tco_charger_mr, 't_charger_tco_components')\n",
    "tco_charger_mr"
   ]
  },
  {
   "cell_type": "markdown",
   "metadata": {},
   "source": [
    "### Create summaries"
   ]
  },
  {
   "cell_type": "code",
   "execution_count": 3,
   "metadata": {},
   "outputs": [],
   "source": [
    "cnx = dbh.create_alch_engine()\n",
    "connection, cur = dbh.database_connection('test')\n",
    "sql_query = f\"\"\"SELECT scenario_id, allocation_id, smart_charging, output_kwh FROM t_charging_scenarios WHERE run_id IN (44, 45, 46, 47)\"\"\"\n",
    "scenarios = pd.read_sql_query(sql_query, con=cnx)\n",
    "allocation_ids = scenarios['allocation_id'].unique()\n",
    "sql_query = f\"\"\"SELECT allocation_id, site_id, xmpg, charger2, vehicle2, num_r, num_vehicle2, num_charger2\n",
    "    FROM t_allocation WHERE allocation_id IN {tuple(allocation_ids)}\"\"\"\n",
    "alloc_summary = pd.read_sql_query(sql_query, cnx)\n",
    "cnx.dispose()\n"
   ]
  },
  {
   "cell_type": "code",
   "execution_count": 4,
   "metadata": {},
   "outputs": [
    {
     "name": "stdout",
     "output_type": "stream",
     "text": [
      "all the same: True\n",
      "Allocations except best EV:\n",
      " [390, 304, 303, 364, 301, 302, 263, 374, 262, 265, 305, 259, 389, 268, 378, 379, 260, 282, 276, 371, 307, 277, 383, 273, 343, 413, 391, 410, 384, 381, 373, 385, 382, 261, 288, 309, 296, 310, 275, 274, 287, 267, 361, 357, 360, 359, 365, 281, 279, 349, 346, 345, 351, 352, 344, 347, 377, 375, 376, 367, 362, 369, 370, 387, 392, 388, 406, 407, 380, 405, 408, 409, 355, 356, 411, 368, 372, 386, 290, 289, 295, 293, 291, 363]\n",
      "Allocations best EV:\n",
      " [335, 333, 332, 331, 338, 337, 403, 401, 404, 330, 329, 399, 400, 402]\n",
      "Maxus MR allocations: [390, 304, 303, 364, 301, 302, 305, 389, 307, 343, 413, 391, 410, 309, 310, 361, 357, 360, 359, 365, 349, 346, 345, 351, 352, 344, 347, 367, 362, 387, 392, 388, 406, 407, 405, 408, 409, 355, 356, 411, 368, 363]\n"
     ]
    }
   ],
   "source": [
    "alloc_summary['diesel'] = alloc_summary['vehicle2'] == 28\n",
    "alloc_summary['sad'] = alloc_summary['xmpg'] <0.7\n",
    "alloc_summary['best_ev'] = False\n",
    "alloc_summary.loc[alloc_summary['vehicle2'] == 33, 'best_ev'] = True\n",
    "\n",
    "normal_allocations = alloc_summary[(~alloc_summary['best_ev'])]\n",
    "opt_allocations = alloc_summary[(alloc_summary['best_ev'])]\n",
    "count_summary = alloc_summary.groupby('site_id').agg({\n",
    "    'allocation_id': 'count', 'vehicle2': 'nunique', 'sad': 'sum', 'diesel': 'sum'\n",
    "})\n",
    "print(\"all the same:\", (count_summary.nunique() == 1).all())\n",
    "print(\"Allocations except best EV:\\n\", normal_allocations['allocation_id'].to_list())\n",
    "print(\"Allocations best EV:\\n\", opt_allocations['allocation_id'].to_list())\n",
    "### Maxus MR allocations\n",
    "mr_allocations = alloc_summary[alloc_summary['vehicle2'] == 10]['allocation_id'].to_list()\n",
    "print('Maxus MR allocations:', mr_allocations)\n",
    "scenarios = scenarios.merge(alloc_summary, how='left')\n",
    "\n",
    "scenarios['type'] = ''\n",
    "\n",
    "scenarios.loc[(scenarios['vehicle2'] == 28)\n",
    "              & (scenarios['xmpg'] == 0.79),\n",
    "              'type'] = 'Diesel baseline'\n",
    "scenarios.loc[(scenarios['vehicle2'] == 28)\n",
    "              & (scenarios['xmpg'] == 0.541),\n",
    "              'type'] = 'Diesel baseline low range'\n",
    "scenarios.loc[(scenarios['vehicle2'] == 11)\n",
    "              & (scenarios['xmpg'] == 0.79),\n",
    "              'type'] = 'EV baseline'\n",
    "scenarios.loc[(scenarios['vehicle2'] == 10)\n",
    "              & (scenarios['xmpg'] == 0.685)\n",
    "              & (scenarios['charger2'] == 11),\n",
    "              'type'] = 'EV baseline low range'\n",
    "scenarios.loc[(scenarios['vehicle2'] == 10)\n",
    "              & (scenarios['xmpg'] == 0.685)\n",
    "              & (scenarios['charger2'] == 50),\n",
    "              'type'] = 'EV Optimal low range'\n",
    "scenarios.loc[(scenarios['best_ev'])\n",
    "              & (scenarios['smart_charging']),\n",
    "              'type'] = 'EV Optimal smart charging on'\n",
    "scenarios.loc[(scenarios['best_ev'])\n",
    "              & (~scenarios['smart_charging']),\n",
    "              'type'] = 'EV Optimal smart charging off'\n",
    "scenarios.loc[(scenarios['vehicle2'] == 10)\n",
    "              & (scenarios['xmpg'] == 0.79),\n",
    "              'type'] = 'Maxus MR'\n",
    "sites = tuple(scenarios['site_id'].unique())\n",
    "site_dict = get_site_client_id(sites, connection, cur)\n",
    "scenarios['client_site_id'] = scenarios['site_id'].map(site_dict)\n",
    "diesel_scenarios = scenarios[scenarios['type'] == 'Diesel baseline'][['allocation_id', 'site_id', 'num_r']]\n",
    "scenarios = scenarios.merge(diesel_scenarios, how='left', left_on='site_id', right_on='site_id', suffixes=(\"\", \"_diesel\"))\n",
    "scenarios['r_removed'] = scenarios['num_r_diesel'] - scenarios['num_r']\n",
    "scenarios['r_removed%'] = 100*scenarios['r_removed'] / scenarios['num_r_diesel']\n",
    "scenarios.sort_values(by='scenario_id', inplace=True)\n",
    "site_name_dict = get_site_name_dict(sites, connection, cur)\n",
    "scenarios['site_name'] = scenarios['site_id'].map(site_name_dict)\n",
    "dict_types_deck = {'EV Optimal smart charging on': 'eTransit',\n",
    "                   'EV Optimal smart charging off': 'eTransit',\n",
    "                   'EV Optimal low range': 'Asda Spec',\n",
    "                   'Maxus MR': 'Maxus MR',\n",
    "                   'EV baseline': 'Maxus LR',\n",
    "                   'Diesel baseline': 'Sprinter',\n",
    "                   'EV baseline low range': 'Asda Spec'}\n",
    "scenarios['vehicle_type'] = scenarios['type'].map(dict_types_deck)\n",
    "scenarios.to_csv('sample/asda2/scenarios.csv')"
   ]
  },
  {
   "cell_type": "code",
   "execution_count": 89,
   "metadata": {},
   "outputs": [],
   "source": [
    "routes_removed_table = scenarios[scenarios['type'].isin(dict_types_deck.keys())][['site_name', 'vehicle_type', 'r_removed', 'r_removed%']]\n",
    "routes_removed_table.set_index(['site_name', 'vehicle_type'], inplace=True)\n",
    "routes_removed_table = routes_removed_table.sort_index().unstack()\n",
    "routes_removed_table.to_csv('sample/asda2/routes_removed.csv')"
   ]
  },
  {
   "cell_type": "markdown",
   "metadata": {},
   "source": [
    "### Feasibility"
   ]
  },
  {
   "cell_type": "code",
   "execution_count": 114,
   "metadata": {},
   "outputs": [
    {
     "name": "stdout",
     "output_type": "stream",
     "text": [
      "['Bloxwich' 'Maxus MR']\n",
      "['Brierley Hill (New Store)' 'Maxus MR']\n",
      "['Chelmsley Wood' 'Maxus MR']\n",
      "['Dudley Merry Hill' 'Maxus MR']\n",
      "['Great Bridge Supercentre' 'Maxus MR']\n",
      "['Minworth Supercentre' 'Maxus MR']\n",
      "['Queslett' 'Maxus MR']\n",
      "['Shrewsbury' 'Maxus MR']\n",
      "['Small Heath' 'Maxus MR']\n",
      "['St Matthews (Walsall)' 'Maxus MR']\n",
      "['Tipton' 'Maxus MR']\n",
      "['Wolverhampton' 'Maxus MR']\n",
      "['Donnington Wood' 'Maxus MR']\n",
      "['Telford' 'Maxus MR']\n"
     ]
    }
   ],
   "source": [
    "# For scenario, caculate allocation_summary\n",
    "# [feasible, unfeasible_nois, unfeasible_withis, n_duties, n_routes, n_veh]\n",
    "cols = ['n_feasible', 'n_unfeasible_nois', 'n_unfeasible_withis', 'n_duties', 'n_routes', 'n_veh']\n",
    "# for c in cols:\n",
    "#     scenarios[c] = 0\n",
    "\n",
    "feasibility_index = scenarios[~scenarios['vehicle_type'].isna()].index\n",
    "for idx in feasibility_index[42:]:\n",
    "    print(scenarios.loc[idx, ['site_name', 'vehicle_type']].values)\n",
    "    stats = allocation_summary(scenarios.loc[idx, 'allocation_id'], drive_wltp, range_wltp, connection, cur)\n",
    "    scenarios.loc[idx, cols] = stats\n",
    "\n",
    "scenarios['feasible_without_pc'] = 100 * scenarios['n_feasible'] / scenarios['n_duties']\n",
    "scenarios['feasible_with_pc'] = 100 * (scenarios['n_unfeasible_nois'] + scenarios['n_unfeasible_withis']) / scenarios['n_duties']\n",
    "scenarios.sort_values(by='site_name', inplace=True)\n",
    "scenarios.to_csv('sample/asda2/scenarios_feasibility.csv')\n",
    "\n",
    "pickle.dump(scenarios, open('scenarios_feasibility.pkl', 'wb'))"
   ]
  },
  {
   "cell_type": "code",
   "execution_count": 177,
   "metadata": {},
   "outputs": [
    {
     "data": {
      "image/png": "[encoded data removed]",
      "text/plain": [
       "<Figure size 720x216 with 1 Axes>"
      ]
     },
     "metadata": {
      "needs_background": "light"
     },
     "output_type": "display_data"
    },
    {
     "data": {
      "image/png": "[encoded data removed]",
      "text/plain": [
       "<Figure size 720x216 with 1 Axes>"
      ]
     },
     "metadata": {
      "needs_background": "light"
     },
     "output_type": "display_data"
    },
    {
     "data": {
      "image/png": "[encoded data removed]",
      "text/plain": [
       "<Figure size 720x216 with 1 Axes>"
      ]
     },
     "metadata": {
      "needs_background": "light"
     },
     "output_type": "display_data"
    },
    {
     "data": {
      "image/png": "[encoded data removed]",
      "text/plain": [
       "<Figure size 720x216 with 1 Axes>"
      ]
     },
     "metadata": {
      "needs_background": "light"
     },
     "output_type": "display_data"
    }
   ],
   "source": [
    "for vehicle_type in dict_types_deck.values():\n",
    "    fig, ax = plt.subplots(1, figsize=(10, 3))\n",
    "    cols = ['feasible_without_pc', 'feasible_with_pc', 'r_removed%']\n",
    "    scenarios_vehicle = scenarios[scenarios['vehicle_type'] == vehicle_type][cols].values\n",
    "    xlabels = scenarios[scenarios['vehicle_type'] == vehicle_type]['site_name'].values\n",
    "    N = len(xlabels)\n",
    "    ax.bar(x = xlabels,\n",
    "        height=scenarios_vehicle[:, 0],\n",
    "        color=[fps_colours[0]], label='Feasible without daytime charging')\n",
    "    ax.bar(x = xlabels,\n",
    "        height=scenarios_vehicle[:, 1],\n",
    "        bottom=scenarios_vehicle[:, 0],\n",
    "        color=[fps_colours[1]], label='Feasible with daytime charging')\n",
    "    ax.legend(frameon=False, bbox_to_anchor=(1, 1))\n",
    "    ax.set_xlabel('Site', color=fps_colours[0])\n",
    "    ax.xaxis.set_major_locator(matplotlib.ticker.FixedLocator(np.arange(N)))\n",
    "    ax.set_xticklabels(xlabels, rotation=45, ha='right')\n",
    "    ax.set_ylabel(r'% of Vehicle-duties', color=fps_colours[0])\n",
    "    for i in range(N):\n",
    "        ax.text(i-0.3, 105, f\"{np.round(scenarios_vehicle[i, 2], 1)}%\")\n",
    "    ax.set_title(\n",
    "        f\"Feasibility at Store Level\"\n",
    "        f\"\\n{vehicle_type}\",\n",
    "        color=fps_colours[0], fontweight='bold', y=1.12)\n",
    "    fig.savefig(\n",
    "        f\"sample/asda2/feasibility_alloc{vehicle_type}.png\",\n",
    "        bbox_inches=\"tight\", dpi=300)\n",
    "    # break"
   ]
  },
  {
   "cell_type": "markdown",
   "metadata": {},
   "source": [
    "### Charging load"
   ]
  },
  {
   "cell_type": "code",
   "execution_count": 5,
   "metadata": {},
   "outputs": [],
   "source": [
    "# scenarios = pickle.load(open('sample/asda2/scenarios_feasibility.pkl', 'rb'))\n",
    "scenarios.set_index('scenario_id', inplace=True)"
   ]
  },
  {
   "cell_type": "code",
   "execution_count": 14,
   "metadata": {},
   "outputs": [
    {
     "name": "stdout",
     "output_type": "stream",
     "text": [
      "398\n",
      "399\n",
      "400\n",
      "401\n",
      "402\n",
      "403\n",
      "404\n",
      "405\n",
      "406\n",
      "407\n",
      "408\n",
      "409\n",
      "410\n",
      "411\n",
      "412\n",
      "413\n",
      "414\n",
      "415\n",
      "416\n",
      "417\n",
      "418\n",
      "419\n",
      "420\n",
      "421\n",
      "422\n",
      "423\n",
      "424\n",
      "425\n",
      "426\n",
      "427\n",
      "428\n",
      "429\n",
      "430\n",
      "431\n",
      "432\n",
      "433\n",
      "434\n",
      "435\n",
      "452\n",
      "453\n",
      "454\n",
      "455\n",
      "456\n",
      "457\n",
      "458\n",
      "459\n",
      "460\n",
      "461\n",
      "462\n",
      "463\n",
      "464\n",
      "465\n",
      "466\n",
      "467\n",
      "468\n",
      "469\n",
      "470\n",
      "471\n",
      "472\n",
      "473\n",
      "474\n",
      "475\n",
      "476\n",
      "477\n",
      "478\n",
      "479\n"
     ]
    }
   ],
   "source": [
    "# scenario_ids_load = [395, 397, 399, 401, 403, 405, 407, 409, 411, 413, 415, 417, 419, 421]\n",
    "scenario_ids_load = scenarios[scenarios['output_kwh'] > 0].index\n",
    "col_demand_kw = 'unmanaged_kw_max'\n",
    "col_time_max = 'unmanaged_time_maxdemand'\n",
    "col_demand_kva = 'unmanaged_kva_max'\n",
    "\n",
    "# scenarios[col_demand_kw] = 0\n",
    "# scenarios[col_time_max] = dt.time(0)\n",
    "for s in scenario_ids_load[32:]:\n",
    "    print(s)\n",
    "    scenarios.loc[s, [col_demand_kw, col_time_max]] = find_max_demand(s)"
   ]
  },
  {
   "cell_type": "code",
   "execution_count": 15,
   "metadata": {},
   "outputs": [],
   "source": [
    "scenarios[col_demand_kva] = scenarios[col_demand_kw]/XPOWER\n",
    "scenarios[f\"{col_demand_kw} - 20% eq\"] = (scenarios[col_demand_kw] * 0.8)/ASC_XUSE\n",
    "# scenarios[f\"{col_demand_kw} - 10% eq\"] = (scenarios[col_demand_kw] * 0.9)/ASC_XUSE\n",
    "scenarios.to_csv('sample/asda2/scenarios_demand.csv')"
   ]
  },
  {
   "cell_type": "code",
   "execution_count": null,
   "metadata": {},
   "outputs": [
    {
     "data": {
      "text/html": [
       "<div>\n",
       "<style scoped>\n",
       "    .dataframe tbody tr th:only-of-type {\n",
       "        vertical-align: middle;\n",
       "    }\n",
       "\n",
       "    .dataframe tbody tr th {\n",
       "        vertical-align: top;\n",
       "    }\n",
       "\n",
       "    .dataframe thead th {\n",
       "        text-align: right;\n",
       "    }\n",
       "</style>\n",
       "<table border=\"1\" class=\"dataframe\">\n",
       "  <thead>\n",
       "    <tr style=\"text-align: right;\">\n",
       "      <th></th>\n",
       "      <th>scenario_id</th>\n",
       "      <th>allocation_id</th>\n",
       "      <th>site_id</th>\n",
       "      <th>xmpg</th>\n",
       "      <th>charger2</th>\n",
       "      <th>vehicle2</th>\n",
       "      <th>num_r</th>\n",
       "      <th>num_vehicle2</th>\n",
       "      <th>num_charger2</th>\n",
       "      <th>allocation_id_diesel</th>\n",
       "      <th>num_r_diesel</th>\n",
       "      <th>r_removed</th>\n",
       "      <th>r_removed%</th>\n",
       "      <th>n_feasible</th>\n",
       "      <th>n_unfeasible_nois</th>\n",
       "      <th>n_unfeasible_withis</th>\n",
       "      <th>n_duties</th>\n",
       "      <th>n_routes</th>\n",
       "      <th>n_veh</th>\n",
       "    </tr>\n",
       "  </thead>\n",
       "  <tbody>\n",
       "    <tr>\n",
       "      <th>51</th>\n",
       "      <td>364</td>\n",
       "      <td>369</td>\n",
       "      <td>179</td>\n",
       "      <td>0.790</td>\n",
       "      <td>50</td>\n",
       "      <td>28</td>\n",
       "      <td>6383</td>\n",
       "      <td>8</td>\n",
       "      <td>0</td>\n",
       "      <td>369</td>\n",
       "      <td>6383</td>\n",
       "      <td>0</td>\n",
       "      <td>0.0</td>\n",
       "      <td>0</td>\n",
       "      <td>0</td>\n",
       "      <td>0</td>\n",
       "      <td>0</td>\n",
       "      <td>0</td>\n",
       "      <td>0</td>\n",
       "    </tr>\n",
       "    <tr>\n",
       "      <th>57</th>\n",
       "      <td>370</td>\n",
       "      <td>375</td>\n",
       "      <td>179</td>\n",
       "      <td>0.541</td>\n",
       "      <td>50</td>\n",
       "      <td>28</td>\n",
       "      <td>6383</td>\n",
       "      <td>8</td>\n",
       "      <td>0</td>\n",
       "      <td>369</td>\n",
       "      <td>6383</td>\n",
       "      <td>0</td>\n",
       "      <td>0.0</td>\n",
       "      <td>0</td>\n",
       "      <td>0</td>\n",
       "      <td>0</td>\n",
       "      <td>0</td>\n",
       "      <td>0</td>\n",
       "      <td>0</td>\n",
       "    </tr>\n",
       "    <tr>\n",
       "      <th>63</th>\n",
       "      <td>376</td>\n",
       "      <td>381</td>\n",
       "      <td>179</td>\n",
       "      <td>0.790</td>\n",
       "      <td>11</td>\n",
       "      <td>11</td>\n",
       "      <td>6383</td>\n",
       "      <td>8</td>\n",
       "      <td>8</td>\n",
       "      <td>369</td>\n",
       "      <td>6383</td>\n",
       "      <td>0</td>\n",
       "      <td>0.0</td>\n",
       "      <td>2836</td>\n",
       "      <td>1</td>\n",
       "      <td>0</td>\n",
       "      <td>2837</td>\n",
       "      <td>6383</td>\n",
       "      <td>8</td>\n",
       "    </tr>\n",
       "    <tr>\n",
       "      <th>0</th>\n",
       "      <td>422</td>\n",
       "      <td>355</td>\n",
       "      <td>179</td>\n",
       "      <td>0.790</td>\n",
       "      <td>50</td>\n",
       "      <td>10</td>\n",
       "      <td>6383</td>\n",
       "      <td>8</td>\n",
       "      <td>0</td>\n",
       "      <td>369</td>\n",
       "      <td>6383</td>\n",
       "      <td>0</td>\n",
       "      <td>0.0</td>\n",
       "      <td>2808</td>\n",
       "      <td>27</td>\n",
       "      <td>1</td>\n",
       "      <td>2836</td>\n",
       "      <td>6383</td>\n",
       "      <td>8</td>\n",
       "    </tr>\n",
       "    <tr>\n",
       "      <th>91</th>\n",
       "      <td>410</td>\n",
       "      <td>399</td>\n",
       "      <td>179</td>\n",
       "      <td>0.790</td>\n",
       "      <td>50</td>\n",
       "      <td>33</td>\n",
       "      <td>6383</td>\n",
       "      <td>8</td>\n",
       "      <td>0</td>\n",
       "      <td>369</td>\n",
       "      <td>6383</td>\n",
       "      <td>0</td>\n",
       "      <td>0.0</td>\n",
       "      <td>2830</td>\n",
       "      <td>6</td>\n",
       "      <td>0</td>\n",
       "      <td>2836</td>\n",
       "      <td>6383</td>\n",
       "      <td>8</td>\n",
       "    </tr>\n",
       "    <tr>\n",
       "      <th>...</th>\n",
       "      <td>...</td>\n",
       "      <td>...</td>\n",
       "      <td>...</td>\n",
       "      <td>...</td>\n",
       "      <td>...</td>\n",
       "      <td>...</td>\n",
       "      <td>...</td>\n",
       "      <td>...</td>\n",
       "      <td>...</td>\n",
       "      <td>...</td>\n",
       "      <td>...</td>\n",
       "      <td>...</td>\n",
       "      <td>...</td>\n",
       "      <td>...</td>\n",
       "      <td>...</td>\n",
       "      <td>...</td>\n",
       "      <td>...</td>\n",
       "      <td>...</td>\n",
       "      <td>...</td>\n",
       "    </tr>\n",
       "    <tr>\n",
       "      <th>11</th>\n",
       "      <td>433</td>\n",
       "      <td>368</td>\n",
       "      <td>192</td>\n",
       "      <td>0.790</td>\n",
       "      <td>50</td>\n",
       "      <td>10</td>\n",
       "      <td>15133</td>\n",
       "      <td>17</td>\n",
       "      <td>0</td>\n",
       "      <td>374</td>\n",
       "      <td>15133</td>\n",
       "      <td>0</td>\n",
       "      <td>0.0</td>\n",
       "      <td>5643</td>\n",
       "      <td>5</td>\n",
       "      <td>3</td>\n",
       "      <td>5651</td>\n",
       "      <td>15133</td>\n",
       "      <td>17</td>\n",
       "    </tr>\n",
       "    <tr>\n",
       "      <th>62</th>\n",
       "      <td>375</td>\n",
       "      <td>380</td>\n",
       "      <td>192</td>\n",
       "      <td>0.541</td>\n",
       "      <td>50</td>\n",
       "      <td>28</td>\n",
       "      <td>15133</td>\n",
       "      <td>17</td>\n",
       "      <td>0</td>\n",
       "      <td>374</td>\n",
       "      <td>15133</td>\n",
       "      <td>0</td>\n",
       "      <td>0.0</td>\n",
       "      <td>0</td>\n",
       "      <td>0</td>\n",
       "      <td>0</td>\n",
       "      <td>0</td>\n",
       "      <td>0</td>\n",
       "      <td>0</td>\n",
       "    </tr>\n",
       "    <tr>\n",
       "      <th>56</th>\n",
       "      <td>369</td>\n",
       "      <td>374</td>\n",
       "      <td>192</td>\n",
       "      <td>0.790</td>\n",
       "      <td>50</td>\n",
       "      <td>28</td>\n",
       "      <td>15133</td>\n",
       "      <td>17</td>\n",
       "      <td>0</td>\n",
       "      <td>374</td>\n",
       "      <td>15133</td>\n",
       "      <td>0</td>\n",
       "      <td>0.0</td>\n",
       "      <td>0</td>\n",
       "      <td>0</td>\n",
       "      <td>0</td>\n",
       "      <td>0</td>\n",
       "      <td>0</td>\n",
       "      <td>0</td>\n",
       "    </tr>\n",
       "    <tr>\n",
       "      <th>74</th>\n",
       "      <td>393</td>\n",
       "      <td>410</td>\n",
       "      <td>192</td>\n",
       "      <td>0.541</td>\n",
       "      <td>50</td>\n",
       "      <td>11</td>\n",
       "      <td>15133</td>\n",
       "      <td>17</td>\n",
       "      <td>2</td>\n",
       "      <td>374</td>\n",
       "      <td>15133</td>\n",
       "      <td>0</td>\n",
       "      <td>0.0</td>\n",
       "      <td>0</td>\n",
       "      <td>0</td>\n",
       "      <td>0</td>\n",
       "      <td>0</td>\n",
       "      <td>0</td>\n",
       "      <td>0</td>\n",
       "    </tr>\n",
       "    <tr>\n",
       "      <th>103</th>\n",
       "      <td>420</td>\n",
       "      <td>404</td>\n",
       "      <td>192</td>\n",
       "      <td>0.790</td>\n",
       "      <td>50</td>\n",
       "      <td>33</td>\n",
       "      <td>15133</td>\n",
       "      <td>17</td>\n",
       "      <td>0</td>\n",
       "      <td>374</td>\n",
       "      <td>15133</td>\n",
       "      <td>0</td>\n",
       "      <td>0.0</td>\n",
       "      <td>5651</td>\n",
       "      <td>0</td>\n",
       "      <td>0</td>\n",
       "      <td>5651</td>\n",
       "      <td>15133</td>\n",
       "      <td>17</td>\n",
       "    </tr>\n",
       "  </tbody>\n",
       "</table>\n",
       "<p>112 rows × 19 columns</p>\n",
       "</div>"
      ],
      "text/plain": [
       "     scenario_id  allocation_id  site_id   xmpg  charger2  vehicle2  num_r  \\\n",
       "51           364            369      179  0.790        50        28   6383   \n",
       "57           370            375      179  0.541        50        28   6383   \n",
       "63           376            381      179  0.790        11        11   6383   \n",
       "0            422            355      179  0.790        50        10   6383   \n",
       "91           410            399      179  0.790        50        33   6383   \n",
       "..           ...            ...      ...    ...       ...       ...    ...   \n",
       "11           433            368      192  0.790        50        10  15133   \n",
       "62           375            380      192  0.541        50        28  15133   \n",
       "56           369            374      192  0.790        50        28  15133   \n",
       "74           393            410      192  0.541        50        11  15133   \n",
       "103          420            404      192  0.790        50        33  15133   \n",
       "\n",
       "     num_vehicle2  num_charger2  allocation_id_diesel  num_r_diesel  \\\n",
       "51              8             0                   369          6383   \n",
       "57              8             0                   369          6383   \n",
       "63              8             8                   369          6383   \n",
       "0               8             0                   369          6383   \n",
       "91              8             0                   369          6383   \n",
       "..            ...           ...                   ...           ...   \n",
       "11             17             0                   374         15133   \n",
       "62             17             0                   374         15133   \n",
       "56             17             0                   374         15133   \n",
       "74             17             2                   374         15133   \n",
       "103            17             0                   374         15133   \n",
       "\n",
       "     r_removed  r_removed%  n_feasible  n_unfeasible_nois  \\\n",
       "51           0         0.0           0                  0   \n",
       "57           0         0.0           0                  0   \n",
       "63           0         0.0        2836                  1   \n",
       "0            0         0.0        2808                 27   \n",
       "91           0         0.0        2830                  6   \n",
       "..         ...         ...         ...                ...   \n",
       "11           0         0.0        5643                  5   \n",
       "62           0         0.0           0                  0   \n",
       "56           0         0.0           0                  0   \n",
       "74           0         0.0           0                  0   \n",
       "103          0         0.0        5651                  0   \n",
       "\n",
       "     n_unfeasible_withis  n_duties  n_routes  n_veh  \n",
       "51                     0         0         0      0  \n",
       "57                     0         0         0      0  \n",
       "63                     0      2837      6383      8  \n",
       "0                      1      2836      6383      8  \n",
       "91                     0      2836      6383      8  \n",
       "..                   ...       ...       ...    ...  \n",
       "11                     3      5651     15133     17  \n",
       "62                     0         0         0      0  \n",
       "56                     0         0         0      0  \n",
       "74                     0         0         0      0  \n",
       "103                    0      5651     15133     17  \n",
       "\n",
       "[112 rows x 19 columns]"
      ]
     },
     "execution_count": 9,
     "metadata": {},
     "output_type": "execute_result"
    }
   ],
   "source": [
    "scenarios[['scenario_id', 'allocation_id', 'site_id', 'xmpg',\n",
    "       'charger2', 'vehicle2', 'num_r', 'num_vehicle2', 'num_charger2',\n",
    "       'allocation_id_diesel', 'num_r_diesel', 'r_removed', 'r_removed%',\n",
    "       'n_feasible', 'n_unfeasible_nois',\n",
    "       'n_unfeasible_withis', 'n_duties', 'n_routes', 'n_veh']]"
   ]
  },
  {
   "cell_type": "markdown",
   "metadata": {},
   "source": [
    "### Duty allocation Histos"
   ]
  },
  {
   "cell_type": "code",
   "execution_count": 107,
   "metadata": {},
   "outputs": [
    {
     "name": "stdout",
     "output_type": "stream",
     "text": [
      "134528\n"
     ]
    },
    {
     "data": {
      "image/png": "[encoded data removed]",
      "text/plain": [
       "<Figure size 576x216 with 1 Axes>"
      ]
     },
     "metadata": {
      "needs_background": "light"
     },
     "output_type": "display_data"
    }
   ],
   "source": [
    "# sql_query = f\"\"\"SELECT *  FROM t_route_master\n",
    "#     WHERE site_id_start IN (179, 180, 181, 182, 183, 184, 185, 186, 187, 188, 189, 190, 191, 192)\n",
    "#     AND source=1\"\"\"\n",
    "# routes = pd.read_sql_query(sql_query, cnx)\n",
    "# routes['date'] = pd.to_datetime(routes['departure_time'].dt.date)\n",
    "# duties_unallocated = routes.groupby(['site_id_start', 'date', 'vehicle_id'])['distance_miles'].sum()\n",
    "print(len(routes))\n",
    "histo_variable(duties_unallocated, suff='_unallocated', xlim=270, bins=20, vline_dict={'eTransit': range_wltp[v]})"
   ]
  },
  {
   "cell_type": "code",
   "execution_count": 108,
   "metadata": {},
   "outputs": [
    {
     "name": "stdout",
     "output_type": "stream",
     "text": [
      "134528\n"
     ]
    },
    {
     "data": {
      "image/png": "[encoded data removed]",
      "text/plain": [
       "<Figure size 576x216 with 1 Axes>"
      ]
     },
     "metadata": {
      "needs_background": "light"
     },
     "output_type": "display_data"
    }
   ],
   "source": [
    "# allocations_transit = tuple(scenarios[scenarios['type'] == 'EV Optimal smart charging on']['allocation_id'])\n",
    "# sql_query = f\"\"\"SELECT *  FROM t_route_allocated\n",
    "#     WHERE allocation_id IN {allocations_transit}\"\"\"\n",
    "# routes = pd.read_sql_query(sql_query, cnx)\n",
    "# duties_allocated = routes.groupby(['allocation_id', 'date', 'allocated_vehicle_id'])['energy_required_kwh'].sum()\n",
    "# v = routes['allocated_spec_id'].mode()[0]\n",
    "# xmpg = 0.79\n",
    "# drive = drive_wltp[v] / xmpg\n",
    "# duties_allocated_miles = duties_allocated / drive\n",
    "print(len(routes))\n",
    "histo_variable(duties_allocated_miles, suff=f'_allocated_{v}', xlim=270, bins=25, vline_dict={'eTransit': range_wltp[v]})"
   ]
  },
  {
   "cell_type": "markdown",
   "metadata": {},
   "source": [
    "### Allocate"
   ]
  },
  {
   "cell_type": "code",
   "execution_count": 8,
   "metadata": {},
   "outputs": [],
   "source": [
    "cnx = dbh.create_alch_engine()\n",
    "connection, cur = dbh.database_connection('test')\n",
    "idx = 372\n",
    "sql_query = f\"\"\"SELECT * FROM t_route_allocated WHERE allocation_id={idx}\"\"\"\n",
    "routes = pd.read_sql_query(sql_query, con=cnx, index_col='route_id')\n",
    "orig_routes = adf.get_routes_fromid(routes.index, 't_route_master',\n",
    "                                    1, connection, cur)\n",
    "route_cols = ['departure_time', 'arrival_time', 'distance_miles',\n",
    "                'payload', 'number_crates']\n",
    "routes = routes.merge(orig_routes[route_cols], left_index=True,\n",
    "                        right_index=True)\n",
    "routes['hour_starts'] = ((pd.to_datetime(routes['departure_time'])\n",
    "                         -pd.to_datetime(routes['departure_time'].dt.date))\n",
    "                         / np.timedelta64(1, 'h'))\n",
    "routes.loc[routes['shift'] == 1, 'route_cost'] = 1\n",
    "vJourneys = routes.groupby(['date', 'allocated_vehicle_id']).agg({'departure_time': 'min',\n",
    "                    'arrival_time': 'max',\n",
    "                    'shift': 'count',\n",
    "                    'route_cost': 'min',\n",
    "                    'energy_required_kwh': 'sum'})"
   ]
  },
  {
   "cell_type": "code",
   "execution_count": 9,
   "metadata": {},
   "outputs": [],
   "source": [
    "\n",
    "cnx = dbh.create_alch_engine()\n",
    "sql_query = f\"\"\"SELECT * FROM t_route_master WHERE client_id = 5\"\"\"\n",
    "routes = pd.read_sql_query(sql_query, con=cnx)\n",
    "routes['hour_starts'] = ((pd.to_datetime(routes['departure_time'])\n",
    "                         -pd.to_datetime(routes['departure_time'].dt.date))\n",
    "                         / np.timedelta64(1, 'h'))"
   ]
  },
  {
   "cell_type": "code",
   "execution_count": 10,
   "metadata": {},
   "outputs": [],
   "source": [
    "# cnx = dbh.create_alch_engine()\n",
    "sql_query = f\"\"\"SELECT site_id, num_r, vehicle2 FROM t_allocation WHERE run_id IN (168, 171)\"\"\"\n",
    "allocations = pd.read_sql_query(sql_query, con=cnx)"
   ]
  },
  {
   "cell_type": "code",
   "execution_count": 11,
   "metadata": {},
   "outputs": [
    {
     "data": {
      "text/html": [
       "<div>\n",
       "<style scoped>\n",
       "    .dataframe tbody tr th:only-of-type {\n",
       "        vertical-align: middle;\n",
       "    }\n",
       "\n",
       "    .dataframe tbody tr th {\n",
       "        vertical-align: top;\n",
       "    }\n",
       "\n",
       "    .dataframe thead th {\n",
       "        text-align: right;\n",
       "    }\n",
       "</style>\n",
       "<table border=\"1\" class=\"dataframe\">\n",
       "  <thead>\n",
       "    <tr style=\"text-align: right;\">\n",
       "      <th></th>\n",
       "      <th>n_routes_sad</th>\n",
       "      <th>n_routes_diesel</th>\n",
       "      <th>% removed</th>\n",
       "    </tr>\n",
       "    <tr>\n",
       "      <th>site_id</th>\n",
       "      <th></th>\n",
       "      <th></th>\n",
       "      <th></th>\n",
       "    </tr>\n",
       "  </thead>\n",
       "  <tbody>\n",
       "    <tr>\n",
       "      <th>179</th>\n",
       "      <td>6380</td>\n",
       "      <td>6383</td>\n",
       "      <td>0.047000</td>\n",
       "    </tr>\n",
       "    <tr>\n",
       "      <th>180</th>\n",
       "      <td>8823</td>\n",
       "      <td>8837</td>\n",
       "      <td>0.158425</td>\n",
       "    </tr>\n",
       "    <tr>\n",
       "      <th>181</th>\n",
       "      <td>0</td>\n",
       "      <td>10197</td>\n",
       "      <td>100.000000</td>\n",
       "    </tr>\n",
       "    <tr>\n",
       "      <th>182</th>\n",
       "      <td>10708</td>\n",
       "      <td>10747</td>\n",
       "      <td>0.362892</td>\n",
       "    </tr>\n",
       "    <tr>\n",
       "      <th>183</th>\n",
       "      <td>11421</td>\n",
       "      <td>11421</td>\n",
       "      <td>0.000000</td>\n",
       "    </tr>\n",
       "    <tr>\n",
       "      <th>184</th>\n",
       "      <td>17262</td>\n",
       "      <td>17262</td>\n",
       "      <td>0.000000</td>\n",
       "    </tr>\n",
       "    <tr>\n",
       "      <th>185</th>\n",
       "      <td>13403</td>\n",
       "      <td>13405</td>\n",
       "      <td>0.014920</td>\n",
       "    </tr>\n",
       "    <tr>\n",
       "      <th>186</th>\n",
       "      <td>6189</td>\n",
       "      <td>6189</td>\n",
       "      <td>0.000000</td>\n",
       "    </tr>\n",
       "    <tr>\n",
       "      <th>187</th>\n",
       "      <td>0</td>\n",
       "      <td>940</td>\n",
       "      <td>100.000000</td>\n",
       "    </tr>\n",
       "    <tr>\n",
       "      <th>188</th>\n",
       "      <td>6681</td>\n",
       "      <td>6681</td>\n",
       "      <td>0.000000</td>\n",
       "    </tr>\n",
       "    <tr>\n",
       "      <th>189</th>\n",
       "      <td>12145</td>\n",
       "      <td>12145</td>\n",
       "      <td>0.000000</td>\n",
       "    </tr>\n",
       "    <tr>\n",
       "      <th>190</th>\n",
       "      <td>8512</td>\n",
       "      <td>8621</td>\n",
       "      <td>1.264354</td>\n",
       "    </tr>\n",
       "    <tr>\n",
       "      <th>191</th>\n",
       "      <td>6580</td>\n",
       "      <td>6580</td>\n",
       "      <td>0.000000</td>\n",
       "    </tr>\n",
       "    <tr>\n",
       "      <th>192</th>\n",
       "      <td>15133</td>\n",
       "      <td>15133</td>\n",
       "      <td>0.000000</td>\n",
       "    </tr>\n",
       "  </tbody>\n",
       "</table>\n",
       "</div>"
      ],
      "text/plain": [
       "         n_routes_sad  n_routes_diesel   % removed\n",
       "site_id                                           \n",
       "179              6380             6383    0.047000\n",
       "180              8823             8837    0.158425\n",
       "181                 0            10197  100.000000\n",
       "182             10708            10747    0.362892\n",
       "183             11421            11421    0.000000\n",
       "184             17262            17262    0.000000\n",
       "185             13403            13405    0.014920\n",
       "186              6189             6189    0.000000\n",
       "187                 0              940  100.000000\n",
       "188              6681             6681    0.000000\n",
       "189             12145            12145    0.000000\n",
       "190              8512             8621    1.264354\n",
       "191              6580             6580    0.000000\n",
       "192             15133            15133    0.000000"
      ]
     },
     "execution_count": 11,
     "metadata": {},
     "output_type": "execute_result"
    }
   ],
   "source": [
    "df = allocations.groupby('site_id').agg({'num_r': ['min', 'max']})\n",
    "df.columns = ['n_routes_sad', 'n_routes_diesel']\n",
    "df['% removed'] = 100*(df['n_routes_diesel'] - df['n_routes_sad'])/df['n_routes_diesel']\n",
    "df"
   ]
  },
  {
   "cell_type": "code",
   "execution_count": 12,
   "metadata": {},
   "outputs": [],
   "source": [
    "connection, cur = dbh.database_connection('test')\n",
    "sql_query = f\"\"\"SELECT *  FROM t_route_master\n",
    "    WHERE client_id=5\n",
    "    AND source = 1\"\"\"\n",
    "cur.execute(sql_query)\n",
    "connection.commit()\n",
    "routes_fetch = cur.fetchall()\n",
    "desc = cur.description\n",
    "column_names = [col[0] for col in desc]\n",
    "cur.close()\n",
    "connection.close()"
   ]
  },
  {
   "cell_type": "code",
   "execution_count": 13,
   "metadata": {},
   "outputs": [
    {
     "data": {
      "text/plain": [
       "(array([4.8300e+02, 7.1150e+03, 2.0186e+04, 2.9882e+04, 2.5972e+04,\n",
       "        1.6833e+04, 1.1548e+04, 7.2310e+03, 4.7980e+03, 3.3030e+03,\n",
       "        2.2950e+03, 1.4670e+03, 1.0520e+03, 7.4600e+02, 4.7100e+02,\n",
       "        3.2700e+02, 2.2800e+02, 1.7600e+02, 1.3000e+02, 1.0900e+02,\n",
       "        5.0000e+01, 4.0000e+01, 3.9000e+01, 2.3000e+01]),\n",
       " array([  0,   5,  10,  15,  20,  25,  30,  35,  40,  45,  50,  55,  60,\n",
       "         65,  70,  75,  80,  85,  90,  95, 100, 105, 110, 115, 120]),\n",
       " <BarContainer object of 24 artists>)"
      ]
     },
     "execution_count": 13,
     "metadata": {},
     "output_type": "execute_result"
    },
    {
     "data": {
      "image/png": "[encoded data removed]",
      "text/plain": [
       "<Figure size 432x288 with 1 Axes>"
      ]
     },
     "metadata": {
      "needs_background": "light"
     },
     "output_type": "display_data"
    }
   ],
   "source": [
    "plt.hist(routes['distance_miles'], bins=5*np.arange(0, 25))"
   ]
  },
  {
   "cell_type": "markdown",
   "metadata": {},
   "source": [
    "### Manage Runs"
   ]
  },
  {
   "cell_type": "code",
   "execution_count": 14,
   "metadata": {},
   "outputs": [
    {
     "name": "stderr",
     "output_type": "stream",
     "text": [
      "2022-05-26 08:45:25|INFO|pipe_db_handler.py(64)|upload_table|Error uploading table to t_run_allocation\n"
     ]
    },
    {
     "ename": "IntegrityError",
     "evalue": "(psycopg2.errors.UniqueViolation) duplicate key value violates unique constraint \"t_run_allocation_pkey\"\nDETAIL:  Key (run_id)=(176) already exists.\n\n[SQL: INSERT INTO t_run_allocation (run_id, client_id, allocation_app, allocation_version, sites, start_date, end_date, vehicles, xmpg_change, chargers, route_table, cap_vehicles, mixed_fleet, source, num_v) VALUES (%(run_id)s, %(client_id)s, %(allocation_app)s, %(allocation_version)s, %(sites)s, %(start_date)s, %(end_date)s, %(vehicles)s, %(xmpg_change)s, %(chargers)s, %(route_table)s, %(cap_vehicles)s, %(mixed_fleet)s, %(source)s, %(num_v)s)]\n[parameters: ({'run_id': 176, 'client_id': 5, 'allocation_app': 'allocate.py', 'allocation_version': None, 'sites': '[179, 180, 186, 188, 191, 192]', 'start_date': datetime.datetime(2020, 12, 3, 0, 0), 'end_date': datetime.datetime(2021, 12, 3, 0, 0), 'vehicles': '[[], [28]]', 'xmpg_change': -21.0, 'chargers': '[22, 50]', 'route_table': 't_route_master', 'cap_vehicles': False, 'mixed_fleet': '[]', 'source': 1, 'num_v': None}, {'run_id': 177, 'client_id': 5, 'allocation_app': 'allocate.py', 'allocation_version': None, 'sites': '[179, 180, 186, 188, 191, 192]', 'start_date': datetime.datetime(2020, 12, 3, 0, 0), 'end_date': datetime.datetime(2021, 12, 3, 0, 0), 'vehicles': '[[], [28]]', 'xmpg_change': -51.3, 'chargers': '[22, 50]', 'route_table': 't_route_master', 'cap_vehicles': False, 'mixed_fleet': '[]', 'source': 1, 'num_v': None}, {'run_id': 178, 'client_id': 5, 'allocation_app': 'allocate.py', 'allocation_version': None, 'sites': '[179, 180, 186, 188, 191, 192]', 'start_date': datetime.datetime(2020, 12, 3, 0, 0), 'end_date': datetime.datetime(2021, 12, 3, 0, 0), 'vehicles': '[[11], []]', 'xmpg_change': -21.0, 'chargers': '[0, 11]', 'route_table': 't_route_master', 'cap_vehicles': False, 'mixed_fleet': '[]', 'source': 1, 'num_v': None}, {'run_id': 179, 'client_id': 5, 'allocation_app': 'allocate.py', 'allocation_version': None, 'sites': '[179, 180, 186, 188, 191, 192]', 'start_date': datetime.datetime(2020, 12, 3, 0, 0), 'end_date': datetime.datetime(2021, 12, 3, 0, 0), 'vehicles': '[[11], []]', 'xmpg_change': -51.3, 'chargers': '[0, 11]', 'route_table': 't_route_master', 'cap_vehicles': False, 'mixed_fleet': '[]', 'source': 1, 'num_v': None}, {'run_id': 180, 'client_id': 5, 'allocation_app': 'allocate.py', 'allocation_version': None, 'sites': '[179, 180, 186, 188, 191, 192]', 'start_date': datetime.datetime(2020, 12, 3, 0, 0), 'end_date': datetime.datetime(2021, 12, 3, 0, 0), 'vehicles': '[[11], []]', 'xmpg_change': -21.0, 'chargers': '[11, 50]', 'route_table': 't_route_master', 'cap_vehicles': False, 'mixed_fleet': '[]', 'source': 1, 'num_v': None}, {'run_id': 181, 'client_id': 5, 'allocation_app': 'allocate.py', 'allocation_version': None, 'sites': '[179, 180, 186, 188, 191, 192]', 'start_date': datetime.datetime(2020, 12, 3, 0, 0), 'end_date': datetime.datetime(2021, 12, 3, 0, 0), 'vehicles': '[[33], []]', 'xmpg_change': -21.0, 'chargers': '[11, 50]', 'route_table': 't_route_master', 'cap_vehicles': False, 'mixed_fleet': '[]', 'source': 1, 'num_v': None}, {'run_id': 182, 'client_id': 5, 'allocation_app': 'allocate.py', 'allocation_version': None, 'sites': '[179, 180, 186, 188, 191, 192]', 'start_date': datetime.datetime(2020, 12, 3, 0, 0), 'end_date': datetime.datetime(2021, 12, 3, 0, 0), 'vehicles': '[[11], []]', 'xmpg_change': -51.3, 'chargers': '[11, 50]', 'route_table': 't_route_master', 'cap_vehicles': False, 'mixed_fleet': '[]', 'source': 1, 'num_v': None})]\n(Background on this error at: https://sqlalche.me/e/14/gkpj)",
     "output_type": "error",
     "traceback": [
      "\u001b[1;31m---------------------------------------------------------------------------\u001b[0m",
      "\u001b[1;31mUniqueViolation\u001b[0m                           Traceback (most recent call last)",
      "\u001b[1;32m~\\.conda\\envs\\pipetel\\lib\\site-packages\\sqlalchemy\\engine\\base.py\u001b[0m in \u001b[0;36m_execute_context\u001b[1;34m(self, dialect, constructor, statement, parameters, execution_options, *args, **kw)\u001b[0m\n\u001b[0;32m   1781\u001b[0m                 \u001b[1;32mif\u001b[0m \u001b[1;32mnot\u001b[0m \u001b[0mevt_handled\u001b[0m\u001b[1;33m:\u001b[0m\u001b[1;33m\u001b[0m\u001b[1;33m\u001b[0m\u001b[0m\n\u001b[1;32m-> 1782\u001b[1;33m                     self.dialect.do_executemany(\n\u001b[0m\u001b[0;32m   1783\u001b[0m                         \u001b[0mcursor\u001b[0m\u001b[1;33m,\u001b[0m \u001b[0mstatement\u001b[0m\u001b[1;33m,\u001b[0m \u001b[0mparameters\u001b[0m\u001b[1;33m,\u001b[0m \u001b[0mcontext\u001b[0m\u001b[1;33m\u001b[0m\u001b[1;33m\u001b[0m\u001b[0m\n",
      "\u001b[1;32m~\\.conda\\envs\\pipetel\\lib\\site-packages\\sqlalchemy\\dialects\\postgresql\\psycopg2.py\u001b[0m in \u001b[0;36mdo_executemany\u001b[1;34m(self, cursor, statement, parameters, context)\u001b[0m\n\u001b[0;32m    950\u001b[0m             \u001b[0mxtras\u001b[0m \u001b[1;33m=\u001b[0m \u001b[0mself\u001b[0m\u001b[1;33m.\u001b[0m\u001b[0m_psycopg2_extras\u001b[0m\u001b[1;33m(\u001b[0m\u001b[1;33m)\u001b[0m\u001b[1;33m\u001b[0m\u001b[1;33m\u001b[0m\u001b[0m\n\u001b[1;32m--> 951\u001b[1;33m             context._psycopg2_fetched_rows = xtras.execute_values(\n\u001b[0m\u001b[0;32m    952\u001b[0m                 \u001b[0mcursor\u001b[0m\u001b[1;33m,\u001b[0m\u001b[1;33m\u001b[0m\u001b[1;33m\u001b[0m\u001b[0m\n",
      "\u001b[1;32m~\\.conda\\envs\\pipetel\\lib\\site-packages\\psycopg2\\extras.py\u001b[0m in \u001b[0;36mexecute_values\u001b[1;34m(cur, sql, argslist, template, page_size, fetch)\u001b[0m\n\u001b[0;32m   1269\u001b[0m         \u001b[0mparts\u001b[0m\u001b[1;33m[\u001b[0m\u001b[1;33m-\u001b[0m\u001b[1;36m1\u001b[0m\u001b[1;33m:\u001b[0m\u001b[1;33m]\u001b[0m \u001b[1;33m=\u001b[0m \u001b[0mpost\u001b[0m\u001b[1;33m\u001b[0m\u001b[1;33m\u001b[0m\u001b[0m\n\u001b[1;32m-> 1270\u001b[1;33m         \u001b[0mcur\u001b[0m\u001b[1;33m.\u001b[0m\u001b[0mexecute\u001b[0m\u001b[1;33m(\u001b[0m\u001b[1;34mb''\u001b[0m\u001b[1;33m.\u001b[0m\u001b[0mjoin\u001b[0m\u001b[1;33m(\u001b[0m\u001b[0mparts\u001b[0m\u001b[1;33m)\u001b[0m\u001b[1;33m)\u001b[0m\u001b[1;33m\u001b[0m\u001b[1;33m\u001b[0m\u001b[0m\n\u001b[0m\u001b[0;32m   1271\u001b[0m         \u001b[1;32mif\u001b[0m \u001b[0mfetch\u001b[0m\u001b[1;33m:\u001b[0m\u001b[1;33m\u001b[0m\u001b[1;33m\u001b[0m\u001b[0m\n",
      "\u001b[1;31mUniqueViolation\u001b[0m: duplicate key value violates unique constraint \"t_run_allocation_pkey\"\nDETAIL:  Key (run_id)=(176) already exists.\n",
      "\nThe above exception was the direct cause of the following exception:\n",
      "\u001b[1;31mIntegrityError\u001b[0m                            Traceback (most recent call last)",
      "\u001b[1;32m~\\AppData\\Local\\Temp\\ipykernel_18260\\599679968.py\u001b[0m in \u001b[0;36m<module>\u001b[1;34m\u001b[0m\n\u001b[0;32m     17\u001b[0m \u001b[0mrun_id_diff\u001b[0m \u001b[1;33m=\u001b[0m \u001b[0mrun_table\u001b[0m\u001b[1;33m[\u001b[0m\u001b[1;34m'run_id'\u001b[0m\u001b[1;33m]\u001b[0m \u001b[1;33m-\u001b[0m \u001b[0mrun_table\u001b[0m\u001b[1;33m[\u001b[0m\u001b[1;34m'run_id'\u001b[0m\u001b[1;33m]\u001b[0m\u001b[1;33m.\u001b[0m\u001b[0mmin\u001b[0m\u001b[1;33m(\u001b[0m\u001b[1;33m)\u001b[0m\u001b[1;33m\u001b[0m\u001b[1;33m\u001b[0m\u001b[0m\n\u001b[0;32m     18\u001b[0m \u001b[0mrun_table\u001b[0m\u001b[1;33m[\u001b[0m\u001b[1;34m'run_id'\u001b[0m\u001b[1;33m]\u001b[0m \u001b[1;33m=\u001b[0m \u001b[0mnew_start_run\u001b[0m \u001b[1;33m+\u001b[0m \u001b[0mrun_id_diff\u001b[0m\u001b[1;33m\u001b[0m\u001b[1;33m\u001b[0m\u001b[0m\n\u001b[1;32m---> 19\u001b[1;33m \u001b[0mdbh\u001b[0m\u001b[1;33m.\u001b[0m\u001b[0mupload_table\u001b[0m\u001b[1;33m(\u001b[0m\u001b[0mrun_table\u001b[0m\u001b[1;33m,\u001b[0m \u001b[1;34m't_run_allocation'\u001b[0m\u001b[1;33m)\u001b[0m\u001b[1;33m\u001b[0m\u001b[1;33m\u001b[0m\u001b[0m\n\u001b[0m\u001b[0;32m     20\u001b[0m \u001b[0mcnx\u001b[0m\u001b[1;33m.\u001b[0m\u001b[0mdispose\u001b[0m\u001b[1;33m(\u001b[0m\u001b[1;33m)\u001b[0m\u001b[1;33m\u001b[0m\u001b[1;33m\u001b[0m\u001b[0m\n\u001b[0;32m     21\u001b[0m \u001b[0mrun_table\u001b[0m\u001b[1;33m\u001b[0m\u001b[1;33m\u001b[0m\u001b[0m\n",
      "\u001b[1;32mc:\\Users\\SofiaTaylor\\OneDrive - Flexible Power Systems Ltd\\dev\\fps_pipeline_plan\\functions\\shared_functions\\allocation\\pipeline_plan_functions\\utils\\pipe_db_handler.py\u001b[0m in \u001b[0;36mupload_table\u001b[1;34m(df, table)\u001b[0m\n\u001b[0;32m     63\u001b[0m     \u001b[1;32mexcept\u001b[0m \u001b[0mException\u001b[0m \u001b[1;32mas\u001b[0m \u001b[0me\u001b[0m\u001b[1;33m:\u001b[0m\u001b[1;33m\u001b[0m\u001b[1;33m\u001b[0m\u001b[0m\n\u001b[0;32m     64\u001b[0m         \u001b[0mlogger\u001b[0m\u001b[1;33m.\u001b[0m\u001b[0minfo\u001b[0m\u001b[1;33m(\u001b[0m\u001b[1;34mf\"Error uploading table to {table}\"\u001b[0m\u001b[1;33m)\u001b[0m\u001b[1;33m\u001b[0m\u001b[1;33m\u001b[0m\u001b[0m\n\u001b[1;32m---> 65\u001b[1;33m         \u001b[1;32mraise\u001b[0m \u001b[0me\u001b[0m\u001b[1;33m\u001b[0m\u001b[1;33m\u001b[0m\u001b[0m\n\u001b[0m\u001b[0;32m     66\u001b[0m     \u001b[1;32mfinally\u001b[0m\u001b[1;33m:\u001b[0m\u001b[1;33m\u001b[0m\u001b[1;33m\u001b[0m\u001b[0m\n\u001b[0;32m     67\u001b[0m         \u001b[0mcnx\u001b[0m\u001b[1;33m.\u001b[0m\u001b[0mdispose\u001b[0m\u001b[1;33m(\u001b[0m\u001b[1;33m)\u001b[0m\u001b[1;33m\u001b[0m\u001b[1;33m\u001b[0m\u001b[0m\n",
      "\u001b[1;32mc:\\Users\\SofiaTaylor\\OneDrive - Flexible Power Systems Ltd\\dev\\fps_pipeline_plan\\functions\\shared_functions\\allocation\\pipeline_plan_functions\\utils\\pipe_db_handler.py\u001b[0m in \u001b[0;36mupload_table\u001b[1;34m(df, table)\u001b[0m\n\u001b[0;32m     59\u001b[0m     \u001b[1;32mtry\u001b[0m\u001b[1;33m:\u001b[0m\u001b[1;33m\u001b[0m\u001b[1;33m\u001b[0m\u001b[0m\n\u001b[0;32m     60\u001b[0m         \u001b[0mcnx\u001b[0m \u001b[1;33m=\u001b[0m \u001b[0mcreate_alch_engine\u001b[0m\u001b[1;33m(\u001b[0m\u001b[1;33m)\u001b[0m\u001b[1;33m\u001b[0m\u001b[1;33m\u001b[0m\u001b[0m\n\u001b[1;32m---> 61\u001b[1;33m         \u001b[0mdf\u001b[0m\u001b[1;33m.\u001b[0m\u001b[0mto_sql\u001b[0m\u001b[1;33m(\u001b[0m\u001b[0mtable\u001b[0m\u001b[1;33m,\u001b[0m \u001b[0mcon\u001b[0m\u001b[1;33m=\u001b[0m\u001b[0mcnx\u001b[0m\u001b[1;33m,\u001b[0m \u001b[0mif_exists\u001b[0m\u001b[1;33m=\u001b[0m\u001b[1;34m'append'\u001b[0m\u001b[1;33m,\u001b[0m \u001b[0mindex\u001b[0m\u001b[1;33m=\u001b[0m\u001b[1;32mFalse\u001b[0m\u001b[1;33m)\u001b[0m\u001b[1;33m\u001b[0m\u001b[1;33m\u001b[0m\u001b[0m\n\u001b[0m\u001b[0;32m     62\u001b[0m         \u001b[0mlogger\u001b[0m\u001b[1;33m.\u001b[0m\u001b[0mdebug\u001b[0m\u001b[1;33m(\u001b[0m\u001b[1;34mf\"Uploaded to {table}\"\u001b[0m\u001b[1;33m)\u001b[0m\u001b[1;33m\u001b[0m\u001b[1;33m\u001b[0m\u001b[0m\n\u001b[0;32m     63\u001b[0m     \u001b[1;32mexcept\u001b[0m \u001b[0mException\u001b[0m \u001b[1;32mas\u001b[0m \u001b[0me\u001b[0m\u001b[1;33m:\u001b[0m\u001b[1;33m\u001b[0m\u001b[1;33m\u001b[0m\u001b[0m\n",
      "\u001b[1;32m~\\.conda\\envs\\pipetel\\lib\\site-packages\\pandas\\core\\generic.py\u001b[0m in \u001b[0;36mto_sql\u001b[1;34m(self, name, con, schema, if_exists, index, index_label, chunksize, dtype, method)\u001b[0m\n\u001b[0;32m   2961\u001b[0m         \u001b[1;32mfrom\u001b[0m \u001b[0mpandas\u001b[0m\u001b[1;33m.\u001b[0m\u001b[0mio\u001b[0m \u001b[1;32mimport\u001b[0m \u001b[0msql\u001b[0m\u001b[1;33m\u001b[0m\u001b[1;33m\u001b[0m\u001b[0m\n\u001b[0;32m   2962\u001b[0m \u001b[1;33m\u001b[0m\u001b[0m\n\u001b[1;32m-> 2963\u001b[1;33m         return sql.to_sql(\n\u001b[0m\u001b[0;32m   2964\u001b[0m             \u001b[0mself\u001b[0m\u001b[1;33m,\u001b[0m\u001b[1;33m\u001b[0m\u001b[1;33m\u001b[0m\u001b[0m\n\u001b[0;32m   2965\u001b[0m             \u001b[0mname\u001b[0m\u001b[1;33m,\u001b[0m\u001b[1;33m\u001b[0m\u001b[1;33m\u001b[0m\u001b[0m\n",
      "\u001b[1;32m~\\.conda\\envs\\pipetel\\lib\\site-packages\\pandas\\io\\sql.py\u001b[0m in \u001b[0;36mto_sql\u001b[1;34m(frame, name, con, schema, if_exists, index, index_label, chunksize, dtype, method, engine, **engine_kwargs)\u001b[0m\n\u001b[0;32m    695\u001b[0m         )\n\u001b[0;32m    696\u001b[0m \u001b[1;33m\u001b[0m\u001b[0m\n\u001b[1;32m--> 697\u001b[1;33m     return pandas_sql.to_sql(\n\u001b[0m\u001b[0;32m    698\u001b[0m         \u001b[0mframe\u001b[0m\u001b[1;33m,\u001b[0m\u001b[1;33m\u001b[0m\u001b[1;33m\u001b[0m\u001b[0m\n\u001b[0;32m    699\u001b[0m         \u001b[0mname\u001b[0m\u001b[1;33m,\u001b[0m\u001b[1;33m\u001b[0m\u001b[1;33m\u001b[0m\u001b[0m\n",
      "\u001b[1;32m~\\.conda\\envs\\pipetel\\lib\\site-packages\\pandas\\io\\sql.py\u001b[0m in \u001b[0;36mto_sql\u001b[1;34m(self, frame, name, if_exists, index, index_label, schema, chunksize, dtype, method, engine, **engine_kwargs)\u001b[0m\n\u001b[0;32m   1737\u001b[0m         )\n\u001b[0;32m   1738\u001b[0m \u001b[1;33m\u001b[0m\u001b[0m\n\u001b[1;32m-> 1739\u001b[1;33m         total_inserted = sql_engine.insert_records(\n\u001b[0m\u001b[0;32m   1740\u001b[0m             \u001b[0mtable\u001b[0m\u001b[1;33m=\u001b[0m\u001b[0mtable\u001b[0m\u001b[1;33m,\u001b[0m\u001b[1;33m\u001b[0m\u001b[1;33m\u001b[0m\u001b[0m\n\u001b[0;32m   1741\u001b[0m             \u001b[0mcon\u001b[0m\u001b[1;33m=\u001b[0m\u001b[0mself\u001b[0m\u001b[1;33m.\u001b[0m\u001b[0mconnectable\u001b[0m\u001b[1;33m,\u001b[0m\u001b[1;33m\u001b[0m\u001b[1;33m\u001b[0m\u001b[0m\n",
      "\u001b[1;32m~\\.conda\\envs\\pipetel\\lib\\site-packages\\pandas\\io\\sql.py\u001b[0m in \u001b[0;36minsert_records\u001b[1;34m(self, table, con, frame, name, index, schema, chunksize, method, **engine_kwargs)\u001b[0m\n\u001b[0;32m   1330\u001b[0m                 \u001b[1;32mraise\u001b[0m \u001b[0mValueError\u001b[0m\u001b[1;33m(\u001b[0m\u001b[1;34m\"inf cannot be used with MySQL\"\u001b[0m\u001b[1;33m)\u001b[0m \u001b[1;32mfrom\u001b[0m \u001b[0merr\u001b[0m\u001b[1;33m\u001b[0m\u001b[1;33m\u001b[0m\u001b[0m\n\u001b[0;32m   1331\u001b[0m             \u001b[1;32melse\u001b[0m\u001b[1;33m:\u001b[0m\u001b[1;33m\u001b[0m\u001b[1;33m\u001b[0m\u001b[0m\n\u001b[1;32m-> 1332\u001b[1;33m                 \u001b[1;32mraise\u001b[0m \u001b[0merr\u001b[0m\u001b[1;33m\u001b[0m\u001b[1;33m\u001b[0m\u001b[0m\n\u001b[0m\u001b[0;32m   1333\u001b[0m \u001b[1;33m\u001b[0m\u001b[0m\n\u001b[0;32m   1334\u001b[0m \u001b[1;33m\u001b[0m\u001b[0m\n",
      "\u001b[1;32m~\\.conda\\envs\\pipetel\\lib\\site-packages\\pandas\\io\\sql.py\u001b[0m in \u001b[0;36minsert_records\u001b[1;34m(self, table, con, frame, name, index, schema, chunksize, method, **engine_kwargs)\u001b[0m\n\u001b[0;32m   1320\u001b[0m \u001b[1;33m\u001b[0m\u001b[0m\n\u001b[0;32m   1321\u001b[0m         \u001b[1;32mtry\u001b[0m\u001b[1;33m:\u001b[0m\u001b[1;33m\u001b[0m\u001b[1;33m\u001b[0m\u001b[0m\n\u001b[1;32m-> 1322\u001b[1;33m             \u001b[1;32mreturn\u001b[0m \u001b[0mtable\u001b[0m\u001b[1;33m.\u001b[0m\u001b[0minsert\u001b[0m\u001b[1;33m(\u001b[0m\u001b[0mchunksize\u001b[0m\u001b[1;33m=\u001b[0m\u001b[0mchunksize\u001b[0m\u001b[1;33m,\u001b[0m \u001b[0mmethod\u001b[0m\u001b[1;33m=\u001b[0m\u001b[0mmethod\u001b[0m\u001b[1;33m)\u001b[0m\u001b[1;33m\u001b[0m\u001b[1;33m\u001b[0m\u001b[0m\n\u001b[0m\u001b[0;32m   1323\u001b[0m         \u001b[1;32mexcept\u001b[0m \u001b[0mexc\u001b[0m\u001b[1;33m.\u001b[0m\u001b[0mSQLAlchemyError\u001b[0m \u001b[1;32mas\u001b[0m \u001b[0merr\u001b[0m\u001b[1;33m:\u001b[0m\u001b[1;33m\u001b[0m\u001b[1;33m\u001b[0m\u001b[0m\n\u001b[0;32m   1324\u001b[0m             \u001b[1;31m# GH34431\u001b[0m\u001b[1;33m\u001b[0m\u001b[1;33m\u001b[0m\u001b[0m\n",
      "\u001b[1;32m~\\.conda\\envs\\pipetel\\lib\\site-packages\\pandas\\io\\sql.py\u001b[0m in \u001b[0;36minsert\u001b[1;34m(self, chunksize, method)\u001b[0m\n\u001b[0;32m    948\u001b[0m \u001b[1;33m\u001b[0m\u001b[0m\n\u001b[0;32m    949\u001b[0m                 \u001b[0mchunk_iter\u001b[0m \u001b[1;33m=\u001b[0m \u001b[0mzip\u001b[0m\u001b[1;33m(\u001b[0m\u001b[1;33m*\u001b[0m\u001b[1;33m(\u001b[0m\u001b[0marr\u001b[0m\u001b[1;33m[\u001b[0m\u001b[0mstart_i\u001b[0m\u001b[1;33m:\u001b[0m\u001b[0mend_i\u001b[0m\u001b[1;33m]\u001b[0m \u001b[1;32mfor\u001b[0m \u001b[0marr\u001b[0m \u001b[1;32min\u001b[0m \u001b[0mdata_list\u001b[0m\u001b[1;33m)\u001b[0m\u001b[1;33m)\u001b[0m\u001b[1;33m\u001b[0m\u001b[1;33m\u001b[0m\u001b[0m\n\u001b[1;32m--> 950\u001b[1;33m                 \u001b[0mnum_inserted\u001b[0m \u001b[1;33m=\u001b[0m \u001b[0mexec_insert\u001b[0m\u001b[1;33m(\u001b[0m\u001b[0mconn\u001b[0m\u001b[1;33m,\u001b[0m \u001b[0mkeys\u001b[0m\u001b[1;33m,\u001b[0m \u001b[0mchunk_iter\u001b[0m\u001b[1;33m)\u001b[0m\u001b[1;33m\u001b[0m\u001b[1;33m\u001b[0m\u001b[0m\n\u001b[0m\u001b[0;32m    951\u001b[0m                 \u001b[1;32mif\u001b[0m \u001b[0mnum_inserted\u001b[0m \u001b[1;32mis\u001b[0m \u001b[1;32mNone\u001b[0m\u001b[1;33m:\u001b[0m\u001b[1;33m\u001b[0m\u001b[1;33m\u001b[0m\u001b[0m\n\u001b[0;32m    952\u001b[0m                     \u001b[0mtotal_inserted\u001b[0m \u001b[1;33m=\u001b[0m \u001b[1;32mNone\u001b[0m\u001b[1;33m\u001b[0m\u001b[1;33m\u001b[0m\u001b[0m\n",
      "\u001b[1;32m~\\.conda\\envs\\pipetel\\lib\\site-packages\\pandas\\io\\sql.py\u001b[0m in \u001b[0;36m_execute_insert\u001b[1;34m(self, conn, keys, data_iter)\u001b[0m\n\u001b[0;32m    855\u001b[0m         \"\"\"\n\u001b[0;32m    856\u001b[0m         \u001b[0mdata\u001b[0m \u001b[1;33m=\u001b[0m \u001b[1;33m[\u001b[0m\u001b[0mdict\u001b[0m\u001b[1;33m(\u001b[0m\u001b[0mzip\u001b[0m\u001b[1;33m(\u001b[0m\u001b[0mkeys\u001b[0m\u001b[1;33m,\u001b[0m \u001b[0mrow\u001b[0m\u001b[1;33m)\u001b[0m\u001b[1;33m)\u001b[0m \u001b[1;32mfor\u001b[0m \u001b[0mrow\u001b[0m \u001b[1;32min\u001b[0m \u001b[0mdata_iter\u001b[0m\u001b[1;33m]\u001b[0m\u001b[1;33m\u001b[0m\u001b[1;33m\u001b[0m\u001b[0m\n\u001b[1;32m--> 857\u001b[1;33m         \u001b[0mresult\u001b[0m \u001b[1;33m=\u001b[0m \u001b[0mconn\u001b[0m\u001b[1;33m.\u001b[0m\u001b[0mexecute\u001b[0m\u001b[1;33m(\u001b[0m\u001b[0mself\u001b[0m\u001b[1;33m.\u001b[0m\u001b[0mtable\u001b[0m\u001b[1;33m.\u001b[0m\u001b[0minsert\u001b[0m\u001b[1;33m(\u001b[0m\u001b[1;33m)\u001b[0m\u001b[1;33m,\u001b[0m \u001b[0mdata\u001b[0m\u001b[1;33m)\u001b[0m\u001b[1;33m\u001b[0m\u001b[1;33m\u001b[0m\u001b[0m\n\u001b[0m\u001b[0;32m    858\u001b[0m         \u001b[1;32mreturn\u001b[0m \u001b[0mresult\u001b[0m\u001b[1;33m.\u001b[0m\u001b[0mrowcount\u001b[0m\u001b[1;33m\u001b[0m\u001b[1;33m\u001b[0m\u001b[0m\n\u001b[0;32m    859\u001b[0m \u001b[1;33m\u001b[0m\u001b[0m\n",
      "\u001b[1;32m~\\.conda\\envs\\pipetel\\lib\\site-packages\\sqlalchemy\\engine\\base.py\u001b[0m in \u001b[0;36mexecute\u001b[1;34m(self, statement, *multiparams, **params)\u001b[0m\n\u001b[0;32m   1287\u001b[0m             )\n\u001b[0;32m   1288\u001b[0m         \u001b[1;32melse\u001b[0m\u001b[1;33m:\u001b[0m\u001b[1;33m\u001b[0m\u001b[1;33m\u001b[0m\u001b[0m\n\u001b[1;32m-> 1289\u001b[1;33m             \u001b[1;32mreturn\u001b[0m \u001b[0mmeth\u001b[0m\u001b[1;33m(\u001b[0m\u001b[0mself\u001b[0m\u001b[1;33m,\u001b[0m \u001b[0mmultiparams\u001b[0m\u001b[1;33m,\u001b[0m \u001b[0mparams\u001b[0m\u001b[1;33m,\u001b[0m \u001b[0m_EMPTY_EXECUTION_OPTS\u001b[0m\u001b[1;33m)\u001b[0m\u001b[1;33m\u001b[0m\u001b[1;33m\u001b[0m\u001b[0m\n\u001b[0m\u001b[0;32m   1290\u001b[0m \u001b[1;33m\u001b[0m\u001b[0m\n\u001b[0;32m   1291\u001b[0m     \u001b[1;32mdef\u001b[0m \u001b[0m_execute_function\u001b[0m\u001b[1;33m(\u001b[0m\u001b[0mself\u001b[0m\u001b[1;33m,\u001b[0m \u001b[0mfunc\u001b[0m\u001b[1;33m,\u001b[0m \u001b[0mmultiparams\u001b[0m\u001b[1;33m,\u001b[0m \u001b[0mparams\u001b[0m\u001b[1;33m,\u001b[0m \u001b[0mexecution_options\u001b[0m\u001b[1;33m)\u001b[0m\u001b[1;33m:\u001b[0m\u001b[1;33m\u001b[0m\u001b[1;33m\u001b[0m\u001b[0m\n",
      "\u001b[1;32m~\\.conda\\envs\\pipetel\\lib\\site-packages\\sqlalchemy\\sql\\elements.py\u001b[0m in \u001b[0;36m_execute_on_connection\u001b[1;34m(self, connection, multiparams, params, execution_options, _force)\u001b[0m\n\u001b[0;32m    323\u001b[0m     ):\n\u001b[0;32m    324\u001b[0m         \u001b[1;32mif\u001b[0m \u001b[0m_force\u001b[0m \u001b[1;32mor\u001b[0m \u001b[0mself\u001b[0m\u001b[1;33m.\u001b[0m\u001b[0msupports_execution\u001b[0m\u001b[1;33m:\u001b[0m\u001b[1;33m\u001b[0m\u001b[1;33m\u001b[0m\u001b[0m\n\u001b[1;32m--> 325\u001b[1;33m             return connection._execute_clauseelement(\n\u001b[0m\u001b[0;32m    326\u001b[0m                 \u001b[0mself\u001b[0m\u001b[1;33m,\u001b[0m \u001b[0mmultiparams\u001b[0m\u001b[1;33m,\u001b[0m \u001b[0mparams\u001b[0m\u001b[1;33m,\u001b[0m \u001b[0mexecution_options\u001b[0m\u001b[1;33m\u001b[0m\u001b[1;33m\u001b[0m\u001b[0m\n\u001b[0;32m    327\u001b[0m             )\n",
      "\u001b[1;32m~\\.conda\\envs\\pipetel\\lib\\site-packages\\sqlalchemy\\engine\\base.py\u001b[0m in \u001b[0;36m_execute_clauseelement\u001b[1;34m(self, elem, multiparams, params, execution_options)\u001b[0m\n\u001b[0;32m   1479\u001b[0m             \u001b[0mlinting\u001b[0m\u001b[1;33m=\u001b[0m\u001b[0mself\u001b[0m\u001b[1;33m.\u001b[0m\u001b[0mdialect\u001b[0m\u001b[1;33m.\u001b[0m\u001b[0mcompiler_linting\u001b[0m \u001b[1;33m|\u001b[0m \u001b[0mcompiler\u001b[0m\u001b[1;33m.\u001b[0m\u001b[0mWARN_LINTING\u001b[0m\u001b[1;33m,\u001b[0m\u001b[1;33m\u001b[0m\u001b[1;33m\u001b[0m\u001b[0m\n\u001b[0;32m   1480\u001b[0m         )\n\u001b[1;32m-> 1481\u001b[1;33m         ret = self._execute_context(\n\u001b[0m\u001b[0;32m   1482\u001b[0m             \u001b[0mdialect\u001b[0m\u001b[1;33m,\u001b[0m\u001b[1;33m\u001b[0m\u001b[1;33m\u001b[0m\u001b[0m\n\u001b[0;32m   1483\u001b[0m             \u001b[0mdialect\u001b[0m\u001b[1;33m.\u001b[0m\u001b[0mexecution_ctx_cls\u001b[0m\u001b[1;33m.\u001b[0m\u001b[0m_init_compiled\u001b[0m\u001b[1;33m,\u001b[0m\u001b[1;33m\u001b[0m\u001b[1;33m\u001b[0m\u001b[0m\n",
      "\u001b[1;32m~\\.conda\\envs\\pipetel\\lib\\site-packages\\sqlalchemy\\engine\\base.py\u001b[0m in \u001b[0;36m_execute_context\u001b[1;34m(self, dialect, constructor, statement, parameters, execution_options, *args, **kw)\u001b[0m\n\u001b[0;32m   1843\u001b[0m \u001b[1;33m\u001b[0m\u001b[0m\n\u001b[0;32m   1844\u001b[0m         \u001b[1;32mexcept\u001b[0m \u001b[0mBaseException\u001b[0m \u001b[1;32mas\u001b[0m \u001b[0me\u001b[0m\u001b[1;33m:\u001b[0m\u001b[1;33m\u001b[0m\u001b[1;33m\u001b[0m\u001b[0m\n\u001b[1;32m-> 1845\u001b[1;33m             self._handle_dbapi_exception(\n\u001b[0m\u001b[0;32m   1846\u001b[0m                 \u001b[0me\u001b[0m\u001b[1;33m,\u001b[0m \u001b[0mstatement\u001b[0m\u001b[1;33m,\u001b[0m \u001b[0mparameters\u001b[0m\u001b[1;33m,\u001b[0m \u001b[0mcursor\u001b[0m\u001b[1;33m,\u001b[0m \u001b[0mcontext\u001b[0m\u001b[1;33m\u001b[0m\u001b[1;33m\u001b[0m\u001b[0m\n\u001b[0;32m   1847\u001b[0m             )\n",
      "\u001b[1;32m~\\.conda\\envs\\pipetel\\lib\\site-packages\\sqlalchemy\\engine\\base.py\u001b[0m in \u001b[0;36m_handle_dbapi_exception\u001b[1;34m(self, e, statement, parameters, cursor, context)\u001b[0m\n\u001b[0;32m   2024\u001b[0m                 \u001b[0mutil\u001b[0m\u001b[1;33m.\u001b[0m\u001b[0mraise_\u001b[0m\u001b[1;33m(\u001b[0m\u001b[0mnewraise\u001b[0m\u001b[1;33m,\u001b[0m \u001b[0mwith_traceback\u001b[0m\u001b[1;33m=\u001b[0m\u001b[0mexc_info\u001b[0m\u001b[1;33m[\u001b[0m\u001b[1;36m2\u001b[0m\u001b[1;33m]\u001b[0m\u001b[1;33m,\u001b[0m \u001b[0mfrom_\u001b[0m\u001b[1;33m=\u001b[0m\u001b[0me\u001b[0m\u001b[1;33m)\u001b[0m\u001b[1;33m\u001b[0m\u001b[1;33m\u001b[0m\u001b[0m\n\u001b[0;32m   2025\u001b[0m             \u001b[1;32melif\u001b[0m \u001b[0mshould_wrap\u001b[0m\u001b[1;33m:\u001b[0m\u001b[1;33m\u001b[0m\u001b[1;33m\u001b[0m\u001b[0m\n\u001b[1;32m-> 2026\u001b[1;33m                 util.raise_(\n\u001b[0m\u001b[0;32m   2027\u001b[0m                     \u001b[0msqlalchemy_exception\u001b[0m\u001b[1;33m,\u001b[0m \u001b[0mwith_traceback\u001b[0m\u001b[1;33m=\u001b[0m\u001b[0mexc_info\u001b[0m\u001b[1;33m[\u001b[0m\u001b[1;36m2\u001b[0m\u001b[1;33m]\u001b[0m\u001b[1;33m,\u001b[0m \u001b[0mfrom_\u001b[0m\u001b[1;33m=\u001b[0m\u001b[0me\u001b[0m\u001b[1;33m\u001b[0m\u001b[1;33m\u001b[0m\u001b[0m\n\u001b[0;32m   2028\u001b[0m                 )\n",
      "\u001b[1;32m~\\.conda\\envs\\pipetel\\lib\\site-packages\\sqlalchemy\\util\\compat.py\u001b[0m in \u001b[0;36mraise_\u001b[1;34m(***failed resolving arguments***)\u001b[0m\n\u001b[0;32m    205\u001b[0m \u001b[1;33m\u001b[0m\u001b[0m\n\u001b[0;32m    206\u001b[0m         \u001b[1;32mtry\u001b[0m\u001b[1;33m:\u001b[0m\u001b[1;33m\u001b[0m\u001b[1;33m\u001b[0m\u001b[0m\n\u001b[1;32m--> 207\u001b[1;33m             \u001b[1;32mraise\u001b[0m \u001b[0mexception\u001b[0m\u001b[1;33m\u001b[0m\u001b[1;33m\u001b[0m\u001b[0m\n\u001b[0m\u001b[0;32m    208\u001b[0m         \u001b[1;32mfinally\u001b[0m\u001b[1;33m:\u001b[0m\u001b[1;33m\u001b[0m\u001b[1;33m\u001b[0m\u001b[0m\n\u001b[0;32m    209\u001b[0m             \u001b[1;31m# credit to\u001b[0m\u001b[1;33m\u001b[0m\u001b[1;33m\u001b[0m\u001b[0m\n",
      "\u001b[1;32m~\\.conda\\envs\\pipetel\\lib\\site-packages\\sqlalchemy\\engine\\base.py\u001b[0m in \u001b[0;36m_execute_context\u001b[1;34m(self, dialect, constructor, statement, parameters, execution_options, *args, **kw)\u001b[0m\n\u001b[0;32m   1780\u001b[0m                             \u001b[1;32mbreak\u001b[0m\u001b[1;33m\u001b[0m\u001b[1;33m\u001b[0m\u001b[0m\n\u001b[0;32m   1781\u001b[0m                 \u001b[1;32mif\u001b[0m \u001b[1;32mnot\u001b[0m \u001b[0mevt_handled\u001b[0m\u001b[1;33m:\u001b[0m\u001b[1;33m\u001b[0m\u001b[1;33m\u001b[0m\u001b[0m\n\u001b[1;32m-> 1782\u001b[1;33m                     self.dialect.do_executemany(\n\u001b[0m\u001b[0;32m   1783\u001b[0m                         \u001b[0mcursor\u001b[0m\u001b[1;33m,\u001b[0m \u001b[0mstatement\u001b[0m\u001b[1;33m,\u001b[0m \u001b[0mparameters\u001b[0m\u001b[1;33m,\u001b[0m \u001b[0mcontext\u001b[0m\u001b[1;33m\u001b[0m\u001b[1;33m\u001b[0m\u001b[0m\n\u001b[0;32m   1784\u001b[0m                     )\n",
      "\u001b[1;32m~\\.conda\\envs\\pipetel\\lib\\site-packages\\sqlalchemy\\dialects\\postgresql\\psycopg2.py\u001b[0m in \u001b[0;36mdo_executemany\u001b[1;34m(self, cursor, statement, parameters, context)\u001b[0m\n\u001b[0;32m    949\u001b[0m                 \u001b[0mkwargs\u001b[0m \u001b[1;33m=\u001b[0m \u001b[1;33m{\u001b[0m\u001b[1;33m}\u001b[0m\u001b[1;33m\u001b[0m\u001b[1;33m\u001b[0m\u001b[0m\n\u001b[0;32m    950\u001b[0m             \u001b[0mxtras\u001b[0m \u001b[1;33m=\u001b[0m \u001b[0mself\u001b[0m\u001b[1;33m.\u001b[0m\u001b[0m_psycopg2_extras\u001b[0m\u001b[1;33m(\u001b[0m\u001b[1;33m)\u001b[0m\u001b[1;33m\u001b[0m\u001b[1;33m\u001b[0m\u001b[0m\n\u001b[1;32m--> 951\u001b[1;33m             context._psycopg2_fetched_rows = xtras.execute_values(\n\u001b[0m\u001b[0;32m    952\u001b[0m                 \u001b[0mcursor\u001b[0m\u001b[1;33m,\u001b[0m\u001b[1;33m\u001b[0m\u001b[1;33m\u001b[0m\u001b[0m\n\u001b[0;32m    953\u001b[0m                 \u001b[0mstatement\u001b[0m\u001b[1;33m,\u001b[0m\u001b[1;33m\u001b[0m\u001b[1;33m\u001b[0m\u001b[0m\n",
      "\u001b[1;32m~\\.conda\\envs\\pipetel\\lib\\site-packages\\psycopg2\\extras.py\u001b[0m in \u001b[0;36mexecute_values\u001b[1;34m(cur, sql, argslist, template, page_size, fetch)\u001b[0m\n\u001b[0;32m   1268\u001b[0m             \u001b[0mparts\u001b[0m\u001b[1;33m.\u001b[0m\u001b[0mappend\u001b[0m\u001b[1;33m(\u001b[0m\u001b[1;34mb','\u001b[0m\u001b[1;33m)\u001b[0m\u001b[1;33m\u001b[0m\u001b[1;33m\u001b[0m\u001b[0m\n\u001b[0;32m   1269\u001b[0m         \u001b[0mparts\u001b[0m\u001b[1;33m[\u001b[0m\u001b[1;33m-\u001b[0m\u001b[1;36m1\u001b[0m\u001b[1;33m:\u001b[0m\u001b[1;33m]\u001b[0m \u001b[1;33m=\u001b[0m \u001b[0mpost\u001b[0m\u001b[1;33m\u001b[0m\u001b[1;33m\u001b[0m\u001b[0m\n\u001b[1;32m-> 1270\u001b[1;33m         \u001b[0mcur\u001b[0m\u001b[1;33m.\u001b[0m\u001b[0mexecute\u001b[0m\u001b[1;33m(\u001b[0m\u001b[1;34mb''\u001b[0m\u001b[1;33m.\u001b[0m\u001b[0mjoin\u001b[0m\u001b[1;33m(\u001b[0m\u001b[0mparts\u001b[0m\u001b[1;33m)\u001b[0m\u001b[1;33m)\u001b[0m\u001b[1;33m\u001b[0m\u001b[1;33m\u001b[0m\u001b[0m\n\u001b[0m\u001b[0;32m   1271\u001b[0m         \u001b[1;32mif\u001b[0m \u001b[0mfetch\u001b[0m\u001b[1;33m:\u001b[0m\u001b[1;33m\u001b[0m\u001b[1;33m\u001b[0m\u001b[0m\n\u001b[0;32m   1272\u001b[0m             \u001b[0mresult\u001b[0m\u001b[1;33m.\u001b[0m\u001b[0mextend\u001b[0m\u001b[1;33m(\u001b[0m\u001b[0mcur\u001b[0m\u001b[1;33m.\u001b[0m\u001b[0mfetchall\u001b[0m\u001b[1;33m(\u001b[0m\u001b[1;33m)\u001b[0m\u001b[1;33m)\u001b[0m\u001b[1;33m\u001b[0m\u001b[1;33m\u001b[0m\u001b[0m\n",
      "\u001b[1;31mIntegrityError\u001b[0m: (psycopg2.errors.UniqueViolation) duplicate key value violates unique constraint \"t_run_allocation_pkey\"\nDETAIL:  Key (run_id)=(176) already exists.\n\n[SQL: INSERT INTO t_run_allocation (run_id, client_id, allocation_app, allocation_version, sites, start_date, end_date, vehicles, xmpg_change, chargers, route_table, cap_vehicles, mixed_fleet, source, num_v) VALUES (%(run_id)s, %(client_id)s, %(allocation_app)s, %(allocation_version)s, %(sites)s, %(start_date)s, %(end_date)s, %(vehicles)s, %(xmpg_change)s, %(chargers)s, %(route_table)s, %(cap_vehicles)s, %(mixed_fleet)s, %(source)s, %(num_v)s)]\n[parameters: ({'run_id': 176, 'client_id': 5, 'allocation_app': 'allocate.py', 'allocation_version': None, 'sites': '[179, 180, 186, 188, 191, 192]', 'start_date': datetime.datetime(2020, 12, 3, 0, 0), 'end_date': datetime.datetime(2021, 12, 3, 0, 0), 'vehicles': '[[], [28]]', 'xmpg_change': -21.0, 'chargers': '[22, 50]', 'route_table': 't_route_master', 'cap_vehicles': False, 'mixed_fleet': '[]', 'source': 1, 'num_v': None}, {'run_id': 177, 'client_id': 5, 'allocation_app': 'allocate.py', 'allocation_version': None, 'sites': '[179, 180, 186, 188, 191, 192]', 'start_date': datetime.datetime(2020, 12, 3, 0, 0), 'end_date': datetime.datetime(2021, 12, 3, 0, 0), 'vehicles': '[[], [28]]', 'xmpg_change': -51.3, 'chargers': '[22, 50]', 'route_table': 't_route_master', 'cap_vehicles': False, 'mixed_fleet': '[]', 'source': 1, 'num_v': None}, {'run_id': 178, 'client_id': 5, 'allocation_app': 'allocate.py', 'allocation_version': None, 'sites': '[179, 180, 186, 188, 191, 192]', 'start_date': datetime.datetime(2020, 12, 3, 0, 0), 'end_date': datetime.datetime(2021, 12, 3, 0, 0), 'vehicles': '[[11], []]', 'xmpg_change': -21.0, 'chargers': '[0, 11]', 'route_table': 't_route_master', 'cap_vehicles': False, 'mixed_fleet': '[]', 'source': 1, 'num_v': None}, {'run_id': 179, 'client_id': 5, 'allocation_app': 'allocate.py', 'allocation_version': None, 'sites': '[179, 180, 186, 188, 191, 192]', 'start_date': datetime.datetime(2020, 12, 3, 0, 0), 'end_date': datetime.datetime(2021, 12, 3, 0, 0), 'vehicles': '[[11], []]', 'xmpg_change': -51.3, 'chargers': '[0, 11]', 'route_table': 't_route_master', 'cap_vehicles': False, 'mixed_fleet': '[]', 'source': 1, 'num_v': None}, {'run_id': 180, 'client_id': 5, 'allocation_app': 'allocate.py', 'allocation_version': None, 'sites': '[179, 180, 186, 188, 191, 192]', 'start_date': datetime.datetime(2020, 12, 3, 0, 0), 'end_date': datetime.datetime(2021, 12, 3, 0, 0), 'vehicles': '[[11], []]', 'xmpg_change': -21.0, 'chargers': '[11, 50]', 'route_table': 't_route_master', 'cap_vehicles': False, 'mixed_fleet': '[]', 'source': 1, 'num_v': None}, {'run_id': 181, 'client_id': 5, 'allocation_app': 'allocate.py', 'allocation_version': None, 'sites': '[179, 180, 186, 188, 191, 192]', 'start_date': datetime.datetime(2020, 12, 3, 0, 0), 'end_date': datetime.datetime(2021, 12, 3, 0, 0), 'vehicles': '[[33], []]', 'xmpg_change': -21.0, 'chargers': '[11, 50]', 'route_table': 't_route_master', 'cap_vehicles': False, 'mixed_fleet': '[]', 'source': 1, 'num_v': None}, {'run_id': 182, 'client_id': 5, 'allocation_app': 'allocate.py', 'allocation_version': None, 'sites': '[179, 180, 186, 188, 191, 192]', 'start_date': datetime.datetime(2020, 12, 3, 0, 0), 'end_date': datetime.datetime(2021, 12, 3, 0, 0), 'vehicles': '[[11], []]', 'xmpg_change': -51.3, 'chargers': '[11, 50]', 'route_table': 't_route_master', 'cap_vehicles': False, 'mixed_fleet': '[]', 'source': 1, 'num_v': None})]\n(Background on this error at: https://sqlalche.me/e/14/gkpj)"
     ]
    }
   ],
   "source": [
    "def find_runs(runs, cnx):\n",
    "    try:\n",
    "        sql_query = f\"\"\"SELECT * FROM t_run_allocation WHERE run_id IN {runs}\"\"\"\n",
    "        run_table = pd.read_sql_query(sql_query, cnx)\n",
    "    except (Exception, psycopg2.Error) as error:\n",
    "        logger.error(f\"Error fetching run data\")\n",
    "        raise(error)\n",
    "    return run_table\n",
    "\n",
    "runs = tuple(np.arange(168, 175))\n",
    "# runs = '(82)'\n",
    "new_start_run = 176\n",
    "\n",
    "cnx = dbh.create_alch_engine()\n",
    "run_table = find_runs(runs, cnx)\n",
    "run_table['sites'] = '[179, 180, 186, 188, 191, 192]'\n",
    "run_id_diff = run_table['run_id'] - run_table['run_id'].min()\n",
    "run_table['run_id'] = new_start_run + run_id_diff\n",
    "dbh.upload_table(run_table, 't_run_allocation')\n",
    "cnx.dispose()\n",
    "run_table"
   ]
  },
  {
   "cell_type": "code",
   "execution_count": null,
   "metadata": {},
   "outputs": [],
   "source": []
  },
  {
   "cell_type": "markdown",
   "metadata": {},
   "source": [
    "### Route start times"
   ]
  },
  {
   "cell_type": "code",
   "execution_count": null,
   "metadata": {},
   "outputs": [],
   "source": [
    "idx = 374\n",
    "sql_query = f\"\"\"SELECT * FROM t_route_allocated WHERE allocation_id={idx}\"\"\"\n",
    "routes = pd.read_sql_query(sql_query, con=cnx, index_col='route_id')\n",
    "orig_routes = adf.get_routes_fromid(routes.index, 't_route_master',\n",
    "                                    1, connection, cur)\n",
    "route_cols = ['departure_time', 'arrival_time', 'distance_miles',\n",
    "                'payload', 'number_crates']\n",
    "routes = routes.merge(orig_routes[route_cols], left_index=True,\n",
    "                        right_index=True)\n",
    "routes['hour_starts'] = ((pd.to_datetime(routes['departure_time'])\n",
    "                         -pd.to_datetime(routes['departure_time'].dt.date))\n",
    "                         / np.timedelta64(1, 'h'))"
   ]
  },
  {
   "cell_type": "code",
   "execution_count": null,
   "metadata": {},
   "outputs": [
    {
     "name": "stderr",
     "output_type": "stream",
     "text": [
      "2022-05-25 09:10:55|DEBUG|allocation_scenario.py(55)|get_allocation|Current allocation ID: 374\n",
      "2022-05-25 09:10:57|DEBUG|allocation_scenario.py(188)|num_simultaneous|Number of Vehicles is 20\n"
     ]
    },
    {
     "name": "stdout",
     "output_type": "stream",
     "text": [
      "374 20 [0, 10, 14, 17]\n",
      "# over limit: 0\n"
     ]
    }
   ],
   "source": [
    "alloc = asf.get_allocation(idx, cnx)\n",
    "site_data = asf.get_site_data(alloc['site_id'], cnx)\n",
    "routes['fixed_arrival'] = (\n",
    "    routes['arrival_time']\n",
    "    + dt.timedelta(minutes=site_data['turnaround_time']))\n",
    "N = asf.num_simultaneous(routes)\n",
    "\n",
    "print(idx, N, site_data['shift_starts'])\n",
    "shifts = asf.set_shifts(site_data['shift_starts'], routes)\n",
    "routes['shift'] = shifts\n",
    "count_routes_shift = routes.groupby(['date', 'shift'])['allocation_id'].count()\n",
    "print('# over limit:', len(count_routes_shift[count_routes_shift > N]))"
   ]
  },
  {
   "cell_type": "code",
   "execution_count": null,
   "metadata": {},
   "outputs": [
    {
     "data": {
      "text/plain": [
       "Series([], Name: allocation_id, dtype: int64)"
      ]
     },
     "execution_count": 16,
     "metadata": {},
     "output_type": "execute_result"
    }
   ],
   "source": [
    "count_routes_shift[count_routes_shift > N]"
   ]
  },
  {
   "cell_type": "code",
   "execution_count": null,
   "metadata": {},
   "outputs": [],
   "source": [
    "# cnx.dispose()\n",
    "# cur.close()\n",
    "# connection.close()"
   ]
  },
  {
   "cell_type": "code",
   "execution_count": null,
   "metadata": {},
   "outputs": [
    {
     "name": "stdout",
     "output_type": "stream",
     "text": [
      "191\n"
     ]
    },
    {
     "data": {
      "text/plain": [
       "Text(0.5, 0, 'Time (hours)')"
      ]
     },
     "execution_count": 10,
     "metadata": {},
     "output_type": "execute_result"
    },
    {
     "data": {
      "image/png": "[encoded data removed]",
      "text/plain": [
       "<Figure size 432x216 with 1 Axes>"
      ]
     },
     "metadata": {
      "needs_background": "light"
     },
     "output_type": "display_data"
    }
   ],
   "source": [
    "site = site_data['site_id']\n",
    "print(site)\n",
    "# routes_site = routes[routes['site_id_start'] == site]\n",
    "routes_site = routes\n",
    "fig, ax = plt.subplots(\n",
    "    1, figsize=(6, 3), gridspec_kw={'hspace': 0.5})\n",
    "ax.set_title(\n",
    "    'Route start hours',\n",
    "    color=fps_colours[0], fontweight='bold')\n",
    "ax.hist(\n",
    "    routes_site['hour_starts'],\n",
    "    np.arange(5, 23),\n",
    "    color=[fps_colours[0]])\n",
    "\n",
    "# ax.legend(frameon=False, bbox_to_anchor=(1, 0.8))\n",
    "ax.set_ylabel('# Routes', color=fps_colours[0])\n",
    "ax.set_xlabel('Time (hours)', color=fps_colours[0])"
   ]
  },
  {
   "cell_type": "code",
   "execution_count": null,
   "metadata": {},
   "outputs": [],
   "source": []
  }
 ],
 "metadata": {
  "interpreter": {
   "hash": "0c70d8ca8a9326c117f3cbb1600d40e4646a06cd0d6560aa3efc7e3f56e409b2"
  },
  "kernelspec": {
   "display_name": "Python 3.9.7 ('pipetel')",
   "language": "python",
   "name": "python3"
  },
  "language_info": {
   "codemirror_mode": {
    "name": "ipython",
    "version": 3
   },
   "file_extension": ".py",
   "mimetype": "text/x-python",
   "name": "python",
   "nbconvert_exporter": "python",
   "pygments_lexer": "ipython3",
   "version": "3.9.7"
  },
  "orig_nbformat": 4
 },
 "nbformat": 4,
 "nbformat_minor": 2
}
