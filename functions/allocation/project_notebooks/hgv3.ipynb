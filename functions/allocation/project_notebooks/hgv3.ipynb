{
 "cells": [
  {
   "cell_type": "code",
   "execution_count": 1,
   "metadata": {},
   "outputs": [],
   "source": [
    "import numpy as np\n",
    "import pandas as pd\n",
    "import datetime as dt\n",
    "import psycopg2\n",
    "# import os\n",
    "# import sqlalchemy\n",
    "# from sqlalchemy import create_engine\n",
    "import pipeline_plan_functions.utils.pipe_db_handler as dbh\n",
    "from python_utils.utils.logger import logger\n",
    "# import alloc_functions.allocation_scenario as asf\n",
    "import alloc_functions.controller as acf\n",
    "# import alloc_functions.daily as adf\n",
    "# import alloc_functions.cleanup as cleaner\n",
    "# import alloc_functions.mixed as mixed\n",
    "import alloc_functions.feasibility_functions as ff\n",
    "import pipeline_plan_functions.utils.data_handler as dh\n",
    "import matplotlib.pyplot as plt\n",
    "# import matplotlib.dates as mdates\n",
    "import matplotlib\n",
    "# import json\n",
    "from pulp import *\n",
    "\n",
    "# import plotly.graph_objects as go\n",
    "mapbox_token = ('pk.eyJ1Ijoic29mZmZ0IiwiYSI6ImNrbmZ0Z3RidzJ5NngycXA5cDNpY2c1ajIifQ.Gi2oP1Z3G5wP6pn7OF5l1A')"
   ]
  },
  {
   "cell_type": "code",
   "execution_count": 2,
   "metadata": {},
   "outputs": [],
   "source": [
    "new_sites = (305, 304, 25, 13, 11)"
   ]
  },
  {
   "cell_type": "markdown",
   "metadata": {},
   "source": [
    "## Telematics"
   ]
  },
  {
   "cell_type": "code",
   "execution_count": 14,
   "metadata": {},
   "outputs": [],
   "source": [
    "cnx = dbh.create_alch_engine()\n",
    "sql_query = f\"\"\"SELECT departure_time, arrival_time, vehicle_id, distance_miles, departure_site_id, arrival_site_id\n",
    "    FROM t_telematics WHERE run = 44\n",
    "    AND departure_site_id IN {new_sites}\"\"\"\n",
    "telematics = pd.read_sql_query(sql_query, con=cnx)\n",
    "cnx.dispose()"
   ]
  },
  {
   "cell_type": "code",
   "execution_count": 17,
   "metadata": {},
   "outputs": [],
   "source": [
    "sheet_list = pd.read_csv(\n",
    "    r'C:\\Users\\SofiaTaylor\\OneDrive - Flexible Power Systems Ltd\\dev\\fps_pipeline_plan\\functions\\shared_functions\\telematics\\sample\\hgv\\telematics_check.csv')"
   ]
  },
  {
   "cell_type": "code",
   "execution_count": 170,
   "metadata": {},
   "outputs": [],
   "source": [
    "site = 13\n",
    "vehicles_at_site = (2760, 2760, 2220, 2199, 2208, 2834, 2093, 2318, 2234, 2188)\n",
    "# site = 24\n",
    "# vehicles_at_site = (8825, 8820, 2282, 2576, 8809, 8812, 8818, 8813, 2513, 2519)\n",
    "# vehicles_at_site = tuple(sheet_list[sheet_list['site_id'] == site]['vehicle_id'].unique())\n",
    "\n",
    "cnx = dbh.create_alch_engine()\n",
    "sql_query = f\"\"\"SELECT departure_time, arrival_time, vehicle_id, departure_location,\n",
    "    arrival_location, departure_site_id, arrival_site_id, route_id\n",
    "    FROM t_telematics WHERE run = 44\n",
    "    AND vehicle_id IN {vehicles_at_site}\n",
    "    order by vehicle_id, departure_time\"\"\"\n",
    "telematics_site = pd.read_sql_query(sql_query, con=cnx)\n",
    "telematics_site['prev_stay_at_site'] = (telematics_site['departure_time']\n",
    "                                        - telematics_site['arrival_time'].shift(1)).dt.total_seconds()/3600\n",
    "mask_change_veh = (telematics_site['vehicle_id'] == telematics_site['vehicle_id'].shift(1))\n",
    "telematics_site.loc[~mask_change_veh, 'prev_stay_at_site'] = 0\n",
    "count_locations = telematics_site.groupby('departure_location').agg({\n",
    "    'departure_time': 'count',\n",
    "    'vehicle_id': 'nunique',\n",
    "    'departure_site_id': 'first'\n",
    "}).sort_values(by='departure_time')\n",
    "count_locations[count_locations['departure_site_id'] >=0].tail(50)\n",
    "cnx.dispose()"
   ]
  },
  {
   "cell_type": "code",
   "execution_count": 173,
   "metadata": {},
   "outputs": [
    {
     "data": {
      "text/plain": [
       "0.5454545454545454"
      ]
     },
     "execution_count": 173,
     "metadata": {},
     "output_type": "execute_result"
    }
   ],
   "source": [
    "(telematics_site[telematics_site['departure_site_id'] == site]['prev_stay_at_site'] <1).mean()"
   ]
  },
  {
   "cell_type": "code",
   "execution_count": 43,
   "metadata": {},
   "outputs": [],
   "source": [
    "site = 24\n",
    "cnx = dbh.create_alch_engine()\n",
    "sql_query = f\"\"\"SELECT departure_time, arrival_time, vehicle_id, departure_location, departure_site_id, arrival_site_id\n",
    "    FROM t_telematics WHERE run = 44\n",
    "    AND departure_site_id = {site}\"\"\"\n",
    "telematics_site = pd.read_sql_query(sql_query, con=cnx)\n",
    "cnx.dispose()"
   ]
  },
  {
   "cell_type": "markdown",
   "metadata": {},
   "source": [
    "## Create routes and vehicle duties"
   ]
  },
  {
   "cell_type": "markdown",
   "metadata": {},
   "source": [
    "### Get routes"
   ]
  },
  {
   "cell_type": "code",
   "execution_count": 6,
   "metadata": {},
   "outputs": [],
   "source": [
    "cnx = dbh.create_alch_engine()\n",
    "site_dict = ff.get_site_name_dict(2)\n",
    "sql_query = f\"SELECT * FROM t_route_master WHERE client_id = 3\"\n",
    "routes = pd.read_sql_query(sql_query, con=cnx)\n",
    "sql_query = f\"SELECT * FROM t_vehicles WHERE client_id=2\"\n",
    "vehicle_df = pd.read_sql_query(sql_query, con=cnx, index_col='vehicle_id')\n",
    "vehicle_spec_dict = vehicle_df['spec_id'].to_dict()\n",
    "routes['spec_id'] = routes['vehicle_id'].map(vehicle_spec_dict)\n",
    "good_specs = {100: 'trailers',\n",
    "              101: '4x2 rigid',\n",
    "              102: '6x2 rigid',\n",
    "              103: '4x2 tractor',\n",
    "              104: '6x2 tractor'}\n",
    "routes = routes[routes['spec_id'].isin(good_specs.keys())].copy()\n",
    "# Create vehicle specification table\n",
    "# connection, cur = dbh.database_connection('test')\n",
    "specs = tuple(np.arange(101, 111))\n",
    "vehicle_specifications = ff.find_vehicle_spec(specs)\n",
    "vehicle_specifications['kwh_mile'] = 0\n",
    "vehicle_specifications['diesel_l_mile'] = 0\n",
    "elec_vehicles = vehicle_specifications['fuel_type'] == 'electric'\n",
    "diesel_vehicles = vehicle_specifications['fuel_type'] == 'diesel'\n",
    "vehicle_specifications.loc[elec_vehicles, 'kwh_mile'] = vehicle_specifications.loc[elec_vehicles, 'energy_use']\n",
    "vehicle_specifications.loc[diesel_vehicles, 'diesel_l_mile'] = vehicle_specifications.loc[diesel_vehicles, 'energy_use']"
   ]
  },
  {
   "cell_type": "code",
   "execution_count": 7,
   "metadata": {},
   "outputs": [],
   "source": [
    "cnx.dispose()"
   ]
  },
  {
   "cell_type": "code",
   "execution_count": 4,
   "metadata": {},
   "outputs": [],
   "source": [
    "sheet_list = pd.read_csv(r'C:\\Users\\SofiaTaylor\\OneDrive - Flexible Power Systems Ltd\\dev\\fps_pipeline_plan\\functions\\shared_functions\\telematics\\sample\\hgv\\telematics_check.csv')\n",
    "vehicles = sheet_list['vehicle_id'].unique()\n",
    "vehicle_site_dict = {v: sheet_list[sheet_list['vehicle_id'] == v]['site_id'].values for v in vehicles}\n",
    "routes['site_ids'] = routes['vehicle_id'].map(vehicle_site_dict)\n",
    "routes['same_return'] = routes['site_id_start'] == routes['site_id_end']\n",
    "routes['start_right_id'] = False\n",
    "routes['duration_hours'] = (routes['arrival_time'] - routes['departure_time']).dt.total_seconds()/3600\n",
    "routes['date'] = routes['departure_time'].dt.date\n",
    "routes['start_time'] = (routes['departure_time'] - dt.datetime(2022, 1, 1)).dt.total_seconds()/3600 % 24\n",
    "routes['end_time'] = (routes['arrival_time'] - dt.datetime(2022, 1, 1)).dt.total_seconds()/3600 % 24\n",
    "\n",
    "\n",
    "# for idx in routes.index:\n",
    "#     routes.loc[idx, 'start_right_id'] = ff.right_start_site(\n",
    "#         routes.loc[idx, 'site_id_start'], routes.loc[idx, 'site_ids'])\n",
    "\n",
    "# for spec in good_specs:\n",
    "#     spec_routes = routes[routes['spec_id'] == spec]\n",
    "#     bar_plot_site_ends(spec_routes, site_dict, site, suff=str(spec))\n",
    "\n",
    "spec_stats = 100*routes.groupby('spec_id')[['same_return']].mean().round(3)\n",
    "spec_stats['vehicle_type'] = spec_stats.index.map(good_specs)"
   ]
  },
  {
   "cell_type": "code",
   "execution_count": 84,
   "metadata": {},
   "outputs": [
    {
     "data": {
      "text/plain": [
       "Int64Index([8825, 8820, 2282, 2576, 8809, 8812, 8818, 8813, 2513, 2519], dtype='int64', name='vehicle_id')"
      ]
     },
     "execution_count": 84,
     "metadata": {},
     "output_type": "execute_result"
    }
   ],
   "source": [
    "routes[routes['site_id_start'] == 24].groupby('vehicle_id').count().sort_values(by='client_id').tail(10).index"
   ]
  },
  {
   "cell_type": "markdown",
   "metadata": {},
   "source": [
    "### Mileage stats and route returns"
   ]
  },
  {
   "cell_type": "code",
   "execution_count": 6,
   "metadata": {},
   "outputs": [],
   "source": [
    "def q75(x):\n",
    "    return x.quantile(0.75)\n",
    "def q99(x):\n",
    "    return x.quantile(0.99)\n",
    "route_stats = routes.groupby(\n",
    "    ['site_id_start', 'spec_id']).agg({\n",
    "        'distance_miles': ['min', 'mean', 'median', q75, q99, 'max'],\n",
    "        'client_id': 'count',\n",
    "        'vehicle_id': 'nunique'})\n",
    "route_stats['site'] = route_stats.index.get_level_values(0).map(site_dict)\n",
    "route_stats['vehicle_group'] = route_stats.index.get_level_values(1).map(good_specs)\n",
    "route_stats.columns = ['min', 'mean', 'median', '75%', '99%', 'max', 'n_routes', 'n_vehicles', 'site', 'vehicle_group']\n",
    "route_stats.sort_values(by=['site', 'vehicle_group'], inplace=True)\n",
    "route_stats.to_csv('sample/hgv3/site_mileage.csv', index=False)"
   ]
  },
  {
   "cell_type": "code",
   "execution_count": 204,
   "metadata": {},
   "outputs": [
    {
     "data": {
      "image/png": "[encoded data removed]",
      "text/plain": [
       "<Figure size 432x216 with 1 Axes>"
      ]
     },
     "metadata": {
      "needs_background": "light"
     },
     "output_type": "display_data"
    }
   ],
   "source": [
    "site = 11\n",
    "site_routes = routes[routes['site_id_start'] == site].set_index('route_id')\n",
    "vehicle_return_pc = 100*site_routes.groupby(['spec_id', 'vehicle_id'])['same_return'].mean()\n",
    "vehicle_high_return = vehicle_return_pc > 95\n",
    "array_return_pc = []\n",
    "labels = []\n",
    "for s in [101, 102, 103, 104]:\n",
    "    if s in vehicle_return_pc.index:\n",
    "        array_return_pc.append(vehicle_return_pc.loc[s].values)\n",
    "        labels.append(good_specs[s])\n",
    "ff.violin_plot(array_return_pc, \"routes per vehicle\",\n",
    "               site_dict[site], labels=labels, suff=\"_routes\",\n",
    "               folder='hgv3')\n",
    "sample_routes = site_routes[(site_routes['vehicle_id'].isin(vehicles_at_site))].index\n",
    "# for spec in good_specs:\n",
    "#     spec_routes = site_routes[(site_routes['spec_id'] == spec)\n",
    "#                               & (site_routes['site_id_end'] == site)]\n",
    "    # ff.histo_variable(\n",
    "    #     spec_routes, 'duration_hours', site_dict[site], upperclip=400,\n",
    "    #     bins=20, suff=spec, title_text=good_specs[spec])\n",
    "    # ff.histo_variable(\n",
    "    #     spec_routes, 'distance_miles', site_dict[site], upperclip=400,\n",
    "    #     bins=20, suff=spec, title_text=good_specs[spec])"
   ]
  },
  {
   "cell_type": "code",
   "execution_count": 200,
   "metadata": {},
   "outputs": [
    {
     "name": "stdout",
     "output_type": "stream",
     "text": [
      "1110129 Vehicle 2834 2022-04-24 22:12:57 - 2022-04-26 22:16:26\n"
     ]
    }
   ],
   "source": [
    "hour_margin = 24\n",
    "# route = sample_routes[4]\n",
    "route = np.random.choice(sample_routes)\n",
    "veh = site_routes.loc[route, 'vehicle_id']\n",
    "start_dt = site_routes.loc[route, 'departure_time'] - dt.timedelta(hours=hour_margin)\n",
    "end_dt = site_routes.loc[route, 'arrival_time'] + dt.timedelta(hours=hour_margin)\n",
    "telematics_route = telematics_site[(telematics_site['vehicle_id'] == veh)\n",
    "                                   & (telematics_site['departure_time'] >= start_dt)\n",
    "                                   & (telematics_site['departure_time'] <= end_dt)]\n",
    "spec = vehicle_df.loc[veh, 'spec_id']\n",
    "print(route, 'Vehicle', veh, start_dt, '-', end_dt)\n",
    "telematics_route.to_csv(f'sample/hgv3/sample_route{route}.csv')"
   ]
  },
  {
   "cell_type": "markdown",
   "metadata": {},
   "source": [
    "### Daily duties"
   ]
  },
  {
   "cell_type": "code",
   "execution_count": 205,
   "metadata": {},
   "outputs": [],
   "source": [
    "duty_wait_time = dt.timedelta(hours=4)\n",
    "routes.sort_values(by=['vehicle_id', 'departure_time'],\n",
    "                        inplace=True)\n",
    "routes['prev_wait_time'] = (routes['departure_time'] - routes['arrival_time'].shift(1))\n",
    "routes['new_vehicle'] = routes['vehicle_id'] != routes['vehicle_id'].shift(1)\n",
    "routes['new_duties'] = ((routes['new_vehicle']) | (routes['prev_wait_time'] > duty_wait_time))\n",
    "routes['duty_id'] = routes['new_duties'].cumsum()\n",
    "\n",
    "daily_duties = routes.groupby(['duty_id']).agg({\n",
    "    'departure_time': 'min',\n",
    "    'site_id_start': ['first', 'nunique'],\n",
    "    'distance_miles': 'sum',\n",
    "    'duration_hours': 'sum',\n",
    "    'number_order': 'sum',\n",
    "    'arrival_time': 'max',\n",
    "    'route_id': 'count',\n",
    "    'site_id_end': 'last',\n",
    "    'spec_id': 'mean',\n",
    "    'vehicle_id': 'mean',\n",
    "    'date': 'first',\n",
    "    'start_time': 'min',\n",
    "    'end_time': 'max'})\n",
    "daily_duties.columns = ['departure_time', 'site_id_start', 'number_sites', 'distance_miles',\n",
    "                        'route_hours', 'number_order', 'arrival_time', 'n_routes', 'site_id_end',\n",
    "                        'spec_id', 'vehicle_id', 'date', 'start_time', 'end_time']#\n",
    "daily_duties['same_return'] = daily_duties['site_id_start'] == daily_duties['site_id_end']\n",
    "daily_duties['duty_duration'] = (daily_duties['arrival_time'] - daily_duties['departure_time']).dt.total_seconds()/3600\n",
    "\n",
    "duties_selection_dict = {\n",
    "    'departure_time': 'min',\n",
    "    'site_id_start': ['first', 'nunique'],\n",
    "    'distance_miles': 'sum',\n",
    "    'duration_hours': 'sum',\n",
    "    'arrival_time': 'max',\n",
    "    'route_id': 'count',\n",
    "    'site_id_end': 'last',\n",
    "    'spec_id': 'mean',\n",
    "    'vehicle_id': 'mean',\n",
    "    'date': 'first',\n",
    "    'start_time': 'min',\n",
    "    'end_time': 'max'}"
   ]
  },
  {
   "cell_type": "markdown",
   "metadata": {},
   "source": [
    "### Site specific"
   ]
  },
  {
   "cell_type": "code",
   "execution_count": 208,
   "metadata": {},
   "outputs": [
    {
     "name": "stdout",
     "output_type": "stream",
     "text": [
      "Site: 11 starting with allocation 820\n",
      "% duties returning to site: 0.9622641509433962\n",
      "0.5813953488372093\n",
      "Start with 107 vehicles showing up in Stoke DC,\n",
      "       43 have duties starting there\n",
      "       25 final count\n"
     ]
    },
    {
     "data": {
      "image/png": "[encoded data removed]",
      "text/plain": [
       "<Figure size 432x216 with 1 Axes>"
      ]
     },
     "metadata": {
      "needs_background": "light"
     },
     "output_type": "display_data"
    }
   ],
   "source": [
    "connection, cur = dbh.database_connection('test')\n",
    "site_list = [11, 13, 24]\n",
    "\n",
    "site = site_list[0] ## CHECK\n",
    "# first_alloc_id = acf.get_fps_allocation_id(connection, cur) + 1\n",
    "first_alloc_id = 820\n",
    "print(f'Site: {site} starting with allocation {first_alloc_id}')\n",
    "daily_duties_site = daily_duties[(daily_duties['site_id_start'] == site)\n",
    "                                 & (daily_duties['spec_id'] > 100)]\n",
    "spec_stats_duty = 100*daily_duties_site.groupby('spec_id')[['same_return']].mean().round(3)\n",
    "vehicle_return_duty_pc = daily_duties_site.groupby(['spec_id', 'vehicle_id']).agg({'same_return': 'mean', 'date': 'nunique'})\n",
    "vehicle_high_return = ((vehicle_return_duty_pc['same_return'] > 0.95)\n",
    "                       & (vehicle_return_duty_pc['date'] > vehicle_return_duty_pc['date']/3))\n",
    "array_return_pc = []\n",
    "labels = []\n",
    "for s in [101, 102, 103, 104]:\n",
    "    if s in vehicle_return_duty_pc.index.get_level_values(0).unique():\n",
    "        array_return_pc.append(100*vehicle_return_duty_pc.loc[s, 'same_return'].values)\n",
    "        labels.append(good_specs[s])\n",
    "ff.violin_plot(array_return_pc, \"duties per vehicle\", site_dict[site],\n",
    "               labels=labels, suff=\"_duties\",\n",
    "               folder='hgv3')\n",
    "print(f\"% duties returning to site: {daily_duties_site['same_return'].mean()}\")\n",
    "print(vehicle_high_return.mean())\n",
    "\n",
    "### Filter vehicle duties and routes\n",
    "\n",
    "vehicles_to_use = vehicle_high_return[vehicle_high_return].index.get_level_values(1)\n",
    "duties_site_return = daily_duties[(daily_duties['site_id_start'] == site)\n",
    "                                #   & (daily_duties['site_id_end'] == site)\n",
    "                                  & (daily_duties['vehicle_id'].isin(vehicles_to_use))].copy()\n",
    "# histo_variable(duties_site_return, 'duty_duration', site,\n",
    "#                 upperclip=400, bins=20, suff=spec, title_text=site)\n",
    "cols_routes = ['site_id_start', 'departure_time', 'arrival_time',\n",
    "       'vehicle_id', 'distance_miles', 'route_id', 'site_id_end', 'spec_id',\n",
    "       'duration_hours', 'date', 'start_time', 'end_time', 'prev_wait_time',\n",
    "       'new_duties', 'duty_id']\n",
    "routes_vehicle_selection = routes[routes['vehicle_id'].isin(vehicles_to_use)][cols_routes].copy()\n",
    "duties_vehicle_selection = daily_duties[daily_duties['vehicle_id'].isin(vehicles_to_use)]\n",
    "n_vehicles_route_start = routes[routes['site_id_start'] == site]['vehicle_id'].nunique()\n",
    "n_vehicles_duty_start = daily_duties[daily_duties['site_id_start'] == site]['vehicle_id'].nunique()\n",
    "n_vehicles_site_final = len(vehicles_to_use)\n",
    "print(\n",
    "       f\"\"\"Start with {n_vehicles_route_start} vehicles showing up in {site_dict[site]},\n",
    "       {n_vehicles_duty_start} have duties starting there\n",
    "       {n_vehicles_site_final} final count\"\"\"\n",
    ")"
   ]
  },
  {
   "cell_type": "code",
   "execution_count": 71,
   "metadata": {},
   "outputs": [
    {
     "name": "stdout",
     "output_type": "stream",
     "text": [
      "0 1854\n",
      "0 1854\n"
     ]
    }
   ],
   "source": [
    "# This creates new breakpoints in the vehicle duties based on the longest break time back on the site\n",
    "\n",
    "duty_hour_threshold = 25\n",
    "duty_hour_min = dt.timedelta(hours=24)\n",
    "long_duties = duties_vehicle_selection[duties_vehicle_selection['duty_duration'] > duty_hour_threshold].index.values\n",
    "print(len(long_duties), len(duties_vehicle_selection))\n",
    "duty_route_cols = ['site_id_start', 'prev_wait_time', 'new_duties', 'departure_time']\n",
    "for duty in long_duties[:]:\n",
    "    duty_routes = routes_vehicle_selection[routes_vehicle_selection['duty_id'] == duty][duty_route_cols]\n",
    "    elapsed_time = duty_routes['departure_time'] - duty_routes['departure_time'].min()\n",
    "    time_difference = (elapsed_time - duty_hour_min).dt.total_seconds().abs()\n",
    "    possible_break_routes = ((duty_routes['site_id_start'] == site)\n",
    "               & (~duty_routes['new_duties']))\n",
    "    if possible_break_routes.any():\n",
    "        break_route = time_difference.loc[possible_break_routes].idxmin()\n",
    "        routes_vehicle_selection.loc[break_route, 'new_duties'] = True\n",
    "\n",
    "routes_vehicle_selection['duty_id'] = routes_vehicle_selection['new_duties'].cumsum()\n",
    "\n",
    "duties_vehicle_selection = routes_vehicle_selection.groupby(['duty_id']).agg(duties_selection_dict)\n",
    "\n",
    "duties_vehicle_selection.columns = ['departure_time', 'site_id_start', 'number_sites', 'distance_miles',\n",
    "                        'route_hours', 'arrival_time', 'n_routes', 'site_id_end',\n",
    "                        'spec_id', 'vehicle_id', 'date', 'start_time', 'end_time']\n",
    "\n",
    "duties_vehicle_selection['duty_duration'] = (duties_vehicle_selection['arrival_time'] - duties_vehicle_selection['departure_time']).dt.total_seconds()/3600\n",
    "long_duties = duties_vehicle_selection[duties_vehicle_selection['duty_duration'] > duty_hour_threshold].index.values\n",
    "print(len(long_duties), len(duties_vehicle_selection))\n",
    "\n",
    "duties_vehicle_selection['same_return'] = duties_vehicle_selection['site_id_start'] == duties_vehicle_selection['site_id_end']\n",
    "daily_duties_site = duties_vehicle_selection[\n",
    "    (duties_vehicle_selection['site_id_start'] == site)\n",
    "    & (duties_vehicle_selection['site_id_end'] == site)\n",
    "    & (duties_vehicle_selection['spec_id'] > 100)]"
   ]
  },
  {
   "cell_type": "markdown",
   "metadata": {},
   "source": [
    "## Histos"
   ]
  },
  {
   "cell_type": "code",
   "execution_count": 26,
   "metadata": {},
   "outputs": [],
   "source": [
    "site = 24\n",
    "# Get the vehicles that operate out of the site\n",
    "cnx = dbh.create_alch_engine()\n",
    "sql_query = f\"\"\"SELECT distinct(vehicle_id)\n",
    "    FROM t_telematics WHERE run = 44\n",
    "    AND departure_site_id = {site}\"\"\"\n",
    "telematics = pd.read_sql_query(sql_query, con=cnx)\n",
    "cnx.dispose()\n",
    "vehicles_site = tuple(telematics['vehicle_id'].values)\n",
    "# Get telematic for the vehicles that operate out of the site\n",
    "sql_query = f\"\"\"SELECT departure_time, arrival_time, departure_site_id, arrival_site_id, vehicle_id, route_id\n",
    "    FROM t_telematics WHERE run = 44\n",
    "    AND vehicle_id IN {vehicles_site}\"\"\"\n",
    "telematics = pd.read_sql_query(sql_query, con=cnx)\n",
    "telematics.sort_values(by=['vehicle_id', 'departure_time'], inplace=True)\n",
    "cnx.dispose()\n",
    "# Calculate depot dwell time\n",
    "telematics['prev_stay_at_site'] = (telematics['departure_time']\n",
    "                                   - telematics['arrival_time'].shift(1)).dt.total_seconds()/3600\n",
    "mask_same_veh = (telematics['vehicle_id'] == telematics['vehicle_id'].shift(1))\n",
    "telematics = telematics[mask_same_veh]\n",
    "# Filter dwell time on site\n",
    "telematics_site = telematics[telematics['departure_site_id'] == site]\n",
    "\n",
    "telematics_site = telematics_site.merge(vehicle_df[['spec_id', 'refrigerated']], how='left',\n",
    "                 left_on='vehicle_id', right_index=True)"
   ]
  },
  {
   "cell_type": "code",
   "execution_count": 27,
   "metadata": {},
   "outputs": [],
   "source": [
    "FPS_COLOURS = ['#004A9C', '#45D281', '#FEC001', '#A365E0', '#5B9BD5',\n",
    "               '#FF0000', '#0563C1', '#954F72']\n",
    "def histo_variable(df, colname, site_name, upperclip=None,\n",
    "                   lowerclip=None, bins=10, folder=\"-\",\n",
    "                   suff='', vline_dict=None, title_text=None,\n",
    "                   plot_mean=True, cumdist=False, xlabel=None):\n",
    "    fig, ax = plt.subplots(\n",
    "        1, figsize=(8, 3), gridspec_kw={'hspace': 0.5})\n",
    "    if title_text is None:\n",
    "        title_text = site_name\n",
    "    ax.set_title(\n",
    "        f'{title_text}',\n",
    "        color=FPS_COLOURS[0], fontweight='bold')\n",
    "    r = ax.hist(\n",
    "        df[colname].clip(upper=upperclip, lower=lowerclip),\n",
    "        color=[FPS_COLOURS[0]],\n",
    "        bins=bins, cumulative=cumdist, density=cumdist)\n",
    "    if xlabel is None:\n",
    "        xlabel = colname\n",
    "    ax.set_ylabel('# of routes', color=FPS_COLOURS[0])\n",
    "    ax.set_xlabel(f'{xlabel}', color=FPS_COLOURS[0])\n",
    "    # ax.text(x=r[1][-1]*1.1, y=r[0].max()/2, s=(\n",
    "    #     f\"{len(df)} entries\\n\"\n",
    "    #     f\"Mean: {np.round(df[colname].mean(), 1)}\\n\"\n",
    "    #     f\"Max: {np.round(df[colname].max(), 1)}\\n\"\n",
    "    #     f\"Median: {np.round(df[colname].median(), 1)}\\n\"\n",
    "    #     f\"{np.round((df[colname] > upperclip).mean()*100, 1)}% \"\n",
    "    #     f\"over threshold {upperclip}\\n\"\n",
    "    #     f\"{np.round((df[colname] < lowerclip).mean()*100, 1)}% \"\n",
    "    #     f\"under threshold {lowerclip}\"\n",
    "    #     ))\n",
    "    if vline_dict:\n",
    "        for i, key in enumerate(vline_dict.keys()):\n",
    "            ax.axvline(x=vline_dict[key], label=key,\n",
    "                       color=FPS_COLOURS[(i+1) % len(FPS_COLOURS)])\n",
    "        ax.legend(frameon=False, bbox_to_anchor=(1, 0), loc='lower left')\n",
    "    if plot_mean:\n",
    "        ax.axvline(x=df[colname].mean(),\n",
    "                   color='black', ls='--',\n",
    "                   label=f\"Mean: {np.round(df[colname].mean(), 1)}\")\n",
    "        ax.legend(frameon=False, bbox_to_anchor=(1, 0), loc='lower left')\n",
    "    fig.savefig(\n",
    "        f\"sample/{folder}/{site_name}_histo_{colname}{suff}.jpg\",\n",
    "        bbox_inches=\"tight\", dpi=300)\n",
    "    return"
   ]
  },
  {
   "cell_type": "code",
   "execution_count": 28,
   "metadata": {},
   "outputs": [
    {
     "data": {
      "image/png": "[encoded data removed]",
      "text/plain": [
       "<Figure size 576x216 with 1 Axes>"
      ]
     },
     "metadata": {
      "needs_background": "light"
     },
     "output_type": "display_data"
    },
    {
     "data": {
      "image/png": "[encoded data removed]",
      "text/plain": [
       "<Figure size 576x216 with 1 Axes>"
      ]
     },
     "metadata": {
      "needs_background": "light"
     },
     "output_type": "display_data"
    },
    {
     "data": {
      "image/png": "[encoded data removed]",
      "text/plain": [
       "<Figure size 576x216 with 1 Axes>"
      ]
     },
     "metadata": {
      "needs_background": "light"
     },
     "output_type": "display_data"
    },
    {
     "data": {
      "image/png": "[encoded data removed]",
      "text/plain": [
       "<Figure size 576x216 with 1 Axes>"
      ]
     },
     "metadata": {
      "needs_background": "light"
     },
     "output_type": "display_data"
    }
   ],
   "source": [
    "# Filter tractor/refrigerated trailers\n",
    "category = 'Trailer'\n",
    "# category = 'Tractor'\n",
    "# category = '4x2 Tractor'\n",
    "# category = '6x2 Tractor'\n",
    "mask = {\n",
    "    'Trailer': ((telematics_site['spec_id'].isin((100, 115, 116, 117)))\n",
    "                & (telematics_site['refrigerated'])),\n",
    "    'Tractor': telematics_site['spec_id'].isin((103, 104)),\n",
    "    '4x2 Tractor': telematics_site['spec_id'] == 103,\n",
    "    '6x2 Tractor': telematics_site['spec_id'] == 104,\n",
    "}\n",
    "for category in ['Trailer', 'Tractor', '4x2 Tractor', '6x2 Tractor']:\n",
    "    filtered_telematics = telematics_site[mask[category]]\n",
    "    # Histo of dwell time\n",
    "    histo_variable(filtered_telematics, 'prev_stay_at_site', site_dict[site], upperclip=10,\n",
    "                    lowerclip=None, bins=10, folder=\"hgv3\",\n",
    "                    suff=category, vline_dict=None,\n",
    "                    title_text=f\"{site_dict[site]} - {category}\",\n",
    "                    plot_mean=True, cumdist=False, xlabel='Depot dwell time (hours)')"
   ]
  },
  {
   "cell_type": "code",
   "execution_count": null,
   "metadata": {},
   "outputs": [],
   "source": []
  }
 ],
 "metadata": {
  "interpreter": {
   "hash": "0c70d8ca8a9326c117f3cbb1600d40e4646a06cd0d6560aa3efc7e3f56e409b2"
  },
  "kernelspec": {
   "display_name": "Python 3.9.7 ('pipetel')",
   "language": "python",
   "name": "python3"
  },
  "language_info": {
   "codemirror_mode": {
    "name": "ipython",
    "version": 3
   },
   "file_extension": ".py",
   "mimetype": "text/x-python",
   "name": "python",
   "nbconvert_exporter": "python",
   "pygments_lexer": "ipython3",
   "version": "3.9.7"
  },
  "orig_nbformat": 4
 },
 "nbformat": 4,
 "nbformat_minor": 2
}
