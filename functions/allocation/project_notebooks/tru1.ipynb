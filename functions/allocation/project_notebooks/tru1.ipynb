{
 "cells": [
  {
   "cell_type": "code",
   "execution_count": 1,
   "metadata": {},
   "outputs": [],
   "source": [
    "import numpy as np\n",
    "import pandas as pd\n",
    "import datetime as dt\n",
    "import psycopg2\n",
    "import pipeline_plan_functions.utils.pipe_db_handler as dbh\n",
    "import pipeline_plan_functions.utils.data_types as dth\n",
    "from python_utils.utils.logger import logger\n",
    "import alloc_functions.feasibility_functions as ff\n",
    "import pipeline_plan_functions.utils.data_handler as dh\n",
    "import matplotlib.pyplot as plt\n",
    "# import matplotlib.dates as mdates\n",
    "import matplotlib\n",
    "import pickle\n",
    "# import plotly.graph_objects as go\n",
    "mapbox_token = ('pk.eyJ1Ijoic29mZmZ0IiwiYSI6ImNrbmZ0Z3RidzJ5NngycXA5cDNpY2c1ajIifQ.Gi2oP1Z3G5wP6pn7OF5l1A')\n",
    "FPS_COLOURS = ['#004A9C', '#45D281', '#FEC001', '#A365E0', '#5B9BD5',\n",
    "               '#FF0000', '#0563C1', '#954F72']"
   ]
  },
  {
   "cell_type": "code",
   "execution_count": 2,
   "metadata": {},
   "outputs": [],
   "source": [
    "specs = (101, 102, 115, 116, 117)\n",
    "good_sites = [1, 2, 3, 4, 5, 6, 7, 8, 9, 10, 12, 17, 20, 22, 28]\n",
    "tru_spec_dict = {\n",
    "    101: 1,\n",
    "    102: 2,\n",
    "    115: 3,\n",
    "    116: 4,\n",
    "    117: 5\n",
    "}\n",
    "MAX_SHOREPOWER_HOURS = 5.38  # hours\n",
    "CHARGER_EFF = 0.9\n",
    "BATTERY_USABLE = 0.8\n",
    "DEFAULT_WAIT = 8  # HOURS\n",
    "tru_battery_kwh = [30*BATTERY_USABLE, 24*BATTERY_USABLE, 19*BATTERY_USABLE, 14*BATTERY_USABLE]\n",
    "tru_battery_dict = {'Future': 30*BATTERY_USABLE, 'Long range': 24*BATTERY_USABLE,\n",
    "                    'Medium range': 19*BATTERY_USABLE, 'Short range': 14*BATTERY_USABLE}\n",
    "tru_charger_kw = 9\n",
    "remove_charging_time = 0.5\n",
    "vehicle_specifications = ff.find_vehicle_spec(specs)\n",
    "vehicle_specifications['kwh_mile'] = 0\n",
    "vehicle_specifications['diesel_l_mile'] = 0\n",
    "elec_vehicles = vehicle_specifications['fuel_type'] == 'electric'\n",
    "diesel_vehicles = vehicle_specifications['fuel_type'] == 'diesel'\n",
    "vehicle_specifications.loc[elec_vehicles, 'kwh_mile'] = vehicle_specifications.loc[elec_vehicles, 'energy_use']\n",
    "vehicle_specifications.loc[diesel_vehicles, 'diesel_l_mile'] = vehicle_specifications.loc[diesel_vehicles, 'energy_use']\n",
    "tru_specs = ff.find_tru_spec((1, 2, 3, 4, 5))\n",
    "vehicle_specifications['tru_id'] = vehicle_specifications.index.map(tru_spec_dict)\n",
    "vehicle_specifications = vehicle_specifications.reset_index()\n",
    "vehicle_specifications = vehicle_specifications.merge(\n",
    "    tru_specs,\n",
    "    left_on='tru_id', right_on='tru_id', how='left')\n",
    "vehicle_specifications = vehicle_specifications.set_index('spec_id')\n",
    "good_specs = vehicle_specifications['vehicle_model'].to_dict()\n",
    "site_dict = ff.get_site_name_dict(2)"
   ]
  },
  {
   "cell_type": "markdown",
   "metadata": {},
   "source": [
    "### Get Routes"
   ]
  },
  {
   "cell_type": "code",
   "execution_count": 3,
   "metadata": {},
   "outputs": [],
   "source": [
    "cnx = dbh.create_alch_engine()\n",
    "site_dict = ff.get_site_name_dict(2)\n",
    "sql_query = f\"SELECT * FROM t_route_master WHERE client_id = 3\"\n",
    "routes = pd.read_sql_query(sql_query, con=cnx)\n",
    "sql_query = f\"SELECT * FROM t_vehicles WHERE client_id=2\"\n",
    "vehicle_df = pd.read_sql_query(sql_query, con=cnx, index_col='vehicle_id')\n",
    "vehicle_spec_dict = vehicle_df['spec_id'].to_dict()\n",
    "routes['spec_id'] = routes['vehicle_id'].map(vehicle_spec_dict)\n",
    "routes = routes[routes['spec_id'].isin(good_specs.keys())].copy()\n",
    "routes['good_site'] = ((routes['site_id_start'].isin(good_sites))\n",
    "                       & (routes['site_id_end'].isin(good_sites)))\n",
    "routes.sort_values(by=['vehicle_id', 'departure_time'], inplace=True)\n",
    "# Create vehicle specification table\n",
    "# connection, cur = dbh.database_connection('test')"
   ]
  },
  {
   "cell_type": "code",
   "execution_count": 4,
   "metadata": {},
   "outputs": [],
   "source": [
    "sheet_list = pd.read_csv(r'C:\\Users\\SofiaTaylor\\OneDrive - Flexible Power Systems Ltd\\dev\\fps_pipeline_plan\\functions\\shared_functions\\telematics\\sample\\hgv\\telematics_check.csv')\n",
    "vehicles = sheet_list['vehicle_id'].unique()\n",
    "vehicle_site_dict = {v: sheet_list[sheet_list['vehicle_id'] == v]['site_id'].values for v in vehicles}\n",
    "routes['site_ids'] = routes['vehicle_id'].map(vehicle_site_dict)\n",
    "routes['same_return'] = routes['site_id_start'] == routes['site_id_end']\n",
    "routes['start_right_id'] = False\n",
    "routes['duration_hours'] = (routes['arrival_time'] - routes['departure_time']).dt.total_seconds()/3600\n",
    "routes['date'] = routes['departure_time'].dt.date\n",
    "routes['start_time'] = (routes['departure_time'] - dt.datetime(2022, 1, 1)).dt.total_seconds()/3600 % 24\n",
    "routes['end_time'] = (routes['arrival_time'] - dt.datetime(2022, 1, 1)).dt.total_seconds()/3600 % 24\n",
    "routes['last_wait_onsite'] = (routes['departure_time']\n",
    "                              - routes['arrival_time'].shift(1)).dt.total_seconds()/3600\n",
    "routes['next_wait_onsite'] = (routes['departure_time'].shift(-1)\n",
    "                              - routes['arrival_time']).dt.total_seconds()/3600\n",
    "routes['week'] = routes['departure_time'].dt.isocalendar()['week']\n",
    "mask_change_veh = routes['vehicle_id'] != routes['vehicle_id'].shift(1)\n",
    "routes.loc[mask_change_veh, 'last_wait_onsite'] = 0\n",
    "mask_change_veh = routes['vehicle_id'] != routes['vehicle_id'].shift(-1)\n",
    "routes.loc[mask_change_veh, 'next_wait_onsite'] = 0\n",
    "routes.drop(columns=['payload', 'number_crates', 'client_id'], inplace=True)\n",
    "for idx in routes.index:\n",
    "    routes.loc[idx, 'start_right_id'] = ff.right_start_site(\n",
    "        routes.loc[idx, 'site_id_start'], routes.loc[idx, 'site_ids'])\n",
    "\n",
    "# for spec in good_specs:\n",
    "#     spec_routes = routes[routes['spec_id'] == spec]\n",
    "#     bar_plot_site_ends(spec_routes, site_dict, site, suff=str(spec))\n",
    "\n",
    "spec_stats = 100*routes.groupby('spec_id')[['same_return']].mean().round(3)\n",
    "spec_stats['vehicle_type'] = spec_stats.index.map(good_specs)"
   ]
  },
  {
   "cell_type": "code",
   "execution_count": 6,
   "metadata": {},
   "outputs": [
    {
     "ename": "KeyError",
     "evalue": "\"Columns not found: 'client_id'\"",
     "output_type": "error",
     "traceback": [
      "\u001b[1;31m---------------------------------------------------------------------------\u001b[0m",
      "\u001b[1;31mKeyError\u001b[0m                                  Traceback (most recent call last)",
      "\u001b[1;32m~\\AppData\\Local\\Temp\\ipykernel_6644\\350498158.py\u001b[0m in \u001b[0;36m<module>\u001b[1;34m\u001b[0m\n\u001b[1;32m----> 1\u001b[1;33m \u001b[0mcount_routes_per_day\u001b[0m \u001b[1;33m=\u001b[0m \u001b[0mroutes\u001b[0m\u001b[1;33m.\u001b[0m\u001b[0mgroupby\u001b[0m\u001b[1;33m(\u001b[0m\u001b[1;33m[\u001b[0m\u001b[1;34m'spec_id'\u001b[0m\u001b[1;33m,\u001b[0m \u001b[1;34m'vehicle_id'\u001b[0m\u001b[1;33m,\u001b[0m \u001b[1;34m'date'\u001b[0m\u001b[1;33m]\u001b[0m\u001b[1;33m)\u001b[0m\u001b[1;33m[\u001b[0m\u001b[1;33m[\u001b[0m\u001b[1;34m'client_id'\u001b[0m\u001b[1;33m]\u001b[0m\u001b[1;33m]\u001b[0m\u001b[1;33m.\u001b[0m\u001b[0mcount\u001b[0m\u001b[1;33m(\u001b[0m\u001b[1;33m)\u001b[0m\u001b[1;33m\u001b[0m\u001b[1;33m\u001b[0m\u001b[0m\n\u001b[0m\u001b[0;32m      2\u001b[0m \u001b[0mavg_per_spec\u001b[0m \u001b[1;33m=\u001b[0m \u001b[0mcount_routes_per_day\u001b[0m\u001b[1;33m.\u001b[0m\u001b[0mgroupby\u001b[0m\u001b[1;33m(\u001b[0m\u001b[1;34m'spec_id'\u001b[0m\u001b[1;33m)\u001b[0m\u001b[1;33m.\u001b[0m\u001b[0mmean\u001b[0m\u001b[1;33m(\u001b[0m\u001b[1;33m)\u001b[0m\u001b[1;33m\u001b[0m\u001b[1;33m\u001b[0m\u001b[0m\n\u001b[0;32m      3\u001b[0m times_per_spec = routes.groupby('spec_id').agg({\n\u001b[0;32m      4\u001b[0m     \u001b[1;34m'duration_hours'\u001b[0m\u001b[1;33m:\u001b[0m \u001b[1;33m[\u001b[0m\u001b[1;34m'median'\u001b[0m\u001b[1;33m,\u001b[0m \u001b[0mff\u001b[0m\u001b[1;33m.\u001b[0m\u001b[0mq75\u001b[0m\u001b[1;33m,\u001b[0m \u001b[0mff\u001b[0m\u001b[1;33m.\u001b[0m\u001b[0mq95\u001b[0m\u001b[1;33m]\u001b[0m\u001b[1;33m,\u001b[0m\u001b[1;33m\u001b[0m\u001b[1;33m\u001b[0m\u001b[0m\n\u001b[0;32m      5\u001b[0m     'last_wait_onsite': ['median', ff.q25, ff.q05]})\n",
      "\u001b[1;32m~\\.conda\\envs\\pipetel\\lib\\site-packages\\pandas\\core\\groupby\\generic.py\u001b[0m in \u001b[0;36m__getitem__\u001b[1;34m(self, key)\u001b[0m\n\u001b[0;32m   1336\u001b[0m                 \u001b[0mstacklevel\u001b[0m\u001b[1;33m=\u001b[0m\u001b[0mfind_stack_level\u001b[0m\u001b[1;33m(\u001b[0m\u001b[1;33m)\u001b[0m\u001b[1;33m,\u001b[0m\u001b[1;33m\u001b[0m\u001b[1;33m\u001b[0m\u001b[0m\n\u001b[0;32m   1337\u001b[0m             )\n\u001b[1;32m-> 1338\u001b[1;33m         \u001b[1;32mreturn\u001b[0m \u001b[0msuper\u001b[0m\u001b[1;33m(\u001b[0m\u001b[1;33m)\u001b[0m\u001b[1;33m.\u001b[0m\u001b[0m__getitem__\u001b[0m\u001b[1;33m(\u001b[0m\u001b[0mkey\u001b[0m\u001b[1;33m)\u001b[0m\u001b[1;33m\u001b[0m\u001b[1;33m\u001b[0m\u001b[0m\n\u001b[0m\u001b[0;32m   1339\u001b[0m \u001b[1;33m\u001b[0m\u001b[0m\n\u001b[0;32m   1340\u001b[0m     \u001b[1;32mdef\u001b[0m \u001b[0m_gotitem\u001b[0m\u001b[1;33m(\u001b[0m\u001b[0mself\u001b[0m\u001b[1;33m,\u001b[0m \u001b[0mkey\u001b[0m\u001b[1;33m,\u001b[0m \u001b[0mndim\u001b[0m\u001b[1;33m:\u001b[0m \u001b[0mint\u001b[0m\u001b[1;33m,\u001b[0m \u001b[0msubset\u001b[0m\u001b[1;33m=\u001b[0m\u001b[1;32mNone\u001b[0m\u001b[1;33m)\u001b[0m\u001b[1;33m:\u001b[0m\u001b[1;33m\u001b[0m\u001b[1;33m\u001b[0m\u001b[0m\n",
      "\u001b[1;32m~\\.conda\\envs\\pipetel\\lib\\site-packages\\pandas\\core\\base.py\u001b[0m in \u001b[0;36m__getitem__\u001b[1;34m(self, key)\u001b[0m\n\u001b[0;32m    238\u001b[0m             \u001b[1;32mif\u001b[0m \u001b[0mlen\u001b[0m\u001b[1;33m(\u001b[0m\u001b[0mself\u001b[0m\u001b[1;33m.\u001b[0m\u001b[0mobj\u001b[0m\u001b[1;33m.\u001b[0m\u001b[0mcolumns\u001b[0m\u001b[1;33m.\u001b[0m\u001b[0mintersection\u001b[0m\u001b[1;33m(\u001b[0m\u001b[0mkey\u001b[0m\u001b[1;33m)\u001b[0m\u001b[1;33m)\u001b[0m \u001b[1;33m!=\u001b[0m \u001b[0mlen\u001b[0m\u001b[1;33m(\u001b[0m\u001b[0mset\u001b[0m\u001b[1;33m(\u001b[0m\u001b[0mkey\u001b[0m\u001b[1;33m)\u001b[0m\u001b[1;33m)\u001b[0m\u001b[1;33m:\u001b[0m\u001b[1;33m\u001b[0m\u001b[1;33m\u001b[0m\u001b[0m\n\u001b[0;32m    239\u001b[0m                 \u001b[0mbad_keys\u001b[0m \u001b[1;33m=\u001b[0m \u001b[0mlist\u001b[0m\u001b[1;33m(\u001b[0m\u001b[0mset\u001b[0m\u001b[1;33m(\u001b[0m\u001b[0mkey\u001b[0m\u001b[1;33m)\u001b[0m\u001b[1;33m.\u001b[0m\u001b[0mdifference\u001b[0m\u001b[1;33m(\u001b[0m\u001b[0mself\u001b[0m\u001b[1;33m.\u001b[0m\u001b[0mobj\u001b[0m\u001b[1;33m.\u001b[0m\u001b[0mcolumns\u001b[0m\u001b[1;33m)\u001b[0m\u001b[1;33m)\u001b[0m\u001b[1;33m\u001b[0m\u001b[1;33m\u001b[0m\u001b[0m\n\u001b[1;32m--> 240\u001b[1;33m                 \u001b[1;32mraise\u001b[0m \u001b[0mKeyError\u001b[0m\u001b[1;33m(\u001b[0m\u001b[1;34mf\"Columns not found: {str(bad_keys)[1:-1]}\"\u001b[0m\u001b[1;33m)\u001b[0m\u001b[1;33m\u001b[0m\u001b[1;33m\u001b[0m\u001b[0m\n\u001b[0m\u001b[0;32m    241\u001b[0m             \u001b[1;32mreturn\u001b[0m \u001b[0mself\u001b[0m\u001b[1;33m.\u001b[0m\u001b[0m_gotitem\u001b[0m\u001b[1;33m(\u001b[0m\u001b[0mlist\u001b[0m\u001b[1;33m(\u001b[0m\u001b[0mkey\u001b[0m\u001b[1;33m)\u001b[0m\u001b[1;33m,\u001b[0m \u001b[0mndim\u001b[0m\u001b[1;33m=\u001b[0m\u001b[1;36m2\u001b[0m\u001b[1;33m)\u001b[0m\u001b[1;33m\u001b[0m\u001b[1;33m\u001b[0m\u001b[0m\n\u001b[0;32m    242\u001b[0m \u001b[1;33m\u001b[0m\u001b[0m\n",
      "\u001b[1;31mKeyError\u001b[0m: \"Columns not found: 'client_id'\""
     ]
    }
   ],
   "source": [
    "count_routes_per_day = routes.groupby(['spec_id', 'vehicle_id', 'date'])[['client_id']].count()\n",
    "avg_per_spec = count_routes_per_day.groupby('spec_id').mean()\n",
    "times_per_spec = routes.groupby('spec_id').agg({\n",
    "    'duration_hours': ['median', ff.q75, ff.q95],\n",
    "    'last_wait_onsite': ['median', ff.q25, ff.q05]})\n",
    "times_per_spec.columns = ['median_duration_hours', '75th_duration_hours', '95th_duration_hours',\n",
    "                          'median_wait_hours', '25th_wait_hours', '5th_wait_hours']\n",
    "avg_per_spec = avg_per_spec.merge(times_per_spec, left_index=True, right_index=True)\n",
    "avg_per_spec.rename(columns={'client_id': 'routes_per_day_per_vehicle'}, inplace=True)\n",
    "avg_per_spec.to_csv('sample/tru/spec_averages.csv')"
   ]
  },
  {
   "cell_type": "markdown",
   "metadata": {},
   "source": [
    "### Cleanup routes"
   ]
  },
  {
   "cell_type": "code",
   "execution_count": 5,
   "metadata": {},
   "outputs": [
    {
     "data": {
      "text/plain": [
       "(array([  42.,   80.,  126.,  150.,  177.,  249.,  473.,  911., 1395.,\n",
       "        2429.]),\n",
       " array([0. , 0.1, 0.2, 0.3, 0.4, 0.5, 0.6, 0.7, 0.8, 0.9, 1. ]),\n",
       " <BarContainer object of 10 artists>)"
      ]
     },
     "execution_count": 5,
     "metadata": {},
     "output_type": "execute_result"
    },
    {
     "data": {
      "image/png": "[encoded data removed]",
      "text/plain": [
       "<Figure size 432x288 with 1 Axes>"
      ]
     },
     "metadata": {
      "needs_background": "light"
     },
     "output_type": "display_data"
    }
   ],
   "source": [
    "vehicle_good_sites = routes.groupby('vehicle_id')['good_site'].mean()\n",
    "frequent_vehicles = vehicle_good_sites.loc[vehicle_good_sites > 0.6].index\n",
    "plt.hist(vehicle_good_sites, cumulative=True)"
   ]
  },
  {
   "cell_type": "code",
   "execution_count": 6,
   "metadata": {},
   "outputs": [
    {
     "name": "stdout",
     "output_type": "stream",
     "text": [
      "213716\n"
     ]
    }
   ],
   "source": [
    "print(len(routes)) # 213716"
   ]
  },
  {
   "cell_type": "code",
   "execution_count": 7,
   "metadata": {},
   "outputs": [],
   "source": [
    "cols = ['site_id_start', 'site_id_end', 'departure_time', 'arrival_time',\n",
    "       'vehicle_id', 'distance_miles', 'route_id',\n",
    "       'number_order', 'driving_time', 'duration_hours', 'date',\n",
    "       'start_time', 'end_time', 'last_wait_onsite', 'next_wait_onsite',\n",
    "       'week', 'good_site']\n",
    "# Either started from a real depot or were in another site for short time\n",
    "mask_good_start = ((routes['site_id_start'].isin(good_sites))\n",
    "                   | (routes['last_wait_onsite'] < 3))\n",
    "# Belong to a vehicle that operates mostly in the depots\n",
    "mask_good_vehicles = routes['vehicle_id'].isin(frequent_vehicles)\n",
    "mask_decent_wait = routes['next_wait_onsite'] >= 1\n",
    "mask_good_end = routes['site_id_end'].isin(good_sites)\n",
    "routes_cleaned = routes[mask_good_start & mask_good_vehicles\n",
    "                        & mask_decent_wait & mask_good_end].copy()\n",
    "# routes_cleaned[cols]"
   ]
  },
  {
   "cell_type": "code",
   "execution_count": 8,
   "metadata": {},
   "outputs": [
    {
     "name": "stdout",
     "output_type": "stream",
     "text": [
      "170171 169954\n",
      "169954 169923\n",
      "169923 169915\n",
      "169915 169913\n",
      "169913 169913\n"
     ]
    }
   ],
   "source": [
    "n_routes = len(routes_cleaned)\n",
    "new_n_routes = 0\n",
    "while n_routes != new_n_routes:\n",
    "    n_routes = len(routes_cleaned)\n",
    "    end_routes = ff.edge_routes(routes_cleaned)\n",
    "    routes_cleaned = routes_cleaned.merge(end_routes, how='left', left_on=['vehicle_id', 'departure_time'], right_on=['vehicle_id', 'date_edge'])\n",
    "    routes_cleaned['edge_routes'] = routes_cleaned['edge_routes'].fillna(False)\n",
    "    routes_cleaned = routes_cleaned[(routes_cleaned['good_site']) | (~routes_cleaned['edge_routes'])]\n",
    "    new_n_routes = len(routes_cleaned)\n",
    "    print(n_routes, new_n_routes)\n",
    "    routes_cleaned.drop(columns=['date_edge', 'edge_routes'], inplace=True)\n",
    "end_routes = ff.edge_routes(routes_cleaned)\n",
    "routes_cleaned = routes_cleaned.merge(end_routes, how='left', left_on=['vehicle_id', 'departure_time'], right_on=['vehicle_id', 'date_edge'])\n",
    "routes_cleaned['edge_routes'] = routes_cleaned['edge_routes'].fillna(False)\n",
    "routes_cleaned.drop(columns=['date_edge'], inplace=True)  # 169913"
   ]
  },
  {
   "cell_type": "markdown",
   "metadata": {},
   "source": [
    "### eTRU analysis"
   ]
  },
  {
   "cell_type": "code",
   "execution_count": 16,
   "metadata": {},
   "outputs": [
    {
     "data": {
      "text/html": [
       "<div>\n",
       "<style scoped>\n",
       "    .dataframe tbody tr th:only-of-type {\n",
       "        vertical-align: middle;\n",
       "    }\n",
       "\n",
       "    .dataframe tbody tr th {\n",
       "        vertical-align: top;\n",
       "    }\n",
       "\n",
       "    .dataframe thead th {\n",
       "        text-align: right;\n",
       "    }\n",
       "</style>\n",
       "<table border=\"1\" class=\"dataframe\">\n",
       "  <thead>\n",
       "    <tr style=\"text-align: right;\">\n",
       "      <th></th>\n",
       "      <th>site_id_start</th>\n",
       "      <th>vehicle_id</th>\n",
       "      <th>route_id</th>\n",
       "      <th>site_id_end</th>\n",
       "      <th>spec_id</th>\n",
       "      <th>duration_hours</th>\n",
       "      <th>date</th>\n",
       "      <th>start_time</th>\n",
       "      <th>end_time</th>\n",
       "      <th>next_wait_onsite</th>\n",
       "      <th>route_kwh</th>\n",
       "      <th>shorepower_time</th>\n",
       "      <th>shorepower_kwh</th>\n",
       "      <th>recharge_power_kw</th>\n",
       "      <th>battery_choice</th>\n",
       "      <th>edge_routes</th>\n",
       "    </tr>\n",
       "  </thead>\n",
       "  <tbody>\n",
       "    <tr>\n",
       "      <th>118004</th>\n",
       "      <td>5</td>\n",
       "      <td>1950</td>\n",
       "      <td>984794</td>\n",
       "      <td>1</td>\n",
       "      <td>115</td>\n",
       "      <td>8.368611</td>\n",
       "      <td>2022-02-22</td>\n",
       "      <td>13.391389</td>\n",
       "      <td>21.760000</td>\n",
       "      <td>1.005278</td>\n",
       "      <td>17.239339</td>\n",
       "      <td>1.005278</td>\n",
       "      <td>3.649158</td>\n",
       "      <td>37.909486</td>\n",
       "      <td>19.2</td>\n",
       "      <td>False</td>\n",
       "    </tr>\n",
       "    <tr>\n",
       "      <th>59596</th>\n",
       "      <td>8</td>\n",
       "      <td>1129</td>\n",
       "      <td>904211</td>\n",
       "      <td>8</td>\n",
       "      <td>115</td>\n",
       "      <td>8.870000</td>\n",
       "      <td>2022-02-18</td>\n",
       "      <td>6.924167</td>\n",
       "      <td>15.794167</td>\n",
       "      <td>1.033333</td>\n",
       "      <td>18.272200</td>\n",
       "      <td>1.033333</td>\n",
       "      <td>3.751000</td>\n",
       "      <td>38.067083</td>\n",
       "      <td>19.2</td>\n",
       "      <td>False</td>\n",
       "    </tr>\n",
       "    <tr>\n",
       "      <th>61599</th>\n",
       "      <td>10</td>\n",
       "      <td>1155</td>\n",
       "      <td>907135</td>\n",
       "      <td>5</td>\n",
       "      <td>115</td>\n",
       "      <td>9.056944</td>\n",
       "      <td>2022-03-26</td>\n",
       "      <td>19.708333</td>\n",
       "      <td>4.765278</td>\n",
       "      <td>1.036389</td>\n",
       "      <td>18.657306</td>\n",
       "      <td>1.036389</td>\n",
       "      <td>3.762092</td>\n",
       "      <td>38.647966</td>\n",
       "      <td>19.2</td>\n",
       "      <td>False</td>\n",
       "    </tr>\n",
       "    <tr>\n",
       "      <th>68881</th>\n",
       "      <td>1</td>\n",
       "      <td>1253</td>\n",
       "      <td>917455</td>\n",
       "      <td>5</td>\n",
       "      <td>115</td>\n",
       "      <td>9.918056</td>\n",
       "      <td>2022-04-15</td>\n",
       "      <td>1.374444</td>\n",
       "      <td>11.292500</td>\n",
       "      <td>1.072500</td>\n",
       "      <td>20.431194</td>\n",
       "      <td>1.072500</td>\n",
       "      <td>3.893175</td>\n",
       "      <td>39.652973</td>\n",
       "      <td>24.0</td>\n",
       "      <td>False</td>\n",
       "    </tr>\n",
       "    <tr>\n",
       "      <th>50982</th>\n",
       "      <td>3</td>\n",
       "      <td>1004</td>\n",
       "      <td>892371</td>\n",
       "      <td>3</td>\n",
       "      <td>115</td>\n",
       "      <td>9.844722</td>\n",
       "      <td>2022-02-21</td>\n",
       "      <td>0.606111</td>\n",
       "      <td>10.450833</td>\n",
       "      <td>1.027778</td>\n",
       "      <td>20.280128</td>\n",
       "      <td>1.027778</td>\n",
       "      <td>3.730833</td>\n",
       "      <td>42.695006</td>\n",
       "      <td>24.0</td>\n",
       "      <td>False</td>\n",
       "    </tr>\n",
       "  </tbody>\n",
       "</table>\n",
       "</div>"
      ],
      "text/plain": [
       "        site_id_start  vehicle_id  route_id  site_id_end  spec_id  \\\n",
       "118004              5        1950    984794            1      115   \n",
       "59596               8        1129    904211            8      115   \n",
       "61599              10        1155    907135            5      115   \n",
       "68881               1        1253    917455            5      115   \n",
       "50982               3        1004    892371            3      115   \n",
       "\n",
       "        duration_hours        date  start_time   end_time  next_wait_onsite  \\\n",
       "118004        8.368611  2022-02-22   13.391389  21.760000          1.005278   \n",
       "59596         8.870000  2022-02-18    6.924167  15.794167          1.033333   \n",
       "61599         9.056944  2022-03-26   19.708333   4.765278          1.036389   \n",
       "68881         9.918056  2022-04-15    1.374444  11.292500          1.072500   \n",
       "50982         9.844722  2022-02-21    0.606111  10.450833          1.027778   \n",
       "\n",
       "        route_kwh  shorepower_time  shorepower_kwh  recharge_power_kw  \\\n",
       "118004  17.239339         1.005278        3.649158          37.909486   \n",
       "59596   18.272200         1.033333        3.751000          38.067083   \n",
       "61599   18.657306         1.036389        3.762092          38.647966   \n",
       "68881   20.431194         1.072500        3.893175          39.652973   \n",
       "50982   20.280128         1.027778        3.730833          42.695006   \n",
       "\n",
       "        battery_choice  edge_routes  \n",
       "118004            19.2        False  \n",
       "59596             19.2        False  \n",
       "61599             19.2        False  \n",
       "68881             24.0        False  \n",
       "50982             24.0        False  "
      ]
     },
     "execution_count": 16,
     "metadata": {},
     "output_type": "execute_result"
    }
   ],
   "source": [
    "season = 'summer'\n",
    "route_kw = vehicle_specifications[f'route_power_{season}_kw'].to_dict()\n",
    "shorepower_kw = vehicle_specifications[f'shorepower_{season}_kw'].to_dict()\n",
    "\n",
    "mask_missing_wait = (routes_cleaned['edge_routes']) & (routes_cleaned['next_wait_onsite'] == 0)\n",
    "routes_cleaned.loc[mask_missing_wait, 'next_wait_onsite'] = DEFAULT_WAIT\n",
    "routes_cleaned['route_kwh'] = routes_cleaned['duration_hours'] * routes_cleaned['spec_id'].map(route_kw)\n",
    "routes_cleaned['shorepower_time'] = routes_cleaned['next_wait_onsite'].clip(upper=MAX_SHOREPOWER_HOURS)\n",
    "routes_cleaned['shorepower_kwh'] = routes_cleaned['shorepower_time'] * routes_cleaned['spec_id'].map(shorepower_kw)\n",
    "routes_cleaned['recharge_power_kw'] = (routes_cleaned['route_kwh']/CHARGER_EFF) / (routes_cleaned['next_wait_onsite'] - remove_charging_time)\n",
    "cols = ['site_id_start', 'vehicle_id', 'route_id',\n",
    "       'site_id_end', 'spec_id', 'duration_hours', 'date', 'start_time',\n",
    "       'end_time', 'next_wait_onsite', 'route_kwh', 'shorepower_time',\n",
    "       'shorepower_kwh', 'recharge_power_kw', 'battery_choice', 'edge_routes']\n",
    "routes_cleaned['battery_choice'] = 100\n",
    "for battery in tru_battery_kwh:\n",
    "    mask_feasible_battery = routes_cleaned['route_kwh'] <= battery\n",
    "    routes_cleaned.loc[mask_feasible_battery, 'battery_choice'] = battery\n",
    "routes_cleaned[cols].sort_values(by='recharge_power_kw').tail()\n"
   ]
  },
  {
   "cell_type": "code",
   "execution_count": 44,
   "metadata": {},
   "outputs": [],
   "source": [
    "route_feasibility = routes_cleaned.groupby(['spec_id', 'battery_choice'])['site_id_start'].count()\n",
    "route_feasibility = route_feasibility.unstack().fillna(0)\n",
    "route_feasibility.index = route_feasibility.index.map(good_specs)\n",
    "total_routes = route_feasibility.sum(axis=1).values[:, None]"
   ]
  },
  {
   "cell_type": "code",
   "execution_count": 45,
   "metadata": {},
   "outputs": [
    {
     "data": {
      "text/html": [
       "<div>\n",
       "<style scoped>\n",
       "    .dataframe tbody tr th:only-of-type {\n",
       "        vertical-align: middle;\n",
       "    }\n",
       "\n",
       "    .dataframe tbody tr th {\n",
       "        vertical-align: top;\n",
       "    }\n",
       "\n",
       "    .dataframe thead th {\n",
       "        text-align: right;\n",
       "    }\n",
       "</style>\n",
       "<table border=\"1\" class=\"dataframe\">\n",
       "  <thead>\n",
       "    <tr style=\"text-align: right;\">\n",
       "      <th>battery_choice</th>\n",
       "      <th>Short range</th>\n",
       "      <th>Medium range</th>\n",
       "      <th>Long range</th>\n",
       "      <th>Future</th>\n",
       "    </tr>\n",
       "    <tr>\n",
       "      <th>spec_id</th>\n",
       "      <th></th>\n",
       "      <th></th>\n",
       "      <th></th>\n",
       "      <th></th>\n",
       "    </tr>\n",
       "  </thead>\n",
       "  <tbody>\n",
       "    <tr>\n",
       "      <th>Rigid 4x2</th>\n",
       "      <td>34278.0</td>\n",
       "      <td>1259.0</td>\n",
       "      <td>0.0</td>\n",
       "      <td>0.0</td>\n",
       "    </tr>\n",
       "    <tr>\n",
       "      <th>Rigid 6x2</th>\n",
       "      <td>6671.0</td>\n",
       "      <td>1077.0</td>\n",
       "      <td>451.0</td>\n",
       "      <td>12.0</td>\n",
       "    </tr>\n",
       "    <tr>\n",
       "      <th>Trailer 57 13.6m</th>\n",
       "      <td>89124.0</td>\n",
       "      <td>16777.0</td>\n",
       "      <td>7733.0</td>\n",
       "      <td>1313.0</td>\n",
       "    </tr>\n",
       "    <tr>\n",
       "      <th>Trailer 86 13.6m</th>\n",
       "      <td>350.0</td>\n",
       "      <td>101.0</td>\n",
       "      <td>100.0</td>\n",
       "      <td>66.0</td>\n",
       "    </tr>\n",
       "    <tr>\n",
       "      <th>Short Trailer</th>\n",
       "      <td>8318.0</td>\n",
       "      <td>1737.0</td>\n",
       "      <td>546.0</td>\n",
       "      <td>0.0</td>\n",
       "    </tr>\n",
       "  </tbody>\n",
       "</table>\n",
       "</div>"
      ],
      "text/plain": [
       "battery_choice    Short range  Medium range  Long range  Future\n",
       "spec_id                                                        \n",
       "Rigid 4x2             34278.0        1259.0         0.0     0.0\n",
       "Rigid 6x2              6671.0        1077.0       451.0    12.0\n",
       "Trailer 57 13.6m      89124.0       16777.0      7733.0  1313.0\n",
       "Trailer 86 13.6m        350.0         101.0       100.0    66.0\n",
       "Short Trailer          8318.0        1737.0       546.0     0.0"
      ]
     },
     "execution_count": 45,
     "metadata": {},
     "output_type": "execute_result"
    }
   ],
   "source": [
    "reverse_tru_bat_dict = {tru_battery_dict[key]: key for key in tru_battery_dict.keys()}\n",
    "reverse_tru_bat_dict[100] = 'Unfeasible'\n",
    "route_feasibility.columns = route_feasibility.columns.map(reverse_tru_bat_dict)\n",
    "route_feasibility"
   ]
  },
  {
   "cell_type": "markdown",
   "metadata": {},
   "source": [
    "### Create site/group allocations"
   ]
  },
  {
   "cell_type": "code",
   "execution_count": 16,
   "metadata": {},
   "outputs": [
    {
     "name": "stderr",
     "output_type": "stream",
     "text": [
      "2022-07-15 09:52:24|DEBUG|data_handler.py(39)|get_inputs|read inputs for run 204\n",
      "2022-07-15 09:52:24|DEBUG|controller.py(50)|get_fps_allocation_id|reading last allocation ID\n",
      "2022-07-15 09:52:25|DEBUG|pipe_db_handler.py(62)|upload_table|Uploaded to t_allocation\n"
     ]
    }
   ],
   "source": [
    "RUN = 204\n",
    "routes_cleaned = pickle.load(open('sample/tru/routes_cleaned.pkl', 'rb'))\n",
    "connection, cur = dbh.database_connection('test')\n",
    "# last_alloc = acf.get_fps_allocation_id(connection, cur)\n",
    "# last_alloc = 670\n",
    "inputs = dh.get_inputs('t_run_allocation', RUN, connection, cur)\n",
    "alloc_table = ff.create_allocation_table(inputs, good_sites, specs, connection)\n",
    "mask_good_sites = routes_cleaned['site_id_end'].isin(good_sites)\n",
    "route_summary = routes_cleaned.groupby(['site_id_end', 'spec_id']).agg({\n",
    "    'vehicle_id': 'nunique',\n",
    "    'route_id': 'count'\n",
    "})\n",
    "rename_dict = {\n",
    "    'vehicle_id': 'num_v',\n",
    "    'route_id': 'num_r'\n",
    "}\n",
    "route_summary.rename(columns=rename_dict, inplace=True)\n",
    "alloc_table = alloc_table.merge(route_summary, left_on=['site_id', 'vehicle1'], right_index=True, how='inner')\n",
    "alloc_table['xmpg'] = 0\n",
    "alloc_table['num_v_final'] = alloc_table['num_v']\n",
    "alloc_table['num_charger2'] = 0\n",
    "dbh.upload_table(alloc_table, 't_allocation')\n",
    "alloc_table.set_index('allocation_id', inplace=True)"
   ]
  },
  {
   "cell_type": "code",
   "execution_count": 17,
   "metadata": {},
   "outputs": [
    {
     "name": "stderr",
     "output_type": "stream",
     "text": [
      "2022-07-15 09:54:29|DEBUG|pipe_db_handler.py(62)|upload_table|Uploaded to t_route_allocated\n",
      "2022-07-15 09:54:29|DEBUG|pipe_db_handler.py(62)|upload_table|Uploaded to t_route_allocated\n",
      "2022-07-15 09:54:32|DEBUG|pipe_db_handler.py(62)|upload_table|Uploaded to t_route_allocated\n",
      "2022-07-15 09:54:33|DEBUG|pipe_db_handler.py(62)|upload_table|Uploaded to t_route_allocated\n",
      "2022-07-15 09:54:33|DEBUG|pipe_db_handler.py(62)|upload_table|Uploaded to t_route_allocated\n",
      "2022-07-15 09:54:34|DEBUG|pipe_db_handler.py(62)|upload_table|Uploaded to t_route_allocated\n",
      "2022-07-15 09:54:34|DEBUG|pipe_db_handler.py(62)|upload_table|Uploaded to t_route_allocated\n",
      "2022-07-15 09:54:36|DEBUG|pipe_db_handler.py(62)|upload_table|Uploaded to t_route_allocated\n",
      "2022-07-15 09:54:37|DEBUG|pipe_db_handler.py(62)|upload_table|Uploaded to t_route_allocated\n",
      "2022-07-15 09:54:37|DEBUG|pipe_db_handler.py(62)|upload_table|Uploaded to t_route_allocated\n",
      "2022-07-15 09:54:38|DEBUG|pipe_db_handler.py(62)|upload_table|Uploaded to t_route_allocated\n",
      "2022-07-15 09:54:39|DEBUG|pipe_db_handler.py(62)|upload_table|Uploaded to t_route_allocated\n",
      "2022-07-15 09:54:40|DEBUG|pipe_db_handler.py(62)|upload_table|Uploaded to t_route_allocated\n",
      "2022-07-15 09:54:41|DEBUG|pipe_db_handler.py(62)|upload_table|Uploaded to t_route_allocated\n",
      "2022-07-15 09:54:42|DEBUG|pipe_db_handler.py(62)|upload_table|Uploaded to t_route_allocated\n",
      "2022-07-15 09:54:42|DEBUG|pipe_db_handler.py(62)|upload_table|Uploaded to t_route_allocated\n",
      "2022-07-15 09:54:43|DEBUG|pipe_db_handler.py(62)|upload_table|Uploaded to t_route_allocated\n",
      "2022-07-15 09:54:45|DEBUG|pipe_db_handler.py(62)|upload_table|Uploaded to t_route_allocated\n",
      "2022-07-15 09:54:45|DEBUG|pipe_db_handler.py(62)|upload_table|Uploaded to t_route_allocated\n",
      "2022-07-15 09:54:46|DEBUG|pipe_db_handler.py(62)|upload_table|Uploaded to t_route_allocated\n",
      "2022-07-15 09:54:47|DEBUG|pipe_db_handler.py(62)|upload_table|Uploaded to t_route_allocated\n",
      "2022-07-15 09:54:48|DEBUG|pipe_db_handler.py(62)|upload_table|Uploaded to t_route_allocated\n",
      "2022-07-15 09:54:51|DEBUG|pipe_db_handler.py(62)|upload_table|Uploaded to t_route_allocated\n",
      "2022-07-15 09:54:51|DEBUG|pipe_db_handler.py(62)|upload_table|Uploaded to t_route_allocated\n",
      "2022-07-15 09:54:52|DEBUG|pipe_db_handler.py(62)|upload_table|Uploaded to t_route_allocated\n",
      "2022-07-15 09:54:53|DEBUG|pipe_db_handler.py(62)|upload_table|Uploaded to t_route_allocated\n",
      "2022-07-15 09:54:54|DEBUG|pipe_db_handler.py(62)|upload_table|Uploaded to t_route_allocated\n",
      "2022-07-15 09:54:55|DEBUG|pipe_db_handler.py(62)|upload_table|Uploaded to t_route_allocated\n",
      "2022-07-15 09:54:56|DEBUG|pipe_db_handler.py(62)|upload_table|Uploaded to t_route_allocated\n",
      "2022-07-15 09:54:57|DEBUG|pipe_db_handler.py(62)|upload_table|Uploaded to t_route_allocated\n",
      "2022-07-15 09:54:58|DEBUG|pipe_db_handler.py(62)|upload_table|Uploaded to t_route_allocated\n",
      "2022-07-15 09:54:58|DEBUG|pipe_db_handler.py(62)|upload_table|Uploaded to t_route_allocated\n",
      "2022-07-15 09:55:00|DEBUG|pipe_db_handler.py(62)|upload_table|Uploaded to t_route_allocated\n",
      "2022-07-15 09:55:00|DEBUG|pipe_db_handler.py(62)|upload_table|Uploaded to t_route_allocated\n",
      "2022-07-15 09:55:01|DEBUG|pipe_db_handler.py(62)|upload_table|Uploaded to t_route_allocated\n",
      "2022-07-15 09:55:02|DEBUG|pipe_db_handler.py(62)|upload_table|Uploaded to t_route_allocated\n",
      "2022-07-15 09:55:02|DEBUG|pipe_db_handler.py(62)|upload_table|Uploaded to t_route_allocated\n",
      "2022-07-15 09:55:04|DEBUG|pipe_db_handler.py(62)|upload_table|Uploaded to t_route_allocated\n",
      "2022-07-15 09:55:05|DEBUG|pipe_db_handler.py(62)|upload_table|Uploaded to t_route_allocated\n",
      "2022-07-15 09:55:05|DEBUG|pipe_db_handler.py(62)|upload_table|Uploaded to t_route_allocated\n",
      "2022-07-15 09:55:06|DEBUG|pipe_db_handler.py(62)|upload_table|Uploaded to t_route_allocated\n",
      "2022-07-15 09:55:07|DEBUG|pipe_db_handler.py(62)|upload_table|Uploaded to t_route_allocated\n",
      "2022-07-15 09:55:08|DEBUG|pipe_db_handler.py(62)|upload_table|Uploaded to t_route_allocated\n",
      "2022-07-15 09:55:08|DEBUG|pipe_db_handler.py(62)|upload_table|Uploaded to t_route_allocated\n",
      "2022-07-15 09:55:09|DEBUG|pipe_db_handler.py(62)|upload_table|Uploaded to t_route_allocated\n",
      "2022-07-15 09:55:10|DEBUG|pipe_db_handler.py(62)|upload_table|Uploaded to t_route_allocated\n",
      "2022-07-15 09:55:12|DEBUG|pipe_db_handler.py(62)|upload_table|Uploaded to t_route_allocated\n",
      "2022-07-15 09:55:13|DEBUG|pipe_db_handler.py(62)|upload_table|Uploaded to t_route_allocated\n",
      "2022-07-15 09:55:13|DEBUG|pipe_db_handler.py(62)|upload_table|Uploaded to t_route_allocated\n",
      "2022-07-15 09:55:14|DEBUG|pipe_db_handler.py(62)|upload_table|Uploaded to t_route_allocated\n",
      "2022-07-15 09:55:15|DEBUG|pipe_db_handler.py(62)|upload_table|Uploaded to t_route_allocated\n",
      "2022-07-15 09:55:17|DEBUG|pipe_db_handler.py(62)|upload_table|Uploaded to t_route_allocated\n",
      "2022-07-15 09:55:18|DEBUG|pipe_db_handler.py(62)|upload_table|Uploaded to t_route_allocated\n",
      "2022-07-15 09:55:18|DEBUG|pipe_db_handler.py(62)|upload_table|Uploaded to t_route_allocated\n",
      "2022-07-15 09:55:19|DEBUG|pipe_db_handler.py(62)|upload_table|Uploaded to t_route_allocated\n",
      "2022-07-15 09:55:20|DEBUG|pipe_db_handler.py(62)|upload_table|Uploaded to t_route_allocated\n",
      "2022-07-15 09:55:20|DEBUG|pipe_db_handler.py(62)|upload_table|Uploaded to t_route_allocated\n"
     ]
    }
   ],
   "source": [
    "# iterate over all allocation IDs\n",
    "allocation_ids = alloc_table.index.values\n",
    "for idx in allocation_ids:\n",
    "# for idx in [757]:\n",
    "    # find the routes that end on the site for that specific spec id\n",
    "    mask_routes_alloc = ((routes_cleaned['site_id_end'] == alloc_table.loc[idx, 'site_id'])\n",
    "                        & (routes_cleaned['spec_id'] == alloc_table.loc[idx, 'vehicle1']))\n",
    "    cols = ['vehicle_id', 'route_id', 'spec_id', 'route_kwh', 'date', 'next_wait_onsite']\n",
    "    routes_alloc = routes_cleaned[mask_routes_alloc][cols].copy()\n",
    "    alloc_table.loc[idx, 'num_r2'] = len(routes_alloc)\n",
    "    # convert to the right table format and upload\n",
    "    rename_dict = {\n",
    "        'vehicle_id': 'allocated_vehicle_id',\n",
    "        'spec_id': 'allocated_spec_id',\n",
    "        'route_kwh': 'energy_required_kwh',\n",
    "        'next_wait_onsite': 'recharge_hours'\n",
    "    }\n",
    "    routes_alloc.rename(columns=rename_dict, inplace=True)\n",
    "    routes_alloc['allocation_id'] = idx\n",
    "    dbh.upload_table(routes_alloc, 't_route_allocated')"
   ]
  },
  {
   "cell_type": "markdown",
   "metadata": {},
   "source": [
    "### TRU shorepower profiles"
   ]
  },
  {
   "cell_type": "code",
   "execution_count": 13,
   "metadata": {},
   "outputs": [
    {
     "name": "stderr",
     "output_type": "stream",
     "text": [
      "2022-07-15 14:22:18|DEBUG|data_handler.py(39)|get_inputs|read inputs for run 204\n"
     ]
    }
   ],
   "source": [
    "# Get routes and allocations\n",
    "# connection, cur = dbh.database_connection('test')\n",
    "alloc_run = 204\n",
    "cnx = dbh.create_alch_engine()\n",
    "sql_query = f\"select * from t_allocation where run_id={alloc_run} order by allocation_id\"\n",
    "alloc_table = pd.read_sql_query(sql_query, con=cnx, index_col='allocation_id')\n",
    "cnx.dispose()\n",
    "allocation_ids = alloc_table.index\n",
    "RUN = 205\n",
    "routes_cleaned = pickle.load(open('sample/tru/routes_cleaned.pkl', 'rb'))\n",
    "inputs = dh.get_inputs('t_run_allocation', alloc_run, connection, cur)\n",
    "# Create a baseline HH vector covering the whole period\n",
    "start_dt = inputs['start_date'] + dt.timedelta(hours=6)\n",
    "end_dt = inputs['end_date'] + dt.timedelta(hours=6)\n",
    "N = int((end_dt - start_dt)/dt.timedelta(hours=0.5))\n",
    "times = start_dt + np.arange(N) * dt.timedelta(minutes=30)\n",
    "scenario_id = 1058\n",
    "# calculate start/end time periods per route\n",
    "routes_cleaned['end_depot_time'] = (routes_cleaned['arrival_time']\n",
    "                                    + pd.to_timedelta(routes_cleaned['next_wait_onsite'], unit='h'))\n",
    "routes_cleaned['start_shorepower'] = (routes_cleaned['end_depot_time']\n",
    "                                      - pd.to_timedelta(routes_cleaned['shorepower_time'], unit='h'))\n",
    "routes_cleaned['start_shorepower_tp'] = np.round((routes_cleaned['start_shorepower']-start_dt)\n",
    "                                                 /dt.timedelta(hours=0.5)).astype(int)\n",
    "routes_cleaned['end_shorepower_tp'] = np.round((routes_cleaned['end_depot_time']-start_dt)\n",
    "                                                 /dt.timedelta(hours=0.5)).astype(int)\n",
    "availability_matrix = np.zeros((len(allocation_ids), N))\n",
    "# iterate over allocations\n",
    "for i, idx in enumerate(allocation_ids[:]):\n",
    "    # for each allocation (site and group) generate a HH vector\n",
    "    # alloc_shorepower = np.zeros(N)\n",
    "    # Get the shore power value\n",
    "    shorepower_avg = vehicle_specifications.loc[alloc_table.loc[idx, 'vehicle1'], 'shorepower_summer_kw']\n",
    "    # extract the routes for the allocation\n",
    "    mask_routes_alloc = ((routes_cleaned['site_id_end'] == alloc_table.loc[idx, 'site_id'])\n",
    "                        & (routes_cleaned['spec_id'] == alloc_table.loc[idx, 'vehicle1']))\n",
    "    cols = ['spec_id', 'start_shorepower_tp', 'end_shorepower_tp',\n",
    "            'shorepower_kwh', 'date', 'vehicle_id']\n",
    "    routes_alloc = routes_cleaned[mask_routes_alloc][cols]\n",
    "    # for each route in the allocation calculate a shorepower availability vector\n",
    "    for route in routes_alloc.index[:]:\n",
    "        availability = np.zeros(N)\n",
    "        tp_start = routes_alloc.loc[route, 'start_shorepower_tp']\n",
    "        tp_end = routes_alloc.loc[route, 'end_shorepower_tp']\n",
    "        availability[tp_start: tp_end] = 1\n",
    "        # multiply availability vector by power and add to the main allocation vector\n",
    "        availability_matrix[i] += availability\n",
    "    # Create a table from allocation vector and upload\n",
    "    shorepower_demand = pd.DataFrame(availability_matrix[i]*shorepower_avg,\n",
    "                                     columns=['power_demand_kw'])\n",
    "    shorepower_demand['scenario_id'] = scenario_id\n",
    "    shorepower_demand['allocated_vehicle_id'] = 0\n",
    "    shorepower_demand['datetime'] = times\n",
    "    # dbh.upload_table(shorepower_demand, 't_charge_demand')\n",
    "    # Upload scenario row to scenario table\n",
    "    scenario_values = (\n",
    "        scenario_id, idx, 205, False,\n",
    "        shorepower_demand['power_demand_kw'].sum()/2,\n",
    "        9, 9, routes_alloc.groupby('date')['vehicle_id'].nunique().max(), 0)\n",
    "    scenario_id +=1\n",
    "    # ff.add_scenario(scenario_values, connection,cur)\n",
    "cur.close()\n",
    "connection.close()\n",
    "pickle.dump(availability_matrix, open(r'sample/tru/availability_matrix.pkl', 'wb'))"
   ]
  },
  {
   "cell_type": "markdown",
   "metadata": {},
   "source": [
    "### TRU scenario table"
   ]
  },
  {
   "cell_type": "code",
   "execution_count": 70,
   "metadata": {},
   "outputs": [],
   "source": [
    "# get charging scenarios and allocations\n",
    "alloc_run = 204\n",
    "shorepower_run = 205\n",
    "cnx = dbh.create_alch_engine()\n",
    "sql_query = f\"select * from t_allocation where run_id={alloc_run} order by allocation_id\"\n",
    "alloc_table = pd.read_sql_query(sql_query, con=cnx, index_col='allocation_id')\n",
    "allocation_ids = alloc_table.index\n",
    "sql_query = f\"select * from t_charging_scenarios where allocation_id IN {tuple(allocation_ids)} order by allocation_id, scenario_id\"\n",
    "scenarios = pd.read_sql_query(sql_query, con=cnx)\n",
    "cnx.dispose()\n",
    "\n",
    "# get availability matrix\n",
    "availability_matrix = pickle.load(open(r'sample/tru/availability_matrix.pkl', 'rb'))"
   ]
  },
  {
   "cell_type": "code",
   "execution_count": 71,
   "metadata": {},
   "outputs": [],
   "source": [
    "cols_alloc = ['run_id', 'site_id', 'vehicle1', 'num_r', 'num_v']\n",
    "cols_scen = ['scenario_id', 'allocation_id', 'run_id', 'output_kwh',\n",
    "             'charger1']\n",
    "cols_sp = ['scenario_id', 'allocation_id', 'run_id', 'output_kwh',\n",
    "             'num_charger1']\n",
    "mask_charging = scenarios['run_id'] == alloc_run\n",
    "mask_shorepower = scenarios['run_id'] == shorepower_run\n",
    "master_table = alloc_table[cols_alloc].merge(scenarios[mask_charging][cols_scen],\n",
    "                                             left_index=True, right_on='allocation_id',\n",
    "                                             suffixes=(\"_alloc\", \"_ch\"))\n",
    "master_table = master_table.merge(scenarios[mask_shorepower][cols_sp],\n",
    "                                  left_on='allocation_id', right_on='allocation_id',\n",
    "                                             suffixes=(\"_charging\", \"_shorepower\"))\n",
    "master_table['site_name'] = master_table['site_id'].map(site_dict)\n",
    "master_table['group'] = master_table['vehicle1'].map(good_specs)\n",
    "master_table['simult_shorepower'] = availability_matrix.max(axis=1)\n",
    "master_table.set_index('allocation_id', inplace=True)\n",
    "# master_table.to_csv(r'sample/tru/scenario_table.csv')"
   ]
  },
  {
   "cell_type": "code",
   "execution_count": 72,
   "metadata": {},
   "outputs": [],
   "source": [
    "cnx = dbh.create_alch_engine()\n",
    "master_table['max_simultaneous_charging'] = 0\n",
    "master_table['site_simultaneous_shorepower'] = 0\n",
    "# Iterate over each site\n",
    "for site in good_sites[:1]:\n",
    "    # For each site, read the charge demand tables\n",
    "    mask_site = master_table['site_id'] == site\n",
    "    site_scenarios = master_table.loc[mask_site, 'scenario_id_charging'].values\n",
    "    sql_query = f\"select datetime, power_demand_kw from t_charge_demand where scenario_id IN {dth.list_to_string(site_scenarios)}\"\n",
    "    charge_table = pd.read_sql_query(sql_query, con=cnx)\n",
    "    # Calculate how many vehicles are charging per hh\n",
    "    charge_table['charging'] = charge_table['power_demand_kw'] > 0\n",
    "    max_simultaneous_charging = charge_table.groupby('datetime')['charging'].sum().max()\n",
    "    # Add number to master table on the first allocation for the site\n",
    "    idx = master_table.loc[mask_site].index[0]\n",
    "    master_table.loc[idx, 'max_simultaneous_charging'] = max_simultaneous_charging\n",
    "    master_table.loc[idx, 'site_simultaneous_shorepower'] = availability_matrix[mask_site].sum(axis=0).max()\n",
    "cnx.dispose()\n",
    "# master_table"
   ]
  },
  {
   "cell_type": "code",
   "execution_count": 75,
   "metadata": {},
   "outputs": [],
   "source": [
    "site_scenarios = master_table.loc[mask_site, 'scenario_id_shorepower'].values\n",
    "sql_query = f\"select datetime, power_demand_kw from t_charge_demand where scenario_id IN {dth.list_to_string(site_scenarios)}\"\n",
    "shorepower_table = pd.read_sql_query(sql_query, con=cnx)"
   ]
  },
  {
   "cell_type": "code",
   "execution_count": 77,
   "metadata": {},
   "outputs": [
    {
     "data": {
      "text/plain": [
       "array([ 0.        , 35.3472284 , 74.89924691, ...,  0.        ,\n",
       "        0.        ,  0.        ])"
      ]
     },
     "execution_count": 77,
     "metadata": {},
     "output_type": "execute_result"
    }
   ],
   "source": [
    "site_demand_charging = charge_table.groupby('datetime')['power_demand_kw'].sum().values\n",
    "site_demand_shorepower = shorepower_table.groupby('datetime')['power_demand_kw'].sum().values\n",
    "site_demand_charging"
   ]
  },
  {
   "cell_type": "code",
   "execution_count": 92,
   "metadata": {},
   "outputs": [
    {
     "data": {
      "text/plain": [
       "93.0"
      ]
     },
     "execution_count": 92,
     "metadata": {},
     "output_type": "execute_result"
    }
   ],
   "source": [
    "availability_matrix[mask_site].sum(axis=0).max()"
   ]
  },
  {
   "cell_type": "code",
   "execution_count": 80,
   "metadata": {},
   "outputs": [
    {
     "data": {
      "text/plain": [
       "539.1024444444445"
      ]
     },
     "execution_count": 80,
     "metadata": {},
     "output_type": "execute_result"
    }
   ],
   "source": [
    "(site_demand_shorepower + site_demand_charging).max()"
   ]
  },
  {
   "cell_type": "code",
   "execution_count": 223,
   "metadata": {},
   "outputs": [],
   "source": [
    "site_demand = charge_table.groupby('datetime')['power_demand_kw'].sum().values + availability_matrix[mask_site].sum(axis=0) * 3"
   ]
  },
  {
   "cell_type": "code",
   "execution_count": 228,
   "metadata": {},
   "outputs": [],
   "source": [
    "master_table.to_csv(r'sample/tru/scenario_table.csv')"
   ]
  },
  {
   "cell_type": "code",
   "execution_count": 231,
   "metadata": {},
   "outputs": [
    {
     "data": {
      "text/html": [
       "<div>\n",
       "<style scoped>\n",
       "    .dataframe tbody tr th:only-of-type {\n",
       "        vertical-align: middle;\n",
       "    }\n",
       "\n",
       "    .dataframe tbody tr th {\n",
       "        vertical-align: top;\n",
       "    }\n",
       "\n",
       "    .dataframe thead th {\n",
       "        text-align: right;\n",
       "    }\n",
       "</style>\n",
       "<table border=\"1\" class=\"dataframe\">\n",
       "  <thead>\n",
       "    <tr style=\"text-align: right;\">\n",
       "      <th></th>\n",
       "      <th>vehicle_id</th>\n",
       "      <th>site_name</th>\n",
       "    </tr>\n",
       "    <tr>\n",
       "      <th>site_id_end</th>\n",
       "      <th></th>\n",
       "      <th></th>\n",
       "    </tr>\n",
       "  </thead>\n",
       "  <tbody>\n",
       "    <tr>\n",
       "      <th>1</th>\n",
       "      <td>1347</td>\n",
       "      <td>Waltham Point DC</td>\n",
       "    </tr>\n",
       "    <tr>\n",
       "      <th>2</th>\n",
       "      <td>1327</td>\n",
       "      <td>Northampton DC</td>\n",
       "    </tr>\n",
       "    <tr>\n",
       "      <th>3</th>\n",
       "      <td>1234</td>\n",
       "      <td>Basingstoke DC</td>\n",
       "    </tr>\n",
       "    <tr>\n",
       "      <th>4</th>\n",
       "      <td>1225</td>\n",
       "      <td>Hams Hall DC</td>\n",
       "    </tr>\n",
       "    <tr>\n",
       "      <th>5</th>\n",
       "      <td>1297</td>\n",
       "      <td>Dartford DC</td>\n",
       "    </tr>\n",
       "    <tr>\n",
       "      <th>6</th>\n",
       "      <td>1080</td>\n",
       "      <td>Sherburn DC</td>\n",
       "    </tr>\n",
       "    <tr>\n",
       "      <th>7</th>\n",
       "      <td>1034</td>\n",
       "      <td>Haydock DC</td>\n",
       "    </tr>\n",
       "    <tr>\n",
       "      <th>8</th>\n",
       "      <td>1067</td>\n",
       "      <td>Emerald Park DC</td>\n",
       "    </tr>\n",
       "    <tr>\n",
       "      <th>9</th>\n",
       "      <td>691</td>\n",
       "      <td>Langlands Park DC</td>\n",
       "    </tr>\n",
       "    <tr>\n",
       "      <th>10</th>\n",
       "      <td>829</td>\n",
       "      <td>Rye Park DC</td>\n",
       "    </tr>\n",
       "    <tr>\n",
       "      <th>12</th>\n",
       "      <td>886</td>\n",
       "      <td>Thameside DC</td>\n",
       "    </tr>\n",
       "    <tr>\n",
       "      <th>17</th>\n",
       "      <td>980</td>\n",
       "      <td>Daventry DC</td>\n",
       "    </tr>\n",
       "    <tr>\n",
       "      <th>20</th>\n",
       "      <td>850</td>\n",
       "      <td>Greenford DC</td>\n",
       "    </tr>\n",
       "    <tr>\n",
       "      <th>22</th>\n",
       "      <td>924</td>\n",
       "      <td>Tamworth DC</td>\n",
       "    </tr>\n",
       "    <tr>\n",
       "      <th>28</th>\n",
       "      <td>201</td>\n",
       "      <td>Shire Park DC</td>\n",
       "    </tr>\n",
       "  </tbody>\n",
       "</table>\n",
       "</div>"
      ],
      "text/plain": [
       "             vehicle_id          site_name\n",
       "site_id_end                               \n",
       "1                  1347   Waltham Point DC\n",
       "2                  1327     Northampton DC\n",
       "3                  1234     Basingstoke DC\n",
       "4                  1225       Hams Hall DC\n",
       "5                  1297        Dartford DC\n",
       "6                  1080        Sherburn DC\n",
       "7                  1034         Haydock DC\n",
       "8                  1067    Emerald Park DC\n",
       "9                   691  Langlands Park DC\n",
       "10                  829        Rye Park DC\n",
       "12                  886       Thameside DC\n",
       "17                  980        Daventry DC\n",
       "20                  850       Greenford DC\n",
       "22                  924        Tamworth DC\n",
       "28                  201      Shire Park DC"
      ]
     },
     "execution_count": 231,
     "metadata": {},
     "output_type": "execute_result"
    }
   ],
   "source": [
    "n_vehicles = routes_cleaned.groupby('site_id_end')[['vehicle_id']].nunique()\n",
    "n_vehicles['site_name'] = n_vehicles.index.map(site_dict)\n",
    "n_vehicles.loc[good_sites]"
   ]
  },
  {
   "cell_type": "markdown",
   "metadata": {},
   "source": [
    "### Plots and Outputs"
   ]
  },
  {
   "cell_type": "code",
   "execution_count": 68,
   "metadata": {},
   "outputs": [
    {
     "data": {
      "text/html": [
       "<div>\n",
       "<style scoped>\n",
       "    .dataframe tbody tr th:only-of-type {\n",
       "        vertical-align: middle;\n",
       "    }\n",
       "\n",
       "    .dataframe tbody tr th {\n",
       "        vertical-align: top;\n",
       "    }\n",
       "\n",
       "    .dataframe thead th {\n",
       "        text-align: right;\n",
       "    }\n",
       "</style>\n",
       "<table border=\"1\" class=\"dataframe\">\n",
       "  <thead>\n",
       "    <tr style=\"text-align: right;\">\n",
       "      <th>battery_choice</th>\n",
       "      <th>Short range</th>\n",
       "      <th>Medium range</th>\n",
       "      <th>Long range</th>\n",
       "      <th>Future</th>\n",
       "    </tr>\n",
       "    <tr>\n",
       "      <th>spec_id</th>\n",
       "      <th></th>\n",
       "      <th></th>\n",
       "      <th></th>\n",
       "      <th></th>\n",
       "    </tr>\n",
       "  </thead>\n",
       "  <tbody>\n",
       "    <tr>\n",
       "      <th>Rigid 4x2</th>\n",
       "      <td>34278.0</td>\n",
       "      <td>1259.0</td>\n",
       "      <td>0.0</td>\n",
       "      <td>0.0</td>\n",
       "    </tr>\n",
       "    <tr>\n",
       "      <th>Rigid 6x2</th>\n",
       "      <td>6671.0</td>\n",
       "      <td>1077.0</td>\n",
       "      <td>451.0</td>\n",
       "      <td>12.0</td>\n",
       "    </tr>\n",
       "    <tr>\n",
       "      <th>Trailer 57 13.6m</th>\n",
       "      <td>89124.0</td>\n",
       "      <td>16777.0</td>\n",
       "      <td>7733.0</td>\n",
       "      <td>1313.0</td>\n",
       "    </tr>\n",
       "    <tr>\n",
       "      <th>Trailer 86 13.6m</th>\n",
       "      <td>350.0</td>\n",
       "      <td>101.0</td>\n",
       "      <td>100.0</td>\n",
       "      <td>66.0</td>\n",
       "    </tr>\n",
       "    <tr>\n",
       "      <th>Short Trailer</th>\n",
       "      <td>8318.0</td>\n",
       "      <td>1737.0</td>\n",
       "      <td>546.0</td>\n",
       "      <td>0.0</td>\n",
       "    </tr>\n",
       "  </tbody>\n",
       "</table>\n",
       "</div>"
      ],
      "text/plain": [
       "battery_choice    Short range  Medium range  Long range  Future\n",
       "spec_id                                                        \n",
       "Rigid 4x2             34278.0        1259.0         0.0     0.0\n",
       "Rigid 6x2              6671.0        1077.0       451.0    12.0\n",
       "Trailer 57 13.6m      89124.0       16777.0      7733.0  1313.0\n",
       "Trailer 86 13.6m        350.0         101.0       100.0    66.0\n",
       "Short Trailer          8318.0        1737.0       546.0     0.0"
      ]
     },
     "execution_count": 68,
     "metadata": {},
     "output_type": "execute_result"
    }
   ],
   "source": [
    "route_feasibility"
   ]
  },
  {
   "cell_type": "code",
   "execution_count": 69,
   "metadata": {},
   "outputs": [
    {
     "data": {
      "image/png": "[encoded data removed]",
      "text/plain": [
       "<Figure size 576x216 with 1 Axes>"
      ]
     },
     "metadata": {},
     "output_type": "display_data"
    }
   ],
   "source": [
    "pie_chart(route_feasibility.loc['Trailer 86 13.6m'].values, route_feasibility.columns, 'allsites', folder=\"tru\", suff='_battery_86trailer',\n",
    "              title_text=None, labeldistance=None)"
   ]
  },
  {
   "cell_type": "code",
   "execution_count": 50,
   "metadata": {},
   "outputs": [
    {
     "data": {
      "text/plain": [
       "Index(['Short range', 'Medium range', 'Long range', 'Future'], dtype='object', name='battery_choice')"
      ]
     },
     "execution_count": 50,
     "metadata": {},
     "output_type": "execute_result"
    }
   ],
   "source": [
    "route_feasibility.columns"
   ]
  },
  {
   "cell_type": "code",
   "execution_count": 58,
   "metadata": {},
   "outputs": [
    {
     "data": {
      "text/plain": [
       "shorepower_summer_kw      16.79\n",
       "vehicle_id              2169.00\n",
       "max_possible_kw         7356.06\n",
       "dtype: float64"
      ]
     },
     "execution_count": 58,
     "metadata": {},
     "output_type": "execute_result"
    }
   ],
   "source": [
    "max_demand_perspec = pd.concat([vehicle_specifications['shorepower_summer_kw'],\n",
    "           routes_cleaned.groupby('spec_id')['vehicle_id'].nunique()],\n",
    "          axis=1)\n",
    "max_demand_perspec['max_possible_kw'] = max_demand_perspec['shorepower_summer_kw'] * max_demand_perspec['vehicle_id']\n",
    "max_demand_perspec.sum()"
   ]
  },
  {
   "cell_type": "code",
   "execution_count": 66,
   "metadata": {},
   "outputs": [],
   "source": [
    "mask_site = routes_cleaned['site_id_end'] == 1\n",
    "weight_site = (routes_cleaned[mask_site].groupby('spec_id').count()['route_id']  /mask_site.sum())"
   ]
  },
  {
   "cell_type": "code",
   "execution_count": 68,
   "metadata": {},
   "outputs": [
    {
     "data": {
      "text/plain": [
       "3.5422129929177233"
      ]
     },
     "execution_count": 68,
     "metadata": {},
     "output_type": "execute_result"
    }
   ],
   "source": [
    "(vehicle_specifications['shorepower_summer_kw'] * weight_site).sum()"
   ]
  },
  {
   "cell_type": "code",
   "execution_count": null,
   "metadata": {},
   "outputs": [],
   "source": [
    "ff.plot_stacked_bar(route_feasibility/total_routes, folder='tru', x_axis='spec_id',\n",
    "                 title_text='eTRU Battery feasibility', site_name='all',\n",
    "                 y_axis=r'% routes', suff=f'_{season}')\n",
    "ff.plot_grouped_histo(routes_cleaned, 'route_kwh', specs, 'spec_id', good_specs,\n",
    "                   folder='tru', site_name='all',\n",
    "                   bins=np.arange(0,26, step=2),\n",
    "                   title_text=f'eTRU energy requirement - {season}',\n",
    "                   vline_dict=tru_battery_dict, plot_mean=False,\n",
    "                   suff=f'_{season}', ylim=[0, 55000])"
   ]
  },
  {
   "cell_type": "code",
   "execution_count": 73,
   "metadata": {},
   "outputs": [],
   "source": [
    "departures_per_day = routes_cleaned.groupby(['site_id_start', 'date'])[['route_id']].count()\n",
    "max_daily_departures = departures_per_day.groupby('site_id_start').max()\n",
    "max_daily_departures['site_name'] = max_daily_departures.index.map(site_dict)\n",
    "# max_daily_departures.loc[good_sites]"
   ]
  },
  {
   "cell_type": "code",
   "execution_count": 112,
   "metadata": {},
   "outputs": [
    {
     "data": {
      "image/png": "[encoded data removed]",
      "text/plain": [
       "<Figure size 360x216 with 2 Axes>"
      ]
     },
     "metadata": {
      "needs_background": "light"
     },
     "output_type": "display_data"
    }
   ],
   "source": [
    "# Number of routes and units\n",
    "\n",
    "site_routes = routes_cleaned[routes_cleaned['site_id_end'] == 1]\n",
    "grouped = site_routes.groupby('spec_id').agg({'vehicle_id': 'nunique', 'route_id': 'count'})\n",
    "fig, ax = plt.subplots(\n",
    "    1, figsize=(5, 3), gridspec_kw={'hspace': 0.5})\n",
    "ax.set_title(\n",
    "    f'Rigids and Trailers Arriving in Waltham Point',\n",
    "    color=FPS_COLOURS[0], fontweight='bold')\n",
    "x = np.arange(len(good_specs))\n",
    "ax.bar(x=x-0.15, width=0.3,\n",
    "       height=grouped['route_id'], color=FPS_COLOURS[2])\n",
    "ax2 = ax.twinx()\n",
    "ax2.bar(x=x+0.15, width=0.3,\n",
    "       height=grouped['vehicle_id'], color=FPS_COLOURS[1])\n",
    "ax.set_ylabel('# of routes', color=FPS_COLOURS[0])\n",
    "ax2.set_ylabel('# of units', color=FPS_COLOURS[0])\n",
    "ax.set_xticks(x, labels=grouped.index.map(good_specs))\n",
    "ax.set_xticklabels(labels=grouped.index.map(good_specs), rotation = 20)\n",
    "fig.savefig(\n",
    "    f\"sample/tru/wp_routes_per_group.png\",\n",
    "    bbox_inches=\"tight\", dpi=300)"
   ]
  },
  {
   "cell_type": "code",
   "execution_count": 15,
   "metadata": {},
   "outputs": [
    {
     "data": {
      "image/png": "[encoded data removed]",
      "text/plain": [
       "<Figure size 576x216 with 1 Axes>"
      ]
     },
     "metadata": {
      "needs_background": "light"
     },
     "output_type": "display_data"
    },
    {
     "data": {
      "image/png": "[encoded data removed]",
      "text/plain": [
       "<Figure size 576x216 with 1 Axes>"
      ]
     },
     "metadata": {
      "needs_background": "light"
     },
     "output_type": "display_data"
    }
   ],
   "source": [
    "ff.histo_variable(routes_cleaned, 'duration_hours', 'all', upperclip=None,\n",
    "                   lowerclip=None, bins=10, folder=\"tru\",\n",
    "                   suff='', title_text=None,\n",
    "                   plot_mean=True)\n",
    "ff.histo_variable(routes_cleaned, 'next_wait_onsite', 'all', upperclip=24,\n",
    "                   lowerclip=None, bins=50, folder=\"tru\",\n",
    "                   suff='', title_text=None,\n",
    "                   plot_mean=False, cumdist=True)"
   ]
  },
  {
   "cell_type": "markdown",
   "metadata": {},
   "source": [
    "### Daily duties"
   ]
  },
  {
   "cell_type": "code",
   "execution_count": null,
   "metadata": {},
   "outputs": [],
   "source": [
    "duty_wait_time = 4\n",
    "routes_cleaned.sort_values(by=['vehicle_id', 'departure_time'],\n",
    "                        inplace=True)\n",
    "routes_cleaned['new_vehicle'] = routes_cleaned['vehicle_id'] != routes_cleaned['vehicle_id'].shift(1)\n",
    "routes_cleaned['new_duties'] = ((routes_cleaned['new_vehicle'])\n",
    "                                | (routes_cleaned['last_wait_onsite'] > duty_wait_time))\n",
    "routes_cleaned['duty_id'] = routes_cleaned['new_duties'].cumsum()\n",
    "\n",
    "daily_duties = routes_cleaned.groupby(['duty_id']).agg({\n",
    "    'departure_time': 'min',\n",
    "    'site_id_start': ['first', 'nunique'],\n",
    "    'distance_miles': 'sum',\n",
    "    'duration_hours': 'sum',\n",
    "    'number_order': 'sum',\n",
    "    'arrival_time': 'max',\n",
    "    'route_id': 'count',\n",
    "    'site_id_end': 'last',\n",
    "    'spec_id': 'mean',\n",
    "    'vehicle_id': 'mean',\n",
    "    'date': 'first',\n",
    "    'start_time': 'min',\n",
    "    'end_time': 'max'})\n",
    "daily_duties.columns = ['departure_time', 'site_id_start', 'number_sites', 'distance_miles',\n",
    "                        'route_hours', 'number_order', 'arrival_time', 'n_routes', 'site_id_end',\n",
    "                        'spec_id', 'vehicle_id', 'date', 'start_time', 'end_time']#\n",
    "daily_duties['same_return'] = daily_duties['site_id_start'] == daily_duties['site_id_end']\n",
    "daily_duties['duty_duration'] = (daily_duties['arrival_time'] - daily_duties['departure_time']).dt.total_seconds()/3600\n",
    "\n",
    "duties_selection_dict = {\n",
    "    'departure_time': 'min',\n",
    "    'site_id_start': ['first', 'nunique'],\n",
    "    'distance_miles': 'sum',\n",
    "    'duration_hours': 'sum',\n",
    "    'arrival_time': 'max',\n",
    "    'route_id': 'count',\n",
    "    'site_id_end': 'last',\n",
    "    'spec_id': 'mean',\n",
    "    'vehicle_id': 'mean',\n",
    "    'date': 'first',\n",
    "    'start_time': 'min',\n",
    "    'end_time': 'max'}\n"
   ]
  },
  {
   "cell_type": "code",
   "execution_count": null,
   "metadata": {},
   "outputs": [],
   "source": [
    "# This creates new breakpoints in the vehicle duties based on the longest break time back on the site\n",
    "\n",
    "duty_hour_threshold = 25\n",
    "duty_hour_min = dt.timedelta(hours=24)\n",
    "long_duties = daily_duties[daily_duties['duty_duration'] > duty_hour_threshold].index.values\n",
    "print(len(long_duties), len(daily_duties))\n",
    "duty_route_cols = ['site_id_start', 'last_wait_onsite', 'new_duties', 'departure_time']\n",
    "for duty in long_duties[:]:\n",
    "    duty_routes = routes_cleaned[routes_cleaned['duty_id'] == duty][duty_route_cols]\n",
    "    elapsed_time = duty_routes['departure_time'] - duty_routes['departure_time'].min()\n",
    "    time_difference = (elapsed_time - duty_hour_min).dt.total_seconds().abs()\n",
    "    possible_break_routes = ((duty_routes['site_id_start'].isin(good_sites))\n",
    "                             & (~duty_routes['new_duties']))\n",
    "    if possible_break_routes.any():\n",
    "        break_route = time_difference.loc[possible_break_routes].idxmin()\n",
    "        routes_cleaned.loc[break_route, 'new_duties'] = True\n",
    "\n",
    "routes_cleaned['duty_id'] = routes_cleaned['new_duties'].cumsum()\n",
    "\n",
    "daily_duties = routes_cleaned.groupby(['duty_id']).agg(duties_selection_dict)\n",
    "\n",
    "daily_duties.columns = ['departure_time', 'site_id_start', 'number_sites', 'distance_miles',\n",
    "                        'route_hours', 'arrival_time', 'n_routes', 'site_id_end',\n",
    "                        'spec_id', 'vehicle_id', 'date', 'start_time', 'end_time']\n",
    "\n",
    "daily_duties['duty_duration'] = (daily_duties['arrival_time'] - daily_duties['departure_time']).dt.total_seconds()/3600\n",
    "long_duties = daily_duties[daily_duties['duty_duration'] > duty_hour_threshold].index.values\n",
    "print(len(long_duties), len(daily_duties))\n",
    "\n",
    "daily_duties['same_return'] = daily_duties['site_id_start'] == daily_duties['site_id_end']\n",
    "daily_duties = daily_duties[daily_duties['duty_duration'] <= duty_hour_threshold]"
   ]
  },
  {
   "cell_type": "markdown",
   "metadata": {},
   "source": [
    "### Total energy consumption"
   ]
  },
  {
   "cell_type": "code",
   "execution_count": 96,
   "metadata": {},
   "outputs": [
    {
     "data": {
      "text/html": [
       "<div>\n",
       "<style scoped>\n",
       "    .dataframe tbody tr th:only-of-type {\n",
       "        vertical-align: middle;\n",
       "    }\n",
       "\n",
       "    .dataframe tbody tr th {\n",
       "        vertical-align: top;\n",
       "    }\n",
       "\n",
       "    .dataframe thead th {\n",
       "        text-align: right;\n",
       "    }\n",
       "</style>\n",
       "<table border=\"1\" class=\"dataframe\">\n",
       "  <thead>\n",
       "    <tr style=\"text-align: right;\">\n",
       "      <th></th>\n",
       "      <th>route_kwh</th>\n",
       "      <th>shorepower_kwh</th>\n",
       "      <th>n_routes</th>\n",
       "      <th>n_vehicles</th>\n",
       "      <th>total_kwh_tru</th>\n",
       "    </tr>\n",
       "    <tr>\n",
       "      <th>week</th>\n",
       "      <th></th>\n",
       "      <th></th>\n",
       "      <th></th>\n",
       "      <th></th>\n",
       "      <th></th>\n",
       "    </tr>\n",
       "  </thead>\n",
       "  <tbody>\n",
       "    <tr>\n",
       "      <th>6</th>\n",
       "      <td>18382.811522</td>\n",
       "      <td>40785.420736</td>\n",
       "      <td>2442</td>\n",
       "      <td>1413</td>\n",
       "      <td>39452.167358</td>\n",
       "    </tr>\n",
       "    <tr>\n",
       "      <th>7</th>\n",
       "      <td>118937.376658</td>\n",
       "      <td>258117.466092</td>\n",
       "      <td>15546</td>\n",
       "      <td>1947</td>\n",
       "      <td>251570.350801</td>\n",
       "    </tr>\n",
       "    <tr>\n",
       "      <th>8</th>\n",
       "      <td>110771.663103</td>\n",
       "      <td>235486.509142</td>\n",
       "      <td>14468</td>\n",
       "      <td>1916</td>\n",
       "      <td>231159.377141</td>\n",
       "    </tr>\n",
       "    <tr>\n",
       "      <th>9</th>\n",
       "      <td>112837.027247</td>\n",
       "      <td>239423.070372</td>\n",
       "      <td>14740</td>\n",
       "      <td>1882</td>\n",
       "      <td>235179.023972</td>\n",
       "    </tr>\n",
       "    <tr>\n",
       "      <th>10</th>\n",
       "      <td>112336.605525</td>\n",
       "      <td>239662.498594</td>\n",
       "      <td>14640</td>\n",
       "      <td>1899</td>\n",
       "      <td>234968.036491</td>\n",
       "    </tr>\n",
       "    <tr>\n",
       "      <th>11</th>\n",
       "      <td>117068.164447</td>\n",
       "      <td>253094.331478</td>\n",
       "      <td>15379</td>\n",
       "      <td>1972</td>\n",
       "      <td>246998.663762</td>\n",
       "    </tr>\n",
       "    <tr>\n",
       "      <th>12</th>\n",
       "      <td>124902.137178</td>\n",
       "      <td>268378.334406</td>\n",
       "      <td>16422</td>\n",
       "      <td>1994</td>\n",
       "      <td>262470.685086</td>\n",
       "    </tr>\n",
       "    <tr>\n",
       "      <th>13</th>\n",
       "      <td>126780.148267</td>\n",
       "      <td>270205.275525</td>\n",
       "      <td>16373</td>\n",
       "      <td>1986</td>\n",
       "      <td>265005.146906</td>\n",
       "    </tr>\n",
       "    <tr>\n",
       "      <th>14</th>\n",
       "      <td>125407.424767</td>\n",
       "      <td>266474.907614</td>\n",
       "      <td>16203</td>\n",
       "      <td>1983</td>\n",
       "      <td>261621.262075</td>\n",
       "    </tr>\n",
       "    <tr>\n",
       "      <th>15</th>\n",
       "      <td>121205.383325</td>\n",
       "      <td>257064.140936</td>\n",
       "      <td>15830</td>\n",
       "      <td>2014</td>\n",
       "      <td>252546.924905</td>\n",
       "    </tr>\n",
       "    <tr>\n",
       "      <th>16</th>\n",
       "      <td>122904.453775</td>\n",
       "      <td>264934.978547</td>\n",
       "      <td>15938</td>\n",
       "      <td>1992</td>\n",
       "      <td>258815.631175</td>\n",
       "    </tr>\n",
       "    <tr>\n",
       "      <th>17</th>\n",
       "      <td>91423.375508</td>\n",
       "      <td>195388.892919</td>\n",
       "      <td>11932</td>\n",
       "      <td>1941</td>\n",
       "      <td>191444.566102</td>\n",
       "    </tr>\n",
       "  </tbody>\n",
       "</table>\n",
       "</div>"
      ],
      "text/plain": [
       "          route_kwh  shorepower_kwh  n_routes  n_vehicles  total_kwh_tru\n",
       "week                                                                    \n",
       "6      18382.811522    40785.420736      2442        1413   39452.167358\n",
       "7     118937.376658   258117.466092     15546        1947  251570.350801\n",
       "8     110771.663103   235486.509142     14468        1916  231159.377141\n",
       "9     112837.027247   239423.070372     14740        1882  235179.023972\n",
       "10    112336.605525   239662.498594     14640        1899  234968.036491\n",
       "11    117068.164447   253094.331478     15379        1972  246998.663762\n",
       "12    124902.137178   268378.334406     16422        1994  262470.685086\n",
       "13    126780.148267   270205.275525     16373        1986  265005.146906\n",
       "14    125407.424767   266474.907614     16203        1983  261621.262075\n",
       "15    121205.383325   257064.140936     15830        2014  252546.924905\n",
       "16    122904.453775   264934.978547     15938        1992  258815.631175\n",
       "17     91423.375508   195388.892919     11932        1941  191444.566102"
      ]
     },
     "execution_count": 96,
     "metadata": {},
     "output_type": "execute_result"
    }
   ],
   "source": [
    "site_arrivals = routes_cleaned[routes_cleaned['site_id_end'].isin(good_sites)]\n",
    "weekly_usage = site_arrivals.groupby(['week']).agg({\n",
    "    'route_kwh': 'sum',\n",
    "    'shorepower_kwh': 'sum',\n",
    "    'route_id': 'count',\n",
    "    'vehicle_id': 'nunique'})\n",
    "weekly_usage['total_kwh_tru'] = weekly_usage['route_kwh']*0.72753923 + weekly_usage['shorepower_kwh']*0.639393939\n",
    "weekly_usage.columns = ['route_kwh', 'shorepower_kwh', 'n_routes', 'n_vehicles', 'total_kwh_tru']\n",
    "weekly_usage.to_csv('sample/tru/durations_all.csv')\n",
    "weekly_usage"
   ]
  },
  {
   "cell_type": "markdown",
   "metadata": {},
   "source": [
    "### Histos"
   ]
  },
  {
   "cell_type": "code",
   "execution_count": null,
   "metadata": {},
   "outputs": [],
   "source": [
    "for spec_id in specs:\n",
    "    routes_spec = routes[routes['spec_id'] == spec_id]\n",
    "    ff.histo_variable(routes_spec, 'duration_hours', f'all_routes', suff=f\"_{spec_id}\",\n",
    "                      folder=\"tru\", title_text=f\"All {good_specs[spec_id]} routes\")\n",
    "    ff.histo_variable(routes_spec, 'last_wait_onsite', f'all_routes', suff=f\"_{spec_id}\",\n",
    "                      folder=\"tru\", title_text=f\"All {good_specs[spec_id]} routes\",\n",
    "                      upperclip=12, plot_mean=False)"
   ]
  },
  {
   "cell_type": "markdown",
   "metadata": {},
   "source": [
    "### Route analysis"
   ]
  },
  {
   "cell_type": "code",
   "execution_count": null,
   "metadata": {},
   "outputs": [],
   "source": [
    "ff.histo_variable(routes, 'start_time', f'all_routes', suff=f\"\",\n",
    "                    folder=\"tru\", title_text=f\"Start times all sites\",\n",
    "                    plot_mean=False)"
   ]
  },
  {
   "cell_type": "code",
   "execution_count": null,
   "metadata": {},
   "outputs": [],
   "source": [
    "daily = routes.groupby(['vehicle_id', 'date']).agg({'client_id': 'count', 'spec_id': 'min'})\n",
    "daily.groupby('spec_id').mean()"
   ]
  },
  {
   "cell_type": "code",
   "execution_count": null,
   "metadata": {},
   "outputs": [],
   "source": [
    "routes_to_site = routes[routes['site_id_end'] == 1]\n",
    "ff.histo_variable(routes_to_site, 'duration_hours', f'all_routes', suff=f\"_WP\",\n",
    "                    folder=\"tru\", title_text=f\"All spec at WP\",\n",
    "                    upperclip=12, plot_mean=False)"
   ]
  },
  {
   "cell_type": "code",
   "execution_count": null,
   "metadata": {},
   "outputs": [],
   "source": [
    "routes_from_site = routes[routes['site_id_start'] == 1]\n",
    "ff.histo_variable(routes_from_site, 'last_wait_onsite', f'all_routes', suff=f\"_WP\",\n",
    "                    folder=\"tru\", title_text=f\"All spec at WP\",\n",
    "                    upperclip=12, plot_mean=False)"
   ]
  },
  {
   "cell_type": "markdown",
   "metadata": {},
   "source": [
    "## Little bits"
   ]
  },
  {
   "cell_type": "markdown",
   "metadata": {},
   "source": [
    "### Fix specs"
   ]
  },
  {
   "cell_type": "code",
   "execution_count": null,
   "metadata": {},
   "outputs": [],
   "source": [
    "# hgv_assets = pd.read_csv(r\"C:\\Users\\SofiaTaylor\\OneDrive - Flexible Power Systems Ltd\\Consulting\\SSL\\22-03.SSL.depot_asset_register.MA.02.csv\",\n",
    "#                          usecols=['Fleet Reg No', 'new_spec_id'], index_col='Fleet Reg No')\n",
    "# hgv_spec_dict = hgv_assets['new_spec_id'].to_dict()\n",
    "# cnx = dbh.create_alch_engine()\n",
    "# sql_query = f\"SELECT * FROM t_vehicles WHERE client_id=2 AND spec_id=100\"\n",
    "# vehicle_df = pd.read_sql_query(sql_query, con=cnx, index_col='vehicle_id')\n",
    "# weird_float_str = vehicle_df['client_vehicle_id'].str[-2:] == \".0\"\n",
    "# vehicle_df.loc[weird_float_str, 'client_vehicle_id'] = vehicle_df.loc[weird_float_str, 'client_vehicle_id'].str[:4]\n",
    "# vehicle_df['spec_id'] = vehicle_df['client_vehicle_id'].map(hgv_spec_dict)\n",
    "# vehicle_df['spec_id'] = vehicle_df['spec_id'].fillna(0).astype(int)\n",
    "# vehicle_spec_dict = vehicle_df['spec_id'].to_dict()\n",
    "# dbh.upload_table(vehicle_df.reset_index(), 't_vehicles')"
   ]
  }
 ],
 "metadata": {
  "interpreter": {
   "hash": "0c70d8ca8a9326c117f3cbb1600d40e4646a06cd0d6560aa3efc7e3f56e409b2"
  },
  "kernelspec": {
   "display_name": "Python 3.9.7 ('pipetel')",
   "language": "python",
   "name": "python3"
  },
  "language_info": {
   "codemirror_mode": {
    "name": "ipython",
    "version": 3
   },
   "file_extension": ".py",
   "mimetype": "text/x-python",
   "name": "python",
   "nbconvert_exporter": "python",
   "pygments_lexer": "ipython3",
   "version": "3.9.7"
  },
  "orig_nbformat": 4
 },
 "nbformat": 4,
 "nbformat_minor": 2
}
