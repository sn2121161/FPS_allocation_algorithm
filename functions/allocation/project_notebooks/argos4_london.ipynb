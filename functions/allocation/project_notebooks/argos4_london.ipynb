{
 "cells": [
  {
   "cell_type": "code",
   "execution_count": 17,
   "metadata": {},
   "outputs": [],
   "source": [
    "import numpy as np\n",
    "import pandas as pd\n",
    "import datetime as dt\n",
    "import psycopg2\n",
    "import os\n",
    "import sqlalchemy\n",
    "from sqlalchemy import create_engine\n",
    "import pipeline_plan_functions.utils.pipe_db_handler as dbh\n",
    "from python_utils.utils.logger import logger\n",
    "import alloc_functions.allocation_scenario as asf\n",
    "import alloc_functions.controller as acf\n",
    "import alloc_functions.daily as adf\n",
    "import alloc_functions.cleanup as cleaner\n",
    "import alloc_functions.mixed as mixed\n",
    "import alloc_functions.feasibility_functions as ff\n",
    "import pipeline_plan_functions.utils.data_handler as dh\n",
    "import matplotlib.pyplot as plt\n",
    "import matplotlib.dates as mdates\n",
    "from matplotlib.ticker import MaxNLocator\n",
    "import json\n",
    "from pulp import *\n",
    "fps_colours = ['#004A9C', '#45D281', '#FEC001','#A365E0', '#5B9BD5',\n",
    "\n",
    "               '#FF0000', '#0563C1', '#954F72']\n",
    "import plotly.graph_objects as go\n",
    "mapbox_token = ('pk.eyJ1Ijoic29mZmZ0IiwiYSI6ImNrbmZ0Z3RidzJ5NngycXA5cDNpY2c1ajIifQ.Gi2oP1Z3G5wP6pn7OF5l1A')\n"
   ]
  },
  {
   "cell_type": "code",
   "execution_count": 8,
   "metadata": {},
   "outputs": [],
   "source": [
    "range_wltp = {\n",
    "    5: 138,\n",
    "    11: 185,\n",
    "    33: 166\n",
    "}\n",
    "range_real = {vehicle: range_wltp[vehicle]*0.8 for vehicle in range_wltp.keys()}\n",
    "drive_wltp = {\n",
    "    5: 0.572463768,\n",
    "    11: 0.478648649,\n",
    "    33: 0.40963855\n",
    "}\n",
    "payload = {\n",
    "    5: 765,\n",
    "    11: 860,\n",
    "    33: 1002\n",
    "}\n",
    "colors = {\n",
    "    5: fps_colours[4],\n",
    "    11: fps_colours[3],\n",
    "    33: fps_colours[5]\n",
    "}\n",
    "name = {\n",
    "    5: \"Fiat e-Ducato\",\n",
    "    11: \"Maxus eDeliver9\",\n",
    "    33: \"Ford e-Transit\",\n",
    "    28: 'Sprinter Diesel'\n",
    "}\n",
    "vehicles = [5, 33, 11]\n",
    "site_name_dict = ff.get_site_name_dict(2)\n",
    "scenario_dict = {\n",
    "    201: \"normal shifts\",\n",
    "    202: 'all day shifts'\n",
    "}\n",
    "scenario_dict_num = {\n",
    "    201: 1,\n",
    "    202: 2\n",
    "}\n",
    "FPS_COLOURS = ff.FPS_COLOURS"
   ]
  },
  {
   "cell_type": "markdown",
   "metadata": {},
   "source": [
    "### Scenario table"
   ]
  },
  {
   "cell_type": "code",
   "execution_count": 51,
   "metadata": {},
   "outputs": [],
   "source": [
    "cnx = dbh.create_alch_engine()\n",
    "connection, cur = dbh.database_connection('test')\n",
    "sql_query = f\"\"\"SELECT scenario_id, run_id, allocation_id, smart_charging, output_kwh,\n",
    "    unfeasible_days, breach_days, timeout_days\n",
    "    FROM t_charging_scenarios WHERE run_id > 190\"\"\"\n",
    "scenarios = pd.read_sql_query(sql_query, con=cnx)\n",
    "allocation_ids = scenarios['allocation_id'].unique()\n",
    "sql_query = f\"\"\"SELECT allocation_id, site_id, xmpg, charger2, vehicle2,\n",
    "    num_r, num_vehicle2, num_charger2, source\n",
    "    FROM t_allocation WHERE allocation_id IN {tuple(allocation_ids)}\"\"\"\n",
    "alloc_summary = pd.read_sql_query(sql_query, cnx)\n",
    "scenarios = scenarios.merge(alloc_summary, how='left')\n",
    "scenarios['type'] = scenarios['vehicle2'].map(name)\n",
    "scenarios['site_name'] = scenarios['site_id'].map(site_name_dict)\n",
    "scenarios['scenario'] = scenarios['source'].map(scenario_dict)\n",
    "scenarios['charging_error'] = (\n",
    "    scenarios[['unfeasible_days', 'breach_days', 'timeout_days']].sum(axis=1)\n",
    ") > 0\n",
    "scenarios['site_name'] = scenarios['site_name'] + \" \" + scenarios['scenario']\n",
    "scenarios.sort_values(by=['site_name', 'type'], inplace=True)\n",
    "scenarios.set_index('scenario_id', inplace=True)\n",
    "\n",
    "cnx.dispose()"
   ]
  },
  {
   "cell_type": "code",
   "execution_count": 52,
   "metadata": {},
   "outputs": [
    {
     "name": "stdout",
     "output_type": "stream",
     "text": [
      "[311. 201.   5.]\n",
      "[311. 201.  11.]\n",
      "[311. 201.  33.]\n",
      "[309. 201.   5.]\n",
      "[310. 201.   5.]\n",
      "[309. 201.  33.]\n",
      "[284. 202.  33.]\n",
      "[284. 201.   5.]\n",
      "[284. 202.   5.]\n",
      "[310. 202.   5.]\n",
      "[284. 202.  11.]\n",
      "[284. 201.  33.]\n",
      "[308. 202.  33.]\n",
      "[308. 201.   5.]\n",
      "[284. 201.  11.]\n",
      "[308. 201.  11.]\n",
      "[308. 202.   5.]\n",
      "[309. 202.   5.]\n",
      "[310. 201.  11.]\n",
      "[310. 202.  11.]\n",
      "[310. 201.  33.]\n",
      "[309. 202.  33.]\n",
      "[310. 202.  33.]\n",
      "[308. 202.  11.]\n",
      "[309. 202.  11.]\n",
      "[309. 201.  11.]\n",
      "[308. 201.  33.]\n"
     ]
    }
   ],
   "source": [
    "# For scenario, caculate allocation_summary\n",
    "# [feasible, unfeasible_nois, unfeasible_withis, n_duties, n_routes, n_veh]\n",
    "cols = ['n_feasible', 'n_unfeasible_nois', 'n_duties', 'n_routes', 'n_veh']\n",
    "alloc_summary.set_index('allocation_id', inplace=True)\n",
    "alloc_summary = alloc_summary[alloc_summary['vehicle2'] != 28]\n",
    "feasibility_index = alloc_summary.index\n",
    "for idx in feasibility_index[:]:\n",
    "    v = alloc_summary.loc[idx, 'vehicle2']\n",
    "    print(alloc_summary.loc[idx, ['site_id', 'source', 'vehicle2']].values)\n",
    "    stats = ff.allocation_summary2(idx, range_real[v], connection, cur)\n",
    "    alloc_summary.loc[idx, cols] = stats\n",
    "\n",
    "alloc_summary['feasible_without_pc'] = 100 * alloc_summary['n_feasible'] / alloc_summary['n_duties']\n",
    "alloc_summary['feasible_with_pc'] = 100 * alloc_summary['n_unfeasible_nois'] / alloc_summary['n_duties']\n",
    "alloc_summary.sort_values(by='site_id', inplace=True)\n",
    "alloc_summary.to_csv('sample/argos4/alloc_feasibility.csv')"
   ]
  },
  {
   "cell_type": "code",
   "execution_count": 15,
   "metadata": {},
   "outputs": [
    {
     "data": {
      "image/png": "[encoded data removed]",
      "text/plain": [
       "<Figure size 288x288 with 1 Axes>"
      ]
     },
     "metadata": {
      "needs_background": "light"
     },
     "output_type": "display_data"
    }
   ],
   "source": [
    "for site in [284, 308, 309, 310]:\n",
    "    for source in [201, 202]:\n",
    "# for site in [311]:\n",
    "#     for source in [201]:\n",
    "        cols = ['n_feasible', 'n_unfeasible_nois', 'n_routes']\n",
    "        count_array = alloc_summary[(alloc_summary['site_id'] == site)\n",
    "                    & (alloc_summary['source'] == source)].sort_values(by='vehicle2')[cols].values\n",
    "        n_diesel = scenarios.loc[(scenarios['site_id'] == site)\n",
    "                & (scenarios['source'] == source)\n",
    "                & (scenarios['vehicle2'] == 28)\n",
    "                & (scenarios['smart_charging']), 'num_r'].values\n",
    "        if site == 310:\n",
    "            n_diesel += 1\n",
    "        routes_removed = np.round(100 * (n_diesel - count_array[:, 2]) / n_diesel, 1)\n",
    "        fig, ax = plt.subplots(1, figsize=(4, 4))\n",
    "        allocated_vehicles = [5, 11, 33]\n",
    "        xlabels = [name[v] for v in allocated_vehicles]\n",
    "        ax.bar(x = xlabels,\n",
    "            height=count_array[:, 0],\n",
    "            color=[fps_colours[0]], label='Feasible without daytime charging')\n",
    "        ax.bar(x = xlabels,\n",
    "            height=count_array[:, 1], bottom=count_array[:, 0],\n",
    "            color=[fps_colours[1]], label='Feasible with daytime charging')\n",
    "        ax.legend(frameon=False, bbox_to_anchor=(1, 0.8))\n",
    "        ax.set_xlabel('EV choice', color=fps_colours[0])\n",
    "        ax.tick_params(axis='x', labelrotation=45)\n",
    "        ax.set_ylabel('# of Vehicle-duties', color=fps_colours[0])\n",
    "        top = (count_array[:, 0]+count_array[:,1]).max()\n",
    "        for i in range(3):\n",
    "            ax.text(3, i*0.2*top,\n",
    "                    f\"{xlabels[i]} \"\n",
    "                    f\"has {routes_removed[i]} % routes removed\")\n",
    "        ax.set_title(\n",
    "            f\"Number of Feasible Vehicle-Duties\"\n",
    "            f\"\\nSimulation {scenario_dict_num[source]} - {site_name_dict[site]}\",\n",
    "            color=fps_colours[0], fontweight='bold', y=1.08)\n",
    "        fig.savefig(\n",
    "            f\"sample/argos4/feasibility_alloc_{site}_{source}.png\",\n",
    "            bbox_inches=\"tight\", dpi=300)"
   ]
  },
  {
   "cell_type": "markdown",
   "metadata": {},
   "source": [
    "### Load Data check"
   ]
  },
  {
   "cell_type": "code",
   "execution_count": 42,
   "metadata": {},
   "outputs": [],
   "source": [
    "site_load = pd.read_csv(r'sample\\argos4\\1900018426509_Croydon_Format.csv',\n",
    "                        usecols=['datetime', 'kW'], parse_dates=['datetime'], dayfirst=True)"
   ]
  },
  {
   "cell_type": "code",
   "execution_count": 75,
   "metadata": {},
   "outputs": [
    {
     "name": "stdout",
     "output_type": "stream",
     "text": [
      "57.029087208289354\n"
     ]
    },
    {
     "data": {
      "image/png": "[encoded data removed]",
      "text/plain": [
       "<Figure size 720x288 with 1 Axes>"
      ]
     },
     "metadata": {
      "needs_background": "light"
     },
     "output_type": "display_data"
    }
   ],
   "source": [
    "from scipy import signal\n",
    "filtered_kw = savgol_filter(site_load['kW'], 41, 8)\n",
    "fig, ax = plt.subplots(\n",
    "    1, figsize=(10, 4), gridspec_kw={'hspace': 0.5})\n",
    "ax.set_title(\n",
    "    'Site load',\n",
    "    color=fps_colours[0], fontweight='bold')\n",
    "ax.plot(\n",
    "    site_load['datetime'],\n",
    "    site_load['kW'],\n",
    "    label='Orignal',\n",
    "    color=fps_colours[0], alpha=0.2)\n",
    "ax.plot(\n",
    "    site_load['datetime'],\n",
    "    filtered_kw,\n",
    "    label='Savitzky-Golay filter',\n",
    "    color=fps_colours[2])\n",
    "# ax.text(1, 0, f\"{filtered_kw.max()}\")\n",
    "# ax.set_ylim(top=40)\n",
    "# ax.set_xticks(xticks)\n",
    "ax.legend(frameon=False, bbox_to_anchor=(1, 0.8))\n",
    "ax.set_ylabel('Demand (kW)', color=fps_colours[0])\n",
    "ax.set_xlabel('datetime', color=fps_colours[0])\n",
    "print(filtered_kw.max())"
   ]
  },
  {
   "cell_type": "markdown",
   "metadata": {},
   "source": [
    "### Shift Starts\n",
    "This is used to view start times and decide appropiate shift start times"
   ]
  },
  {
   "cell_type": "code",
   "execution_count": 66,
   "metadata": {},
   "outputs": [
    {
     "data": {
      "text/plain": [
       "Text(0.5, 0, 'Duration (hours)')"
      ]
     },
     "execution_count": 66,
     "metadata": {},
     "output_type": "execute_result"
    },
    {
     "data": {
      "image/png": "[encoded data removed]",
      "text/plain": [
       "<Figure size 432x360 with 2 Axes>"
      ]
     },
     "metadata": {
      "needs_background": "light"
     },
     "output_type": "display_data"
    }
   ],
   "source": [
    "cnx = dbh.create_alch_engine()\n",
    "site = 310\n",
    "query = f\"SELECT * FROM t_route_master WHERE site_id_start={site} AND source=202\"\n",
    "routes = pd.read_sql_query(query, cnx)\n",
    "# routes = routes[routes['departure_time'].dt.date == dt.date(2021, 11, 28)]\n",
    "hour_starts = ((pd.to_datetime(routes['departure_time'])\n",
    "                -pd.to_datetime(routes['departure_time'].dt.date))\n",
    "               / np.timedelta64(1, 'h'))\n",
    "hour_ends = ((pd.to_datetime(routes['arrival_time'])\n",
    "                -pd.to_datetime(routes['arrival_time'].dt.date))\n",
    "               / np.timedelta64(1, 'h'))\n",
    "routes['duration_hours'] = (\n",
    "    routes['arrival_time'] - routes['departure_time']\n",
    "    ).dt.total_seconds()/3600\n",
    "shift_starts = [5, 12, 17]\n",
    "routes['shift'] = asf.set_shifts(shift_starts, routes)\n",
    "fig, ax = plt.subplots(\n",
    "    2, figsize=(6, 5), gridspec_kw={'hspace': 0.5})\n",
    "ax[0].set_title(\n",
    "    'Route starts and ends',\n",
    "    color=fps_colours[0], fontweight='bold')\n",
    "ax[0].hist(\n",
    "    hour_starts,\n",
    "    np.arange(5, 23), label='Start',\n",
    "    color=[fps_colours[0]], alpha=0.7)\n",
    "ax[0].hist(\n",
    "    hour_ends,\n",
    "    np.arange(5, 23), label='End',\n",
    "    color=[fps_colours[1]], alpha=0.7)\n",
    "ax[1].hist(\n",
    "    routes['duration_hours'],\n",
    "    np.arange(10), label='End',\n",
    "    color=[fps_colours[1]], alpha=0.7)\n",
    "xticks = np.arange(5, 24)\n",
    "ax[0].set_ylim(top=40)\n",
    "ax[1].set_ylim(top=30)\n",
    "ax[0].set_xticks(xticks)\n",
    "ax[0].legend(frameon=False, bbox_to_anchor=(1, 0.8))\n",
    "ax[0].set_ylabel('# Routes', color=fps_colours[0])\n",
    "ax[1].set_ylabel('# Routes', color=fps_colours[0])\n",
    "ax[0].set_xlabel('Time (hours)', color=fps_colours[0])\n",
    "ax[1].set_xlabel('Duration (hours)', color=fps_colours[0])"
   ]
  },
  {
   "cell_type": "code",
   "execution_count": 80,
   "metadata": {},
   "outputs": [
    {
     "data": {
      "text/html": [
       "<div>\n",
       "<style scoped>\n",
       "    .dataframe tbody tr th:only-of-type {\n",
       "        vertical-align: middle;\n",
       "    }\n",
       "\n",
       "    .dataframe tbody tr th {\n",
       "        vertical-align: top;\n",
       "    }\n",
       "\n",
       "    .dataframe thead th {\n",
       "        text-align: right;\n",
       "    }\n",
       "</style>\n",
       "<table border=\"1\" class=\"dataframe\">\n",
       "  <thead>\n",
       "    <tr style=\"text-align: right;\">\n",
       "      <th></th>\n",
       "      <th>site_id</th>\n",
       "      <th>xmpg</th>\n",
       "      <th>charger2</th>\n",
       "      <th>vehicle2</th>\n",
       "      <th>num_r</th>\n",
       "      <th>num_vehicle2</th>\n",
       "      <th>num_charger2</th>\n",
       "      <th>source</th>\n",
       "      <th>n_feasible</th>\n",
       "      <th>n_unfeasible_nois</th>\n",
       "      <th>n_duties</th>\n",
       "      <th>n_routes</th>\n",
       "      <th>n_veh</th>\n",
       "      <th>feasible_without_pc</th>\n",
       "      <th>feasible_with_pc</th>\n",
       "    </tr>\n",
       "    <tr>\n",
       "      <th>allocation_id</th>\n",
       "      <th></th>\n",
       "      <th></th>\n",
       "      <th></th>\n",
       "      <th></th>\n",
       "      <th></th>\n",
       "      <th></th>\n",
       "      <th></th>\n",
       "      <th></th>\n",
       "      <th></th>\n",
       "      <th></th>\n",
       "      <th></th>\n",
       "      <th></th>\n",
       "      <th></th>\n",
       "      <th></th>\n",
       "      <th></th>\n",
       "    </tr>\n",
       "  </thead>\n",
       "  <tbody>\n",
       "    <tr>\n",
       "      <th>644</th>\n",
       "      <td>310</td>\n",
       "      <td>0.8</td>\n",
       "      <td>50</td>\n",
       "      <td>11</td>\n",
       "      <td>64</td>\n",
       "      <td>27</td>\n",
       "      <td>3</td>\n",
       "      <td>201</td>\n",
       "      <td>10.0</td>\n",
       "      <td>17.0</td>\n",
       "      <td>27.0</td>\n",
       "      <td>64.0</td>\n",
       "      <td>27.0</td>\n",
       "      <td>37.037037</td>\n",
       "      <td>62.962963</td>\n",
       "    </tr>\n",
       "    <tr>\n",
       "      <th>662</th>\n",
       "      <td>310</td>\n",
       "      <td>0.8</td>\n",
       "      <td>50</td>\n",
       "      <td>11</td>\n",
       "      <td>64</td>\n",
       "      <td>41</td>\n",
       "      <td>3</td>\n",
       "      <td>202</td>\n",
       "      <td>36.0</td>\n",
       "      <td>5.0</td>\n",
       "      <td>41.0</td>\n",
       "      <td>64.0</td>\n",
       "      <td>41.0</td>\n",
       "      <td>87.804878</td>\n",
       "      <td>12.195122</td>\n",
       "    </tr>\n",
       "  </tbody>\n",
       "</table>\n",
       "</div>"
      ],
      "text/plain": [
       "               site_id  xmpg  charger2  vehicle2  num_r  num_vehicle2  \\\n",
       "allocation_id                                                           \n",
       "644                310   0.8        50        11     64            27   \n",
       "662                310   0.8        50        11     64            41   \n",
       "\n",
       "               num_charger2  source  n_feasible  n_unfeasible_nois  n_duties  \\\n",
       "allocation_id                                                                  \n",
       "644                       3     201        10.0               17.0      27.0   \n",
       "662                       3     202        36.0                5.0      41.0   \n",
       "\n",
       "               n_routes  n_veh  feasible_without_pc  feasible_with_pc  \n",
       "allocation_id                                                          \n",
       "644                64.0   27.0            37.037037         62.962963  \n",
       "662                64.0   41.0            87.804878         12.195122  "
      ]
     },
     "execution_count": 80,
     "metadata": {},
     "output_type": "execute_result"
    }
   ],
   "source": [
    "alloc_summary[(alloc_summary['site_id'] == 310)\n",
    "              & (alloc_summary['vehicle2'] == 11)]"
   ]
  },
  {
   "cell_type": "code",
   "execution_count": 76,
   "metadata": {},
   "outputs": [
    {
     "data": {
      "text/plain": [
       "(36, 15)"
      ]
     },
     "execution_count": 76,
     "metadata": {},
     "output_type": "execute_result"
    }
   ],
   "source": [
    "routes[(routes['departure_time'] >= dt.datetime(2021,9,11,14))\n",
    "       & (routes['departure_time'] <= dt.datetime(2021,9,11,15))].shape"
   ]
  },
  {
   "cell_type": "markdown",
   "metadata": {},
   "source": [
    "### Demand plot"
   ]
  },
  {
   "cell_type": "code",
   "execution_count": 3,
   "metadata": {},
   "outputs": [],
   "source": [
    "scenarios = [861, 886]\n",
    "demand_unm = ff.load_charging_profile(scenarios[0])\n",
    "demand_man = ff.load_charging_profile(scenarios[1])\n",
    "demand_unm = demand_unm.groupby('datetime').sum()\n",
    "demand_man = demand_man.groupby('datetime').sum()"
   ]
  },
  {
   "cell_type": "code",
   "execution_count": 38,
   "metadata": {},
   "outputs": [],
   "source": [
    "def plot_multi_profiles(profiles, start, labels, name, folder):\n",
    "    try:\n",
    "        # EV charging\n",
    "        fig, ax = plt.subplots(\n",
    "            1, figsize=(6, 4), gridspec_kw={'hspace': 0.4})\n",
    "\n",
    "        ax.set_title(\n",
    "            f\"{name}\\nEV Charging Profiles\",\n",
    "            color=FPS_COLOURS[0], fontweight='bold')\n",
    "        for i in range(len(profiles)):\n",
    "            ax.fill_between(\n",
    "                profiles[i].index,\n",
    "                profiles[i], 0,\n",
    "                label=labels[i],\n",
    "                color=FPS_COLOURS[i], alpha=0.7)\n",
    "        # ax.legend(frameon=False, bbox_to_anchor=(1, 0.8))\n",
    "        ax.set_ylabel('Power Demand (kVA)', color=FPS_COLOURS[0])\n",
    "        ax.set_xlabel('Time', color=FPS_COLOURS[0])\n",
    "        ax.set_xlim(left=start, right=start+dt.timedelta(days=1))\n",
    "        ax.legend(frameon=False)\n",
    "        locator = mdates.HourLocator(interval=6)\n",
    "        ax.xaxis.set_major_locator(locator)\n",
    "        ax.xaxis.set_major_formatter(mdates.DateFormatter('%H:%M'))\n",
    "        fig.savefig(\n",
    "            f\"sample/{folder}/demand_{name}.png\",\n",
    "            bbox_inches=\"tight\", dpi=300)\n",
    "    except Exception as e:\n",
    "        logger.error(e)\n",
    "    return"
   ]
  },
  {
   "cell_type": "code",
   "execution_count": 40,
   "metadata": {},
   "outputs": [
    {
     "data": {
      "image/png": "[encoded data removed]",
      "text/plain": [
       "<Figure size 432x288 with 1 Axes>"
      ]
     },
     "metadata": {
      "needs_background": "light"
     },
     "output_type": "display_data"
    }
   ],
   "source": [
    "plot_multi_profiles([demand_man['power_demand_kw'], demand_unm['power_demand_kw']],\n",
    "                       demand_unm.index.min(),\n",
    "                       ['Managed charging', 'Unmanaged charging'],\n",
    "                       'Croydon',\n",
    "                       'argos4')"
   ]
  },
  {
   "cell_type": "markdown",
   "metadata": {},
   "source": [
    "### Max demand"
   ]
  },
  {
   "cell_type": "code",
   "execution_count": 53,
   "metadata": {},
   "outputs": [],
   "source": [
    "cols = ['run_id', 'allocation_id', 'vehicle2', 'smart_charging', 'output_kwh', 'type',\n",
    "        'site_name', 'charging_error']\n",
    "demand_scenarios = scenarios[(scenarios['vehicle2'] != 30)\n",
    "                        #      & (scenarios['smart_charging'])\n",
    "                             ].copy()\n",
    "# demand_scenarios = scenarios[scenarios['site_id'] == 311].copy()\n",
    "demand_scenarios[['max_demand', 'max_demand_time', 'mode_time']] = (0, 0, 0)\n",
    "for idx in demand_scenarios.index:\n",
    "    if demand_scenarios.loc[idx, 'output_kwh'] > 0:\n",
    "        demand_scenarios.loc[idx, ['max_demand', 'max_demand_time', 'mode_time']] = ff.find_max_demand(idx)\n",
    "demand_scenarios['next_demand_kw'] = demand_scenarios['max_demand']/0.9 - 50 * 0.98\n",
    "demand_scenarios.sort_values(by=['smart_charging', 'run_id', 'site_name'], inplace=True)\n",
    "# demand_scenarios.to_csv('sample/argos4/scenarios_withcharge.csv')"
   ]
  },
  {
   "cell_type": "code",
   "execution_count": 61,
   "metadata": {},
   "outputs": [],
   "source": [
    "demand_scenarios['charging_scenario'] = ''\n",
    "mask_diesel = (demand_scenarios['vehicle2'] == 28) & (demand_scenarios['smart_charging'] == True)\n",
    "demand_scenarios.loc[mask_diesel, 'charging_scenario'] = 'diesel'\n",
    "mask_unmanaged = (demand_scenarios['vehicle2'] != 28) & (demand_scenarios['smart_charging'] == False)\n",
    "demand_scenarios.loc[mask_unmanaged, 'charging_scenario'] = 'unmanaged'\n",
    "mask_ev = (~demand_scenarios['vehicle2'].isin([5, 28]))\n",
    "allocations_ev = demand_scenarios.loc[mask_ev, 'allocation_id'].unique()\n",
    "for allocation_id in allocations_ev:\n",
    "    mask_valid_scenarios = ((demand_scenarios['allocation_id'] == allocation_id)\n",
    "                            & ~(demand_scenarios['charging_error']))\n",
    "    orig_managed_idx = demand_scenarios[mask_valid_scenarios].index.min()\n",
    "    max_managed_idx = demand_scenarios[mask_valid_scenarios]['max_demand'].idxmin()\n",
    "    demand_scenarios.loc[orig_managed_idx, 'charging_scenario'] = 'original managed'\n",
    "    demand_scenarios.loc[max_managed_idx, 'charging_scenario'] = 'max management'\n",
    "demand_scenarios.to_csv('sample/argos4/scenarios_withcharge.csv')"
   ]
  },
  {
   "cell_type": "code",
   "execution_count": 62,
   "metadata": {},
   "outputs": [],
   "source": [
    "cols = ['allocation_id', 'smart_charging', 'output_kwh',\n",
    "       'type', 'site_name', 'max_demand', 'max_demand_time', 'charging_scenario']\n",
    "demand_scenarios[demand_scenarios['charging_scenario'] != ''][cols].to_csv('sample/argos4/site_demand.csv')"
   ]
  },
  {
   "cell_type": "markdown",
   "metadata": {},
   "source": [
    "### Count chargers"
   ]
  },
  {
   "cell_type": "code",
   "execution_count": null,
   "metadata": {},
   "outputs": [],
   "source": [
    "scenario = 896\n",
    "try:\n",
    "    cnx = dbh.create_alch_engine()\n",
    "    sql_query = f\"\"\"SELECT datetime, power_demand_kw, allocated_vehicle_id FROM t_charge_demand\n",
    "        WHERE scenario_id={scenario}\"\"\"\n",
    "    demand = pd.read_sql_query(sql_query, con=cnx\n",
    "                                )\n",
    "except (Exception, psycopg2.Error) as error:\n",
    "    logger.error(\"Error fetching max demand\")\n",
    "    raise error\n",
    "finally:\n",
    "    cnx.dispose()\n",
    "demand['bays_in_use'] = demand['power_demand_kw'] > 0\n",
    "demand['fast_charge'] = demand['power_demand_kw'] > 22\n",
    "demand.groupby('datetime')[['bays_in_use', 'fast_charge']].sum().max()"
   ]
  }
 ],
 "metadata": {
  "interpreter": {
   "hash": "0c70d8ca8a9326c117f3cbb1600d40e4646a06cd0d6560aa3efc7e3f56e409b2"
  },
  "kernelspec": {
   "display_name": "Python 3.9.7 ('pipetel')",
   "language": "python",
   "name": "python3"
  },
  "language_info": {
   "codemirror_mode": {
    "name": "ipython",
    "version": 3
   },
   "file_extension": ".py",
   "mimetype": "text/x-python",
   "name": "python",
   "nbconvert_exporter": "python",
   "pygments_lexer": "ipython3",
   "version": "3.9.7"
  },
  "orig_nbformat": 4
 },
 "nbformat": 4,
 "nbformat_minor": 2
}
