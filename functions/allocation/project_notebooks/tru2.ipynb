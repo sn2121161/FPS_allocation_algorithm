{
 "cells": [
  {
   "cell_type": "code",
   "execution_count": 1,
   "metadata": {},
   "outputs": [],
   "source": [
    "import numpy as np\n",
    "import pandas as pd\n",
    "import datetime as dt\n",
    "import psycopg2\n",
    "import pipeline_plan_functions.utils.pipe_db_handler as dbh\n",
    "import pipeline_plan_functions.utils.data_types as dth\n",
    "from python_utils.utils.logger import logger\n",
    "import alloc_functions.feasibility_functions as ff\n",
    "import pipeline_plan_functions.utils.data_handler as dh\n",
    "import matplotlib.pyplot as plt\n",
    "# import matplotlib.dates as mdates\n",
    "# import matplotlib\n",
    "import pickle\n",
    "# import plotly.graph_objects as go\n",
    "mapbox_token = ('pk.eyJ1Ijoic29mZmZ0IiwiYSI6ImNrbmZ0Z3RidzJ5NngycXA5cDNpY2c1ajIifQ.Gi2oP1Z3G5wP6pn7OF5l1A')\n",
    "FPS_COLOURS = ['#004A9C', '#45D281', '#FEC001', '#A365E0', '#5B9BD5',\n",
    "               '#FF0000', '#0563C1', '#954F72']"
   ]
  },
  {
   "cell_type": "code",
   "execution_count": 2,
   "metadata": {},
   "outputs": [],
   "source": [
    "specs = (101, 102, 115, 116, 117)\n",
    "good_sites = [1, 2, 3, 4, 5, 6, 7, 8, 9, 10, 12, 17, 20, 22, 28]\n",
    "tru_spec_dict = {\n",
    "    101: 1,\n",
    "    102: 2,\n",
    "    115: 3,\n",
    "    116: 4,\n",
    "    117: 5\n",
    "}\n",
    "XPOWER = 0.98\n",
    "MAX_SHOREPOWER_HOURS = 5.38  # hours\n",
    "NEW_SHOREPOWER_HOURS = 5.5  # hours\n",
    "CHARGER_EFF = 0.9\n",
    "BATTERY_USABLE = 0.8\n",
    "DEFAULT_WAIT = 8  # HOURS\n",
    "tru_battery_kwh = [30*BATTERY_USABLE, 24*BATTERY_USABLE, 19*BATTERY_USABLE, 14*BATTERY_USABLE]\n",
    "tru_battery_dict = {'Future': 30*BATTERY_USABLE, 'Long range': 24*BATTERY_USABLE,\n",
    "                    'Medium range': 19*BATTERY_USABLE, 'Short range': 14*BATTERY_USABLE}\n",
    "tru_charger_kw = 9\n",
    "remove_charging_time = 0.5\n",
    "vehicle_specifications = ff.find_vehicle_spec(specs)\n",
    "vehicle_specifications['kwh_mile'] = 0\n",
    "vehicle_specifications['diesel_l_mile'] = 0\n",
    "elec_vehicles = vehicle_specifications['fuel_type'] == 'electric'\n",
    "diesel_vehicles = vehicle_specifications['fuel_type'] == 'diesel'\n",
    "vehicle_specifications.loc[elec_vehicles, 'kwh_mile'] = vehicle_specifications.loc[elec_vehicles, 'energy_use']\n",
    "vehicle_specifications.loc[diesel_vehicles, 'diesel_l_mile'] = vehicle_specifications.loc[diesel_vehicles, 'energy_use']\n",
    "tru_specs = ff.find_tru_spec((1, 2, 3, 4, 5))\n",
    "vehicle_specifications['tru_id'] = vehicle_specifications.index.map(tru_spec_dict)\n",
    "vehicle_specifications = vehicle_specifications.reset_index()\n",
    "vehicle_specifications = vehicle_specifications.merge(\n",
    "    tru_specs,\n",
    "    left_on='tru_id', right_on='tru_id', how='left')\n",
    "vehicle_specifications = vehicle_specifications.set_index('spec_id')\n",
    "good_specs = vehicle_specifications['vehicle_model'].to_dict()\n",
    "site_dict = ff.get_site_name_dict(2)\n",
    "\n",
    "sql_query = f\"SELECT * FROM t_vehicles WHERE client_id=2\"\n",
    "cnx = dbh.create_alch_engine()\n",
    "vehicle_df = pd.read_sql_query(sql_query, con=cnx, index_col='vehicle_id')\n",
    "vehicle_spec_dict = vehicle_df['spec_id'].to_dict()\n",
    "vehicle_ref_dict = vehicle_df['refrigerated'].to_dict()\n",
    "cnx.dispose()"
   ]
  },
  {
   "cell_type": "code",
   "execution_count": 3,
   "metadata": {},
   "outputs": [],
   "source": [
    "def create_time_periods(start, end, delta):\n",
    "    N = (end - start) / delta + 1\n",
    "    wave_times = (np.arange(N) * delta) + start\n",
    "    return wave_times\n",
    "\n",
    "def site_vehicle_availability(routes, N, vehicles):\n",
    "    # create empty availability matrix\n",
    "    availability_matrix = np.zeros((N, len(vehicles)))\n",
    "    # Fill availability matrix with routes for each vehicle\n",
    "    for idx in routes_sites.index:\n",
    "        tp_start = routes.loc[idx, 'start_shorepower_tp']\n",
    "        tp_end = routes.loc[idx, 'end_shorepower_tp']\n",
    "        vehicle_idx = vehicles.index(routes.loc[idx, 'vehicle_id'])\n",
    "        availability_matrix[tp_start: tp_end, vehicle_idx] += 1\n",
    "    return availability_matrix\n"
   ]
  },
  {
   "cell_type": "markdown",
   "metadata": {},
   "source": [
    "## Modelling"
   ]
  },
  {
   "cell_type": "markdown",
   "metadata": {},
   "source": [
    "### Supplier runs"
   ]
  },
  {
   "cell_type": "code",
   "execution_count": 35,
   "metadata": {},
   "outputs": [],
   "source": [
    "cnx = dbh.create_alch_engine()\n",
    "sql_query = \"\"\"SELECT departure_time, arrival_time, vehicle_id, distance_miles,\n",
    "    departure_location, arrival_location, departure_site_id, arrival_site_id, route_id FROM t_telematics WHERE run = 44\"\"\"\n",
    "telematics = pd.read_sql_query(sql_query, con=cnx)\n",
    "telematics['depot'] = telematics['departure_site_id'].isin(good_sites)\n",
    "telematics['spec_id'] = telematics['vehicle_id'].map(vehicle_spec_dict)\n",
    "# telematics.groupby('departure_location')['vehicle_id'].count().sort_values().to_csv('sample/tru2/count_entries.csv')"
   ]
  },
  {
   "cell_type": "code",
   "execution_count": 36,
   "metadata": {},
   "outputs": [],
   "source": [
    "# Calculate how long the vehicle has been on a site\n",
    "telematics.sort_values(by=['vehicle_id', 'departure_time'], inplace=True)\n",
    "telematics['depot_stay'] = (telematics['departure_time']\n",
    "                            - telematics['arrival_time'].shift(1))/dt.timedelta(hours=1)\n",
    "mask_change_veh = telematics['vehicle_id'] != telematics['vehicle_id'].shift(1)\n",
    "telematics.loc[mask_change_veh, 'depot_stay'] = 0\n",
    "mask_weird_site = telematics['departure_location'] != telematics['arrival_location'].shift(1)\n",
    "telematics.loc[mask_weird_site, 'depot_stay'] = 0"
   ]
  },
  {
   "cell_type": "code",
   "execution_count": 37,
   "metadata": {},
   "outputs": [
    {
     "name": "stdout",
     "output_type": "stream",
     "text": [
      "% telematics:  0.01918225538232419\n",
      "% : routes 0.05373048194936254\n"
     ]
    }
   ],
   "source": [
    "# Find non depot locations where the vehicle stays for long\n",
    "stay_hours_limit = 3\n",
    "other_common_locations = [\n",
    "       'Belfast DC', 'Argos Heywood DC', 'Argos Kettering',\n",
    "       'NFT Bristol (Chill Hub)', 'NFT Crick (Chill Hub)', 'Pindar Road DC',\n",
    "       'Basingstoke VMU', 'Patchway PCC', 'Argos Basildon DC', 'Bedford DC',\n",
    "       'Stoke DC']\n",
    "mask_odd_stay = ((~telematics['depot'])\n",
    "                 & (telematics['depot_stay'] > stay_hours_limit)\n",
    "                 & (~telematics['departure_location'].isin(other_common_locations)))\n",
    "telematics['odd_stay'] = mask_odd_stay\n",
    "location_count = telematics[mask_odd_stay].groupby('arrival_location').agg({\n",
    "    'departure_site_id': 'count',\n",
    "    'vehicle_id': 'nunique'\n",
    "})\n",
    "routes = telematics.groupby('route_id').agg({\n",
    "    'departure_time': 'first',\n",
    "    'arrival_time': 'max',\n",
    "    'vehicle_id': 'first',\n",
    "    'departure_location': 'first',\n",
    "    'arrival_location': 'last',\n",
    "    'depot': 'mean',\n",
    "    'odd_stay': 'any'\n",
    "})\n",
    "# Find how often this happens\n",
    "print('% telematics: ', telematics['odd_stay'].mean())\n",
    "print('% : routes', routes['odd_stay'].mean())"
   ]
  },
  {
   "cell_type": "code",
   "execution_count": 38,
   "metadata": {},
   "outputs": [],
   "source": [
    "# Create suply return routes\n",
    "# Create return routes starting with each odd stay\n",
    "new_veh = telematics['vehicle_id'].shift(1) != telematics['vehicle_id']\n",
    "new_journey = telematics['odd_stay'] | new_veh\n",
    "telematics['supply_route'] = new_journey.astype(int).cumsum()\n",
    "# Remove from the supply returns the telematics moves after a depot\n",
    "# Cummulative of depot stays per telematics entry\n",
    "depot_cumulative = telematics['depot'].cumsum() + 1\n",
    "# Get the depot count at the start of each supply route for each move in a supply route\n",
    "start_depot_count = depot_cumulative * telematics['odd_stay']\n",
    "start_depot_count[start_depot_count == 0] = np.nan\n",
    "start_depot_count = start_depot_count.fillna(method='ffill').fillna(0)\n",
    "# Find the moves that have a higher depot count than at the start of the route and assing route 0\n",
    "moves_out_of_route = depot_cumulative > start_depot_count\n",
    "telematics.loc[moves_out_of_route, 'supply_route'] = 0\n",
    "# Create the supply routes\n",
    "supply_routes = telematics.groupby('supply_route').agg({\n",
    "    'departure_time': 'first',\n",
    "    'arrival_time': 'max',\n",
    "    'vehicle_id': 'first',\n",
    "    'spec_id': 'first',\n",
    "    'departure_location': 'first',\n",
    "    'arrival_location': 'last',\n",
    "    'arrival_site_id': 'last',\n",
    "    'depot': 'any',\n",
    "    'depot_stay': 'first',\n",
    "    'odd_stay': 'any'\n",
    "})\n",
    "# Filter by lenth and arriving at depot\n",
    "arrive_at_depot = supply_routes['arrival_site_id'].isin(good_sites)\n",
    "supply_routes['duration'] = (supply_routes['arrival_time']\n",
    "                             - supply_routes['departure_time'])/dt.timedelta(hours=1)\n",
    "mask_trailers = supply_routes['spec_id'].isin([115, 116, 117])\n",
    "refrigerated_route = supply_routes['vehicle_id'].map(vehicle_ref_dict)\n",
    "supply_routes = supply_routes[refrigerated_route & arrive_at_depot & mask_trailers\n",
    "                              & (supply_routes['duration'] < 10)]"
   ]
  },
  {
   "cell_type": "code",
   "execution_count": 39,
   "metadata": {},
   "outputs": [],
   "source": [
    "# Assign shore power energy to each route\n",
    "shore_hours = supply_routes['depot_stay'].clip(upper=MAX_SHOREPOWER_HOURS)\n",
    "shore_kw_summer = supply_routes['spec_id'].map(\n",
    "    vehicle_specifications['shorepower_summer_kw'].to_dict())\n",
    "supply_routes['shore_energy_kwh'] = shore_hours * shore_kw_summer\n",
    "# Assing route energy consumption per route\n",
    "route_kw_summer = supply_routes['spec_id'].map(\n",
    "    vehicle_specifications['route_power_summer_kw'].to_dict())\n",
    "supply_routes['route_energy_kwh'] = supply_routes['duration'] * route_kw_summer\n",
    "# Calculate battery feasibility\n",
    "supply_routes['total_energy_kwh'] = supply_routes['route_energy_kwh'] + supply_routes['shore_energy_kwh']\n",
    "supply_routes['battery_choice'] = 100\n",
    "for battery in tru_battery_kwh:\n",
    "    mask_feasible_battery = supply_routes['total_energy_kwh'] <= battery\n",
    "    supply_routes.loc[mask_feasible_battery, 'battery_choice'] = battery"
   ]
  },
  {
   "cell_type": "code",
   "execution_count": 40,
   "metadata": {},
   "outputs": [
    {
     "data": {
      "text/html": [
       "<div>\n",
       "<style scoped>\n",
       "    .dataframe tbody tr th:only-of-type {\n",
       "        vertical-align: middle;\n",
       "    }\n",
       "\n",
       "    .dataframe tbody tr th {\n",
       "        vertical-align: top;\n",
       "    }\n",
       "\n",
       "    .dataframe thead th {\n",
       "        text-align: right;\n",
       "    }\n",
       "</style>\n",
       "<table border=\"1\" class=\"dataframe\">\n",
       "  <thead>\n",
       "    <tr style=\"text-align: right;\">\n",
       "      <th></th>\n",
       "      <th>battery cap kW</th>\n",
       "      <th>count</th>\n",
       "      <th>battery choice</th>\n",
       "      <th>% covered</th>\n",
       "    </tr>\n",
       "  </thead>\n",
       "  <tbody>\n",
       "    <tr>\n",
       "      <th>0</th>\n",
       "      <td>11.2</td>\n",
       "      <td>70</td>\n",
       "      <td>Short range</td>\n",
       "      <td>0.5</td>\n",
       "    </tr>\n",
       "    <tr>\n",
       "      <th>1</th>\n",
       "      <td>15.2</td>\n",
       "      <td>1891</td>\n",
       "      <td>Medium range</td>\n",
       "      <td>14.4</td>\n",
       "    </tr>\n",
       "    <tr>\n",
       "      <th>2</th>\n",
       "      <td>19.2</td>\n",
       "      <td>2477</td>\n",
       "      <td>Long range</td>\n",
       "      <td>18.9</td>\n",
       "    </tr>\n",
       "    <tr>\n",
       "      <th>3</th>\n",
       "      <td>24.0</td>\n",
       "      <td>5321</td>\n",
       "      <td>Future</td>\n",
       "      <td>40.6</td>\n",
       "    </tr>\n",
       "    <tr>\n",
       "      <th>4</th>\n",
       "      <td>100.0</td>\n",
       "      <td>3353</td>\n",
       "      <td>NaN</td>\n",
       "      <td>25.6</td>\n",
       "    </tr>\n",
       "  </tbody>\n",
       "</table>\n",
       "</div>"
      ],
      "text/plain": [
       "   battery cap kW  count battery choice  % covered\n",
       "0            11.2     70    Short range        0.5\n",
       "1            15.2   1891   Medium range       14.4\n",
       "2            19.2   2477     Long range       18.9\n",
       "3            24.0   5321         Future       40.6\n",
       "4           100.0   3353            NaN       25.6"
      ]
     },
     "execution_count": 40,
     "metadata": {},
     "output_type": "execute_result"
    }
   ],
   "source": [
    "df = supply_routes.groupby('battery_choice')[['departure_time']].count()\n",
    "df['battery choice'] = df.index.map({tru_battery_dict[key]: key for key in tru_battery_dict.keys()})\n",
    "df.reset_index(inplace=True)\n",
    "df.columns = ['battery cap kW', 'count', 'battery choice']\n",
    "df['% covered'] = np.round(100*df['count']/df['count'].sum(), 1)\n",
    "df"
   ]
  },
  {
   "cell_type": "markdown",
   "metadata": {},
   "source": [
    "#### outputs"
   ]
  },
  {
   "cell_type": "code",
   "execution_count": 13,
   "metadata": {},
   "outputs": [],
   "source": [
    "for i in range(10, 20):\n",
    "    route = np.random.choice(routes[routes['odd_stay']].index)\n",
    "    v = routes.loc[route, 'vehicle_id']\n",
    "    departure = routes.loc[route, 'departure_time']\n",
    "    cols = ['departure_location', 'depot_stay', 'departure_time', 'odd_stay']\n",
    "    sample_tel = telematics[(telematics['vehicle_id'] == v)\n",
    "            & (telematics['departure_time'] >= departure)][cols]\n",
    "    sample_tel.to_csv(f'../../tru_sp_functions/outputs/tru2/sample_supply_route{i}.csv')"
   ]
  },
  {
   "cell_type": "code",
   "execution_count": 7,
   "metadata": {},
   "outputs": [
    {
     "data": {
      "image/png": "[encoded data removed]",
      "text/plain": [
       "<Figure size 576x216 with 1 Axes>"
      ]
     },
     "metadata": {
      "needs_background": "light"
     },
     "output_type": "display_data"
    }
   ],
   "source": [
    "# Histo of stop duration\n",
    "telematics[telematics['odd_stay']]\n",
    "ff.histo_variable(telematics[telematics['odd_stay']], 'depot_stay', 'non-depot', upperclip=48,\n",
    "                   lowerclip=None, bins=20, folder=\"tru2\",\n",
    "                   suff=f'{stay_hours_limit}h', vline_dict=None, title_text=None,\n",
    "                   plot_mean=True, cumdist=False)"
   ]
  },
  {
   "cell_type": "markdown",
   "metadata": {},
   "source": [
    "### Simultaneous chargers (charging + shore power)\n",
    "This creates the master table and gets all the route data"
   ]
  },
  {
   "cell_type": "code",
   "execution_count": 239,
   "metadata": {},
   "outputs": [
    {
     "name": "stderr",
     "output_type": "stream",
     "text": [
      "2022-07-26 20:36:53|DEBUG|data_handler.py(39)|get_inputs|read inputs for run 204\n"
     ]
    }
   ],
   "source": [
    "# Get an allocation and a scenario master table. For each site get the following tables\n",
    "alloc_run = 204\n",
    "shorepower_run = 205\n",
    "cnx = dbh.create_alch_engine()\n",
    "sql_query = f\"select * from t_allocation where run_id={alloc_run} order by allocation_id\"\n",
    "alloc_table = pd.read_sql_query(sql_query, con=cnx, index_col='allocation_id')\n",
    "allocation_ids = alloc_table.index\n",
    "sql_query = f\"select * from t_charging_scenarios where allocation_id IN {tuple(allocation_ids)} order by allocation_id, scenario_id\"\n",
    "scenarios = pd.read_sql_query(sql_query, con=cnx)\n",
    "cnx.dispose()\n",
    "connection, cur = dbh.database_connection('test')\n",
    "inputs = dh.get_inputs('t_run_allocation', alloc_run, connection, cur)\n",
    "cur.close()\n",
    "connection.close()\n",
    "# get availability matrix\n",
    "availability_matrix = pickle.load(open(r'sample/tru/availability_matrix.pkl', 'rb'))\n",
    "cols_alloc = ['run_id', 'site_id', 'vehicle1', 'num_r', 'num_v']\n",
    "cols_scen = ['scenario_id', 'allocation_id', 'run_id', 'output_kwh',\n",
    "             'charger1']\n",
    "cols_sp = ['scenario_id', 'allocation_id', 'run_id', 'output_kwh',\n",
    "             'num_charger1']\n",
    "mask_charging = scenarios['run_id'] == alloc_run\n",
    "mask_shorepower = scenarios['run_id'] == shorepower_run\n",
    "master_table = alloc_table[cols_alloc].merge(scenarios[mask_charging][cols_scen],\n",
    "                                             left_index=True, right_on='allocation_id',\n",
    "                                             suffixes=(\"_alloc\", \"_ch\"))\n",
    "master_table = master_table.merge(scenarios[mask_shorepower][cols_sp],\n",
    "                                  left_on='allocation_id', right_on='allocation_id',\n",
    "                                             suffixes=(\"_charging\", \"_shorepower\"))\n",
    "master_table['site_name'] = master_table['site_id'].map(site_dict)\n",
    "master_table['group'] = master_table['vehicle1'].map(good_specs)\n",
    "master_table['simult_shorepower'] = availability_matrix.max(axis=1)\n",
    "master_table.set_index('allocation_id', inplace=True)\n",
    "master_table['simultaneous_chargers'] = 0\n",
    "# Sort out the routes\n",
    "routes_cleaned = pickle.load(open('sample/tru/routes_cleaned.pkl', 'rb'))\n",
    "# Create a baseline HH vector covering the whole period\n",
    "start_dt = inputs['start_date'] + dt.timedelta(hours=6)\n",
    "end_dt = inputs['end_date'] + dt.timedelta(hours=6)\n",
    "N = int((end_dt - start_dt)/dt.timedelta(hours=0.5))\n",
    "times = start_dt + np.arange(N) * dt.timedelta(minutes=30)\n",
    "# calculate start/end time periods per route\n",
    "routes_cleaned['end_depot_time'] = (routes_cleaned['arrival_time']\n",
    "                                    + pd.to_timedelta(routes_cleaned['next_wait_onsite'], unit='h'))\n",
    "routes_cleaned['start_shorepower'] = (routes_cleaned['end_depot_time']\n",
    "                                      - pd.to_timedelta(routes_cleaned['shorepower_time'], unit='h'))\n",
    "routes_cleaned['start_shorepower_tp'] = np.round((routes_cleaned['start_shorepower']-start_dt)\n",
    "                                                 /dt.timedelta(hours=0.5)).astype(int)\n",
    "routes_cleaned['end_shorepower_tp'] = np.round((routes_cleaned['end_depot_time']-start_dt)\n",
    "                                                 /dt.timedelta(hours=0.5)).astype(int)\n",
    "routes_cleaned.sort_values(by=['vehicle_id', 'departure_time'], inplace=True)\n",
    "routes_cleaned.reset_index(inplace=True)"
   ]
  },
  {
   "cell_type": "markdown",
   "metadata": {},
   "source": [
    "#### Charging\n",
    "* Read the charge table for all scenarios for a site\n",
    "* Convert to a bool matrix\n",
    "#### Shore power\n",
    "* Read routes for a site (all vehicle types)\n",
    "* Create an availability matrix for each vehicle/time period\n",
    "* Iterate over routes and assign the availability vector to each vehicle instead of the allocation\n",
    "#### Combined charging\n",
    "* Add both shore power and charging table and count how many are positive for each time period"
   ]
  },
  {
   "cell_type": "code",
   "execution_count": 241,
   "metadata": {},
   "outputs": [
    {
     "name": "stdout",
     "output_type": "stream",
     "text": [
      "1 (3744, 1347) 99\n",
      "2 (3744, 1327) 86\n",
      "3 (3744, 1234) 81\n",
      "4 (3744, 1225) 91\n",
      "5 (3744, 1297) 95\n",
      "6 (3744, 1080) 94\n",
      "7 (3744, 1034) 79\n",
      "8 (3744, 1067) 64\n",
      "9 (3744, 691) 59\n",
      "10 (3744, 829) 37\n",
      "12 (3744, 886) 99\n",
      "17 (3744, 980) 20\n",
      "20 (3744, 850) 84\n",
      "22 (3744, 924) 20\n",
      "28 (3744, 201) 7\n"
     ]
    }
   ],
   "source": [
    "for site in good_sites[:]:\n",
    "        # Read charging table for the site\n",
    "        mask_site = master_table['site_id'] == site\n",
    "        site_scenarios = master_table.loc[mask_site, 'scenario_id_charging'].values\n",
    "        sql_query = f\"select datetime, allocated_vehicle_id, power_demand_kw from t_charge_demand where scenario_id IN {dth.list_to_string(site_scenarios)}\"\n",
    "        charge_table = pd.read_sql_query(sql_query, con=cnx)\n",
    "        # Calculate how many vehicles are charging per hh\n",
    "        charge_table['charging'] = (charge_table['power_demand_kw'] > 0).astype(int)\n",
    "        charge_matrix = charge_table.set_index(['datetime', 'allocated_vehicle_id'])['charging'].unstack()\n",
    "        charge_matrix.fillna(0, inplace=True)\n",
    "        vehicles = charge_matrix.columns\n",
    "        charge_array = charge_matrix.values\n",
    "        # select site routes\n",
    "        cols = ['spec_id', 'start_shorepower_tp', 'end_shorepower_tp',\n",
    "                'shorepower_kwh', 'date', 'vehicle_id']\n",
    "        routes_sites = routes_cleaned[routes_cleaned['site_id_end'] == site][cols]\n",
    "        # Create availability matrix\n",
    "        shorepower_availability = site_vehicle_availability(routes_sites, N, list(vehicles))\n",
    "        # Fixes the length of the charge matrix if it's missing times\n",
    "        if len(charge_matrix) < len(shorepower_availability):\n",
    "                before_rows = int((charge_matrix.index[0] - times[0]) / dt.timedelta(hours=0.5))\n",
    "                after_rows = int((times[-1] - charge_matrix.index[-1]) / dt.timedelta(hours=0.5))\n",
    "                before_array = np.zeros((before_rows, len(vehicles)))\n",
    "                after_array = np.zeros((after_rows, len(vehicles)))\n",
    "                charge_array = np.vstack((before_array, charge_matrix.values, after_array))\n",
    "        # Combine both availability matrices\n",
    "        charger_demand = charge_array + shorepower_availability\n",
    "        n_chargers = (charger_demand > 0).sum(axis=1).max()\n",
    "        print(site, charger_demand.shape, n_chargers)\n",
    "        master_table.loc[mask_site, 'simultaneous_chargers'] = n_chargers\n",
    "        pickle.dump(charger_demand, open(f'sample/tru2/charger_demand_{site}.pkl', 'wb'))\n",
    "pickle.dump(master_table, open(f'sample/tru2/scenario_table_with_simultaneous.pkl', 'wb'))\n",
    "master_table.to_csv('sample/tru2/scenario_table_with_simultaneous.csv')\n"
   ]
  },
  {
   "cell_type": "markdown",
   "metadata": {},
   "source": [
    "### Recalculate charge energy values"
   ]
  },
  {
   "cell_type": "code",
   "execution_count": 64,
   "metadata": {},
   "outputs": [
    {
     "name": "stdout",
     "output_type": "stream",
     "text": [
      "Scenario: 1051\n",
      "Old: 14183.520085679012, new: 14139.317190617283\n"
     ]
    }
   ],
   "source": [
    "# Get original scenario table\n",
    "# original_scenarios = pd.read_csv('sample/tru2/backups_220702/t_charging_scenarios.csv', index_col='scenario_id')\n",
    "TIME_FRACT = 0.5\n",
    "bad_scenarios = [1003, 1008, 1013, 1018, 1023, 1024, 1046, 1050, 1051]\n",
    "# cnx = dbh.create_alch_engine()\n",
    "# connection, cur = dbh.database_connection('test')\n",
    "# Iterate over the key scenarios\n",
    "for scenario in bad_scenarios[-1:]:\n",
    "    print('Scenario:', scenario)\n",
    "    # Load the scenario charger demand\n",
    "    sql_query = f\"select sum(power_demand_kw) from t_charge_demand where scenario_id = {scenario}\"\n",
    "    cur.execute(sql_query)\n",
    "    connection.commit()\n",
    "    demand_sum = cur.fetchall()\n",
    "    # Calculate output kWh\n",
    "    output_kwh = demand_sum[0][0] * TIME_FRACT\n",
    "    # print output kWh vs original value\n",
    "    print(f\"Old: {original_scenarios.loc[scenario, 'output_kwh']}, new: {output_kwh}\")\n",
    "    # Update scenario table with new value\n",
    "    sql_query =  f\"update t_charging_scenarios set output_kwh = {output_kwh} where scenario_id = {scenario}\"\n",
    "    cur.execute(sql_query)\n",
    "    connection.commit()\n",
    "# cur.close()\n",
    "# connection.close()"
   ]
  },
  {
   "cell_type": "markdown",
   "metadata": {},
   "source": [
    "### Shore power calculations"
   ]
  },
  {
   "cell_type": "code",
   "execution_count": 185,
   "metadata": {},
   "outputs": [],
   "source": [
    "# Load template shorepower\n",
    "template_shore_power = pd.read_csv(r'C:\\Users\\SofiaTaylor\\OneDrive - Flexible Power Systems Ltd\\Consulting\\SSL\\tru/template_shorepower_aug2022.csv',\n",
    "                                   usecols=['minutes', 'power_kw'], index_col='minutes')\n",
    "# Scale shore power profile to each spec based on summer average shore power requirements\n",
    "shore_profiles = {}\n",
    "for spec in vehicle_specifications.index:\n",
    "    scale_factor = (MAX_SHOREPOWER_HOURS / NEW_SHOREPOWER_HOURS) * (vehicle_specifications.loc[spec, 'shorepower_summer_kw'] / template_shore_power['power_kw'].mean())\n",
    "    shore_profiles[spec] = template_shore_power * scale_factor"
   ]
  },
  {
   "cell_type": "markdown",
   "metadata": {},
   "source": [
    "#### based on departure times"
   ]
  },
  {
   "cell_type": "code",
   "execution_count": 131,
   "metadata": {},
   "outputs": [
    {
     "name": "stderr",
     "output_type": "stream",
     "text": [
      "2022-08-02 17:56:20|DEBUG|data_handler.py(39)|get_inputs|read inputs for run 204\n",
      "2022-08-02 17:56:23|DEBUG|pipe_db_handler.py(62)|upload_table|Uploaded to t_charge_demand\n",
      "2022-08-02 17:56:23|DEBUG|feasibility_functions.py(33)|add_scenario|Added scenario 1169 to table\n",
      "2022-08-02 17:56:26|DEBUG|pipe_db_handler.py(62)|upload_table|Uploaded to t_charge_demand\n",
      "2022-08-02 17:56:26|DEBUG|feasibility_functions.py(33)|add_scenario|Added scenario 1170 to table\n",
      "2022-08-02 17:56:34|DEBUG|pipe_db_handler.py(62)|upload_table|Uploaded to t_charge_demand\n",
      "2022-08-02 17:56:34|DEBUG|feasibility_functions.py(33)|add_scenario|Added scenario 1171 to table\n",
      "2022-08-02 17:57:05|DEBUG|pipe_db_handler.py(62)|upload_table|Uploaded to t_charge_demand\n",
      "2022-08-02 17:57:05|DEBUG|feasibility_functions.py(33)|add_scenario|Added scenario 1172 to table\n",
      "2022-08-02 17:57:09|DEBUG|pipe_db_handler.py(62)|upload_table|Uploaded to t_charge_demand\n",
      "2022-08-02 17:57:09|DEBUG|feasibility_functions.py(33)|add_scenario|Added scenario 1173 to table\n",
      "2022-08-02 17:57:14|DEBUG|pipe_db_handler.py(62)|upload_table|Uploaded to t_charge_demand\n",
      "2022-08-02 17:57:14|DEBUG|feasibility_functions.py(33)|add_scenario|Added scenario 1174 to table\n",
      "2022-08-02 17:57:18|DEBUG|pipe_db_handler.py(62)|upload_table|Uploaded to t_charge_demand\n",
      "2022-08-02 17:57:18|DEBUG|feasibility_functions.py(33)|add_scenario|Added scenario 1175 to table\n",
      "2022-08-02 17:57:22|DEBUG|pipe_db_handler.py(62)|upload_table|Uploaded to t_charge_demand\n",
      "2022-08-02 17:57:22|DEBUG|feasibility_functions.py(33)|add_scenario|Added scenario 1176 to table\n",
      "2022-08-02 17:57:56|DEBUG|pipe_db_handler.py(62)|upload_table|Uploaded to t_charge_demand\n",
      "2022-08-02 17:57:56|DEBUG|feasibility_functions.py(33)|add_scenario|Added scenario 1177 to table\n",
      "2022-08-02 17:58:01|DEBUG|pipe_db_handler.py(62)|upload_table|Uploaded to t_charge_demand\n",
      "2022-08-02 17:58:01|DEBUG|feasibility_functions.py(33)|add_scenario|Added scenario 1178 to table\n",
      "2022-08-02 17:58:05|DEBUG|pipe_db_handler.py(62)|upload_table|Uploaded to t_charge_demand\n",
      "2022-08-02 17:58:05|DEBUG|feasibility_functions.py(33)|add_scenario|Added scenario 1179 to table\n",
      "2022-08-02 17:58:10|DEBUG|pipe_db_handler.py(62)|upload_table|Uploaded to t_charge_demand\n",
      "2022-08-02 17:58:10|DEBUG|feasibility_functions.py(33)|add_scenario|Added scenario 1180 to table\n",
      "2022-08-02 17:58:17|DEBUG|pipe_db_handler.py(62)|upload_table|Uploaded to t_charge_demand\n",
      "2022-08-02 17:58:17|DEBUG|feasibility_functions.py(33)|add_scenario|Added scenario 1181 to table\n",
      "2022-08-02 17:59:08|DEBUG|pipe_db_handler.py(62)|upload_table|Uploaded to t_charge_demand\n",
      "2022-08-02 17:59:08|DEBUG|feasibility_functions.py(33)|add_scenario|Added scenario 1182 to table\n",
      "2022-08-02 17:59:11|DEBUG|pipe_db_handler.py(62)|upload_table|Uploaded to t_charge_demand\n",
      "2022-08-02 17:59:11|DEBUG|feasibility_functions.py(33)|add_scenario|Added scenario 1183 to table\n",
      "2022-08-02 17:59:17|DEBUG|pipe_db_handler.py(62)|upload_table|Uploaded to t_charge_demand\n",
      "2022-08-02 17:59:18|DEBUG|feasibility_functions.py(33)|add_scenario|Added scenario 1184 to table\n",
      "2022-08-02 17:59:30|DEBUG|pipe_db_handler.py(62)|upload_table|Uploaded to t_charge_demand\n",
      "2022-08-02 17:59:31|DEBUG|feasibility_functions.py(33)|add_scenario|Added scenario 1185 to table\n",
      "2022-08-02 17:59:40|DEBUG|pipe_db_handler.py(62)|upload_table|Uploaded to t_charge_demand\n",
      "2022-08-02 17:59:40|DEBUG|feasibility_functions.py(33)|add_scenario|Added scenario 1186 to table\n",
      "2022-08-02 18:00:21|DEBUG|pipe_db_handler.py(62)|upload_table|Uploaded to t_charge_demand\n",
      "2022-08-02 18:00:22|DEBUG|feasibility_functions.py(33)|add_scenario|Added scenario 1187 to table\n",
      "2022-08-02 18:00:26|DEBUG|pipe_db_handler.py(62)|upload_table|Uploaded to t_charge_demand\n",
      "2022-08-02 18:00:26|DEBUG|feasibility_functions.py(33)|add_scenario|Added scenario 1188 to table\n",
      "2022-08-02 18:00:34|DEBUG|pipe_db_handler.py(62)|upload_table|Uploaded to t_charge_demand\n",
      "2022-08-02 18:00:35|DEBUG|feasibility_functions.py(33)|add_scenario|Added scenario 1189 to table\n",
      "2022-08-02 18:00:37|DEBUG|pipe_db_handler.py(62)|upload_table|Uploaded to t_charge_demand\n",
      "2022-08-02 18:00:37|DEBUG|feasibility_functions.py(33)|add_scenario|Added scenario 1190 to table\n",
      "2022-08-02 18:00:43|DEBUG|pipe_db_handler.py(62)|upload_table|Uploaded to t_charge_demand\n",
      "2022-08-02 18:00:43|DEBUG|feasibility_functions.py(33)|add_scenario|Added scenario 1191 to table\n",
      "2022-08-02 18:01:40|DEBUG|pipe_db_handler.py(62)|upload_table|Uploaded to t_charge_demand\n",
      "2022-08-02 18:01:41|DEBUG|feasibility_functions.py(33)|add_scenario|Added scenario 1192 to table\n",
      "2022-08-02 18:01:43|DEBUG|pipe_db_handler.py(62)|upload_table|Uploaded to t_charge_demand\n",
      "2022-08-02 18:01:44|DEBUG|feasibility_functions.py(33)|add_scenario|Added scenario 1193 to table\n",
      "2022-08-02 18:01:53|DEBUG|pipe_db_handler.py(62)|upload_table|Uploaded to t_charge_demand\n",
      "2022-08-02 18:01:53|DEBUG|feasibility_functions.py(33)|add_scenario|Added scenario 1194 to table\n",
      "2022-08-02 18:02:10|DEBUG|pipe_db_handler.py(62)|upload_table|Uploaded to t_charge_demand\n",
      "2022-08-02 18:02:11|DEBUG|feasibility_functions.py(33)|add_scenario|Added scenario 1195 to table\n",
      "2022-08-02 18:02:16|DEBUG|pipe_db_handler.py(62)|upload_table|Uploaded to t_charge_demand\n",
      "2022-08-02 18:02:16|DEBUG|feasibility_functions.py(33)|add_scenario|Added scenario 1196 to table\n",
      "2022-08-02 18:02:47|DEBUG|pipe_db_handler.py(62)|upload_table|Uploaded to t_charge_demand\n",
      "2022-08-02 18:02:47|DEBUG|feasibility_functions.py(33)|add_scenario|Added scenario 1197 to table\n",
      "2022-08-02 18:02:50|DEBUG|pipe_db_handler.py(62)|upload_table|Uploaded to t_charge_demand\n",
      "2022-08-02 18:02:50|DEBUG|feasibility_functions.py(33)|add_scenario|Added scenario 1198 to table\n",
      "2022-08-02 18:02:58|DEBUG|pipe_db_handler.py(62)|upload_table|Uploaded to t_charge_demand\n",
      "2022-08-02 18:02:58|DEBUG|feasibility_functions.py(33)|add_scenario|Added scenario 1199 to table\n",
      "2022-08-02 18:03:05|DEBUG|pipe_db_handler.py(62)|upload_table|Uploaded to t_charge_demand\n",
      "2022-08-02 18:03:05|DEBUG|feasibility_functions.py(33)|add_scenario|Added scenario 1200 to table\n",
      "2022-08-02 18:03:11|DEBUG|pipe_db_handler.py(62)|upload_table|Uploaded to t_charge_demand\n",
      "2022-08-02 18:03:11|DEBUG|feasibility_functions.py(33)|add_scenario|Added scenario 1201 to table\n",
      "2022-08-02 18:03:46|DEBUG|pipe_db_handler.py(62)|upload_table|Uploaded to t_charge_demand\n",
      "2022-08-02 18:03:46|DEBUG|feasibility_functions.py(33)|add_scenario|Added scenario 1202 to table\n",
      "2022-08-02 18:03:49|DEBUG|pipe_db_handler.py(62)|upload_table|Uploaded to t_charge_demand\n",
      "2022-08-02 18:03:49|DEBUG|feasibility_functions.py(33)|add_scenario|Added scenario 1203 to table\n",
      "2022-08-02 18:03:54|DEBUG|pipe_db_handler.py(62)|upload_table|Uploaded to t_charge_demand\n",
      "2022-08-02 18:03:54|DEBUG|feasibility_functions.py(33)|add_scenario|Added scenario 1204 to table\n",
      "2022-08-02 18:03:57|DEBUG|pipe_db_handler.py(62)|upload_table|Uploaded to t_charge_demand\n",
      "2022-08-02 18:03:57|DEBUG|feasibility_functions.py(33)|add_scenario|Added scenario 1205 to table\n",
      "2022-08-02 18:04:03|DEBUG|pipe_db_handler.py(62)|upload_table|Uploaded to t_charge_demand\n",
      "2022-08-02 18:04:03|DEBUG|feasibility_functions.py(33)|add_scenario|Added scenario 1206 to table\n",
      "2022-08-02 18:04:36|DEBUG|pipe_db_handler.py(62)|upload_table|Uploaded to t_charge_demand\n",
      "2022-08-02 18:04:36|DEBUG|feasibility_functions.py(33)|add_scenario|Added scenario 1207 to table\n",
      "2022-08-02 18:04:39|DEBUG|pipe_db_handler.py(62)|upload_table|Uploaded to t_charge_demand\n",
      "2022-08-02 18:04:39|DEBUG|feasibility_functions.py(33)|add_scenario|Added scenario 1208 to table\n",
      "2022-08-02 18:04:45|DEBUG|pipe_db_handler.py(62)|upload_table|Uploaded to t_charge_demand\n",
      "2022-08-02 18:04:45|DEBUG|feasibility_functions.py(33)|add_scenario|Added scenario 1209 to table\n",
      "2022-08-02 18:04:52|DEBUG|pipe_db_handler.py(62)|upload_table|Uploaded to t_charge_demand\n",
      "2022-08-02 18:04:52|DEBUG|feasibility_functions.py(33)|add_scenario|Added scenario 1210 to table\n",
      "2022-08-02 18:04:58|DEBUG|pipe_db_handler.py(62)|upload_table|Uploaded to t_charge_demand\n",
      "2022-08-02 18:04:58|DEBUG|feasibility_functions.py(33)|add_scenario|Added scenario 1211 to table\n",
      "2022-08-02 18:05:18|DEBUG|pipe_db_handler.py(62)|upload_table|Uploaded to t_charge_demand\n",
      "2022-08-02 18:05:18|DEBUG|feasibility_functions.py(33)|add_scenario|Added scenario 1212 to table\n",
      "2022-08-02 18:05:21|DEBUG|pipe_db_handler.py(62)|upload_table|Uploaded to t_charge_demand\n",
      "2022-08-02 18:05:21|DEBUG|feasibility_functions.py(33)|add_scenario|Added scenario 1213 to table\n",
      "2022-08-02 18:05:26|DEBUG|pipe_db_handler.py(62)|upload_table|Uploaded to t_charge_demand\n",
      "2022-08-02 18:05:26|DEBUG|feasibility_functions.py(33)|add_scenario|Added scenario 1214 to table\n",
      "2022-08-02 18:05:43|DEBUG|pipe_db_handler.py(62)|upload_table|Uploaded to t_charge_demand\n",
      "2022-08-02 18:05:43|DEBUG|feasibility_functions.py(33)|add_scenario|Added scenario 1215 to table\n",
      "2022-08-02 18:06:30|DEBUG|pipe_db_handler.py(62)|upload_table|Uploaded to t_charge_demand\n",
      "2022-08-02 18:06:30|DEBUG|feasibility_functions.py(33)|add_scenario|Added scenario 1216 to table\n",
      "2022-08-02 18:06:35|DEBUG|pipe_db_handler.py(62)|upload_table|Uploaded to t_charge_demand\n",
      "2022-08-02 18:06:35|DEBUG|feasibility_functions.py(33)|add_scenario|Added scenario 1217 to table\n",
      "2022-08-02 18:06:42|DEBUG|pipe_db_handler.py(62)|upload_table|Uploaded to t_charge_demand\n",
      "2022-08-02 18:06:42|DEBUG|feasibility_functions.py(33)|add_scenario|Added scenario 1218 to table\n",
      "2022-08-02 18:06:53|DEBUG|pipe_db_handler.py(62)|upload_table|Uploaded to t_charge_demand\n",
      "2022-08-02 18:06:53|DEBUG|feasibility_functions.py(33)|add_scenario|Added scenario 1219 to table\n",
      "2022-08-02 18:07:42|DEBUG|pipe_db_handler.py(62)|upload_table|Uploaded to t_charge_demand\n",
      "2022-08-02 18:07:42|DEBUG|feasibility_functions.py(33)|add_scenario|Added scenario 1220 to table\n",
      "2022-08-02 18:07:51|DEBUG|pipe_db_handler.py(62)|upload_table|Uploaded to t_charge_demand\n",
      "2022-08-02 18:07:51|DEBUG|feasibility_functions.py(33)|add_scenario|Added scenario 1221 to table\n",
      "2022-08-02 18:07:59|DEBUG|pipe_db_handler.py(62)|upload_table|Uploaded to t_charge_demand\n",
      "2022-08-02 18:07:59|DEBUG|feasibility_functions.py(33)|add_scenario|Added scenario 1222 to table\n",
      "2022-08-02 18:08:04|DEBUG|pipe_db_handler.py(62)|upload_table|Uploaded to t_charge_demand\n",
      "2022-08-02 18:08:04|DEBUG|feasibility_functions.py(33)|add_scenario|Added scenario 1223 to table\n",
      "2022-08-02 18:08:06|DEBUG|pipe_db_handler.py(62)|upload_table|Uploaded to t_charge_demand\n",
      "2022-08-02 18:08:06|DEBUG|feasibility_functions.py(33)|add_scenario|Added scenario 1224 to table\n"
     ]
    }
   ],
   "source": [
    "SHORE_MINUTES = 5  # interval time in minutes of the shore power profile\n",
    "RUN = 207\n",
    "alloc_run = 204\n",
    "scenario_id = 1169  # Where to start the new scenarios\n",
    "\n",
    "# Get routes and allocations\n",
    "# connection, cur = dbh.database_connection('test')\n",
    "\n",
    "cnx = dbh.create_alch_engine()\n",
    "sql_query = f\"select * from t_allocation where run_id={alloc_run} order by allocation_id\"\n",
    "alloc_table = pd.read_sql_query(sql_query, con=cnx, index_col='allocation_id')\n",
    "cnx.dispose()\n",
    "allocation_ids = alloc_table.index\n",
    "routes_cleaned = pickle.load(open('sample/tru2/routes_cleaned_new.pkl', 'rb'))\n",
    "inputs = dh.get_inputs('t_run_allocation', alloc_run, connection, cur)\n",
    "# Create a baseline HH vector covering the whole period\n",
    "start_dt = inputs['start_date']\n",
    "end_dt = inputs['end_date'] + dt.timedelta(hours=6)\n",
    "N = int((end_dt - start_dt)/dt.timedelta(minutes=SHORE_MINUTES))\n",
    "times = start_dt + np.arange(N) * dt.timedelta(minutes=SHORE_MINUTES)\n",
    "\n",
    "# calculate start/end time periods per route\n",
    "routes_cleaned['end_depot_time'] = (routes_cleaned['arrival_time']\n",
    "                                    + pd.to_timedelta(routes_cleaned['next_wait_onsite'], unit='h'))\n",
    "routes_cleaned['shorepower_time'] = routes_cleaned['next_wait_onsite'].clip(upper=NEW_SHOREPOWER_HOURS)\n",
    "routes_cleaned['start_shorepower'] = (routes_cleaned['end_depot_time']\n",
    "                                      - pd.to_timedelta(routes_cleaned['shorepower_time'], unit='h'))\n",
    "routes_cleaned['arrival_tp'] = np.round((routes_cleaned['arrival_time']-start_dt)\n",
    "                                                 /dt.timedelta(minutes=SHORE_MINUTES)).astype(int)\n",
    "routes_cleaned['start_shorepower_tp'] = np.round((routes_cleaned['start_shorepower']-start_dt)\n",
    "                                                 /dt.timedelta(minutes=SHORE_MINUTES)).astype(int)\n",
    "routes_cleaned['end_shorepower_tp'] = np.round((routes_cleaned['end_depot_time']-start_dt)\n",
    "                                                 /dt.timedelta(minutes=SHORE_MINUTES)).astype(int)\n",
    "availability_matrix = np.zeros((len(allocation_ids), N))\n",
    "onsite_matrix = np.zeros((len(allocation_ids), N))\n",
    "# iterate over allocations\n",
    "for i, idx in enumerate(allocation_ids[:]):\n",
    "    # Get the shore power value\n",
    "    indiv_profile = shore_profiles[alloc_table.loc[idx, 'vehicle1']]['power_kw'].values\n",
    "    # Create a baseline shore power profile for the allocation\n",
    "    # extract the routes for the allocation\n",
    "    mask_routes_alloc = ((routes_cleaned['site_id_end'] == alloc_table.loc[idx, 'site_id'])\n",
    "                        & (routes_cleaned['spec_id'] == alloc_table.loc[idx, 'vehicle1']))\n",
    "    cols = ['spec_id', 'start_shorepower_tp', 'end_shorepower_tp',\n",
    "            'arrival_tp', 'shorepower_kwh', 'date', 'vehicle_id']\n",
    "    routes_alloc = routes_cleaned[mask_routes_alloc][cols]\n",
    "    if len(routes_alloc) > 0:\n",
    "        allocation_shore_kw = np.zeros((len(routes_alloc), N))\n",
    "        # for each route in the allocation calculate a shorepower availability vector\n",
    "        for j, route in enumerate(routes_alloc.index[:]):\n",
    "            availability = np.zeros(N)\n",
    "            tp_arrival = routes_alloc.loc[route, 'arrival_tp']\n",
    "            tp_start = routes_alloc.loc[route, 'start_shorepower_tp']\n",
    "            tp_end = routes_alloc.loc[route, 'end_shorepower_tp']\n",
    "            availability[tp_start: tp_end] = 1\n",
    "            # add to the main allocation vector\n",
    "            availability_matrix[i] += availability\n",
    "            onsite_matrix[i, tp_arrival:tp_end] += 1\n",
    "            allocation_shore_kw[j, tp_start: tp_end] += indiv_profile[:(tp_end - tp_start)]\n",
    "        # Create a table from allocation vector and upload\n",
    "        shorepower_demand = pd.DataFrame(allocation_shore_kw.sum(axis=0),\n",
    "                                        columns=['power_demand_kw'])\n",
    "        shorepower_demand['scenario_id'] = scenario_id\n",
    "        shorepower_demand['allocated_vehicle_id'] = 0\n",
    "        shorepower_demand['datetime'] = times\n",
    "        dbh.upload_table(shorepower_demand, 't_charge_demand')\n",
    "        # Upload scenario row to scenario table\n",
    "        scenario_values = (\n",
    "            scenario_id, idx, RUN, False,\n",
    "            shorepower_demand['power_demand_kw'].sum()*SHORE_MINUTES/60,\n",
    "            9, 9, routes_alloc.groupby('date')['vehicle_id'].nunique().max(), 0)\n",
    "        scenario_id +=1\n",
    "        ff.add_scenario(scenario_values, connection,cur)\n",
    "        pickle.dump(allocation_shore_kw, open(f'sample/tru2/shorepower_profiles/shore_matrix{idx}.pkl', 'wb'))\n",
    "# cur.close()\n",
    "# connection.close()\n",
    "pickle.dump(availability_matrix, open(r'sample/tru2/shore_availability_matrix.pkl', 'wb'))\n",
    "pickle.dump(onsite_matrix, open(r'sample/tru2/onsite_availability_matrix.pkl', 'wb'))"
   ]
  },
  {
   "cell_type": "markdown",
   "metadata": {},
   "source": [
    "#### Batch shore power profiles\n",
    "* Split the routes into N batches depending on how long each route can have a shore down time\n",
    "    * For N = 4, each wave covers 6 hours. A route is assigned to a given wave if the wave time is beteen 2.5 (inc) and 8.5 hours before departure\n",
    "    * Note that the wave time is the time that batch of routes gets turned on\n",
    "    * If the vehicle isn't actually on site, it will get turned on when it arrives (rounded to nearest 5 min interval)\n",
    "    * For example, in a 12 noon wave they will turn on all the vehicles leaving from 2:30pm (inclusive) to 8:30pm (non-inclusive)\n",
    "* Start the profile for all of the route in a batch at the same time, or split over 5 minute intervals\n",
    "* Calculate the site profile and upload to db"
   ]
  },
  {
   "cell_type": "code",
   "execution_count": 248,
   "metadata": {},
   "outputs": [
    {
     "name": "stderr",
     "output_type": "stream",
     "text": [
      "2022-08-03 21:50:43|DEBUG|pipe_db_handler.py(62)|upload_table|Uploaded to t_charge_demand\n",
      "2022-08-03 21:50:43|DEBUG|feasibility_functions.py(33)|add_scenario|Added scenario 1225 to table\n",
      "2022-08-03 21:50:46|DEBUG|pipe_db_handler.py(62)|upload_table|Uploaded to t_charge_demand\n",
      "2022-08-03 21:50:46|DEBUG|feasibility_functions.py(33)|add_scenario|Added scenario 1226 to table\n",
      "2022-08-03 21:50:54|DEBUG|pipe_db_handler.py(62)|upload_table|Uploaded to t_charge_demand\n",
      "2022-08-03 21:50:54|DEBUG|feasibility_functions.py(33)|add_scenario|Added scenario 1227 to table\n",
      "2022-08-03 21:51:35|DEBUG|pipe_db_handler.py(62)|upload_table|Uploaded to t_charge_demand\n",
      "2022-08-03 21:51:35|DEBUG|feasibility_functions.py(33)|add_scenario|Added scenario 1228 to table\n",
      "2022-08-03 21:51:38|DEBUG|pipe_db_handler.py(62)|upload_table|Uploaded to t_charge_demand\n",
      "2022-08-03 21:51:38|DEBUG|feasibility_functions.py(33)|add_scenario|Added scenario 1229 to table\n"
     ]
    }
   ],
   "source": [
    "SHORE_MINUTES = 5\n",
    "routes_cleaned = pickle.load(open('sample/tru2/routes_cleaned_new.pkl', 'rb'))\n",
    "alloc_run = 204\n",
    "RUN_SHOREPOWER = 208\n",
    "SITE = 1\n",
    "connection, cur = dbh.database_connection('test')\n",
    "cols = ['arrival_time', 'vehicle_id', 'spec_id', 'duration_hours', 'date',\n",
    "       'end_time', 'next_wait_onsite']\n",
    "routes_site = routes_cleaned[routes_cleaned['site_id_end'] == SITE][cols].copy()\n",
    "routes_site['next_departure'] = routes_site['arrival_time'] + pd.to_timedelta(routes_site['next_wait_onsite'], unit='h')\n",
    "scenario_id = 1225\n",
    "# Create a list of wave times covering the whole time period\n",
    "n_waves = 4  # number of waves per day\n",
    "start_hour_wave = 2.5\n",
    "wave_interval = 24 / n_waves  # hours\n",
    "wave_timedelta = dt.timedelta(hours=wave_interval)\n",
    "profile_timedelta = dt.timedelta(minutes=SHORE_MINUTES)\n",
    "start_wave = dt.datetime.combine(\n",
    "    routes_site['date'].min(),\n",
    "    dt.datetime.min.time())\n",
    "end_wave = (dt.datetime.combine(\n",
    "    routes_site['next_departure'].max().date(),\n",
    "    dt.datetime.min.time())\n",
    "    + dt.timedelta(hours=18))\n",
    "wave_times = create_time_periods(start_wave, end_wave, wave_timedelta)\n",
    "# Create base profile times\n",
    "start_profile = start_wave\n",
    "end_profile = end_wave + wave_timedelta\n",
    "profile_times = create_time_periods(start_profile, end_profile, profile_timedelta)\n",
    "# Assign each route to a wave based on the times\n",
    "routes_site['departure_over_wave'] = ((routes_site['next_departure'] - start_wave)\n",
    "                                      % wave_timedelta).dt.total_seconds()/3600\n",
    "wave_dict = {n: wave_times[n] for n in range(len(wave_times))}\n",
    "\n",
    "routes_site['wave_number'] = ((routes_site['next_departure'] - start_wave)\n",
    "                              / wave_timedelta).astype(int)\n",
    "mask_early_departure = routes_site['departure_over_wave'] < 2.5\n",
    "routes_site.loc[mask_early_departure, 'wave_number'] -= 1\n",
    "\n",
    "# Get start time of the shore power profile for each wave\n",
    "routes_site['wave_start'] = routes_site['wave_number'].map(wave_dict)\n",
    "routes_site['shore_hours'] = (routes_site['next_departure'] - routes_site['wave_start'])/dt.timedelta(hours=1)\n",
    "# If a wave starts before arrival, set profile start time based on arrival (irregular route)\n",
    "arrival_tp = np.round((routes_site['arrival_time'] - start_profile) / profile_timedelta)\n",
    "arrival_time_fixed = start_profile + arrival_tp * profile_timedelta\n",
    "mask_irreg = routes_site['wave_start'] < routes_site['arrival_time']\n",
    "routes_site['irregular_route'] = mask_irreg\n",
    "routes_site['turn_on_time'] = routes_site['wave_start']\n",
    "routes_site.loc[mask_irreg, 'turn_on_time'] = arrival_time_fixed[mask_irreg]\n",
    "routes_site['start_shorepower_tp'] = ((routes_site['turn_on_time']-start_profile)\n",
    "                                      /dt.timedelta(minutes=SHORE_MINUTES)).astype(int)\n",
    "routes_site['end_shorepower_tp'] = np.round((routes_site['next_departure']-start_profile)\n",
    "                                            /dt.timedelta(minutes=SHORE_MINUTES)).astype(int)\n",
    "\n",
    "# Iterate over allocations\n",
    "cnx = dbh.create_alch_engine()\n",
    "sql_query = f\"select * from t_allocation where run_id={alloc_run} and site_id = {SITE} order by allocation_id\"\n",
    "alloc_table = pd.read_sql_query(sql_query, con=cnx, index_col='allocation_id')\n",
    "cnx.dispose()\n",
    "allocation_ids = alloc_table.index\n",
    "availability_matrix = np.zeros((len(allocation_ids), len(profile_times)))\n",
    "for i, alloc in enumerate(allocation_ids[:]):\n",
    "    # create a individual profile\n",
    "    spec = alloc_table.loc[alloc, 'vehicle1']\n",
    "    # Get the shore power value\n",
    "    indiv_profile = shore_profiles[spec]['power_kw'].values\n",
    "    indiv_profile_expand = np.concatenate([indiv_profile, np.full(40, indiv_profile[-1])])\n",
    "    # extract the routes for the allocation\n",
    "    mask_routes_alloc = routes_site['spec_id'] == spec\n",
    "    routes_alloc = routes_site[mask_routes_alloc]\n",
    "    if len(routes_alloc) > 0:\n",
    "        # Create a baseline allocation\n",
    "        allocation_shore_kw = np.zeros((len(routes_alloc), len(profile_times)))\n",
    "        # Add profiles for each route\n",
    "        for j, route in enumerate(routes_alloc.index[:]):\n",
    "            availability = np.zeros(len(profile_times))\n",
    "            tp_start = routes_alloc.loc[route, 'start_shorepower_tp']\n",
    "            tp_end = routes_alloc.loc[route, 'end_shorepower_tp']\n",
    "            availability[tp_start: tp_end] = 1\n",
    "            # add to the main allocation vector\n",
    "            availability_matrix[i] += availability\n",
    "            allocation_shore_kw[j, tp_start: tp_end] += indiv_profile_expand[:(tp_end - tp_start)]\n",
    "        # Create a table from allocation vector and upload\n",
    "        shorepower_demand = pd.DataFrame(allocation_shore_kw.sum(axis=0),\n",
    "                                        columns=['power_demand_kw'])\n",
    "        shorepower_demand['scenario_id'] = scenario_id\n",
    "        shorepower_demand['allocated_vehicle_id'] = 0\n",
    "        shorepower_demand['datetime'] = profile_times\n",
    "        dbh.upload_table(shorepower_demand, 't_charge_demand')\n",
    "        # Upload scenario row to scenario table\n",
    "        scenario_values = (\n",
    "            scenario_id, alloc, RUN_SHOREPOWER, False,\n",
    "            shorepower_demand['power_demand_kw'].sum()*SHORE_MINUTES/60,\n",
    "            9, 9, routes_alloc.groupby('date')['vehicle_id'].nunique().max(), 0)\n",
    "        scenario_id +=1\n",
    "        ff.add_scenario(scenario_values, connection,cur)\n",
    "        pickle.dump(allocation_shore_kw, open(f'sample/tru2/shorepower_profiles/shore_matrix_wave{alloc}.pkl', 'wb'))\n",
    "cur.close()\n",
    "connection.close()\n",
    "pickle.dump(availability_matrix, open(f'sample/tru2/shore_availability_matrix_wave{site}.pkl', 'wb'))\n",
    "\n"
   ]
  },
  {
   "cell_type": "markdown",
   "metadata": {},
   "source": [
    "### Master Table"
   ]
  },
  {
   "cell_type": "code",
   "execution_count": 8,
   "metadata": {},
   "outputs": [],
   "source": [
    "# get charging scenarios and allocations\n",
    "alloc_run = 204\n",
    "shorepower_run = 208\n",
    "charging_run = 204\n",
    "cnx = dbh.create_alch_engine()\n",
    "sql_query = f\"select * from t_allocation where run_id={alloc_run} order by allocation_id\"\n",
    "alloc_table = pd.read_sql_query(sql_query, con=cnx, index_col='allocation_id')\n",
    "allocation_ids = alloc_table.index\n",
    "sql_query = f\"\"\"select * from t_charging_scenarios\n",
    "    where allocation_id IN {tuple(allocation_ids)}\n",
    "    and run_id IN ({charging_run}, {shorepower_run})\n",
    "    order by allocation_id, scenario_id\"\"\"\n",
    "scenarios = pd.read_sql_query(sql_query, con=cnx)\n",
    "cnx.dispose()\n",
    "\n",
    "# get availability matrix\n",
    "availability_matrix = pickle.load(open(r'sample/tru2/shore_availability_matrix.pkl', 'rb'))\n",
    "onsite_matrix = pickle.load(open(r'sample/tru2/onsite_availability_matrix.pkl', 'rb'))"
   ]
  },
  {
   "cell_type": "code",
   "execution_count": 9,
   "metadata": {},
   "outputs": [],
   "source": [
    "cols_alloc = ['run_id', 'site_id', 'vehicle1', 'num_r', 'num_v']\n",
    "cols_scen = ['scenario_id', 'allocation_id', 'run_id', 'output_kwh',\n",
    "             'charger1']\n",
    "cols_sp = ['scenario_id', 'allocation_id', 'run_id', 'output_kwh',\n",
    "             'num_charger1']\n",
    "mask_charging = scenarios['run_id'] == charging_run\n",
    "mask_shorepower = scenarios['run_id'] == shorepower_run\n",
    "master_table = alloc_table[cols_alloc].merge(scenarios[mask_charging][cols_scen],\n",
    "                                             left_index=True, right_on='allocation_id',\n",
    "                                             how='left',\n",
    "                                             suffixes=(\"_alloc\", \"_ch\"))\n",
    "master_table = master_table.merge(scenarios[mask_shorepower][cols_sp],\n",
    "                                  left_on='allocation_id', right_on='allocation_id',\n",
    "                                  how='left',\n",
    "                                  suffixes=(\"_charging\", \"_shorepower\"))\n",
    "master_table['site_name'] = master_table['site_id'].map(site_dict)\n",
    "master_table['group'] = master_table['vehicle1'].map(good_specs)\n",
    "master_table['simult_shorepower'] = availability_matrix.max(axis=1)\n",
    "master_table.set_index('allocation_id', inplace=True)"
   ]
  },
  {
   "cell_type": "code",
   "execution_count": 37,
   "metadata": {},
   "outputs": [],
   "source": [
    "cnx = dbh.create_alch_engine()\n",
    "master_table['max_simultaneous_charging'] = 0\n",
    "master_table['site_simultaneous_shorepower'] = 0\n",
    "master_table['max_simult_onsite'] = 0\n",
    "# Iterate over each site\n",
    "for site in good_sites[:]:\n",
    "    # For each site, read the charge demand tables\n",
    "    mask_site = master_table['site_id'] == site\n",
    "    site_scenarios = master_table.loc[mask_site, 'scenario_id_charging'].values\n",
    "    sql_query = f\"select datetime, power_demand_kw from t_charge_demand where scenario_id IN {dth.list_to_string(site_scenarios)}\"\n",
    "    charge_table = pd.read_sql_query(sql_query, con=cnx)\n",
    "    # Calculate how many vehicles are charging per hh\n",
    "    charge_table['charging'] = charge_table['power_demand_kw'] > 0\n",
    "    max_simultaneous_charging = charge_table.groupby('datetime')['charging'].sum().max()\n",
    "    # Add number to master table on the first allocation for the site\n",
    "    idx = master_table.loc[mask_site].index[0]\n",
    "    master_table.loc[idx, 'max_simultaneous_charging'] = max_simultaneous_charging\n",
    "    master_table.loc[idx, 'site_simultaneous_shorepower'] = availability_matrix[mask_site].sum(axis=0).max()\n",
    "    master_table.loc[idx, 'max_simult_onsite'] = onsite_matrix[mask_site].sum(axis=0).max()\n",
    "cnx.dispose()\n",
    "master_table.to_csv(r'sample/tru2/scenario_table.csv')"
   ]
  },
  {
   "cell_type": "markdown",
   "metadata": {},
   "source": [
    "### Calculate Site profile"
   ]
  },
  {
   "cell_type": "code",
   "execution_count": 9,
   "metadata": {},
   "outputs": [],
   "source": [
    "site = 1\n",
    "# site_ch_scenarios = master_table[master_table['site_id'] == site]['scenario_id_charging'].values\n",
    "site_allocations = master_table[master_table['site_id'] == site].index\n",
    "demand_tables = {}\n",
    "for alloc in site_allocations[:]:\n",
    "    charging_scenario = master_table.loc[alloc, 'scenario_id_charging']\n",
    "    sp_scenario = master_table.loc[alloc, 'scenario_id_shorepower']\n",
    "    sql_query = f\"select datetime, power_demand_kw from t_charge_demand where scenario_id = {charging_scenario}\"\n",
    "    charge_table = pd.read_sql_query(sql_query, con=cnx)\n",
    "    charge_table = charge_table.groupby('datetime')[['power_demand_kw']].sum()\n",
    "    sql_query = f\"select datetime, power_demand_kw from t_charge_demand where scenario_id = {sp_scenario} order by datetime\"\n",
    "    sp_table = pd.read_sql_query(sql_query, con=cnx)\n",
    "    sp_table['hh_period'] = ((sp_table['datetime'] -  sp_table['datetime'].min())/dt.timedelta(hours=0.5)).astype(int)\n",
    "\n",
    "    sp_table = sp_table.groupby('hh_period').agg({\n",
    "            'datetime': 'min',\n",
    "            'power_demand_kw': ['mean', 'max']\n",
    "        })\n",
    "    sp_table.columns = ['datetime', 'sp_demand_kw', 'max_sp_kw']\n",
    "    demand_tables[alloc] = charge_table.merge(sp_table, left_index=True, right_on='datetime').set_index('datetime')\n",
    "    demand_tables[alloc]['max_kw'] = demand_tables[alloc][['power_demand_kw', 'max_sp_kw']].sum(axis=1)\n",
    "    demand_tables[alloc]['mean_kw'] = demand_tables[alloc][['power_demand_kw', 'sp_demand_kw']].sum(axis=1)"
   ]
  },
  {
   "cell_type": "code",
   "execution_count": 41,
   "metadata": {},
   "outputs": [
    {
     "name": "stdout",
     "output_type": "stream",
     "text": [
      "101 2022-04-11 09:00:00 56.0\n",
      "102 2022-02-28 09:30:00 78.0\n",
      "115 2022-03-18 20:30:00 564.0\n",
      "116 2022-04-09 02:30:00 21.0\n",
      "117 2022-04-14 06:30:00 51.0\n",
      "sum demand kwh\n",
      "18184.93729472063\n",
      "36319.55656813718\n",
      "521931.33838624554\n",
      "601.71399258579\n",
      "19152.34484110774\n",
      "Site: 2022-03-18 20:30:00 600.2296586286407\n",
      "Max meter + eTRU: 2226.0 kVa\n"
     ]
    }
   ],
   "source": [
    "# For each allocation, sum the charging and shore power profiles\n",
    "# Extract the peak demand and time of per allocation\n",
    "for alloc in site_allocations[:]:\n",
    "    print(master_table.loc[alloc, 'vehicle1'],\n",
    "          demand_tables[alloc]['max_kw'].idxmax(),\n",
    "          np.round(demand_tables[alloc]['max_kw'].max()/XPOWER, 0))\n",
    "# Check the sums are consistent with what we had before\n",
    "print('sum demand kwh')\n",
    "for alloc in site_allocations[:]:\n",
    "    print(demand_tables[alloc]['mean_kw'].sum()/2)\n",
    "# Get a combined site TRU load, find the peak TRU demand\n",
    "site_demand = pd.concat(demand_tables).groupby('datetime').sum()\n",
    "print('Site:', site_demand['max_kw'].idxmax(), site_demand['max_kw'].max()/XPOWER)\n",
    "\n",
    "# Combine with the meter data, find the peak demand\n",
    "meter = pd.read_csv('sample/tru2/waltham_point_site_demand.csv')\n",
    "meter['datetime'] = pd.to_datetime(meter['datetime'], dayfirst=True)\n",
    "site_demand['site_meter'] = meter['Site Load kW'].values\n",
    "site_demand['total_site_kw'] = site_demand['site_meter'] + site_demand['max_kw']\n",
    "print('Max meter + eTRU:',\n",
    "      np.round(site_demand['total_site_kw'].max()/XPOWER, 0), 'kVa')"
   ]
  },
  {
   "cell_type": "markdown",
   "metadata": {},
   "source": [
    "### Convert shore power profile to site HH"
   ]
  },
  {
   "cell_type": "code",
   "execution_count": 10,
   "metadata": {},
   "outputs": [
    {
     "ename": "IndentationError",
     "evalue": "unexpected indent (4010688957.py, line 21)",
     "output_type": "error",
     "traceback": [
      "\u001b[1;36m  File \u001b[1;32m\"C:\\Users\\SofiaTaylor\\AppData\\Local\\Temp\\ipykernel_7812\\4010688957.py\"\u001b[1;36m, line \u001b[1;32m21\u001b[0m\n\u001b[1;33m    first_allocation = scenarios[scenarios['scenario_id'].isin(sp_scenarios)]['allocation_id'].min()\u001b[0m\n\u001b[1;37m    ^\u001b[0m\n\u001b[1;31mIndentationError\u001b[0m\u001b[1;31m:\u001b[0m unexpected indent\n"
     ]
    }
   ],
   "source": [
    "scenario_id = 1245\n",
    "shorepower_hh_run = 210\n",
    "connection, cur = dbh.database_connection()\n",
    "for site in good_sites[:1]:\n",
    "    # sp_scenarios = master_table[master_table['site_id'] == site]['scenario_id_shorepower'].dropna().values\n",
    "    sp_scenarios = [1225, 1226, 1227, 1228, 1229]\n",
    "    sql_query = f\"\"\"select datetime, power_demand_kw from t_charge_demand\n",
    "        where scenario_id IN {dth.list_to_string(sp_scenarios)}\"\"\"\n",
    "    sp_table = pd.read_sql_query(sql_query, con=cnx)\n",
    "    site_sp_demand = sp_table.groupby('datetime').sum().reset_index()\n",
    "    site_sp_demand['hh_period'] = ((site_sp_demand['datetime'] -  site_sp_demand['datetime'].min())\n",
    "                                / dt.timedelta(hours=0.5)).astype(int)\n",
    "    site_sp_hh_demand = site_sp_demand.groupby('hh_period').agg({\n",
    "        'datetime': 'min',\n",
    "        'power_demand_kw': 'max'\n",
    "        })\n",
    "    site_sp_hh_demand['scenario_id'] = scenario_id\n",
    "    site_sp_hh_demand['allocated_vehicle_id'] = 0\n",
    "    dbh.upload_table(site_sp_hh_demand, 't_charge_demand')\n",
    "    # Upload scenario row to scenario table\n",
    "    first_allocation = scenarios[scenarios['scenario_id'].isin(sp_scenarios)]['allocation_id'].min()\n",
    "    combined_output = scenarios[scenarios['scenario_id'].isin(sp_scenarios)]['output_kwh'].sum()\n",
    "    combined_vehicles = scenarios[scenarios['scenario_id'].isin(sp_scenarios)]['num_charger1'].sum()\n",
    "    scenario_values = (\n",
    "        scenario_id, first_allocation, shorepower_hh_run, False,\n",
    "        combined_output,\n",
    "        9, 9, combined_vehicles, 0)\n",
    "    scenario_id +=1\n",
    "    ff.add_scenario(scenario_values, connection, cur)"
   ]
  },
  {
   "cell_type": "markdown",
   "metadata": {},
   "source": [
    "### Make scenario master table"
   ]
  },
  {
   "cell_type": "code",
   "execution_count": 6,
   "metadata": {},
   "outputs": [
    {
     "ename": "NameError",
     "evalue": "name 'alloc_table' is not defined",
     "output_type": "error",
     "traceback": [
      "\u001b[1;31m---------------------------------------------------------------------------\u001b[0m",
      "\u001b[1;31mNameError\u001b[0m                                 Traceback (most recent call last)",
      "\u001b[1;32m~\\AppData\\Local\\Temp\\ipykernel_7812\\3088509282.py\u001b[0m in \u001b[0;36m<module>\u001b[1;34m\u001b[0m\n\u001b[0;32m      1\u001b[0m \u001b[1;31m# Create a master scenario table with\u001b[0m\u001b[1;33m\u001b[0m\u001b[1;33m\u001b[0m\u001b[0m\n\u001b[0;32m      2\u001b[0m \u001b[1;31m# flat shore power, peak shore power, batch shore power, combined peak shore power\u001b[0m\u001b[1;33m\u001b[0m\u001b[1;33m\u001b[0m\u001b[0m\n\u001b[1;32m----> 3\u001b[1;33m \u001b[0mallocation_ids\u001b[0m \u001b[1;33m=\u001b[0m \u001b[0malloc_table\u001b[0m\u001b[1;33m.\u001b[0m\u001b[0mindex\u001b[0m\u001b[1;33m\u001b[0m\u001b[1;33m\u001b[0m\u001b[0m\n\u001b[0m\u001b[0;32m      4\u001b[0m sql_query = f\"\"\"select scenario_id, allocation_id, run_id from t_charging_scenarios\n\u001b[0;32m      5\u001b[0m     \u001b[0mwhere\u001b[0m \u001b[0mallocation_id\u001b[0m \u001b[0mIN\u001b[0m \u001b[1;33m{\u001b[0m\u001b[0mtuple\u001b[0m\u001b[1;33m(\u001b[0m\u001b[0mallocation_ids\u001b[0m\u001b[1;33m)\u001b[0m\u001b[1;33m}\u001b[0m\u001b[1;33m\u001b[0m\u001b[1;33m\u001b[0m\u001b[0m\n",
      "\u001b[1;31mNameError\u001b[0m: name 'alloc_table' is not defined"
     ]
    }
   ],
   "source": [
    "# Create a master scenario table with\n",
    "# flat shore power, peak shore power, batch shore power, combined peak shore power\n",
    "allocation_ids = alloc_table.index\n",
    "sql_query = f\"\"\"select scenario_id, allocation_id, run_id from t_charging_scenarios\n",
    "    where allocation_id IN {tuple(allocation_ids)}\n",
    "    and run_id IN (204, 205, 207, 208, 209) order by allocation_id, scenario_id\"\"\"\n",
    "scenarios = pd.read_sql_query(sql_query, con=cnx)\n",
    "scenarios.set_index(['allocation_id', 'run_id'], inplace=True)\n",
    "scenarios.sort_values(by='allocation_id', inplace=True)\n",
    "scenarios = scenarios.unstack()\n",
    "scenarios.columns = scenarios.columns.droplevel()\n",
    "scenarios = scenarios.merge(alloc_table[['site_id', 'vehicle1']],\n",
    "                left_index=True, right_index=True, how='left')\n",
    "scenarios['site_name'] = scenarios['site_id'].map(site_dict)\n",
    "# scenarios.to_csv('sample/tru2/scenario_master.csv')"
   ]
  },
  {
   "cell_type": "markdown",
   "metadata": {},
   "source": [
    "## Outputs"
   ]
  },
  {
   "cell_type": "code",
   "execution_count": 4,
   "metadata": {},
   "outputs": [
    {
     "data": {
      "image/png": "[encoded data removed]",
      "text/plain": [
       "<Figure size 360x216 with 2 Axes>"
      ]
     },
     "metadata": {
      "needs_background": "light"
     },
     "output_type": "display_data"
    }
   ],
   "source": [
    "# Number of routes and units\n",
    "routes_cleaned = pickle.load(open('sample/tru2/routes_cleaned_new.pkl', 'rb'))\n",
    "site_routes = routes_cleaned[routes_cleaned['site_id_end'] == 1]\n",
    "grouped = site_routes.groupby('spec_id').agg({'vehicle_id': 'nunique', 'route_id': 'count'})\n",
    "fig, ax = plt.subplots(\n",
    "    1, figsize=(5, 3), gridspec_kw={'hspace': 0.5})\n",
    "ax.set_title(\n",
    "    f'Rigids and Trailers Arriving in Waltham Point',\n",
    "    color=FPS_COLOURS[0], fontweight='bold')\n",
    "x = np.arange(len(good_specs))\n",
    "ax.bar(x=x-0.15, width=0.3,\n",
    "       height=grouped['route_id'], color=FPS_COLOURS[2], label='No. Routes')\n",
    "ax2 = ax.twinx()\n",
    "ax2.bar(x=x+0.15, width=0.3,\n",
    "       height=grouped['vehicle_id'], color=FPS_COLOURS[1], label='No. Units')\n",
    "ax.set_ylabel('# of routes', color=FPS_COLOURS[0])\n",
    "ax2.set_ylabel('# of units', color=FPS_COLOURS[0])\n",
    "ax.set_xticks(x, labels=grouped.index.map(good_specs))\n",
    "ax.set_xticklabels(labels=grouped.index.map(good_specs), rotation = 20)\n",
    "ax.legend(frameon=False, bbox_to_anchor=(0.6, 0.8))\n",
    "ax2.legend(frameon=False, bbox_to_anchor=(0.6, 0.7))\n",
    "fig.savefig(\n",
    "    f\"sample/tru2/wp_routes_per_group.png\",\n",
    "    bbox_inches=\"tight\", dpi=300)"
   ]
  },
  {
   "cell_type": "code",
   "execution_count": 5,
   "metadata": {},
   "outputs": [],
   "source": [
    "route_feasibility = routes_cleaned.groupby(['spec_id', 'battery_choice'])['site_id_start'].count()\n",
    "route_feasibility = route_feasibility.unstack().fillna(0)\n",
    "route_feasibility.index = route_feasibility.index.map(good_specs)\n",
    "total_routes = route_feasibility.sum(axis=1).values[:, None]"
   ]
  },
  {
   "cell_type": "code",
   "execution_count": 6,
   "metadata": {},
   "outputs": [
    {
     "data": {
      "image/png": "[encoded data removed]",
      "text/plain": [
       "<Figure size 576x288 with 1 Axes>"
      ]
     },
     "metadata": {
      "needs_background": "light"
     },
     "output_type": "display_data"
    },
    {
     "data": {
      "image/png": "[encoded data removed]",
      "text/plain": [
       "<Figure size 576x288 with 1 Axes>"
      ]
     },
     "metadata": {
      "needs_background": "light"
     },
     "output_type": "display_data"
    }
   ],
   "source": [
    "season = 'summer'\n",
    "\n",
    "ff.plot_stacked_bar(route_feasibility/total_routes*100, folder='tru2', x_axis='spec_id',\n",
    "                 title_text='eTRU Battery feasibility', site_name='all',\n",
    "                 y_axis=r'% routes', suff=f'_{season}')\n",
    "ff.plot_grouped_histo(routes_cleaned, 'route_kwh', specs, 'spec_id', good_specs,\n",
    "                   folder='tru2', site_name='all',\n",
    "                   bins=np.arange(0,26, step=2),\n",
    "                   title_text=f'eTRU energy requirement - {season}',\n",
    "                   vline_dict=tru_battery_dict, plot_mean=False,\n",
    "                   suff=f'_{season}', ylim=[0, 55000])"
   ]
  },
  {
   "cell_type": "code",
   "execution_count": 29,
   "metadata": {},
   "outputs": [
    {
     "data": {
      "text/html": [
       "<div>\n",
       "<style scoped>\n",
       "    .dataframe tbody tr th:only-of-type {\n",
       "        vertical-align: middle;\n",
       "    }\n",
       "\n",
       "    .dataframe tbody tr th {\n",
       "        vertical-align: top;\n",
       "    }\n",
       "\n",
       "    .dataframe thead th {\n",
       "        text-align: right;\n",
       "    }\n",
       "</style>\n",
       "<table border=\"1\" class=\"dataframe\">\n",
       "  <thead>\n",
       "    <tr style=\"text-align: right;\">\n",
       "      <th></th>\n",
       "      <th>vehicle_id</th>\n",
       "      <th>site_name</th>\n",
       "    </tr>\n",
       "    <tr>\n",
       "      <th>site_id_end</th>\n",
       "      <th></th>\n",
       "      <th></th>\n",
       "    </tr>\n",
       "  </thead>\n",
       "  <tbody>\n",
       "    <tr>\n",
       "      <th>1</th>\n",
       "      <td>1334</td>\n",
       "      <td>Waltham Point DC</td>\n",
       "    </tr>\n",
       "    <tr>\n",
       "      <th>2</th>\n",
       "      <td>1322</td>\n",
       "      <td>Northampton DC</td>\n",
       "    </tr>\n",
       "    <tr>\n",
       "      <th>3</th>\n",
       "      <td>1224</td>\n",
       "      <td>Basingstoke DC</td>\n",
       "    </tr>\n",
       "    <tr>\n",
       "      <th>4</th>\n",
       "      <td>1222</td>\n",
       "      <td>Hams Hall DC</td>\n",
       "    </tr>\n",
       "    <tr>\n",
       "      <th>5</th>\n",
       "      <td>1292</td>\n",
       "      <td>Dartford DC</td>\n",
       "    </tr>\n",
       "    <tr>\n",
       "      <th>6</th>\n",
       "      <td>1080</td>\n",
       "      <td>Sherburn DC</td>\n",
       "    </tr>\n",
       "    <tr>\n",
       "      <th>7</th>\n",
       "      <td>1034</td>\n",
       "      <td>Haydock DC</td>\n",
       "    </tr>\n",
       "    <tr>\n",
       "      <th>8</th>\n",
       "      <td>1067</td>\n",
       "      <td>Emerald Park DC</td>\n",
       "    </tr>\n",
       "    <tr>\n",
       "      <th>9</th>\n",
       "      <td>691</td>\n",
       "      <td>Langlands Park DC</td>\n",
       "    </tr>\n",
       "    <tr>\n",
       "      <th>10</th>\n",
       "      <td>801</td>\n",
       "      <td>Rye Park DC</td>\n",
       "    </tr>\n",
       "    <tr>\n",
       "      <th>12</th>\n",
       "      <td>885</td>\n",
       "      <td>Thameside DC</td>\n",
       "    </tr>\n",
       "    <tr>\n",
       "      <th>17</th>\n",
       "      <td>976</td>\n",
       "      <td>Daventry DC</td>\n",
       "    </tr>\n",
       "    <tr>\n",
       "      <th>20</th>\n",
       "      <td>850</td>\n",
       "      <td>Greenford DC</td>\n",
       "    </tr>\n",
       "    <tr>\n",
       "      <th>22</th>\n",
       "      <td>924</td>\n",
       "      <td>Tamworth DC</td>\n",
       "    </tr>\n",
       "    <tr>\n",
       "      <th>28</th>\n",
       "      <td>201</td>\n",
       "      <td>Shire Park DC</td>\n",
       "    </tr>\n",
       "  </tbody>\n",
       "</table>\n",
       "</div>"
      ],
      "text/plain": [
       "             vehicle_id          site_name\n",
       "site_id_end                               \n",
       "1                  1334   Waltham Point DC\n",
       "2                  1322     Northampton DC\n",
       "3                  1224     Basingstoke DC\n",
       "4                  1222       Hams Hall DC\n",
       "5                  1292        Dartford DC\n",
       "6                  1080        Sherburn DC\n",
       "7                  1034         Haydock DC\n",
       "8                  1067    Emerald Park DC\n",
       "9                   691  Langlands Park DC\n",
       "10                  801        Rye Park DC\n",
       "12                  885       Thameside DC\n",
       "17                  976        Daventry DC\n",
       "20                  850       Greenford DC\n",
       "22                  924        Tamworth DC\n",
       "28                  201      Shire Park DC"
      ]
     },
     "execution_count": 29,
     "metadata": {},
     "output_type": "execute_result"
    }
   ],
   "source": [
    "max_unique_veh = routes_cleaned.groupby('site_id_end')[['vehicle_id']].nunique().loc[good_sites]\n",
    "max_unique_veh['site_name'] = max_unique_veh.index.map(site_dict)\n",
    "max_unique_veh"
   ]
  },
  {
   "cell_type": "code",
   "execution_count": 24,
   "metadata": {},
   "outputs": [
    {
     "data": {
      "text/html": [
       "<div>\n",
       "<style scoped>\n",
       "    .dataframe tbody tr th:only-of-type {\n",
       "        vertical-align: middle;\n",
       "    }\n",
       "\n",
       "    .dataframe tbody tr th {\n",
       "        vertical-align: top;\n",
       "    }\n",
       "\n",
       "    .dataframe thead th {\n",
       "        text-align: right;\n",
       "    }\n",
       "</style>\n",
       "<table border=\"1\" class=\"dataframe\">\n",
       "  <thead>\n",
       "    <tr style=\"text-align: right;\">\n",
       "      <th></th>\n",
       "      <th>route_id</th>\n",
       "      <th>site_name</th>\n",
       "    </tr>\n",
       "    <tr>\n",
       "      <th>site_id_start</th>\n",
       "      <th></th>\n",
       "      <th></th>\n",
       "    </tr>\n",
       "  </thead>\n",
       "  <tbody>\n",
       "    <tr>\n",
       "      <th>1</th>\n",
       "      <td>363</td>\n",
       "      <td>Waltham Point DC</td>\n",
       "    </tr>\n",
       "    <tr>\n",
       "      <th>2</th>\n",
       "      <td>251</td>\n",
       "      <td>Northampton DC</td>\n",
       "    </tr>\n",
       "    <tr>\n",
       "      <th>3</th>\n",
       "      <td>268</td>\n",
       "      <td>Basingstoke DC</td>\n",
       "    </tr>\n",
       "    <tr>\n",
       "      <th>4</th>\n",
       "      <td>267</td>\n",
       "      <td>Hams Hall DC</td>\n",
       "    </tr>\n",
       "    <tr>\n",
       "      <th>5</th>\n",
       "      <td>321</td>\n",
       "      <td>Dartford DC</td>\n",
       "    </tr>\n",
       "    <tr>\n",
       "      <th>6</th>\n",
       "      <td>238</td>\n",
       "      <td>Sherburn DC</td>\n",
       "    </tr>\n",
       "    <tr>\n",
       "      <th>7</th>\n",
       "      <td>226</td>\n",
       "      <td>Haydock DC</td>\n",
       "    </tr>\n",
       "    <tr>\n",
       "      <th>8</th>\n",
       "      <td>178</td>\n",
       "      <td>Emerald Park DC</td>\n",
       "    </tr>\n",
       "    <tr>\n",
       "      <th>9</th>\n",
       "      <td>147</td>\n",
       "      <td>Langlands Park DC</td>\n",
       "    </tr>\n",
       "    <tr>\n",
       "      <th>10</th>\n",
       "      <td>62</td>\n",
       "      <td>Rye Park DC</td>\n",
       "    </tr>\n",
       "    <tr>\n",
       "      <th>12</th>\n",
       "      <td>223</td>\n",
       "      <td>Thameside DC</td>\n",
       "    </tr>\n",
       "    <tr>\n",
       "      <th>17</th>\n",
       "      <td>42</td>\n",
       "      <td>Daventry DC</td>\n",
       "    </tr>\n",
       "    <tr>\n",
       "      <th>20</th>\n",
       "      <td>188</td>\n",
       "      <td>Greenford DC</td>\n",
       "    </tr>\n",
       "    <tr>\n",
       "      <th>22</th>\n",
       "      <td>32</td>\n",
       "      <td>Tamworth DC</td>\n",
       "    </tr>\n",
       "    <tr>\n",
       "      <th>28</th>\n",
       "      <td>6</td>\n",
       "      <td>Shire Park DC</td>\n",
       "    </tr>\n",
       "  </tbody>\n",
       "</table>\n",
       "</div>"
      ],
      "text/plain": [
       "               route_id          site_name\n",
       "site_id_start                             \n",
       "1                   363   Waltham Point DC\n",
       "2                   251     Northampton DC\n",
       "3                   268     Basingstoke DC\n",
       "4                   267       Hams Hall DC\n",
       "5                   321        Dartford DC\n",
       "6                   238        Sherburn DC\n",
       "7                   226         Haydock DC\n",
       "8                   178    Emerald Park DC\n",
       "9                   147  Langlands Park DC\n",
       "10                   62        Rye Park DC\n",
       "12                  223       Thameside DC\n",
       "17                   42        Daventry DC\n",
       "20                  188       Greenford DC\n",
       "22                   32        Tamworth DC\n",
       "28                    6      Shire Park DC"
      ]
     },
     "execution_count": 24,
     "metadata": {},
     "output_type": "execute_result"
    }
   ],
   "source": [
    "departures_per_day = routes_cleaned.groupby(['site_id_start', 'date'])[['route_id']].count()\n",
    "max_daily_departures = departures_per_day.groupby('site_id_start').max()\n",
    "max_daily_departures['site_name'] = max_daily_departures.index.map(site_dict)\n",
    "max_daily_departures.loc[good_sites]"
   ]
  },
  {
   "cell_type": "code",
   "execution_count": 34,
   "metadata": {},
   "outputs": [
    {
     "data": {
      "text/plain": [
       "Index(['site_id_start', 'departure_time', 'arrival_time', 'vehicle_id',\n",
       "       'distance_miles', 'route_id', 'number_order', 'driving_time',\n",
       "       'site_id_end', 'source', 'spec_id', 'good_site', 'site_ids',\n",
       "       'same_return', 'start_right_id', 'duration_hours', 'date', 'start_time',\n",
       "       'end_time', 'last_wait_onsite', 'next_wait_onsite', 'week',\n",
       "       'edge_routes', 'route_kwh', 'shorepower_time', 'shorepower_kwh',\n",
       "       'recharge_power_kw', 'battery_choice'],\n",
       "      dtype='object')"
      ]
     },
     "execution_count": 34,
     "metadata": {},
     "output_type": "execute_result"
    }
   ],
   "source": [
    "routes_cleaned.columns"
   ]
  },
  {
   "cell_type": "code",
   "execution_count": 9,
   "metadata": {},
   "outputs": [
    {
     "data": {
      "text/plain": [
       "0.00961829075328462"
      ]
     },
     "execution_count": 9,
     "metadata": {},
     "output_type": "execute_result"
    }
   ],
   "source": [
    "((routes_cleaned['route_kwh'] / (routes_cleaned['next_wait_onsite'] - 1/4)) > 9* 0.9).mean()"
   ]
  },
  {
   "cell_type": "code",
   "execution_count": 11,
   "metadata": {},
   "outputs": [
    {
     "data": {
      "text/plain": [
       "Index(['site_id_start', 'departure_time', 'arrival_time', 'vehicle_id',\n",
       "       'distance_miles', 'route_id', 'number_order', 'driving_time',\n",
       "       'site_id_end', 'source', 'spec_id', 'good_site', 'site_ids',\n",
       "       'same_return', 'start_right_id', 'duration_hours', 'date', 'start_time',\n",
       "       'end_time', 'last_wait_onsite', 'next_wait_onsite', 'week',\n",
       "       'edge_routes', 'route_kwh', 'shorepower_time', 'shorepower_kwh',\n",
       "       'recharge_power_kw', 'battery_choice'],\n",
       "      dtype='object')"
      ]
     },
     "execution_count": 11,
     "metadata": {},
     "output_type": "execute_result"
    }
   ],
   "source": [
    "routes_cleaned.columns"
   ]
  },
  {
   "cell_type": "code",
   "execution_count": 12,
   "metadata": {},
   "outputs": [
    {
     "data": {
      "text/plain": [
       "spec_id\n",
       "101     345\n",
       "102      86\n",
       "115    1513\n",
       "116      19\n",
       "117     177\n",
       "Name: vehicle_id, dtype: int64"
      ]
     },
     "execution_count": 12,
     "metadata": {},
     "output_type": "execute_result"
    }
   ],
   "source": [
    "routes_cleaned.groupby('spec_id')['vehicle_id'].nunique()"
   ]
  },
  {
   "cell_type": "code",
   "execution_count": 13,
   "metadata": {},
   "outputs": [
    {
     "data": {
      "text/plain": [
       "431"
      ]
     },
     "execution_count": 13,
     "metadata": {},
     "output_type": "execute_result"
    }
   ],
   "source": [
    "345+86"
   ]
  },
  {
   "cell_type": "markdown",
   "metadata": {},
   "source": [
    "## Other"
   ]
  },
  {
   "cell_type": "markdown",
   "metadata": {},
   "source": [
    "### Count vehicles"
   ]
  },
  {
   "cell_type": "code",
   "execution_count": null,
   "metadata": {},
   "outputs": [],
   "source": [
    "routes_cleaned = pickle.load(open('sample/tru2/routes_cleaned_new.pkl', 'rb'))\n",
    "routes_cleaned.groupby('spec_id')['vehicle_id'].nunique()"
   ]
  },
  {
   "cell_type": "markdown",
   "metadata": {},
   "source": [
    "### Weekly energy"
   ]
  },
  {
   "cell_type": "code",
   "execution_count": 9,
   "metadata": {},
   "outputs": [],
   "source": [
    "routes_cleaned = pickle.load(open('sample/tru2/routes_cleaned_new.pkl', 'rb'))\n",
    "site_arrivals = routes_cleaned[routes_cleaned['site_id_end'].isin(good_sites)]\n",
    "weekly_usage = site_arrivals.groupby(['week']).agg({\n",
    "    'route_kwh': 'sum',\n",
    "    'shorepower_kwh': 'sum',\n",
    "    'route_id': 'count',\n",
    "    'vehicle_id': 'nunique'})\n",
    "weekly_usage['total_kwh_tru'] = weekly_usage['route_kwh']*0.72753923 + weekly_usage['shorepower_kwh']*0.639393939\n",
    "weekly_usage.columns = ['route_kwh', 'shorepower_kwh', 'n_routes', 'n_vehicles', 'total_kwh_tru']\n",
    "weekly_usage.to_csv('sample/tru2/durations_all.csv')"
   ]
  },
  {
   "cell_type": "markdown",
   "metadata": {},
   "source": [
    "### Count routes per day"
   ]
  },
  {
   "cell_type": "code",
   "execution_count": 6,
   "metadata": {},
   "outputs": [
    {
     "data": {
      "text/plain": [
       "78.0"
      ]
     },
     "execution_count": 6,
     "metadata": {},
     "output_type": "execute_result"
    }
   ],
   "source": [
    "routes_cleaned = pickle.load(open('sample/tru/routes_cleaned.pkl', 'rb'))\n",
    "trailer_routes = routes_cleaned[routes_cleaned['spec_id'] == 115]\n",
    "trailer_routes.groupby(['vehicle_id', 'date']).count().mean()['site_id_start']\n",
    "trailer_routes.groupby('vehicle_id').count()['site_id_start'].median()\n",
    "# trailer_routes"
   ]
  },
  {
   "cell_type": "code",
   "execution_count": 7,
   "metadata": {},
   "outputs": [],
   "source": [
    "route_vehicles = routes_cleaned['vehicle_id'].unique()\n",
    "sql_query = f\"SELECT * FROM t_vehicles WHERE client_id=2\"\n",
    "cnx = dbh.create_alch_engine()\n",
    "vehicle_df = pd.read_sql_query(sql_query, con=cnx)\n",
    "cnx.dispose()\n",
    "vehicle_df['client_vehicle_id'] = vehicle_df['client_vehicle_id'].astype(str)\n",
    "vehicle_df['refrigerated'] = vehicle_df['refrigerated'].astype(bool)\n",
    "hgv_assets = pd.read_excel(\n",
    "    r\"C:\\Users\\SofiaTaylor\\OneDrive - Flexible Power Systems Ltd\\Consulting\\SSL\\22-03.SSL.depot_asset_register.MA.02.xlsx\",\n",
    "    usecols=['Fleet Category', 'Fleet Reg No', 'Site',\n",
    "       'Fleet Classification', 'Fleet Status', 'Fridge Make Model',\n",
    "       'Fridge Manufacturer', 'Vehicle Description', 'Vehicle Group'])\n",
    "hgv_assets['Fleet Reg No'] = hgv_assets['Fleet Reg No'].astype(str)\n",
    "vehicle_df = vehicle_df.merge(hgv_assets, left_on='client_vehicle_id', right_on='Fleet Reg No', how='left')\n",
    "vehicle_df = vehicle_df[vehicle_df['spec_id'].isin(good_specs)].set_index('vehicle_id')\n",
    "vehicle_df = vehicle_df.loc[route_vehicles]\n"
   ]
  },
  {
   "cell_type": "code",
   "execution_count": 8,
   "metadata": {},
   "outputs": [
    {
     "data": {
      "text/plain": [
       "Int64Index([127, 725, 726, 727, 728, 729, 731, 733, 735, 738, 739, 741, 742,\n",
       "            743, 745, 748, 749, 750, 752, 755, 756, 758, 759, 760, 763, 764,\n",
       "            769, 770, 771],\n",
       "           dtype='int64', name='vehicle_id')"
      ]
     },
     "execution_count": 8,
     "metadata": {},
     "output_type": "execute_result"
    }
   ],
   "source": [
    "vehicle_df[~vehicle_df['refrigerated']].index"
   ]
  },
  {
   "cell_type": "code",
   "execution_count": 12,
   "metadata": {},
   "outputs": [],
   "source": [
    "bad_vehicles = [127, 725, 726, 727, 728, 729, 731, 733, 735, 738, 739, 741, 742, 743, 745, 748, 749, 750, 752, 755, 756, 758, 759, 760, 763, 764, 769, 770, 771]\n",
    "routes_cleaned_new = routes_cleaned[~routes_cleaned['vehicle_id'].isin(bad_vehicles)]\n",
    "pickle.dump(routes_cleaned_new, open('sample/tru2/routes_cleaned_new.pkl', 'wb'))"
   ]
  },
  {
   "cell_type": "markdown",
   "metadata": {},
   "source": [
    "### Vehicle/trailer refrigeration\n",
    "Update vehicle specification table with a boolean refrigeration column"
   ]
  },
  {
   "cell_type": "code",
   "execution_count": null,
   "metadata": {},
   "outputs": [],
   "source": [
    "mask = telematics['spec_id'].isin([101, 102, 103, 104])\n",
    "location_count = telematics[mask].groupby('departure_location').agg({\n",
    "    'vehicle_id': 'count',\n",
    "    'distance_miles': 'sum'}).sort_values(by='vehicle_id')\n",
    "location_count['depot or argos'] = (location_count.index.str.contains('DC')\n",
    "                                    | location_count.index.str.contains('Argos')\n",
    "                                    | location_count.index.str.contains('NFT')\n",
    "                                    | location_count.index.str.contains('RRU')\n",
    "                                    | location_count.index.str.contains('VMU'))\n",
    "location_count[location_count['depot or argos']].sort_values(by='vehicle_id').to_csv('sample/tru2/count_entries.csv')"
   ]
  },
  {
   "cell_type": "code",
   "execution_count": null,
   "metadata": {},
   "outputs": [],
   "source": [
    "# Load asset register with fleet category and fridge\n",
    "hgv_assets = pd.read_excel(\n",
    "    r\"C:\\Users\\SofiaTaylor\\OneDrive - Flexible Power Systems Ltd\\Consulting\\SSL\\22-03.SSL.depot_asset_register.MA.02.xlsx\",\n",
    "    usecols=['Fleet Category', 'Fleet Reg No',\n",
    "       'Fleet Classification', 'Fleet Status', 'Fridge Make Model',\n",
    "       'Fridge Manufacturer', 'Vehicle Description', 'Vehicle Group'])\n",
    "hgv_assets['Fleet Reg No'] = hgv_assets['Fleet Reg No'].astype(str)\n",
    "# Merge with the databaase vehicle list\n",
    "vehicle_df = pd.read_csv('sample/tru2/t_vehicles_orig.csv')\n",
    "vehicle_df['client_vehicle_id'] = vehicle_df['client_vehicle_id'].astype(str)\n",
    "vehicle_df = vehicle_df.merge(hgv_assets, left_on='client_vehicle_id', right_on='Fleet Reg No', how='left')\n",
    "vehicle_df = vehicle_df[vehicle_df['spec_id'].isin(good_specs)]\n",
    "\n",
    "# Identify all the vehicles/trailers that are refrigerated\n",
    "ref_description = vehicle_df['Vehicle Description'].str.split('/').str[0]\n",
    "ref_description.unique()\n",
    "vehicle_df.loc[ref_description == 'AMB', 'refrigerated'] = False\n",
    "vehicle_df.loc[ref_description.isin(['REF2T', 'REF3T', 'REF1T']), 'refrigerated'] = True\n",
    "# Store\n",
    "pickle.dump(vehicle_df, open('sample/tru2/vehicle_list270722-2.pkl', 'wb'))\n",
    "# Upload the database\n",
    "cols = ['vehicle_id', 'client_id', 'site_id', 'client_vehicle_id', 'tru_id', 'spec_id',\n",
    "       'registration', 'refrigerated']\n",
    "dbh.upload_table(vehicle_df[cols], 't_vehicles')"
   ]
  },
  {
   "cell_type": "markdown",
   "metadata": {},
   "source": [
    "### Count location entries"
   ]
  },
  {
   "cell_type": "code",
   "execution_count": null,
   "metadata": {},
   "outputs": [],
   "source": [
    "mask = telematics['spec_id'].isin([101, 102, 103, 104])\n",
    "location_count = telematics[mask].groupby('departure_location').agg({\n",
    "    'vehicle_id': 'count',\n",
    "    'distance_miles': 'sum'}).sort_values(by='vehicle_id')\n",
    "location_count['depot or argos'] = (location_count.index.str.contains('DC')\n",
    "                                    | location_count.index.str.contains('Argos')\n",
    "                                    | location_count.index.str.contains('NFT')\n",
    "                                    | location_count.index.str.contains('RRU')\n",
    "                                    | location_count.index.str.contains('VMU'))\n",
    "location_count[location_count['depot or argos']].sort_values(by='vehicle_id').to_csv('sample/tru2/count_entries.csv')"
   ]
  },
  {
   "cell_type": "markdown",
   "metadata": {},
   "source": [
    "### Telematics statistics"
   ]
  },
  {
   "cell_type": "code",
   "execution_count": 15,
   "metadata": {},
   "outputs": [],
   "source": [
    "cnx = dbh.create_alch_engine()\n",
    "sql_query = \"\"\"SELECT vehicle_id, distance_miles, arrival_site_id, route_id\n",
    "    FROM t_telematics WHERE run = 44\"\"\"\n",
    "telematics = pd.read_sql_query(sql_query, con=cnx)\n",
    "telematics['spec_id'] = telematics['vehicle_id'].map(vehicle_spec_dict)\n",
    "telematics = telematics.merge(vehicle_df[['refrigerated']], left_on='vehicle_id', right_index=True, how='left')"
   ]
  },
  {
   "cell_type": "code",
   "execution_count": 24,
   "metadata": {},
   "outputs": [
    {
     "name": "stdout",
     "output_type": "stream",
     "text": [
      "Rigids: 1760504.8663766317\n",
      "Tractors: 7450721.870727163\n"
     ]
    }
   ],
   "source": [
    "# Get distance for non-refrigerated rigids\n",
    "mask_refrigerated = telematics['refrigerated']\n",
    "mask_spec = telematics['spec_id'].isin([101, 102])\n",
    "print('Rigids:', telematics[mask_spec & mask_refrigerated]['distance_miles'].sum())\n",
    "# Select only tractors \n",
    "mask_spec = telematics['spec_id'].isin([103, 104])\n",
    "print('Tractors:', telematics[mask_spec]['distance_miles'].sum())"
   ]
  },
  {
   "cell_type": "code",
   "execution_count": 22,
   "metadata": {},
   "outputs": [],
   "source": [
    "hgv_allocations = [444, 445, 446, 447, 466, 467, 484, 485, 486, 487, 544, 545, 546, 547, 454, 455,\n",
    "                   456, 457, 474, 475, 476, 477, 504, 505, 506, 507, 434, 435, 436, 437, 516, 517,\n",
    "                   424, 425, 426, 427, 534, 535, 536, 414, 415, 416, 417]\n",
    "sql_query = f\"\"\"SELECT allocation_id, route_id, allocated_vehicle_id\n",
    "    FROM t_route_allocated WHERE allocation_id IN {tuple(hgv_allocations)}\"\"\"\n",
    "routes = pd.read_sql_query(sql_query, con=cnx)\n",
    "# sql_query = f\"\"\"SELECT route_id, distance_miles\n",
    "#     FROM t_route_master WHERE route_id IN {tuple(routes['route_id'])}\"\"\"\n",
    "# routes_distance = pd.read_sql_query(sql_query, con=cnx)"
   ]
  },
  {
   "cell_type": "code",
   "execution_count": 25,
   "metadata": {},
   "outputs": [
    {
     "data": {
      "text/plain": [
       "1100"
      ]
     },
     "execution_count": 25,
     "metadata": {},
     "output_type": "execute_result"
    }
   ],
   "source": [
    "routes['allocated_vehicle_id'].nunique()"
   ]
  },
  {
   "cell_type": "code",
   "execution_count": 34,
   "metadata": {},
   "outputs": [
    {
     "data": {
      "text/plain": [
       "1313"
      ]
     },
     "execution_count": 34,
     "metadata": {},
     "output_type": "execute_result"
    }
   ],
   "source": [
    "sql_query = f\"\"\"SELECT route_id, vehicle_id\n",
    "    FROM t_route_master WHERE client_id=3\"\"\"\n",
    "routes_distance = pd.read_sql_query(sql_query, con=cnx)\n",
    "routes_distance = routes_distance.merge(vehicle_df[['spec_id']],\n",
    "                      left_on='vehicle_id', right_index=True, how='left')\n",
    "mask_spec = routes_distance['spec_id'].isin([101, 102, 103, 104])\n",
    "routes_distance.loc[mask_spec, 'vehicle_id'].nunique()"
   ]
  },
  {
   "cell_type": "markdown",
   "metadata": {},
   "source": [
    "### TRU energy usage"
   ]
  },
  {
   "cell_type": "code",
   "execution_count": 18,
   "metadata": {},
   "outputs": [],
   "source": [
    "# Load route data\n",
    "routes_cleaned = pickle.load(open('sample/tru2/routes_cleaned_new.pkl', 'rb'))\n",
    "# Calculate eTRU energy per site\n",
    "df = routes_cleaned.groupby(['site_id_end'])[['shorepower_kwh', 'route_kwh']].sum()\n",
    "df['site_name'] = df.index.map(site_dict)\n",
    "# Convert to daily amount\n",
    "df['daily_kwh_summer'] = (df['shorepower_kwh'] + df['route_kwh'])/78\n",
    "df.to_csv('sample/tru2/tru_consumption_kwh.csv')"
   ]
  },
  {
   "cell_type": "markdown",
   "metadata": {},
   "source": [
    "### Back up charge demand"
   ]
  },
  {
   "cell_type": "code",
   "execution_count": 3,
   "metadata": {},
   "outputs": [],
   "source": [
    "\n",
    "connection, cur = dbh.database_connection('test')\n",
    "for i in [1021, 1031, 1041, 1051]:\n",
    "    sql_query =  f\"select * from t_charge_demand where scenario_id >= {i} and scenario_id < {i+10}\"\n",
    "    cur.execute(sql_query)\n",
    "    connection.commit()\n",
    "    charge_demand = cur.fetchall()\n",
    "    pickle.dump(charge_demand, open(f'sample/tru2/backups_220702/t_charge_demand{i}.pkl', 'wb'))"
   ]
  },
  {
   "cell_type": "markdown",
   "metadata": {},
   "source": [
    "## Peak Demand"
   ]
  },
  {
   "cell_type": "markdown",
   "metadata": {},
   "source": [
    "### Waltham Point max demand"
   ]
  },
  {
   "cell_type": "code",
   "execution_count": 17,
   "metadata": {},
   "outputs": [],
   "source": [
    "scenarios = (1169, 1170, 1171,1172, 1173)\n",
    "combined_scenario = 1245\n",
    "chargign_scenarios = [1001, 1002, 1003, 1004, 1005]\n",
    "sql_query = f\"SELECT * FROM t_charge_demand where scenario_id IN {tuple([combined_scenario] + chargign_scenarios)}\"\n",
    "cnx = dbh.create_alch_engine()\n",
    "demand = pd.read_sql_query(sql_query, con=cnx)\n",
    "cnx.dispose()"
   ]
  },
  {
   "cell_type": "code",
   "execution_count": 18,
   "metadata": {},
   "outputs": [
    {
     "data": {
      "text/plain": [
       "1124.1325669817763"
      ]
     },
     "execution_count": 18,
     "metadata": {},
     "output_type": "execute_result"
    }
   ],
   "source": [
    "tru_demand = demand.groupby('datetime').sum()\n",
    "tru_demand['power_demand_kw'].max()"
   ]
  },
  {
   "cell_type": "code",
   "execution_count": null,
   "metadata": {},
   "outputs": [],
   "source": []
  }
 ],
 "metadata": {
  "interpreter": {
   "hash": "0c70d8ca8a9326c117f3cbb1600d40e4646a06cd0d6560aa3efc7e3f56e409b2"
  },
  "kernelspec": {
   "display_name": "Python 3.9.7 ('pipetel')",
   "language": "python",
   "name": "python3"
  },
  "language_info": {
   "codemirror_mode": {
    "name": "ipython",
    "version": 3
   },
   "file_extension": ".py",
   "mimetype": "text/x-python",
   "name": "python",
   "nbconvert_exporter": "python",
   "pygments_lexer": "ipython3",
   "version": "3.9.7"
  },
  "orig_nbformat": 4
 },
 "nbformat": 4,
 "nbformat_minor": 2
}
