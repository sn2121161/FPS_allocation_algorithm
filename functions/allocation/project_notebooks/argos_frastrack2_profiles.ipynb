{
 "cells": [
  {
   "cell_type": "code",
   "execution_count": 1,
   "metadata": {},
   "outputs": [],
   "source": [
    "import numpy as np\n",
    "import pandas as pd\n",
    "import datetime as dt\n",
    "import psycopg2\n",
    "import os\n",
    "import sqlalchemy\n",
    "from sqlalchemy import create_engine\n",
    "import matplotlib.pyplot as plt\n",
    "import matplotlib.dates as mdates\n",
    "import json\n",
    "from pulp import *\n",
    "fps_colours = ['#004A9C', '#45D281', '#FEC001','#A365E0', '#5B9BD5',\n",
    "\n",
    "               '#FF0000', '#0563C1', '#954F72']"
   ]
  },
  {
   "cell_type": "code",
   "execution_count": 2,
   "metadata": {},
   "outputs": [],
   "source": [
    "def load_charging_profile(scen, cnx):\n",
    "    try:\n",
    "        sql_query = f\"\"\"SELECT * FROM t_charge_demand WHERE scenario_id={scen}\"\"\"\n",
    "        demand = pd.read_sql_query(sql_query, cnx)\n",
    "    except (Exception, psycopg2.Error) as error:\n",
    "        raise(error)\n",
    "    return demand\n",
    "\n",
    "def create_alch_engine():\n",
    "    db_user=os.getenv('pipe_db_user', \"\")\n",
    "    db_pswd=os.getenv('pipe_db_pswd', \"\")\n",
    "    db_name=os.getenv('pipe_db_name', \"\")\n",
    "    db_host=os.getenv('pipe_db_host', \"\")\n",
    "    db_port=os.getenv('pipe_db_port', \"\")\n",
    "    db_conn_str = sqlalchemy.engine.URL.create(\n",
    "        drivername='postgresql+psycopg2',\n",
    "        username=db_user,\n",
    "        password=db_pswd,\n",
    "        database=db_name,\n",
    "        host=db_host,\n",
    "        port=db_port,\n",
    "        query={'sslmode': 'require'},\n",
    "        )\n",
    "    cnx = sqlalchemy.create_engine(db_conn_str)\n",
    "    return cnx"
   ]
  },
  {
   "cell_type": "code",
   "execution_count": 9,
   "metadata": {},
   "outputs": [
    {
     "name": "stdout",
     "output_type": "stream",
     "text": [
      "Highest power demand:\n",
      " datetime\n",
      "2021-11-14 23:30:00    513.648498\n",
      "2021-11-15 18:00:00    517.177047\n",
      "2021-11-16 17:30:00    518.411511\n",
      "2021-11-14 14:00:00    526.831432\n",
      "2021-11-20 22:30:00    536.582462\n",
      "2021-11-15 23:30:00    539.338949\n",
      "2021-11-15 22:30:00    548.166918\n",
      "2021-11-17 18:00:00    566.980598\n",
      "2021-11-17 17:30:00    579.521076\n",
      "2021-11-20 17:30:00    580.411517\n",
      "2021-11-15 23:00:00    606.078835\n",
      "2021-11-16 23:30:00    613.280450\n",
      "2021-11-19 23:30:00    620.668033\n",
      "2021-11-17 23:30:00    630.212670\n",
      "2021-11-20 23:00:00    653.425704\n",
      "2021-11-19 23:00:00    657.520828\n",
      "2021-11-16 22:30:00    692.432987\n",
      "2021-11-17 22:30:00    710.970916\n",
      "2021-11-17 23:00:00    795.367140\n",
      "2021-11-16 23:00:00    878.090487\n",
      "Name: bau, dtype: float64 \n",
      "\n",
      "Mean power demand: 118.42310677321454 kW\n",
      "MWh Consumed: 1037.38641533336\n"
     ]
    }
   ],
   "source": [
    "## CHANGE THE SCENARIO YOU WANT AND YOUR LOCAL PATH FOR STORING THE IMAGE\n",
    "\n",
    "scenario = 71\n",
    "yourpath = \"\"\n",
    "date = dt.datetime(2021, 11, 16)  # Change the date you want to plot\n",
    "\n",
    "cnx = create_alch_engine()\n",
    "profiles_bau = load_charging_profile(scenario, cnx)\n",
    "charge_profiles = profiles_bau.groupby('datetime').sum()['power_demand_kw'].sort_index().rename('bau')\n",
    "\n",
    "print(\"Highest power demand:\\n\", charge_profiles.sort_values().tail(20), \"\\n\")\n",
    "print('Mean power demand:', charge_profiles.mean(), \"kW\")\n",
    "days = len(charge_profiles)/48\n",
    "print('MWh Consumed:', (charge_profiles.sum()/2)*(365/days)/1000)"
   ]
  },
  {
   "cell_type": "code",
   "execution_count": 10,
   "metadata": {},
   "outputs": [
    {
     "data": {
      "image/png": "[encoded data removed]",
      "text/plain": [
       "<Figure size 432x432 with 1 Axes>"
      ]
     },
     "metadata": {
      "needs_background": "light"
     },
     "output_type": "display_data"
    }
   ],
   "source": [
    "fig, ax = plt.subplots(\n",
    "    1, figsize=(6, 6), gridspec_kw={'hspace': 0.5})\n",
    "\n",
    "ax.set_title(\n",
    "    \"EV Charging Profiles\",\n",
    "    color=fps_colours[0], fontweight='bold')\n",
    "ax.plot(\n",
    "    charge_profiles.index,\n",
    "    charge_profiles,\n",
    "    color=fps_colours[0], label='Charge on Arrival'\n",
    "    )\n",
    "\n",
    "# ax.legend(frameon=False, bbox_to_anchor=(1, 0.8))\n",
    "ax.set_ylabel('Power Demand (kW)', color=fps_colours[0])\n",
    "ax.set_xlabel('Time', color=fps_colours[0])\n",
    "ax.set_xlim(left=date, right=date+dt.timedelta(days=1))\n",
    "ax.xaxis.set_major_formatter(mdates.DateFormatter('%H:%M'))\n",
    "fig.savefig(\n",
    "    yourpath,\n",
    "    bbox_inches=\"tight\", dpi=300)"
   ]
  }
 ],
 "metadata": {
  "interpreter": {
   "hash": "0c70d8ca8a9326c117f3cbb1600d40e4646a06cd0d6560aa3efc7e3f56e409b2"
  },
  "kernelspec": {
   "display_name": "Python 3.9.7 ('pipetel')",
   "language": "python",
   "name": "python3"
  },
  "language_info": {
   "codemirror_mode": {
    "name": "ipython",
    "version": 3
   },
   "file_extension": ".py",
   "mimetype": "text/x-python",
   "name": "python",
   "nbconvert_exporter": "python",
   "pygments_lexer": "ipython3",
   "version": "3.9.7"
  },
  "orig_nbformat": 4
 },
 "nbformat": 4,
 "nbformat_minor": 2
}
